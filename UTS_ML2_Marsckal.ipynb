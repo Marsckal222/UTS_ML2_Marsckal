{
  "cells": [
    {
      "cell_type": "markdown",
      "metadata": {
        "id": "McAoV9EqzwT8"
      },
      "source": [
        "# Business Understanding"
      ]
    },
    {
      "cell_type": "markdown",
      "metadata": {
        "id": "kx20Nz_w79kh"
      },
      "source": [
        "## Project Domain"
      ]
    },
    {
      "cell_type": "markdown",
      "source": [
        "Domain proyek ini adalah E-commerce dan Teknologi Konsumen, khususnya terkait analisis dan prediksi harga laptop berbasis spesifikasi teknis (RAM, prosesor, penyimpanan, GPU, merek, dll). Proyek ini membantu toko online, pembeli, dan analis pasar memahami faktor utama yang memengaruhi harga laptop."
      ],
      "metadata": {
        "id": "Is6H60Nw85oL"
      }
    },
    {
      "cell_type": "markdown",
      "metadata": {
        "id": "9eWZYEGCz36y"
      },
      "source": [
        "## Problem Statements"
      ]
    },
    {
      "cell_type": "markdown",
      "source": [
        "1. Harga laptop di pasaran sangat bervariasi meskipun spesifikasinya mirip, sehingga sulit bagi konsumen menentukan apakah sebuah laptop layak dengan harganya.\n",
        "\n",
        "2. Penjual sering kesulitan menentukan harga optimal untuk produk baru di e-commerce tanpa acuan data historis yang kuat.\n",
        "\n",
        "3. Tidak adanya alat otomatis yang memprediksi harga laptop berbasis spesifikasi membuat proses penetapan harga lama dan rentan salah."
      ],
      "metadata": {
        "id": "tA5Tf5bY-u56"
      }
    },
    {
      "cell_type": "markdown",
      "metadata": {
        "id": "5WtWjb090E4W"
      },
      "source": [
        "## Goals"
      ]
    },
    {
      "cell_type": "markdown",
      "source": [
        "1. Membangun model machine learning yang mampu memprediksi harga laptop berdasarkan fitur-fitur seperti merek, prosesor, RAM, penyimpanan, layar, GPU, dll.\n",
        "\n",
        "2. Mengidentifikasi faktor spesifikasi mana yang paling berpengaruh terhadap harga (feature importance).\n",
        "\n",
        "3. Memberikan rekomendasi harga optimal untuk pembeli maupun penjual agar keputusan mereka lebih data-driven."
      ],
      "metadata": {
        "id": "-dUYbk0d-3LW"
      }
    },
    {
      "cell_type": "markdown",
      "metadata": {
        "id": "_zJPTH530HPG"
      },
      "source": [
        "## Solution Statements"
      ]
    },
    {
      "cell_type": "markdown",
      "source": [
        "Proyek ini akan menggunakan dataset laptop yang tersedia di Kaggle untuk melatih model prediksi harga berbasis machine learning (misalnya regresi, random forest, atau XGBoost). Dataset akan dibersihkan, dianalisis, dan diuji untuk mengevaluasi performa model. Hasil akhir berupa sistem atau skrip yang mampu memprediksi harga laptop baru dengan spesifikasi tertentu dan membantu memvisualisasikan faktor-faktor utama yang memengaruhi harga."
      ],
      "metadata": {
        "id": "KU5M3mMk-8DN"
      }
    },
    {
      "cell_type": "markdown",
      "metadata": {
        "id": "RREoKZ1K1EZ0"
      },
      "source": [
        "# Data Understanding"
      ]
    },
    {
      "cell_type": "markdown",
      "metadata": {
        "id": "AtidLDMsyHL3"
      },
      "source": [
        "## Import data dari kaggle"
      ]
    },
    {
      "cell_type": "code",
      "execution_count": 86,
      "metadata": {
        "colab": {
          "base_uri": "https://localhost:8080/",
          "height": 90
        },
        "id": "B1gaF94o-4--",
        "outputId": "37081548-52b7-4975-cc36-25a0dcb04e02"
      },
      "outputs": [
        {
          "output_type": "display_data",
          "data": {
            "text/plain": [
              "<IPython.core.display.HTML object>"
            ],
            "text/html": [
              "\n",
              "     <input type=\"file\" id=\"files-4bf4a574-1ad8-4489-a49d-f096ded49fcf\" name=\"files[]\" multiple disabled\n",
              "        style=\"border:none\" />\n",
              "     <output id=\"result-4bf4a574-1ad8-4489-a49d-f096ded49fcf\">\n",
              "      Upload widget is only available when the cell has been executed in the\n",
              "      current browser session. Please rerun this cell to enable.\n",
              "      </output>\n",
              "      <script>// Copyright 2017 Google LLC\n",
              "//\n",
              "// Licensed under the Apache License, Version 2.0 (the \"License\");\n",
              "// you may not use this file except in compliance with the License.\n",
              "// You may obtain a copy of the License at\n",
              "//\n",
              "//      http://www.apache.org/licenses/LICENSE-2.0\n",
              "//\n",
              "// Unless required by applicable law or agreed to in writing, software\n",
              "// distributed under the License is distributed on an \"AS IS\" BASIS,\n",
              "// WITHOUT WARRANTIES OR CONDITIONS OF ANY KIND, either express or implied.\n",
              "// See the License for the specific language governing permissions and\n",
              "// limitations under the License.\n",
              "\n",
              "/**\n",
              " * @fileoverview Helpers for google.colab Python module.\n",
              " */\n",
              "(function(scope) {\n",
              "function span(text, styleAttributes = {}) {\n",
              "  const element = document.createElement('span');\n",
              "  element.textContent = text;\n",
              "  for (const key of Object.keys(styleAttributes)) {\n",
              "    element.style[key] = styleAttributes[key];\n",
              "  }\n",
              "  return element;\n",
              "}\n",
              "\n",
              "// Max number of bytes which will be uploaded at a time.\n",
              "const MAX_PAYLOAD_SIZE = 100 * 1024;\n",
              "\n",
              "function _uploadFiles(inputId, outputId) {\n",
              "  const steps = uploadFilesStep(inputId, outputId);\n",
              "  const outputElement = document.getElementById(outputId);\n",
              "  // Cache steps on the outputElement to make it available for the next call\n",
              "  // to uploadFilesContinue from Python.\n",
              "  outputElement.steps = steps;\n",
              "\n",
              "  return _uploadFilesContinue(outputId);\n",
              "}\n",
              "\n",
              "// This is roughly an async generator (not supported in the browser yet),\n",
              "// where there are multiple asynchronous steps and the Python side is going\n",
              "// to poll for completion of each step.\n",
              "// This uses a Promise to block the python side on completion of each step,\n",
              "// then passes the result of the previous step as the input to the next step.\n",
              "function _uploadFilesContinue(outputId) {\n",
              "  const outputElement = document.getElementById(outputId);\n",
              "  const steps = outputElement.steps;\n",
              "\n",
              "  const next = steps.next(outputElement.lastPromiseValue);\n",
              "  return Promise.resolve(next.value.promise).then((value) => {\n",
              "    // Cache the last promise value to make it available to the next\n",
              "    // step of the generator.\n",
              "    outputElement.lastPromiseValue = value;\n",
              "    return next.value.response;\n",
              "  });\n",
              "}\n",
              "\n",
              "/**\n",
              " * Generator function which is called between each async step of the upload\n",
              " * process.\n",
              " * @param {string} inputId Element ID of the input file picker element.\n",
              " * @param {string} outputId Element ID of the output display.\n",
              " * @return {!Iterable<!Object>} Iterable of next steps.\n",
              " */\n",
              "function* uploadFilesStep(inputId, outputId) {\n",
              "  const inputElement = document.getElementById(inputId);\n",
              "  inputElement.disabled = false;\n",
              "\n",
              "  const outputElement = document.getElementById(outputId);\n",
              "  outputElement.innerHTML = '';\n",
              "\n",
              "  const pickedPromise = new Promise((resolve) => {\n",
              "    inputElement.addEventListener('change', (e) => {\n",
              "      resolve(e.target.files);\n",
              "    });\n",
              "  });\n",
              "\n",
              "  const cancel = document.createElement('button');\n",
              "  inputElement.parentElement.appendChild(cancel);\n",
              "  cancel.textContent = 'Cancel upload';\n",
              "  const cancelPromise = new Promise((resolve) => {\n",
              "    cancel.onclick = () => {\n",
              "      resolve(null);\n",
              "    };\n",
              "  });\n",
              "\n",
              "  // Wait for the user to pick the files.\n",
              "  const files = yield {\n",
              "    promise: Promise.race([pickedPromise, cancelPromise]),\n",
              "    response: {\n",
              "      action: 'starting',\n",
              "    }\n",
              "  };\n",
              "\n",
              "  cancel.remove();\n",
              "\n",
              "  // Disable the input element since further picks are not allowed.\n",
              "  inputElement.disabled = true;\n",
              "\n",
              "  if (!files) {\n",
              "    return {\n",
              "      response: {\n",
              "        action: 'complete',\n",
              "      }\n",
              "    };\n",
              "  }\n",
              "\n",
              "  for (const file of files) {\n",
              "    const li = document.createElement('li');\n",
              "    li.append(span(file.name, {fontWeight: 'bold'}));\n",
              "    li.append(span(\n",
              "        `(${file.type || 'n/a'}) - ${file.size} bytes, ` +\n",
              "        `last modified: ${\n",
              "            file.lastModifiedDate ? file.lastModifiedDate.toLocaleDateString() :\n",
              "                                    'n/a'} - `));\n",
              "    const percent = span('0% done');\n",
              "    li.appendChild(percent);\n",
              "\n",
              "    outputElement.appendChild(li);\n",
              "\n",
              "    const fileDataPromise = new Promise((resolve) => {\n",
              "      const reader = new FileReader();\n",
              "      reader.onload = (e) => {\n",
              "        resolve(e.target.result);\n",
              "      };\n",
              "      reader.readAsArrayBuffer(file);\n",
              "    });\n",
              "    // Wait for the data to be ready.\n",
              "    let fileData = yield {\n",
              "      promise: fileDataPromise,\n",
              "      response: {\n",
              "        action: 'continue',\n",
              "      }\n",
              "    };\n",
              "\n",
              "    // Use a chunked sending to avoid message size limits. See b/62115660.\n",
              "    let position = 0;\n",
              "    do {\n",
              "      const length = Math.min(fileData.byteLength - position, MAX_PAYLOAD_SIZE);\n",
              "      const chunk = new Uint8Array(fileData, position, length);\n",
              "      position += length;\n",
              "\n",
              "      const base64 = btoa(String.fromCharCode.apply(null, chunk));\n",
              "      yield {\n",
              "        response: {\n",
              "          action: 'append',\n",
              "          file: file.name,\n",
              "          data: base64,\n",
              "        },\n",
              "      };\n",
              "\n",
              "      let percentDone = fileData.byteLength === 0 ?\n",
              "          100 :\n",
              "          Math.round((position / fileData.byteLength) * 100);\n",
              "      percent.textContent = `${percentDone}% done`;\n",
              "\n",
              "    } while (position < fileData.byteLength);\n",
              "  }\n",
              "\n",
              "  // All done.\n",
              "  yield {\n",
              "    response: {\n",
              "      action: 'complete',\n",
              "    }\n",
              "  };\n",
              "}\n",
              "\n",
              "scope.google = scope.google || {};\n",
              "scope.google.colab = scope.google.colab || {};\n",
              "scope.google.colab._files = {\n",
              "  _uploadFiles,\n",
              "  _uploadFilesContinue,\n",
              "};\n",
              "})(self);\n",
              "</script> "
            ]
          },
          "metadata": {}
        },
        {
          "output_type": "stream",
          "name": "stdout",
          "text": [
            "Saving kaggle.json to kaggle (1).json\n"
          ]
        },
        {
          "output_type": "execute_result",
          "data": {
            "text/plain": [
              "{'kaggle (1).json': b'{\"username\":\"marsckalrestujagad\",\"key\":\"e33cbbeab799153994f5cb737e59c336\"}'}"
            ]
          },
          "metadata": {},
          "execution_count": 86
        }
      ],
      "source": [
        "from google.colab import files\n",
        "files.upload()"
      ]
    },
    {
      "cell_type": "code",
      "execution_count": 87,
      "metadata": {
        "colab": {
          "base_uri": "https://localhost:8080/"
        },
        "id": "tzUVCOgWHb2W",
        "outputId": "dcdefd54-ad23-45f8-f83c-b0195f012b95"
      },
      "outputs": [
        {
          "output_type": "stream",
          "name": "stdout",
          "text": [
            "kaggle.json\n"
          ]
        }
      ],
      "source": [
        "!mkdir -p ~/.kaggle\n",
        "!cp kaggle.json ~/.kaggle/\n",
        "!chmod 600 ~/.kaggle/kaggle.json\n",
        "!ls ~/.kaggle"
      ]
    },
    {
      "cell_type": "code",
      "execution_count": 88,
      "metadata": {
        "colab": {
          "base_uri": "https://localhost:8080/"
        },
        "id": "3rJ0d0uqHc3U",
        "outputId": "617087bc-6608-4b07-a36c-498b0d203555"
      },
      "outputs": [
        {
          "output_type": "stream",
          "name": "stdout",
          "text": [
            "Dataset URL: https://www.kaggle.com/datasets/jacksondivakarr/laptop-price-prediction-dataset\n",
            "License(s): apache-2.0\n",
            "laptop-price-prediction-dataset.zip: Skipping, found more recently modified local copy (use --force to force download)\n"
          ]
        }
      ],
      "source": [
        "!kaggle datasets download -d jacksondivakarr/laptop-price-prediction-dataset"
      ]
    },
    {
      "cell_type": "code",
      "execution_count": 89,
      "metadata": {
        "colab": {
          "base_uri": "https://localhost:8080/"
        },
        "id": "Hfe5jBKlHfLZ",
        "outputId": "12a7fd34-43b6-4a1d-9e6a-d5b2afc231a4"
      },
      "outputs": [
        {
          "output_type": "stream",
          "name": "stdout",
          "text": [
            "mkdir: cannot create directory ‘laptop-price-prediction-dataset’: File exists\n",
            "Archive:  laptop-price-prediction-dataset.zip\n",
            "replace laptop-price-prediction-dataset/data.csv? [y]es, [n]o, [A]ll, [N]one, [r]ename: y\n",
            "  inflating: laptop-price-prediction-dataset/data.csv  \n",
            "replace laptop-price-prediction-dataset/data.xlsx? [y]es, [n]o, [A]ll, [N]one, [r]ename: y\n",
            "  inflating: laptop-price-prediction-dataset/data.xlsx  \n",
            "data.csv  data.xlsx\n"
          ]
        }
      ],
      "source": [
        "!mkdir laptop-price-prediction-dataset\n",
        "!unzip laptop-price-prediction-dataset.zip -d laptop-price-prediction-dataset\n",
        "!ls laptop-price-prediction-dataset"
      ]
    },
    {
      "cell_type": "markdown",
      "metadata": {
        "id": "AqenZzuayR6d"
      },
      "source": [
        "## Import Library yang dibutuhkan"
      ]
    },
    {
      "cell_type": "code",
      "execution_count": 90,
      "metadata": {
        "id": "DA-NHHAuHlnf"
      },
      "outputs": [],
      "source": [
        "import pandas as pd\n",
        "import numpy as np\n",
        "\n",
        "from sklearn.preprocessing import LabelEncoder\n",
        "from sklearn.model_selection import train_test_split\n",
        "from sklearn import preprocessing\n",
        "from sklearn.preprocessing import StandardScaler\n",
        "\n",
        "import tensorflow as tf\n",
        "import pandas as pd\n",
        "import numpy as np\n",
        "\n",
        "from sklearn.preprocessing import LabelEncoder\n",
        "from sklearn.model_selection import train_test_split\n",
        "from sklearn import preprocessing\n",
        "from sklearn.preprocessing import StandardScaler\n",
        "from sklearn.metrics import accuracy_score\n",
        "\n",
        "import tensorflow as tf\n",
        "from tensorflow.keras.layers import Dense, Activation\n",
        "from tensorflow.keras import Sequential\n",
        "from tensorflow.keras.utils import plot_model\n",
        "from tensorflow.keras.optimizers import Adam"
      ]
    },
    {
      "cell_type": "code",
      "execution_count": 91,
      "metadata": {
        "id": "hMZ3EgOU-ciP"
      },
      "outputs": [],
      "source": [
        "df = pd.read_csv('laptop-price-prediction-dataset/data.csv')"
      ]
    },
    {
      "cell_type": "code",
      "execution_count": 92,
      "metadata": {
        "id": "3wYAt_4x_aUC",
        "colab": {
          "base_uri": "https://localhost:8080/",
          "height": 0
        },
        "outputId": "b7c24030-c670-4da7-f9af-7dea5f3f83f3"
      },
      "outputs": [
        {
          "output_type": "execute_result",
          "data": {
            "text/plain": [
              "                                                  0  \\\n",
              "Unnamed: 0.1                                      0   \n",
              "Unnamed: 0                                        0   \n",
              "brand                                            HP   \n",
              "name               Victus 15-fb0157AX Gaming Laptop   \n",
              "price                                         49900   \n",
              "spec_rating                                    73.0   \n",
              "processor                 5th Gen AMD Ryzen 5 5600H   \n",
              "CPU                           Hexa Core, 12 Threads   \n",
              "Ram                                             8GB   \n",
              "Ram_type                                       DDR4   \n",
              "ROM                                           512GB   \n",
              "ROM_type                                        SSD   \n",
              "GPU                         4GB AMD Radeon RX 6500M   \n",
              "display_size                                   15.6   \n",
              "resolution_width                             1920.0   \n",
              "resolution_height                            1080.0   \n",
              "OS                                    Windows 11 OS   \n",
              "warranty                                          1   \n",
              "\n",
              "                                                1  \\\n",
              "Unnamed: 0.1                                    1   \n",
              "Unnamed: 0                                      1   \n",
              "brand                                          HP   \n",
              "name                          15s-fq5007TU Laptop   \n",
              "price                                       39900   \n",
              "spec_rating                                  60.0   \n",
              "processor            12th Gen Intel Core i3 1215U   \n",
              "CPU                Hexa Core (2P + 4E), 8 Threads   \n",
              "Ram                                           8GB   \n",
              "Ram_type                                     DDR4   \n",
              "ROM                                         512GB   \n",
              "ROM_type                                      SSD   \n",
              "GPU                            Intel UHD Graphics   \n",
              "display_size                                 15.6   \n",
              "resolution_width                           1920.0   \n",
              "resolution_height                          1080.0   \n",
              "OS                                  Windows 11 OS   \n",
              "warranty                                        1   \n",
              "\n",
              "                                               2  \\\n",
              "Unnamed: 0.1                                   2   \n",
              "Unnamed: 0                                     2   \n",
              "brand                                       Acer   \n",
              "name                        One 14 Z8-415 Laptop   \n",
              "price                                      26990   \n",
              "spec_rating                            69.323529   \n",
              "processor          11th Gen Intel Core i3 1115G4   \n",
              "CPU                         Dual Core, 4 Threads   \n",
              "Ram                                          8GB   \n",
              "Ram_type                                    DDR4   \n",
              "ROM                                        512GB   \n",
              "ROM_type                                     SSD   \n",
              "GPU                       Intel Iris Xe Graphics   \n",
              "display_size                                14.0   \n",
              "resolution_width                          1920.0   \n",
              "resolution_height                         1080.0   \n",
              "OS                                 Windows 11 OS   \n",
              "warranty                                       1   \n",
              "\n",
              "                                                      3  \\\n",
              "Unnamed: 0.1                                          3   \n",
              "Unnamed: 0                                            3   \n",
              "brand                                            Lenovo   \n",
              "name               Yoga Slim 6 14IAP8 82WU0095IN Laptop   \n",
              "price                                             59729   \n",
              "spec_rating                                        66.0   \n",
              "processor                  12th Gen Intel Core i5 1240P   \n",
              "CPU                      12 Cores (4P + 8E), 16 Threads   \n",
              "Ram                                                16GB   \n",
              "Ram_type                                         LPDDR5   \n",
              "ROM                                               512GB   \n",
              "ROM_type                                            SSD   \n",
              "GPU                            Intel Integrated Iris Xe   \n",
              "display_size                                       14.0   \n",
              "resolution_width                                 2240.0   \n",
              "resolution_height                                1400.0   \n",
              "OS                                        Windows 11 OS   \n",
              "warranty                                              1   \n",
              "\n",
              "                                                 4  \n",
              "Unnamed: 0.1                                     4  \n",
              "Unnamed: 0                                       4  \n",
              "brand                                        Apple  \n",
              "name               MacBook Air 2020 MGND3HN Laptop  \n",
              "price                                        69990  \n",
              "spec_rating                              69.323529  \n",
              "processor                                 Apple M1  \n",
              "CPU                            Octa Core (4P + 4E)  \n",
              "Ram                                            8GB  \n",
              "Ram_type                                      DDR4  \n",
              "ROM                                          256GB  \n",
              "ROM_type                                       SSD  \n",
              "GPU                   Apple M1 Integrated Graphics  \n",
              "display_size                                  13.3  \n",
              "resolution_width                            2560.0  \n",
              "resolution_height                           1600.0  \n",
              "OS                                          Mac OS  \n",
              "warranty                                         1  "
            ],
            "text/html": [
              "\n",
              "  <div id=\"df-0c2c65dc-0bcc-4920-8e42-1fe98137e7e8\" class=\"colab-df-container\">\n",
              "    <div>\n",
              "<style scoped>\n",
              "    .dataframe tbody tr th:only-of-type {\n",
              "        vertical-align: middle;\n",
              "    }\n",
              "\n",
              "    .dataframe tbody tr th {\n",
              "        vertical-align: top;\n",
              "    }\n",
              "\n",
              "    .dataframe thead th {\n",
              "        text-align: right;\n",
              "    }\n",
              "</style>\n",
              "<table border=\"1\" class=\"dataframe\">\n",
              "  <thead>\n",
              "    <tr style=\"text-align: right;\">\n",
              "      <th></th>\n",
              "      <th>0</th>\n",
              "      <th>1</th>\n",
              "      <th>2</th>\n",
              "      <th>3</th>\n",
              "      <th>4</th>\n",
              "    </tr>\n",
              "  </thead>\n",
              "  <tbody>\n",
              "    <tr>\n",
              "      <th>Unnamed: 0.1</th>\n",
              "      <td>0</td>\n",
              "      <td>1</td>\n",
              "      <td>2</td>\n",
              "      <td>3</td>\n",
              "      <td>4</td>\n",
              "    </tr>\n",
              "    <tr>\n",
              "      <th>Unnamed: 0</th>\n",
              "      <td>0</td>\n",
              "      <td>1</td>\n",
              "      <td>2</td>\n",
              "      <td>3</td>\n",
              "      <td>4</td>\n",
              "    </tr>\n",
              "    <tr>\n",
              "      <th>brand</th>\n",
              "      <td>HP</td>\n",
              "      <td>HP</td>\n",
              "      <td>Acer</td>\n",
              "      <td>Lenovo</td>\n",
              "      <td>Apple</td>\n",
              "    </tr>\n",
              "    <tr>\n",
              "      <th>name</th>\n",
              "      <td>Victus 15-fb0157AX Gaming Laptop</td>\n",
              "      <td>15s-fq5007TU Laptop</td>\n",
              "      <td>One 14 Z8-415 Laptop</td>\n",
              "      <td>Yoga Slim 6 14IAP8 82WU0095IN Laptop</td>\n",
              "      <td>MacBook Air 2020 MGND3HN Laptop</td>\n",
              "    </tr>\n",
              "    <tr>\n",
              "      <th>price</th>\n",
              "      <td>49900</td>\n",
              "      <td>39900</td>\n",
              "      <td>26990</td>\n",
              "      <td>59729</td>\n",
              "      <td>69990</td>\n",
              "    </tr>\n",
              "    <tr>\n",
              "      <th>spec_rating</th>\n",
              "      <td>73.0</td>\n",
              "      <td>60.0</td>\n",
              "      <td>69.323529</td>\n",
              "      <td>66.0</td>\n",
              "      <td>69.323529</td>\n",
              "    </tr>\n",
              "    <tr>\n",
              "      <th>processor</th>\n",
              "      <td>5th Gen AMD Ryzen 5 5600H</td>\n",
              "      <td>12th Gen Intel Core i3 1215U</td>\n",
              "      <td>11th Gen Intel Core i3 1115G4</td>\n",
              "      <td>12th Gen Intel Core i5 1240P</td>\n",
              "      <td>Apple M1</td>\n",
              "    </tr>\n",
              "    <tr>\n",
              "      <th>CPU</th>\n",
              "      <td>Hexa Core, 12 Threads</td>\n",
              "      <td>Hexa Core (2P + 4E), 8 Threads</td>\n",
              "      <td>Dual Core, 4 Threads</td>\n",
              "      <td>12 Cores (4P + 8E), 16 Threads</td>\n",
              "      <td>Octa Core (4P + 4E)</td>\n",
              "    </tr>\n",
              "    <tr>\n",
              "      <th>Ram</th>\n",
              "      <td>8GB</td>\n",
              "      <td>8GB</td>\n",
              "      <td>8GB</td>\n",
              "      <td>16GB</td>\n",
              "      <td>8GB</td>\n",
              "    </tr>\n",
              "    <tr>\n",
              "      <th>Ram_type</th>\n",
              "      <td>DDR4</td>\n",
              "      <td>DDR4</td>\n",
              "      <td>DDR4</td>\n",
              "      <td>LPDDR5</td>\n",
              "      <td>DDR4</td>\n",
              "    </tr>\n",
              "    <tr>\n",
              "      <th>ROM</th>\n",
              "      <td>512GB</td>\n",
              "      <td>512GB</td>\n",
              "      <td>512GB</td>\n",
              "      <td>512GB</td>\n",
              "      <td>256GB</td>\n",
              "    </tr>\n",
              "    <tr>\n",
              "      <th>ROM_type</th>\n",
              "      <td>SSD</td>\n",
              "      <td>SSD</td>\n",
              "      <td>SSD</td>\n",
              "      <td>SSD</td>\n",
              "      <td>SSD</td>\n",
              "    </tr>\n",
              "    <tr>\n",
              "      <th>GPU</th>\n",
              "      <td>4GB AMD Radeon RX 6500M</td>\n",
              "      <td>Intel UHD Graphics</td>\n",
              "      <td>Intel Iris Xe Graphics</td>\n",
              "      <td>Intel Integrated Iris Xe</td>\n",
              "      <td>Apple M1 Integrated Graphics</td>\n",
              "    </tr>\n",
              "    <tr>\n",
              "      <th>display_size</th>\n",
              "      <td>15.6</td>\n",
              "      <td>15.6</td>\n",
              "      <td>14.0</td>\n",
              "      <td>14.0</td>\n",
              "      <td>13.3</td>\n",
              "    </tr>\n",
              "    <tr>\n",
              "      <th>resolution_width</th>\n",
              "      <td>1920.0</td>\n",
              "      <td>1920.0</td>\n",
              "      <td>1920.0</td>\n",
              "      <td>2240.0</td>\n",
              "      <td>2560.0</td>\n",
              "    </tr>\n",
              "    <tr>\n",
              "      <th>resolution_height</th>\n",
              "      <td>1080.0</td>\n",
              "      <td>1080.0</td>\n",
              "      <td>1080.0</td>\n",
              "      <td>1400.0</td>\n",
              "      <td>1600.0</td>\n",
              "    </tr>\n",
              "    <tr>\n",
              "      <th>OS</th>\n",
              "      <td>Windows 11 OS</td>\n",
              "      <td>Windows 11 OS</td>\n",
              "      <td>Windows 11 OS</td>\n",
              "      <td>Windows 11 OS</td>\n",
              "      <td>Mac OS</td>\n",
              "    </tr>\n",
              "    <tr>\n",
              "      <th>warranty</th>\n",
              "      <td>1</td>\n",
              "      <td>1</td>\n",
              "      <td>1</td>\n",
              "      <td>1</td>\n",
              "      <td>1</td>\n",
              "    </tr>\n",
              "  </tbody>\n",
              "</table>\n",
              "</div>\n",
              "    <div class=\"colab-df-buttons\">\n",
              "\n",
              "  <div class=\"colab-df-container\">\n",
              "    <button class=\"colab-df-convert\" onclick=\"convertToInteractive('df-0c2c65dc-0bcc-4920-8e42-1fe98137e7e8')\"\n",
              "            title=\"Convert this dataframe to an interactive table.\"\n",
              "            style=\"display:none;\">\n",
              "\n",
              "  <svg xmlns=\"http://www.w3.org/2000/svg\" height=\"24px\" viewBox=\"0 -960 960 960\">\n",
              "    <path d=\"M120-120v-720h720v720H120Zm60-500h600v-160H180v160Zm220 220h160v-160H400v160Zm0 220h160v-160H400v160ZM180-400h160v-160H180v160Zm440 0h160v-160H620v160ZM180-180h160v-160H180v160Zm440 0h160v-160H620v160Z\"/>\n",
              "  </svg>\n",
              "    </button>\n",
              "\n",
              "  <style>\n",
              "    .colab-df-container {\n",
              "      display:flex;\n",
              "      gap: 12px;\n",
              "    }\n",
              "\n",
              "    .colab-df-convert {\n",
              "      background-color: #E8F0FE;\n",
              "      border: none;\n",
              "      border-radius: 50%;\n",
              "      cursor: pointer;\n",
              "      display: none;\n",
              "      fill: #1967D2;\n",
              "      height: 32px;\n",
              "      padding: 0 0 0 0;\n",
              "      width: 32px;\n",
              "    }\n",
              "\n",
              "    .colab-df-convert:hover {\n",
              "      background-color: #E2EBFA;\n",
              "      box-shadow: 0px 1px 2px rgba(60, 64, 67, 0.3), 0px 1px 3px 1px rgba(60, 64, 67, 0.15);\n",
              "      fill: #174EA6;\n",
              "    }\n",
              "\n",
              "    .colab-df-buttons div {\n",
              "      margin-bottom: 4px;\n",
              "    }\n",
              "\n",
              "    [theme=dark] .colab-df-convert {\n",
              "      background-color: #3B4455;\n",
              "      fill: #D2E3FC;\n",
              "    }\n",
              "\n",
              "    [theme=dark] .colab-df-convert:hover {\n",
              "      background-color: #434B5C;\n",
              "      box-shadow: 0px 1px 3px 1px rgba(0, 0, 0, 0.15);\n",
              "      filter: drop-shadow(0px 1px 2px rgba(0, 0, 0, 0.3));\n",
              "      fill: #FFFFFF;\n",
              "    }\n",
              "  </style>\n",
              "\n",
              "    <script>\n",
              "      const buttonEl =\n",
              "        document.querySelector('#df-0c2c65dc-0bcc-4920-8e42-1fe98137e7e8 button.colab-df-convert');\n",
              "      buttonEl.style.display =\n",
              "        google.colab.kernel.accessAllowed ? 'block' : 'none';\n",
              "\n",
              "      async function convertToInteractive(key) {\n",
              "        const element = document.querySelector('#df-0c2c65dc-0bcc-4920-8e42-1fe98137e7e8');\n",
              "        const dataTable =\n",
              "          await google.colab.kernel.invokeFunction('convertToInteractive',\n",
              "                                                    [key], {});\n",
              "        if (!dataTable) return;\n",
              "\n",
              "        const docLinkHtml = 'Like what you see? Visit the ' +\n",
              "          '<a target=\"_blank\" href=https://colab.research.google.com/notebooks/data_table.ipynb>data table notebook</a>'\n",
              "          + ' to learn more about interactive tables.';\n",
              "        element.innerHTML = '';\n",
              "        dataTable['output_type'] = 'display_data';\n",
              "        await google.colab.output.renderOutput(dataTable, element);\n",
              "        const docLink = document.createElement('div');\n",
              "        docLink.innerHTML = docLinkHtml;\n",
              "        element.appendChild(docLink);\n",
              "      }\n",
              "    </script>\n",
              "  </div>\n",
              "\n",
              "\n",
              "    <div id=\"df-4b62db6a-6b9f-4dad-9d78-c60e3240c134\">\n",
              "      <button class=\"colab-df-quickchart\" onclick=\"quickchart('df-4b62db6a-6b9f-4dad-9d78-c60e3240c134')\"\n",
              "                title=\"Suggest charts\"\n",
              "                style=\"display:none;\">\n",
              "\n",
              "<svg xmlns=\"http://www.w3.org/2000/svg\" height=\"24px\"viewBox=\"0 0 24 24\"\n",
              "     width=\"24px\">\n",
              "    <g>\n",
              "        <path d=\"M19 3H5c-1.1 0-2 .9-2 2v14c0 1.1.9 2 2 2h14c1.1 0 2-.9 2-2V5c0-1.1-.9-2-2-2zM9 17H7v-7h2v7zm4 0h-2V7h2v10zm4 0h-2v-4h2v4z\"/>\n",
              "    </g>\n",
              "</svg>\n",
              "      </button>\n",
              "\n",
              "<style>\n",
              "  .colab-df-quickchart {\n",
              "      --bg-color: #E8F0FE;\n",
              "      --fill-color: #1967D2;\n",
              "      --hover-bg-color: #E2EBFA;\n",
              "      --hover-fill-color: #174EA6;\n",
              "      --disabled-fill-color: #AAA;\n",
              "      --disabled-bg-color: #DDD;\n",
              "  }\n",
              "\n",
              "  [theme=dark] .colab-df-quickchart {\n",
              "      --bg-color: #3B4455;\n",
              "      --fill-color: #D2E3FC;\n",
              "      --hover-bg-color: #434B5C;\n",
              "      --hover-fill-color: #FFFFFF;\n",
              "      --disabled-bg-color: #3B4455;\n",
              "      --disabled-fill-color: #666;\n",
              "  }\n",
              "\n",
              "  .colab-df-quickchart {\n",
              "    background-color: var(--bg-color);\n",
              "    border: none;\n",
              "    border-radius: 50%;\n",
              "    cursor: pointer;\n",
              "    display: none;\n",
              "    fill: var(--fill-color);\n",
              "    height: 32px;\n",
              "    padding: 0;\n",
              "    width: 32px;\n",
              "  }\n",
              "\n",
              "  .colab-df-quickchart:hover {\n",
              "    background-color: var(--hover-bg-color);\n",
              "    box-shadow: 0 1px 2px rgba(60, 64, 67, 0.3), 0 1px 3px 1px rgba(60, 64, 67, 0.15);\n",
              "    fill: var(--button-hover-fill-color);\n",
              "  }\n",
              "\n",
              "  .colab-df-quickchart-complete:disabled,\n",
              "  .colab-df-quickchart-complete:disabled:hover {\n",
              "    background-color: var(--disabled-bg-color);\n",
              "    fill: var(--disabled-fill-color);\n",
              "    box-shadow: none;\n",
              "  }\n",
              "\n",
              "  .colab-df-spinner {\n",
              "    border: 2px solid var(--fill-color);\n",
              "    border-color: transparent;\n",
              "    border-bottom-color: var(--fill-color);\n",
              "    animation:\n",
              "      spin 1s steps(1) infinite;\n",
              "  }\n",
              "\n",
              "  @keyframes spin {\n",
              "    0% {\n",
              "      border-color: transparent;\n",
              "      border-bottom-color: var(--fill-color);\n",
              "      border-left-color: var(--fill-color);\n",
              "    }\n",
              "    20% {\n",
              "      border-color: transparent;\n",
              "      border-left-color: var(--fill-color);\n",
              "      border-top-color: var(--fill-color);\n",
              "    }\n",
              "    30% {\n",
              "      border-color: transparent;\n",
              "      border-left-color: var(--fill-color);\n",
              "      border-top-color: var(--fill-color);\n",
              "      border-right-color: var(--fill-color);\n",
              "    }\n",
              "    40% {\n",
              "      border-color: transparent;\n",
              "      border-right-color: var(--fill-color);\n",
              "      border-top-color: var(--fill-color);\n",
              "    }\n",
              "    60% {\n",
              "      border-color: transparent;\n",
              "      border-right-color: var(--fill-color);\n",
              "    }\n",
              "    80% {\n",
              "      border-color: transparent;\n",
              "      border-right-color: var(--fill-color);\n",
              "      border-bottom-color: var(--fill-color);\n",
              "    }\n",
              "    90% {\n",
              "      border-color: transparent;\n",
              "      border-bottom-color: var(--fill-color);\n",
              "    }\n",
              "  }\n",
              "</style>\n",
              "\n",
              "      <script>\n",
              "        async function quickchart(key) {\n",
              "          const quickchartButtonEl =\n",
              "            document.querySelector('#' + key + ' button');\n",
              "          quickchartButtonEl.disabled = true;  // To prevent multiple clicks.\n",
              "          quickchartButtonEl.classList.add('colab-df-spinner');\n",
              "          try {\n",
              "            const charts = await google.colab.kernel.invokeFunction(\n",
              "                'suggestCharts', [key], {});\n",
              "          } catch (error) {\n",
              "            console.error('Error during call to suggestCharts:', error);\n",
              "          }\n",
              "          quickchartButtonEl.classList.remove('colab-df-spinner');\n",
              "          quickchartButtonEl.classList.add('colab-df-quickchart-complete');\n",
              "        }\n",
              "        (() => {\n",
              "          let quickchartButtonEl =\n",
              "            document.querySelector('#df-4b62db6a-6b9f-4dad-9d78-c60e3240c134 button');\n",
              "          quickchartButtonEl.style.display =\n",
              "            google.colab.kernel.accessAllowed ? 'block' : 'none';\n",
              "        })();\n",
              "      </script>\n",
              "    </div>\n",
              "\n",
              "    </div>\n",
              "  </div>\n"
            ],
            "application/vnd.google.colaboratory.intrinsic+json": {
              "type": "dataframe",
              "variable_name": "df",
              "summary": "{\n  \"name\": \"df\",\n  \"rows\": 893,\n  \"fields\": [\n    {\n      \"column\": \"Unnamed: 0.1\",\n      \"properties\": {\n        \"dtype\": \"number\",\n        \"std\": 270,\n        \"min\": 0,\n        \"max\": 930,\n        \"num_unique_values\": 893,\n        \"samples\": [\n          744,\n          461,\n          549\n        ],\n        \"semantic_type\": \"\",\n        \"description\": \"\"\n      }\n    },\n    {\n      \"column\": \"Unnamed: 0\",\n      \"properties\": {\n        \"dtype\": \"number\",\n        \"std\": 299,\n        \"min\": 0,\n        \"max\": 1019,\n        \"num_unique_values\": 893,\n        \"samples\": [\n          828,\n          525,\n          627\n        ],\n        \"semantic_type\": \"\",\n        \"description\": \"\"\n      }\n    },\n    {\n      \"column\": \"brand\",\n      \"properties\": {\n        \"dtype\": \"category\",\n        \"num_unique_values\": 30,\n        \"samples\": [\n          \"Ninkear\",\n          \"iBall\",\n          \"Vaio\"\n        ],\n        \"semantic_type\": \"\",\n        \"description\": \"\"\n      }\n    },\n    {\n      \"column\": \"name\",\n      \"properties\": {\n        \"dtype\": \"string\",\n        \"num_unique_values\": 815,\n        \"samples\": [\n          \"Vivobook S15 OLED K3502ZA-L501WS Laptop\",\n          \"Victus 15-fb0136AX Gaming Laptop\",\n          \"Latitude 7420 Laptop\"\n        ],\n        \"semantic_type\": \"\",\n        \"description\": \"\"\n      }\n    },\n    {\n      \"column\": \"price\",\n      \"properties\": {\n        \"dtype\": \"number\",\n        \"std\": 60880,\n        \"min\": 9999,\n        \"max\": 450039,\n        \"num_unique_values\": 464,\n        \"samples\": [\n          74990,\n          53790,\n          41190\n        ],\n        \"semantic_type\": \"\",\n        \"description\": \"\"\n      }\n    },\n    {\n      \"column\": \"spec_rating\",\n      \"properties\": {\n        \"dtype\": \"number\",\n        \"std\": 5.541554670109368,\n        \"min\": 60.0,\n        \"max\": 89.0,\n        \"num_unique_values\": 30,\n        \"samples\": [\n          61.0,\n          75.0,\n          81.0\n        ],\n        \"semantic_type\": \"\",\n        \"description\": \"\"\n      }\n    },\n    {\n      \"column\": \"processor\",\n      \"properties\": {\n        \"dtype\": \"category\",\n        \"num_unique_values\": 184,\n        \"samples\": [\n          \"3rd Gen AMD Athlon 3050U\",\n          \"10th Gen Intel Core i7 10750H\",\n          \"10th Gen Intel Core i5 10210U\"\n        ],\n        \"semantic_type\": \"\",\n        \"description\": \"\"\n      }\n    },\n    {\n      \"column\": \"CPU\",\n      \"properties\": {\n        \"dtype\": \"category\",\n        \"num_unique_values\": 29,\n        \"samples\": [\n          \"24 Cores (8P + 16E)\",\n          \"Quad Core, 4 Threads\",\n          \"Octa Core, 8 Threads\"\n        ],\n        \"semantic_type\": \"\",\n        \"description\": \"\"\n      }\n    },\n    {\n      \"column\": \"Ram\",\n      \"properties\": {\n        \"dtype\": \"category\",\n        \"num_unique_values\": 7,\n        \"samples\": [\n          \"8GB\",\n          \"16GB\",\n          \"12GB\"\n        ],\n        \"semantic_type\": \"\",\n        \"description\": \"\"\n      }\n    },\n    {\n      \"column\": \"Ram_type\",\n      \"properties\": {\n        \"dtype\": \"category\",\n        \"num_unique_values\": 12,\n        \"samples\": [\n          \"LPDDR5x\",\n          \"DDR4-\",\n          \"DDR4\"\n        ],\n        \"semantic_type\": \"\",\n        \"description\": \"\"\n      }\n    },\n    {\n      \"column\": \"ROM\",\n      \"properties\": {\n        \"dtype\": \"category\",\n        \"num_unique_values\": 7,\n        \"samples\": [\n          \"512GB\",\n          \"256GB\",\n          \"32GB\"\n        ],\n        \"semantic_type\": \"\",\n        \"description\": \"\"\n      }\n    },\n    {\n      \"column\": \"ROM_type\",\n      \"properties\": {\n        \"dtype\": \"category\",\n        \"num_unique_values\": 2,\n        \"samples\": [\n          \"Hard-Disk\",\n          \"SSD\"\n        ],\n        \"semantic_type\": \"\",\n        \"description\": \"\"\n      }\n    },\n    {\n      \"column\": \"GPU\",\n      \"properties\": {\n        \"dtype\": \"category\",\n        \"num_unique_values\": 134,\n        \"samples\": [\n          \"2GB NVIDIA GeForce MX570\",\n          \"4GB NVIDIA GeForce RTX 2050 \"\n        ],\n        \"semantic_type\": \"\",\n        \"description\": \"\"\n      }\n    },\n    {\n      \"column\": \"display_size\",\n      \"properties\": {\n        \"dtype\": \"number\",\n        \"std\": 0.939095030465629,\n        \"min\": 11.6,\n        \"max\": 18.0,\n        \"num_unique_values\": 18,\n        \"samples\": [\n          15.6,\n          14.0\n        ],\n        \"semantic_type\": \"\",\n        \"description\": \"\"\n      }\n    },\n    {\n      \"column\": \"resolution_width\",\n      \"properties\": {\n        \"dtype\": \"number\",\n        \"std\": 426.07600934163656,\n        \"min\": 1080.0,\n        \"max\": 3840.0,\n        \"num_unique_values\": 18,\n        \"samples\": [\n          1920.0,\n          2240.0\n        ],\n        \"semantic_type\": \"\",\n        \"description\": \"\"\n      }\n    },\n    {\n      \"column\": \"resolution_height\",\n      \"properties\": {\n        \"dtype\": \"number\",\n        \"std\": 326.75688262033975,\n        \"min\": 768.0,\n        \"max\": 3456.0,\n        \"num_unique_values\": 22,\n        \"samples\": [\n          1080.0,\n          1504.0\n        ],\n        \"semantic_type\": \"\",\n        \"description\": \"\"\n      }\n    },\n    {\n      \"column\": \"OS\",\n      \"properties\": {\n        \"dtype\": \"category\",\n        \"num_unique_values\": 14,\n        \"samples\": [\n          \"Mac Catalina OS\",\n          \"Windows 11  OS\"\n        ],\n        \"semantic_type\": \"\",\n        \"description\": \"\"\n      }\n    },\n    {\n      \"column\": \"warranty\",\n      \"properties\": {\n        \"dtype\": \"number\",\n        \"std\": 0,\n        \"min\": 0,\n        \"max\": 3,\n        \"num_unique_values\": 4,\n        \"samples\": [\n          0,\n          3\n        ],\n        \"semantic_type\": \"\",\n        \"description\": \"\"\n      }\n    }\n  ]\n}"
            }
          },
          "metadata": {},
          "execution_count": 92
        }
      ],
      "source": [
        "df.head().T"
      ]
    },
    {
      "cell_type": "code",
      "execution_count": 93,
      "metadata": {
        "id": "7sWiIrLs_atT",
        "colab": {
          "base_uri": "https://localhost:8080/"
        },
        "outputId": "a2d278a0-e73e-4887-f773-e30ea396d7f4"
      },
      "outputs": [
        {
          "output_type": "stream",
          "name": "stdout",
          "text": [
            "<class 'pandas.core.frame.DataFrame'>\n",
            "RangeIndex: 893 entries, 0 to 892\n",
            "Data columns (total 18 columns):\n",
            " #   Column             Non-Null Count  Dtype  \n",
            "---  ------             --------------  -----  \n",
            " 0   Unnamed: 0.1       893 non-null    int64  \n",
            " 1   Unnamed: 0         893 non-null    int64  \n",
            " 2   brand              893 non-null    object \n",
            " 3   name               893 non-null    object \n",
            " 4   price              893 non-null    int64  \n",
            " 5   spec_rating        893 non-null    float64\n",
            " 6   processor          893 non-null    object \n",
            " 7   CPU                893 non-null    object \n",
            " 8   Ram                893 non-null    object \n",
            " 9   Ram_type           893 non-null    object \n",
            " 10  ROM                893 non-null    object \n",
            " 11  ROM_type           893 non-null    object \n",
            " 12  GPU                893 non-null    object \n",
            " 13  display_size       893 non-null    float64\n",
            " 14  resolution_width   893 non-null    float64\n",
            " 15  resolution_height  893 non-null    float64\n",
            " 16  OS                 893 non-null    object \n",
            " 17  warranty           893 non-null    int64  \n",
            "dtypes: float64(4), int64(4), object(10)\n",
            "memory usage: 125.7+ KB\n"
          ]
        }
      ],
      "source": [
        "df.info()"
      ]
    },
    {
      "cell_type": "code",
      "execution_count": 94,
      "metadata": {
        "id": "uUPjoKi6_tB0",
        "colab": {
          "base_uri": "https://localhost:8080/"
        },
        "outputId": "e1ff941e-0f31-4db0-f158-e9ae624c0ecb"
      },
      "outputs": [
        {
          "output_type": "stream",
          "name": "stdout",
          "text": [
            "The Laptop Price Dataset has 893 rows and 18 columns\n"
          ]
        }
      ],
      "source": [
        "print(f\"The Laptop Price Dataset has {df.shape[0]} rows and {df.shape[1]} columns\")"
      ]
    },
    {
      "cell_type": "code",
      "execution_count": 95,
      "metadata": {
        "id": "QEnzdwVJ_0W9",
        "colab": {
          "base_uri": "https://localhost:8080/",
          "height": 0
        },
        "outputId": "4f3d0920-684f-47c3-a55f-a649a6a212a4"
      },
      "outputs": [
        {
          "output_type": "execute_result",
          "data": {
            "text/plain": [
              "Unnamed: 0.1         0\n",
              "Unnamed: 0           0\n",
              "brand                0\n",
              "name                 0\n",
              "price                0\n",
              "spec_rating          0\n",
              "processor            0\n",
              "CPU                  0\n",
              "Ram                  0\n",
              "Ram_type             0\n",
              "ROM                  0\n",
              "ROM_type             0\n",
              "GPU                  0\n",
              "display_size         0\n",
              "resolution_width     0\n",
              "resolution_height    0\n",
              "OS                   0\n",
              "warranty             0\n",
              "dtype: int64"
            ],
            "text/html": [
              "<div>\n",
              "<style scoped>\n",
              "    .dataframe tbody tr th:only-of-type {\n",
              "        vertical-align: middle;\n",
              "    }\n",
              "\n",
              "    .dataframe tbody tr th {\n",
              "        vertical-align: top;\n",
              "    }\n",
              "\n",
              "    .dataframe thead th {\n",
              "        text-align: right;\n",
              "    }\n",
              "</style>\n",
              "<table border=\"1\" class=\"dataframe\">\n",
              "  <thead>\n",
              "    <tr style=\"text-align: right;\">\n",
              "      <th></th>\n",
              "      <th>0</th>\n",
              "    </tr>\n",
              "  </thead>\n",
              "  <tbody>\n",
              "    <tr>\n",
              "      <th>Unnamed: 0.1</th>\n",
              "      <td>0</td>\n",
              "    </tr>\n",
              "    <tr>\n",
              "      <th>Unnamed: 0</th>\n",
              "      <td>0</td>\n",
              "    </tr>\n",
              "    <tr>\n",
              "      <th>brand</th>\n",
              "      <td>0</td>\n",
              "    </tr>\n",
              "    <tr>\n",
              "      <th>name</th>\n",
              "      <td>0</td>\n",
              "    </tr>\n",
              "    <tr>\n",
              "      <th>price</th>\n",
              "      <td>0</td>\n",
              "    </tr>\n",
              "    <tr>\n",
              "      <th>spec_rating</th>\n",
              "      <td>0</td>\n",
              "    </tr>\n",
              "    <tr>\n",
              "      <th>processor</th>\n",
              "      <td>0</td>\n",
              "    </tr>\n",
              "    <tr>\n",
              "      <th>CPU</th>\n",
              "      <td>0</td>\n",
              "    </tr>\n",
              "    <tr>\n",
              "      <th>Ram</th>\n",
              "      <td>0</td>\n",
              "    </tr>\n",
              "    <tr>\n",
              "      <th>Ram_type</th>\n",
              "      <td>0</td>\n",
              "    </tr>\n",
              "    <tr>\n",
              "      <th>ROM</th>\n",
              "      <td>0</td>\n",
              "    </tr>\n",
              "    <tr>\n",
              "      <th>ROM_type</th>\n",
              "      <td>0</td>\n",
              "    </tr>\n",
              "    <tr>\n",
              "      <th>GPU</th>\n",
              "      <td>0</td>\n",
              "    </tr>\n",
              "    <tr>\n",
              "      <th>display_size</th>\n",
              "      <td>0</td>\n",
              "    </tr>\n",
              "    <tr>\n",
              "      <th>resolution_width</th>\n",
              "      <td>0</td>\n",
              "    </tr>\n",
              "    <tr>\n",
              "      <th>resolution_height</th>\n",
              "      <td>0</td>\n",
              "    </tr>\n",
              "    <tr>\n",
              "      <th>OS</th>\n",
              "      <td>0</td>\n",
              "    </tr>\n",
              "    <tr>\n",
              "      <th>warranty</th>\n",
              "      <td>0</td>\n",
              "    </tr>\n",
              "  </tbody>\n",
              "</table>\n",
              "</div><br><label><b>dtype:</b> int64</label>"
            ]
          },
          "metadata": {},
          "execution_count": 95
        }
      ],
      "source": [
        "df.isnull().sum()"
      ]
    },
    {
      "cell_type": "code",
      "execution_count": 96,
      "metadata": {
        "id": "9R2-wueU_6nU"
      },
      "outputs": [],
      "source": [
        "df.drop(['Unnamed: 0.1', 'Unnamed: 0'], axis=1, inplace=True)"
      ]
    },
    {
      "cell_type": "code",
      "execution_count": 97,
      "metadata": {
        "id": "GDIOGSr-_9-P",
        "colab": {
          "base_uri": "https://localhost:8080/",
          "height": 0
        },
        "outputId": "a77c59df-ab74-49d1-b3be-8c371dde1ae3"
      },
      "outputs": [
        {
          "output_type": "execute_result",
          "data": {
            "text/plain": [
              "               price  spec_rating  display_size  resolution_width  \\\n",
              "count     893.000000   893.000000    893.000000        893.000000   \n",
              "mean    79907.409854    69.379026     15.173751       2035.393057   \n",
              "std     60880.043823     5.541555      0.939095        426.076009   \n",
              "min      9999.000000    60.000000     11.600000       1080.000000   \n",
              "25%     44500.000000    66.000000     14.000000       1920.000000   \n",
              "50%     61990.000000    69.323529     15.600000       1920.000000   \n",
              "75%     90990.000000    71.000000     15.600000       1920.000000   \n",
              "max    450039.000000    89.000000     18.000000       3840.000000   \n",
              "\n",
              "       resolution_height    warranty  \n",
              "count         893.000000  893.000000  \n",
              "mean         1218.324748    1.079507  \n",
              "std           326.756883    0.326956  \n",
              "min           768.000000    0.000000  \n",
              "25%          1080.000000    1.000000  \n",
              "50%          1080.000000    1.000000  \n",
              "75%          1200.000000    1.000000  \n",
              "max          3456.000000    3.000000  "
            ],
            "text/html": [
              "\n",
              "  <div id=\"df-6b7bc850-0f05-47d6-bee1-5c86cc4c8b77\" class=\"colab-df-container\">\n",
              "    <div>\n",
              "<style scoped>\n",
              "    .dataframe tbody tr th:only-of-type {\n",
              "        vertical-align: middle;\n",
              "    }\n",
              "\n",
              "    .dataframe tbody tr th {\n",
              "        vertical-align: top;\n",
              "    }\n",
              "\n",
              "    .dataframe thead th {\n",
              "        text-align: right;\n",
              "    }\n",
              "</style>\n",
              "<table border=\"1\" class=\"dataframe\">\n",
              "  <thead>\n",
              "    <tr style=\"text-align: right;\">\n",
              "      <th></th>\n",
              "      <th>price</th>\n",
              "      <th>spec_rating</th>\n",
              "      <th>display_size</th>\n",
              "      <th>resolution_width</th>\n",
              "      <th>resolution_height</th>\n",
              "      <th>warranty</th>\n",
              "    </tr>\n",
              "  </thead>\n",
              "  <tbody>\n",
              "    <tr>\n",
              "      <th>count</th>\n",
              "      <td>893.000000</td>\n",
              "      <td>893.000000</td>\n",
              "      <td>893.000000</td>\n",
              "      <td>893.000000</td>\n",
              "      <td>893.000000</td>\n",
              "      <td>893.000000</td>\n",
              "    </tr>\n",
              "    <tr>\n",
              "      <th>mean</th>\n",
              "      <td>79907.409854</td>\n",
              "      <td>69.379026</td>\n",
              "      <td>15.173751</td>\n",
              "      <td>2035.393057</td>\n",
              "      <td>1218.324748</td>\n",
              "      <td>1.079507</td>\n",
              "    </tr>\n",
              "    <tr>\n",
              "      <th>std</th>\n",
              "      <td>60880.043823</td>\n",
              "      <td>5.541555</td>\n",
              "      <td>0.939095</td>\n",
              "      <td>426.076009</td>\n",
              "      <td>326.756883</td>\n",
              "      <td>0.326956</td>\n",
              "    </tr>\n",
              "    <tr>\n",
              "      <th>min</th>\n",
              "      <td>9999.000000</td>\n",
              "      <td>60.000000</td>\n",
              "      <td>11.600000</td>\n",
              "      <td>1080.000000</td>\n",
              "      <td>768.000000</td>\n",
              "      <td>0.000000</td>\n",
              "    </tr>\n",
              "    <tr>\n",
              "      <th>25%</th>\n",
              "      <td>44500.000000</td>\n",
              "      <td>66.000000</td>\n",
              "      <td>14.000000</td>\n",
              "      <td>1920.000000</td>\n",
              "      <td>1080.000000</td>\n",
              "      <td>1.000000</td>\n",
              "    </tr>\n",
              "    <tr>\n",
              "      <th>50%</th>\n",
              "      <td>61990.000000</td>\n",
              "      <td>69.323529</td>\n",
              "      <td>15.600000</td>\n",
              "      <td>1920.000000</td>\n",
              "      <td>1080.000000</td>\n",
              "      <td>1.000000</td>\n",
              "    </tr>\n",
              "    <tr>\n",
              "      <th>75%</th>\n",
              "      <td>90990.000000</td>\n",
              "      <td>71.000000</td>\n",
              "      <td>15.600000</td>\n",
              "      <td>1920.000000</td>\n",
              "      <td>1200.000000</td>\n",
              "      <td>1.000000</td>\n",
              "    </tr>\n",
              "    <tr>\n",
              "      <th>max</th>\n",
              "      <td>450039.000000</td>\n",
              "      <td>89.000000</td>\n",
              "      <td>18.000000</td>\n",
              "      <td>3840.000000</td>\n",
              "      <td>3456.000000</td>\n",
              "      <td>3.000000</td>\n",
              "    </tr>\n",
              "  </tbody>\n",
              "</table>\n",
              "</div>\n",
              "    <div class=\"colab-df-buttons\">\n",
              "\n",
              "  <div class=\"colab-df-container\">\n",
              "    <button class=\"colab-df-convert\" onclick=\"convertToInteractive('df-6b7bc850-0f05-47d6-bee1-5c86cc4c8b77')\"\n",
              "            title=\"Convert this dataframe to an interactive table.\"\n",
              "            style=\"display:none;\">\n",
              "\n",
              "  <svg xmlns=\"http://www.w3.org/2000/svg\" height=\"24px\" viewBox=\"0 -960 960 960\">\n",
              "    <path d=\"M120-120v-720h720v720H120Zm60-500h600v-160H180v160Zm220 220h160v-160H400v160Zm0 220h160v-160H400v160ZM180-400h160v-160H180v160Zm440 0h160v-160H620v160ZM180-180h160v-160H180v160Zm440 0h160v-160H620v160Z\"/>\n",
              "  </svg>\n",
              "    </button>\n",
              "\n",
              "  <style>\n",
              "    .colab-df-container {\n",
              "      display:flex;\n",
              "      gap: 12px;\n",
              "    }\n",
              "\n",
              "    .colab-df-convert {\n",
              "      background-color: #E8F0FE;\n",
              "      border: none;\n",
              "      border-radius: 50%;\n",
              "      cursor: pointer;\n",
              "      display: none;\n",
              "      fill: #1967D2;\n",
              "      height: 32px;\n",
              "      padding: 0 0 0 0;\n",
              "      width: 32px;\n",
              "    }\n",
              "\n",
              "    .colab-df-convert:hover {\n",
              "      background-color: #E2EBFA;\n",
              "      box-shadow: 0px 1px 2px rgba(60, 64, 67, 0.3), 0px 1px 3px 1px rgba(60, 64, 67, 0.15);\n",
              "      fill: #174EA6;\n",
              "    }\n",
              "\n",
              "    .colab-df-buttons div {\n",
              "      margin-bottom: 4px;\n",
              "    }\n",
              "\n",
              "    [theme=dark] .colab-df-convert {\n",
              "      background-color: #3B4455;\n",
              "      fill: #D2E3FC;\n",
              "    }\n",
              "\n",
              "    [theme=dark] .colab-df-convert:hover {\n",
              "      background-color: #434B5C;\n",
              "      box-shadow: 0px 1px 3px 1px rgba(0, 0, 0, 0.15);\n",
              "      filter: drop-shadow(0px 1px 2px rgba(0, 0, 0, 0.3));\n",
              "      fill: #FFFFFF;\n",
              "    }\n",
              "  </style>\n",
              "\n",
              "    <script>\n",
              "      const buttonEl =\n",
              "        document.querySelector('#df-6b7bc850-0f05-47d6-bee1-5c86cc4c8b77 button.colab-df-convert');\n",
              "      buttonEl.style.display =\n",
              "        google.colab.kernel.accessAllowed ? 'block' : 'none';\n",
              "\n",
              "      async function convertToInteractive(key) {\n",
              "        const element = document.querySelector('#df-6b7bc850-0f05-47d6-bee1-5c86cc4c8b77');\n",
              "        const dataTable =\n",
              "          await google.colab.kernel.invokeFunction('convertToInteractive',\n",
              "                                                    [key], {});\n",
              "        if (!dataTable) return;\n",
              "\n",
              "        const docLinkHtml = 'Like what you see? Visit the ' +\n",
              "          '<a target=\"_blank\" href=https://colab.research.google.com/notebooks/data_table.ipynb>data table notebook</a>'\n",
              "          + ' to learn more about interactive tables.';\n",
              "        element.innerHTML = '';\n",
              "        dataTable['output_type'] = 'display_data';\n",
              "        await google.colab.output.renderOutput(dataTable, element);\n",
              "        const docLink = document.createElement('div');\n",
              "        docLink.innerHTML = docLinkHtml;\n",
              "        element.appendChild(docLink);\n",
              "      }\n",
              "    </script>\n",
              "  </div>\n",
              "\n",
              "\n",
              "    <div id=\"df-df6d9352-188e-43d0-8b66-a093ea3f1f41\">\n",
              "      <button class=\"colab-df-quickchart\" onclick=\"quickchart('df-df6d9352-188e-43d0-8b66-a093ea3f1f41')\"\n",
              "                title=\"Suggest charts\"\n",
              "                style=\"display:none;\">\n",
              "\n",
              "<svg xmlns=\"http://www.w3.org/2000/svg\" height=\"24px\"viewBox=\"0 0 24 24\"\n",
              "     width=\"24px\">\n",
              "    <g>\n",
              "        <path d=\"M19 3H5c-1.1 0-2 .9-2 2v14c0 1.1.9 2 2 2h14c1.1 0 2-.9 2-2V5c0-1.1-.9-2-2-2zM9 17H7v-7h2v7zm4 0h-2V7h2v10zm4 0h-2v-4h2v4z\"/>\n",
              "    </g>\n",
              "</svg>\n",
              "      </button>\n",
              "\n",
              "<style>\n",
              "  .colab-df-quickchart {\n",
              "      --bg-color: #E8F0FE;\n",
              "      --fill-color: #1967D2;\n",
              "      --hover-bg-color: #E2EBFA;\n",
              "      --hover-fill-color: #174EA6;\n",
              "      --disabled-fill-color: #AAA;\n",
              "      --disabled-bg-color: #DDD;\n",
              "  }\n",
              "\n",
              "  [theme=dark] .colab-df-quickchart {\n",
              "      --bg-color: #3B4455;\n",
              "      --fill-color: #D2E3FC;\n",
              "      --hover-bg-color: #434B5C;\n",
              "      --hover-fill-color: #FFFFFF;\n",
              "      --disabled-bg-color: #3B4455;\n",
              "      --disabled-fill-color: #666;\n",
              "  }\n",
              "\n",
              "  .colab-df-quickchart {\n",
              "    background-color: var(--bg-color);\n",
              "    border: none;\n",
              "    border-radius: 50%;\n",
              "    cursor: pointer;\n",
              "    display: none;\n",
              "    fill: var(--fill-color);\n",
              "    height: 32px;\n",
              "    padding: 0;\n",
              "    width: 32px;\n",
              "  }\n",
              "\n",
              "  .colab-df-quickchart:hover {\n",
              "    background-color: var(--hover-bg-color);\n",
              "    box-shadow: 0 1px 2px rgba(60, 64, 67, 0.3), 0 1px 3px 1px rgba(60, 64, 67, 0.15);\n",
              "    fill: var(--button-hover-fill-color);\n",
              "  }\n",
              "\n",
              "  .colab-df-quickchart-complete:disabled,\n",
              "  .colab-df-quickchart-complete:disabled:hover {\n",
              "    background-color: var(--disabled-bg-color);\n",
              "    fill: var(--disabled-fill-color);\n",
              "    box-shadow: none;\n",
              "  }\n",
              "\n",
              "  .colab-df-spinner {\n",
              "    border: 2px solid var(--fill-color);\n",
              "    border-color: transparent;\n",
              "    border-bottom-color: var(--fill-color);\n",
              "    animation:\n",
              "      spin 1s steps(1) infinite;\n",
              "  }\n",
              "\n",
              "  @keyframes spin {\n",
              "    0% {\n",
              "      border-color: transparent;\n",
              "      border-bottom-color: var(--fill-color);\n",
              "      border-left-color: var(--fill-color);\n",
              "    }\n",
              "    20% {\n",
              "      border-color: transparent;\n",
              "      border-left-color: var(--fill-color);\n",
              "      border-top-color: var(--fill-color);\n",
              "    }\n",
              "    30% {\n",
              "      border-color: transparent;\n",
              "      border-left-color: var(--fill-color);\n",
              "      border-top-color: var(--fill-color);\n",
              "      border-right-color: var(--fill-color);\n",
              "    }\n",
              "    40% {\n",
              "      border-color: transparent;\n",
              "      border-right-color: var(--fill-color);\n",
              "      border-top-color: var(--fill-color);\n",
              "    }\n",
              "    60% {\n",
              "      border-color: transparent;\n",
              "      border-right-color: var(--fill-color);\n",
              "    }\n",
              "    80% {\n",
              "      border-color: transparent;\n",
              "      border-right-color: var(--fill-color);\n",
              "      border-bottom-color: var(--fill-color);\n",
              "    }\n",
              "    90% {\n",
              "      border-color: transparent;\n",
              "      border-bottom-color: var(--fill-color);\n",
              "    }\n",
              "  }\n",
              "</style>\n",
              "\n",
              "      <script>\n",
              "        async function quickchart(key) {\n",
              "          const quickchartButtonEl =\n",
              "            document.querySelector('#' + key + ' button');\n",
              "          quickchartButtonEl.disabled = true;  // To prevent multiple clicks.\n",
              "          quickchartButtonEl.classList.add('colab-df-spinner');\n",
              "          try {\n",
              "            const charts = await google.colab.kernel.invokeFunction(\n",
              "                'suggestCharts', [key], {});\n",
              "          } catch (error) {\n",
              "            console.error('Error during call to suggestCharts:', error);\n",
              "          }\n",
              "          quickchartButtonEl.classList.remove('colab-df-spinner');\n",
              "          quickchartButtonEl.classList.add('colab-df-quickchart-complete');\n",
              "        }\n",
              "        (() => {\n",
              "          let quickchartButtonEl =\n",
              "            document.querySelector('#df-df6d9352-188e-43d0-8b66-a093ea3f1f41 button');\n",
              "          quickchartButtonEl.style.display =\n",
              "            google.colab.kernel.accessAllowed ? 'block' : 'none';\n",
              "        })();\n",
              "      </script>\n",
              "    </div>\n",
              "\n",
              "    </div>\n",
              "  </div>\n"
            ],
            "application/vnd.google.colaboratory.intrinsic+json": {
              "type": "dataframe",
              "summary": "{\n  \"name\": \"df\",\n  \"rows\": 8,\n  \"fields\": [\n    {\n      \"column\": \"price\",\n      \"properties\": {\n        \"dtype\": \"number\",\n        \"std\": 144908.77525014585,\n        \"min\": 893.0,\n        \"max\": 450039.0,\n        \"num_unique_values\": 8,\n        \"samples\": [\n          79907.4098544233,\n          61990.0,\n          893.0\n        ],\n        \"semantic_type\": \"\",\n        \"description\": \"\"\n      }\n    },\n    {\n      \"column\": \"spec_rating\",\n      \"properties\": {\n        \"dtype\": \"number\",\n        \"std\": 294.9927451575361,\n        \"min\": 5.541554670109368,\n        \"max\": 893.0,\n        \"num_unique_values\": 8,\n        \"samples\": [\n          69.3790264145972,\n          69.32352941176471,\n          893.0\n        ],\n        \"semantic_type\": \"\",\n        \"description\": \"\"\n      }\n    },\n    {\n      \"column\": \"display_size\",\n      \"properties\": {\n        \"dtype\": \"number\",\n        \"std\": 311.1753854247543,\n        \"min\": 0.939095030465629,\n        \"max\": 893.0,\n        \"num_unique_values\": 7,\n        \"samples\": [\n          893.0,\n          15.173751399776034,\n          15.6\n        ],\n        \"semantic_type\": \"\",\n        \"description\": \"\"\n      }\n    },\n    {\n      \"column\": \"resolution_width\",\n      \"properties\": {\n        \"dtype\": \"number\",\n        \"std\": 1033.1798637161799,\n        \"min\": 426.07600934163656,\n        \"max\": 3840.0,\n        \"num_unique_values\": 6,\n        \"samples\": [\n          893.0,\n          2035.3930571108622,\n          3840.0\n        ],\n        \"semantic_type\": \"\",\n        \"description\": \"\"\n      }\n    },\n    {\n      \"column\": \"resolution_height\",\n      \"properties\": {\n        \"dtype\": \"number\",\n        \"std\": 936.5460270570219,\n        \"min\": 326.75688262033975,\n        \"max\": 3456.0,\n        \"num_unique_values\": 7,\n        \"samples\": [\n          893.0,\n          1218.3247480403136,\n          1200.0\n        ],\n        \"semantic_type\": \"\",\n        \"description\": \"\"\n      }\n    },\n    {\n      \"column\": \"warranty\",\n      \"properties\": {\n        \"dtype\": \"number\",\n        \"std\": 315.35032613495497,\n        \"min\": 0.0,\n        \"max\": 893.0,\n        \"num_unique_values\": 6,\n        \"samples\": [\n          893.0,\n          1.0795072788353863,\n          3.0\n        ],\n        \"semantic_type\": \"\",\n        \"description\": \"\"\n      }\n    }\n  ]\n}"
            }
          },
          "metadata": {},
          "execution_count": 97
        }
      ],
      "source": [
        "df.describe()"
      ]
    },
    {
      "cell_type": "markdown",
      "metadata": {
        "id": "NQv8DYCGy73Y"
      },
      "source": [
        "## Exploratory Data Analysis"
      ]
    },
    {
      "cell_type": "code",
      "execution_count": 98,
      "metadata": {
        "id": "NehwpYTJAnXN",
        "colab": {
          "base_uri": "https://localhost:8080/",
          "height": 0
        },
        "outputId": "7403e578-6da0-41e0-ffc7-26b4dc635825"
      },
      "outputs": [
        {
          "output_type": "display_data",
          "data": {
            "text/html": [
              "<html>\n",
              "<head><meta charset=\"utf-8\" /></head>\n",
              "<body>\n",
              "    <div>            <script src=\"https://cdnjs.cloudflare.com/ajax/libs/mathjax/2.7.5/MathJax.js?config=TeX-AMS-MML_SVG\"></script><script type=\"text/javascript\">if (window.MathJax && window.MathJax.Hub && window.MathJax.Hub.Config) {window.MathJax.Hub.Config({SVG: {font: \"STIX-Web\"}});}</script>                <script type=\"text/javascript\">window.PlotlyConfig = {MathJaxConfig: 'local'};</script>\n",
              "        <script charset=\"utf-8\" src=\"https://cdn.plot.ly/plotly-2.35.2.min.js\"></script>                <div id=\"697ee92f-ccc1-4aeb-8712-4550c847328d\" class=\"plotly-graph-div\" style=\"height:525px; width:100%;\"></div>            <script type=\"text/javascript\">                                    window.PLOTLYENV=window.PLOTLYENV || {};                                    if (document.getElementById(\"697ee92f-ccc1-4aeb-8712-4550c847328d\")) {                    Plotly.newPlot(                        \"697ee92f-ccc1-4aeb-8712-4550c847328d\",                        [{\"alignmentgroup\":\"True\",\"bingroup\":\"x\",\"hovertemplate\":\"brand=%{x}\\u003cbr\\u003ecount=%{y}\\u003cextra\\u003e\\u003c\\u002fextra\\u003e\",\"legendgroup\":\"HP\",\"marker\":{\"color\":\"rgb(102, 197, 204)\",\"pattern\":{\"shape\":\"\"}},\"name\":\"HP\",\"offsetgroup\":\"HP\",\"orientation\":\"v\",\"showlegend\":true,\"x\":[\"HP\",\"HP\",\"HP\",\"HP\",\"HP\",\"HP\",\"HP\",\"HP\",\"HP\",\"HP\",\"HP\",\"HP\",\"HP\",\"HP\",\"HP\",\"HP\",\"HP\",\"HP\",\"HP\",\"HP\",\"HP\",\"HP\",\"HP\",\"HP\",\"HP\",\"HP\",\"HP\",\"HP\",\"HP\",\"HP\",\"HP\",\"HP\",\"HP\",\"HP\",\"HP\",\"HP\",\"HP\",\"HP\",\"HP\",\"HP\",\"HP\",\"HP\",\"HP\",\"HP\",\"HP\",\"HP\",\"HP\",\"HP\",\"HP\",\"HP\",\"HP\",\"HP\",\"HP\",\"HP\",\"HP\",\"HP\",\"HP\",\"HP\",\"HP\",\"HP\",\"HP\",\"HP\",\"HP\",\"HP\",\"HP\",\"HP\",\"HP\",\"HP\",\"HP\",\"HP\",\"HP\",\"HP\",\"HP\",\"HP\",\"HP\",\"HP\",\"HP\",\"HP\",\"HP\",\"HP\",\"HP\",\"HP\",\"HP\",\"HP\",\"HP\",\"HP\",\"HP\",\"HP\",\"HP\",\"HP\",\"HP\",\"HP\",\"HP\",\"HP\",\"HP\",\"HP\",\"HP\",\"HP\",\"HP\",\"HP\",\"HP\",\"HP\",\"HP\",\"HP\",\"HP\",\"HP\",\"HP\",\"HP\",\"HP\",\"HP\",\"HP\",\"HP\",\"HP\",\"HP\",\"HP\",\"HP\",\"HP\",\"HP\",\"HP\",\"HP\",\"HP\",\"HP\",\"HP\",\"HP\",\"HP\",\"HP\",\"HP\",\"HP\",\"HP\",\"HP\",\"HP\",\"HP\",\"HP\",\"HP\",\"HP\",\"HP\",\"HP\",\"HP\",\"HP\",\"HP\",\"HP\",\"HP\",\"HP\",\"HP\",\"HP\",\"HP\",\"HP\",\"HP\",\"HP\",\"HP\",\"HP\",\"HP\",\"HP\",\"HP\",\"HP\",\"HP\",\"HP\",\"HP\",\"HP\",\"HP\",\"HP\",\"HP\",\"HP\",\"HP\",\"HP\",\"HP\",\"HP\",\"HP\",\"HP\",\"HP\",\"HP\",\"HP\",\"HP\",\"HP\",\"HP\",\"HP\",\"HP\",\"HP\",\"HP\",\"HP\",\"HP\",\"HP\",\"HP\",\"HP\",\"HP\",\"HP\"],\"xaxis\":\"x\",\"yaxis\":\"y\",\"type\":\"histogram\"},{\"alignmentgroup\":\"True\",\"bingroup\":\"x\",\"hovertemplate\":\"brand=%{x}\\u003cbr\\u003ecount=%{y}\\u003cextra\\u003e\\u003c\\u002fextra\\u003e\",\"legendgroup\":\"Acer\",\"marker\":{\"color\":\"rgb(246, 207, 113)\",\"pattern\":{\"shape\":\"\"}},\"name\":\"Acer\",\"offsetgroup\":\"Acer\",\"orientation\":\"v\",\"showlegend\":true,\"x\":[\"Acer\",\"Acer\",\"Acer\",\"Acer\",\"Acer\",\"Acer\",\"Acer\",\"Acer\",\"Acer\",\"Acer\",\"Acer\",\"Acer\",\"Acer\",\"Acer\",\"Acer\",\"Acer\",\"Acer\",\"Acer\",\"Acer\",\"Acer\",\"Acer\",\"Acer\",\"Acer\",\"Acer\",\"Acer\",\"Acer\",\"Acer\",\"Acer\",\"Acer\",\"Acer\",\"Acer\",\"Acer\",\"Acer\",\"Acer\",\"Acer\",\"Acer\",\"Acer\",\"Acer\",\"Acer\",\"Acer\",\"Acer\",\"Acer\",\"Acer\",\"Acer\",\"Acer\",\"Acer\",\"Acer\",\"Acer\",\"Acer\",\"Acer\",\"Acer\",\"Acer\",\"Acer\",\"Acer\",\"Acer\",\"Acer\",\"Acer\",\"Acer\",\"Acer\",\"Acer\",\"Acer\",\"Acer\",\"Acer\",\"Acer\",\"Acer\",\"Acer\",\"Acer\",\"Acer\",\"Acer\",\"Acer\",\"Acer\",\"Acer\",\"Acer\",\"Acer\",\"Acer\",\"Acer\",\"Acer\",\"Acer\",\"Acer\",\"Acer\",\"Acer\",\"Acer\",\"Acer\",\"Acer\"],\"xaxis\":\"x\",\"yaxis\":\"y\",\"type\":\"histogram\"},{\"alignmentgroup\":\"True\",\"bingroup\":\"x\",\"hovertemplate\":\"brand=%{x}\\u003cbr\\u003ecount=%{y}\\u003cextra\\u003e\\u003c\\u002fextra\\u003e\",\"legendgroup\":\"Lenovo\",\"marker\":{\"color\":\"rgb(248, 156, 116)\",\"pattern\":{\"shape\":\"\"}},\"name\":\"Lenovo\",\"offsetgroup\":\"Lenovo\",\"orientation\":\"v\",\"showlegend\":true,\"x\":[\"Lenovo\",\"Lenovo\",\"Lenovo\",\"Lenovo\",\"Lenovo\",\"Lenovo\",\"Lenovo\",\"Lenovo\",\"Lenovo\",\"Lenovo\",\"Lenovo\",\"Lenovo\",\"Lenovo\",\"Lenovo\",\"Lenovo\",\"Lenovo\",\"Lenovo\",\"Lenovo\",\"Lenovo\",\"Lenovo\",\"Lenovo\",\"Lenovo\",\"Lenovo\",\"Lenovo\",\"Lenovo\",\"Lenovo\",\"Lenovo\",\"Lenovo\",\"Lenovo\",\"Lenovo\",\"Lenovo\",\"Lenovo\",\"Lenovo\",\"Lenovo\",\"Lenovo\",\"Lenovo\",\"Lenovo\",\"Lenovo\",\"Lenovo\",\"Lenovo\",\"Lenovo\",\"Lenovo\",\"Lenovo\",\"Lenovo\",\"Lenovo\",\"Lenovo\",\"Lenovo\",\"Lenovo\",\"Lenovo\",\"Lenovo\",\"Lenovo\",\"Lenovo\",\"Lenovo\",\"Lenovo\",\"Lenovo\",\"Lenovo\",\"Lenovo\",\"Lenovo\",\"Lenovo\",\"Lenovo\",\"Lenovo\",\"Lenovo\",\"Lenovo\",\"Lenovo\",\"Lenovo\",\"Lenovo\",\"Lenovo\",\"Lenovo\",\"Lenovo\",\"Lenovo\",\"Lenovo\",\"Lenovo\",\"Lenovo\",\"Lenovo\",\"Lenovo\",\"Lenovo\",\"Lenovo\",\"Lenovo\",\"Lenovo\",\"Lenovo\",\"Lenovo\",\"Lenovo\",\"Lenovo\",\"Lenovo\",\"Lenovo\",\"Lenovo\",\"Lenovo\",\"Lenovo\",\"Lenovo\",\"Lenovo\",\"Lenovo\",\"Lenovo\",\"Lenovo\",\"Lenovo\",\"Lenovo\",\"Lenovo\",\"Lenovo\",\"Lenovo\",\"Lenovo\",\"Lenovo\",\"Lenovo\",\"Lenovo\",\"Lenovo\",\"Lenovo\",\"Lenovo\",\"Lenovo\",\"Lenovo\",\"Lenovo\",\"Lenovo\",\"Lenovo\",\"Lenovo\",\"Lenovo\",\"Lenovo\",\"Lenovo\",\"Lenovo\",\"Lenovo\",\"Lenovo\",\"Lenovo\",\"Lenovo\",\"Lenovo\",\"Lenovo\",\"Lenovo\",\"Lenovo\",\"Lenovo\",\"Lenovo\",\"Lenovo\",\"Lenovo\",\"Lenovo\",\"Lenovo\",\"Lenovo\",\"Lenovo\",\"Lenovo\",\"Lenovo\",\"Lenovo\",\"Lenovo\",\"Lenovo\",\"Lenovo\",\"Lenovo\",\"Lenovo\",\"Lenovo\",\"Lenovo\",\"Lenovo\",\"Lenovo\",\"Lenovo\",\"Lenovo\",\"Lenovo\",\"Lenovo\",\"Lenovo\",\"Lenovo\",\"Lenovo\",\"Lenovo\",\"Lenovo\",\"Lenovo\",\"Lenovo\",\"Lenovo\",\"Lenovo\",\"Lenovo\",\"Lenovo\",\"Lenovo\",\"Lenovo\",\"Lenovo\",\"Lenovo\",\"Lenovo\",\"Lenovo\",\"Lenovo\",\"Lenovo\",\"Lenovo\",\"Lenovo\",\"Lenovo\"],\"xaxis\":\"x\",\"yaxis\":\"y\",\"type\":\"histogram\"},{\"alignmentgroup\":\"True\",\"bingroup\":\"x\",\"hovertemplate\":\"brand=%{x}\\u003cbr\\u003ecount=%{y}\\u003cextra\\u003e\\u003c\\u002fextra\\u003e\",\"legendgroup\":\"Apple\",\"marker\":{\"color\":\"rgb(220, 176, 242)\",\"pattern\":{\"shape\":\"\"}},\"name\":\"Apple\",\"offsetgroup\":\"Apple\",\"orientation\":\"v\",\"showlegend\":true,\"x\":[\"Apple\",\"Apple\",\"Apple\",\"Apple\",\"Apple\",\"Apple\",\"Apple\",\"Apple\",\"Apple\",\"Apple\",\"Apple\",\"Apple\",\"Apple\",\"Apple\",\"Apple\",\"Apple\"],\"xaxis\":\"x\",\"yaxis\":\"y\",\"type\":\"histogram\"},{\"alignmentgroup\":\"True\",\"bingroup\":\"x\",\"hovertemplate\":\"brand=%{x}\\u003cbr\\u003ecount=%{y}\\u003cextra\\u003e\\u003c\\u002fextra\\u003e\",\"legendgroup\":\"Dell\",\"marker\":{\"color\":\"rgb(135, 197, 95)\",\"pattern\":{\"shape\":\"\"}},\"name\":\"Dell\",\"offsetgroup\":\"Dell\",\"orientation\":\"v\",\"showlegend\":true,\"x\":[\"Dell\",\"Dell\",\"Dell\",\"Dell\",\"Dell\",\"Dell\",\"Dell\",\"Dell\",\"Dell\",\"Dell\",\"Dell\",\"Dell\",\"Dell\",\"Dell\",\"Dell\",\"Dell\",\"Dell\",\"Dell\",\"Dell\",\"Dell\",\"Dell\",\"Dell\",\"Dell\",\"Dell\",\"Dell\",\"Dell\",\"Dell\",\"Dell\",\"Dell\",\"Dell\",\"Dell\",\"Dell\",\"Dell\",\"Dell\",\"Dell\",\"Dell\",\"Dell\",\"Dell\",\"Dell\",\"Dell\",\"Dell\",\"Dell\",\"Dell\",\"Dell\",\"Dell\",\"Dell\",\"Dell\",\"Dell\",\"Dell\",\"Dell\",\"Dell\",\"Dell\",\"Dell\",\"Dell\",\"Dell\",\"Dell\",\"Dell\",\"Dell\",\"Dell\",\"Dell\",\"Dell\",\"Dell\",\"Dell\",\"Dell\",\"Dell\",\"Dell\",\"Dell\",\"Dell\",\"Dell\",\"Dell\",\"Dell\",\"Dell\",\"Dell\",\"Dell\",\"Dell\",\"Dell\",\"Dell\",\"Dell\",\"Dell\",\"Dell\",\"Dell\",\"Dell\",\"Dell\",\"Dell\",\"Dell\",\"Dell\",\"Dell\",\"Dell\",\"Dell\",\"Dell\",\"Dell\",\"Dell\",\"Dell\",\"Dell\",\"Dell\",\"Dell\",\"Dell\",\"Dell\",\"Dell\",\"Dell\",\"Dell\",\"Dell\",\"Dell\",\"Dell\",\"Dell\",\"Dell\",\"Dell\"],\"xaxis\":\"x\",\"yaxis\":\"y\",\"type\":\"histogram\"},{\"alignmentgroup\":\"True\",\"bingroup\":\"x\",\"hovertemplate\":\"brand=%{x}\\u003cbr\\u003ecount=%{y}\\u003cextra\\u003e\\u003c\\u002fextra\\u003e\",\"legendgroup\":\"Asus\",\"marker\":{\"color\":\"rgb(158, 185, 243)\",\"pattern\":{\"shape\":\"\"}},\"name\":\"Asus\",\"offsetgroup\":\"Asus\",\"orientation\":\"v\",\"showlegend\":true,\"x\":[\"Asus\",\"Asus\",\"Asus\",\"Asus\",\"Asus\",\"Asus\",\"Asus\",\"Asus\",\"Asus\",\"Asus\",\"Asus\",\"Asus\",\"Asus\",\"Asus\",\"Asus\",\"Asus\",\"Asus\",\"Asus\",\"Asus\",\"Asus\",\"Asus\",\"Asus\",\"Asus\",\"Asus\",\"Asus\",\"Asus\",\"Asus\",\"Asus\",\"Asus\",\"Asus\",\"Asus\",\"Asus\",\"Asus\",\"Asus\",\"Asus\",\"Asus\",\"Asus\",\"Asus\",\"Asus\",\"Asus\",\"Asus\",\"Asus\",\"Asus\",\"Asus\",\"Asus\",\"Asus\",\"Asus\",\"Asus\",\"Asus\",\"Asus\",\"Asus\",\"Asus\",\"Asus\",\"Asus\",\"Asus\",\"Asus\",\"Asus\",\"Asus\",\"Asus\",\"Asus\",\"Asus\",\"Asus\",\"Asus\",\"Asus\",\"Asus\",\"Asus\",\"Asus\",\"Asus\",\"Asus\",\"Asus\",\"Asus\",\"Asus\",\"Asus\",\"Asus\",\"Asus\",\"Asus\",\"Asus\",\"Asus\",\"Asus\",\"Asus\",\"Asus\",\"Asus\",\"Asus\",\"Asus\",\"Asus\",\"Asus\",\"Asus\",\"Asus\",\"Asus\",\"Asus\",\"Asus\",\"Asus\",\"Asus\",\"Asus\",\"Asus\",\"Asus\",\"Asus\",\"Asus\",\"Asus\",\"Asus\",\"Asus\",\"Asus\",\"Asus\",\"Asus\",\"Asus\",\"Asus\",\"Asus\",\"Asus\",\"Asus\",\"Asus\",\"Asus\",\"Asus\",\"Asus\",\"Asus\",\"Asus\",\"Asus\",\"Asus\",\"Asus\",\"Asus\",\"Asus\",\"Asus\",\"Asus\",\"Asus\",\"Asus\",\"Asus\",\"Asus\",\"Asus\",\"Asus\",\"Asus\",\"Asus\",\"Asus\",\"Asus\",\"Asus\",\"Asus\",\"Asus\",\"Asus\",\"Asus\",\"Asus\",\"Asus\",\"Asus\",\"Asus\",\"Asus\",\"Asus\",\"Asus\",\"Asus\",\"Asus\",\"Asus\",\"Asus\",\"Asus\",\"Asus\",\"Asus\",\"Asus\",\"Asus\",\"Asus\",\"Asus\",\"Asus\",\"Asus\"],\"xaxis\":\"x\",\"yaxis\":\"y\",\"type\":\"histogram\"},{\"alignmentgroup\":\"True\",\"bingroup\":\"x\",\"hovertemplate\":\"brand=%{x}\\u003cbr\\u003ecount=%{y}\\u003cextra\\u003e\\u003c\\u002fextra\\u003e\",\"legendgroup\":\"Samsung\",\"marker\":{\"color\":\"rgb(254, 136, 177)\",\"pattern\":{\"shape\":\"\"}},\"name\":\"Samsung\",\"offsetgroup\":\"Samsung\",\"orientation\":\"v\",\"showlegend\":true,\"x\":[\"Samsung\",\"Samsung\",\"Samsung\",\"Samsung\",\"Samsung\",\"Samsung\",\"Samsung\",\"Samsung\",\"Samsung\",\"Samsung\",\"Samsung\",\"Samsung\",\"Samsung\",\"Samsung\",\"Samsung\",\"Samsung\",\"Samsung\",\"Samsung\",\"Samsung\",\"Samsung\",\"Samsung\",\"Samsung\",\"Samsung\",\"Samsung\",\"Samsung\",\"Samsung\",\"Samsung\",\"Samsung\"],\"xaxis\":\"x\",\"yaxis\":\"y\",\"type\":\"histogram\"},{\"alignmentgroup\":\"True\",\"bingroup\":\"x\",\"hovertemplate\":\"brand=%{x}\\u003cbr\\u003ecount=%{y}\\u003cextra\\u003e\\u003c\\u002fextra\\u003e\",\"legendgroup\":\"Ultimus\",\"marker\":{\"color\":\"rgb(201, 219, 116)\",\"pattern\":{\"shape\":\"\"}},\"name\":\"Ultimus\",\"offsetgroup\":\"Ultimus\",\"orientation\":\"v\",\"showlegend\":true,\"x\":[\"Ultimus\",\"Ultimus\",\"Ultimus\",\"Ultimus\"],\"xaxis\":\"x\",\"yaxis\":\"y\",\"type\":\"histogram\"},{\"alignmentgroup\":\"True\",\"bingroup\":\"x\",\"hovertemplate\":\"brand=%{x}\\u003cbr\\u003ecount=%{y}\\u003cextra\\u003e\\u003c\\u002fextra\\u003e\",\"legendgroup\":\"Primebook\",\"marker\":{\"color\":\"rgb(139, 224, 164)\",\"pattern\":{\"shape\":\"\"}},\"name\":\"Primebook\",\"offsetgroup\":\"Primebook\",\"orientation\":\"v\",\"showlegend\":true,\"x\":[\"Primebook\"],\"xaxis\":\"x\",\"yaxis\":\"y\",\"type\":\"histogram\"},{\"alignmentgroup\":\"True\",\"bingroup\":\"x\",\"hovertemplate\":\"brand=%{x}\\u003cbr\\u003ecount=%{y}\\u003cextra\\u003e\\u003c\\u002fextra\\u003e\",\"legendgroup\":\"MSI\",\"marker\":{\"color\":\"rgb(180, 151, 231)\",\"pattern\":{\"shape\":\"\"}},\"name\":\"MSI\",\"offsetgroup\":\"MSI\",\"orientation\":\"v\",\"showlegend\":true,\"x\":[\"MSI\",\"MSI\",\"MSI\",\"MSI\",\"MSI\",\"MSI\",\"MSI\",\"MSI\",\"MSI\",\"MSI\",\"MSI\",\"MSI\",\"MSI\",\"MSI\",\"MSI\",\"MSI\",\"MSI\",\"MSI\",\"MSI\",\"MSI\",\"MSI\",\"MSI\",\"MSI\",\"MSI\",\"MSI\",\"MSI\",\"MSI\",\"MSI\",\"MSI\",\"MSI\",\"MSI\",\"MSI\",\"MSI\",\"MSI\",\"MSI\",\"MSI\",\"MSI\",\"MSI\",\"MSI\",\"MSI\",\"MSI\",\"MSI\",\"MSI\",\"MSI\",\"MSI\",\"MSI\",\"MSI\",\"MSI\",\"MSI\",\"MSI\",\"MSI\",\"MSI\",\"MSI\",\"MSI\",\"MSI\",\"MSI\",\"MSI\",\"MSI\",\"MSI\",\"MSI\",\"MSI\",\"MSI\",\"MSI\",\"MSI\",\"MSI\"],\"xaxis\":\"x\",\"yaxis\":\"y\",\"type\":\"histogram\"},{\"alignmentgroup\":\"True\",\"bingroup\":\"x\",\"hovertemplate\":\"brand=%{x}\\u003cbr\\u003ecount=%{y}\\u003cextra\\u003e\\u003c\\u002fextra\\u003e\",\"legendgroup\":\"Infinix\",\"marker\":{\"color\":\"rgb(179, 179, 179)\",\"pattern\":{\"shape\":\"\"}},\"name\":\"Infinix\",\"offsetgroup\":\"Infinix\",\"orientation\":\"v\",\"showlegend\":true,\"x\":[\"Infinix\",\"Infinix\",\"Infinix\",\"Infinix\",\"Infinix\",\"Infinix\",\"Infinix\",\"Infinix\",\"Infinix\",\"Infinix\",\"Infinix\",\"Infinix\",\"Infinix\",\"Infinix\",\"Infinix\"],\"xaxis\":\"x\",\"yaxis\":\"y\",\"type\":\"histogram\"},{\"alignmentgroup\":\"True\",\"bingroup\":\"x\",\"hovertemplate\":\"brand=%{x}\\u003cbr\\u003ecount=%{y}\\u003cextra\\u003e\\u003c\\u002fextra\\u003e\",\"legendgroup\":\"Wings\",\"marker\":{\"color\":\"rgb(102, 197, 204)\",\"pattern\":{\"shape\":\"\"}},\"name\":\"Wings\",\"offsetgroup\":\"Wings\",\"orientation\":\"v\",\"showlegend\":true,\"x\":[\"Wings\",\"Wings\",\"Wings\"],\"xaxis\":\"x\",\"yaxis\":\"y\",\"type\":\"histogram\"},{\"alignmentgroup\":\"True\",\"bingroup\":\"x\",\"hovertemplate\":\"brand=%{x}\\u003cbr\\u003ecount=%{y}\\u003cextra\\u003e\\u003c\\u002fextra\\u003e\",\"legendgroup\":\"Honor\",\"marker\":{\"color\":\"rgb(246, 207, 113)\",\"pattern\":{\"shape\":\"\"}},\"name\":\"Honor\",\"offsetgroup\":\"Honor\",\"orientation\":\"v\",\"showlegend\":true,\"x\":[\"Honor\",\"Honor\"],\"xaxis\":\"x\",\"yaxis\":\"y\",\"type\":\"histogram\"},{\"alignmentgroup\":\"True\",\"bingroup\":\"x\",\"hovertemplate\":\"brand=%{x}\\u003cbr\\u003ecount=%{y}\\u003cextra\\u003e\\u003c\\u002fextra\\u003e\",\"legendgroup\":\"Zebronics\",\"marker\":{\"color\":\"rgb(248, 156, 116)\",\"pattern\":{\"shape\":\"\"}},\"name\":\"Zebronics\",\"offsetgroup\":\"Zebronics\",\"orientation\":\"v\",\"showlegend\":true,\"x\":[\"Zebronics\",\"Zebronics\",\"Zebronics\",\"Zebronics\"],\"xaxis\":\"x\",\"yaxis\":\"y\",\"type\":\"histogram\"},{\"alignmentgroup\":\"True\",\"bingroup\":\"x\",\"hovertemplate\":\"brand=%{x}\\u003cbr\\u003ecount=%{y}\\u003cextra\\u003e\\u003c\\u002fextra\\u003e\",\"legendgroup\":\"Xiaomi\",\"marker\":{\"color\":\"rgb(220, 176, 242)\",\"pattern\":{\"shape\":\"\"}},\"name\":\"Xiaomi\",\"offsetgroup\":\"Xiaomi\",\"orientation\":\"v\",\"showlegend\":true,\"x\":[\"Xiaomi\",\"Xiaomi\",\"Xiaomi\",\"Xiaomi\",\"Xiaomi\",\"Xiaomi\",\"Xiaomi\",\"Xiaomi\"],\"xaxis\":\"x\",\"yaxis\":\"y\",\"type\":\"histogram\"},{\"alignmentgroup\":\"True\",\"bingroup\":\"x\",\"hovertemplate\":\"brand=%{x}\\u003cbr\\u003ecount=%{y}\\u003cextra\\u003e\\u003c\\u002fextra\\u003e\",\"legendgroup\":\"iBall\",\"marker\":{\"color\":\"rgb(135, 197, 95)\",\"pattern\":{\"shape\":\"\"}},\"name\":\"iBall\",\"offsetgroup\":\"iBall\",\"orientation\":\"v\",\"showlegend\":true,\"x\":[\"iBall\"],\"xaxis\":\"x\",\"yaxis\":\"y\",\"type\":\"histogram\"},{\"alignmentgroup\":\"True\",\"bingroup\":\"x\",\"hovertemplate\":\"brand=%{x}\\u003cbr\\u003ecount=%{y}\\u003cextra\\u003e\\u003c\\u002fextra\\u003e\",\"legendgroup\":\"Chuwi\",\"marker\":{\"color\":\"rgb(158, 185, 243)\",\"pattern\":{\"shape\":\"\"}},\"name\":\"Chuwi\",\"offsetgroup\":\"Chuwi\",\"orientation\":\"v\",\"showlegend\":true,\"x\":[\"Chuwi\",\"Chuwi\",\"Chuwi\"],\"xaxis\":\"x\",\"yaxis\":\"y\",\"type\":\"histogram\"},{\"alignmentgroup\":\"True\",\"bingroup\":\"x\",\"hovertemplate\":\"brand=%{x}\\u003cbr\\u003ecount=%{y}\\u003cextra\\u003e\\u003c\\u002fextra\\u003e\",\"legendgroup\":\"Realme\",\"marker\":{\"color\":\"rgb(254, 136, 177)\",\"pattern\":{\"shape\":\"\"}},\"name\":\"Realme\",\"offsetgroup\":\"Realme\",\"orientation\":\"v\",\"showlegend\":true,\"x\":[\"Realme\",\"Realme\",\"Realme\"],\"xaxis\":\"x\",\"yaxis\":\"y\",\"type\":\"histogram\"},{\"alignmentgroup\":\"True\",\"bingroup\":\"x\",\"hovertemplate\":\"brand=%{x}\\u003cbr\\u003ecount=%{y}\\u003cextra\\u003e\\u003c\\u002fextra\\u003e\",\"legendgroup\":\"Avita\",\"marker\":{\"color\":\"rgb(201, 219, 116)\",\"pattern\":{\"shape\":\"\"}},\"name\":\"Avita\",\"offsetgroup\":\"Avita\",\"orientation\":\"v\",\"showlegend\":true,\"x\":[\"Avita\"],\"xaxis\":\"x\",\"yaxis\":\"y\",\"type\":\"histogram\"},{\"alignmentgroup\":\"True\",\"bingroup\":\"x\",\"hovertemplate\":\"brand=%{x}\\u003cbr\\u003ecount=%{y}\\u003cextra\\u003e\\u003c\\u002fextra\\u003e\",\"legendgroup\":\"Walker\",\"marker\":{\"color\":\"rgb(139, 224, 164)\",\"pattern\":{\"shape\":\"\"}},\"name\":\"Walker\",\"offsetgroup\":\"Walker\",\"orientation\":\"v\",\"showlegend\":true,\"x\":[\"Walker\"],\"xaxis\":\"x\",\"yaxis\":\"y\",\"type\":\"histogram\"},{\"alignmentgroup\":\"True\",\"bingroup\":\"x\",\"hovertemplate\":\"brand=%{x}\\u003cbr\\u003ecount=%{y}\\u003cextra\\u003e\\u003c\\u002fextra\\u003e\",\"legendgroup\":\"Huawei\",\"marker\":{\"color\":\"rgb(180, 151, 231)\",\"pattern\":{\"shape\":\"\"}},\"name\":\"Huawei\",\"offsetgroup\":\"Huawei\",\"orientation\":\"v\",\"showlegend\":true,\"x\":[\"Huawei\",\"Huawei\"],\"xaxis\":\"x\",\"yaxis\":\"y\",\"type\":\"histogram\"},{\"alignmentgroup\":\"True\",\"bingroup\":\"x\",\"hovertemplate\":\"brand=%{x}\\u003cbr\\u003ecount=%{y}\\u003cextra\\u003e\\u003c\\u002fextra\\u003e\",\"legendgroup\":\"Tecno\",\"marker\":{\"color\":\"rgb(179, 179, 179)\",\"pattern\":{\"shape\":\"\"}},\"name\":\"Tecno\",\"offsetgroup\":\"Tecno\",\"orientation\":\"v\",\"showlegend\":true,\"x\":[\"Tecno\",\"Tecno\",\"Tecno\"],\"xaxis\":\"x\",\"yaxis\":\"y\",\"type\":\"histogram\"},{\"alignmentgroup\":\"True\",\"bingroup\":\"x\",\"hovertemplate\":\"brand=%{x}\\u003cbr\\u003ecount=%{y}\\u003cextra\\u003e\\u003c\\u002fextra\\u003e\",\"legendgroup\":\"Gigabyte\",\"marker\":{\"color\":\"rgb(102, 197, 204)\",\"pattern\":{\"shape\":\"\"}},\"name\":\"Gigabyte\",\"offsetgroup\":\"Gigabyte\",\"orientation\":\"v\",\"showlegend\":true,\"x\":[\"Gigabyte\",\"Gigabyte\",\"Gigabyte\",\"Gigabyte\",\"Gigabyte\",\"Gigabyte\",\"Gigabyte\",\"Gigabyte\"],\"xaxis\":\"x\",\"yaxis\":\"y\",\"type\":\"histogram\"},{\"alignmentgroup\":\"True\",\"bingroup\":\"x\",\"hovertemplate\":\"brand=%{x}\\u003cbr\\u003ecount=%{y}\\u003cextra\\u003e\\u003c\\u002fextra\\u003e\",\"legendgroup\":\"Vaio\",\"marker\":{\"color\":\"rgb(246, 207, 113)\",\"pattern\":{\"shape\":\"\"}},\"name\":\"Vaio\",\"offsetgroup\":\"Vaio\",\"orientation\":\"v\",\"showlegend\":true,\"x\":[\"Vaio\"],\"xaxis\":\"x\",\"yaxis\":\"y\",\"type\":\"histogram\"},{\"alignmentgroup\":\"True\",\"bingroup\":\"x\",\"hovertemplate\":\"brand=%{x}\\u003cbr\\u003ecount=%{y}\\u003cextra\\u003e\\u003c\\u002fextra\\u003e\",\"legendgroup\":\"Microsoft\",\"marker\":{\"color\":\"rgb(248, 156, 116)\",\"pattern\":{\"shape\":\"\"}},\"name\":\"Microsoft\",\"offsetgroup\":\"Microsoft\",\"orientation\":\"v\",\"showlegend\":true,\"x\":[\"Microsoft\",\"Microsoft\"],\"xaxis\":\"x\",\"yaxis\":\"y\",\"type\":\"histogram\"},{\"alignmentgroup\":\"True\",\"bingroup\":\"x\",\"hovertemplate\":\"brand=%{x}\\u003cbr\\u003ecount=%{y}\\u003cextra\\u003e\\u003c\\u002fextra\\u003e\",\"legendgroup\":\"Fujitsu\",\"marker\":{\"color\":\"rgb(220, 176, 242)\",\"pattern\":{\"shape\":\"\"}},\"name\":\"Fujitsu\",\"offsetgroup\":\"Fujitsu\",\"orientation\":\"v\",\"showlegend\":true,\"x\":[\"Fujitsu\",\"Fujitsu\",\"Fujitsu\",\"Fujitsu\",\"Fujitsu\",\"Fujitsu\"],\"xaxis\":\"x\",\"yaxis\":\"y\",\"type\":\"histogram\"},{\"alignmentgroup\":\"True\",\"bingroup\":\"x\",\"hovertemplate\":\"brand=%{x}\\u003cbr\\u003ecount=%{y}\\u003cextra\\u003e\\u003c\\u002fextra\\u003e\",\"legendgroup\":\"LG\",\"marker\":{\"color\":\"rgb(135, 197, 95)\",\"pattern\":{\"shape\":\"\"}},\"name\":\"LG\",\"offsetgroup\":\"LG\",\"orientation\":\"v\",\"showlegend\":true,\"x\":[\"LG\",\"LG\",\"LG\",\"LG\",\"LG\",\"LG\",\"LG\",\"LG\",\"LG\"],\"xaxis\":\"x\",\"yaxis\":\"y\",\"type\":\"histogram\"},{\"alignmentgroup\":\"True\",\"bingroup\":\"x\",\"hovertemplate\":\"brand=%{x}\\u003cbr\\u003ecount=%{y}\\u003cextra\\u003e\\u003c\\u002fextra\\u003e\",\"legendgroup\":\"Ninkear\",\"marker\":{\"color\":\"rgb(158, 185, 243)\",\"pattern\":{\"shape\":\"\"}},\"name\":\"Ninkear\",\"offsetgroup\":\"Ninkear\",\"orientation\":\"v\",\"showlegend\":true,\"x\":[\"Ninkear\"],\"xaxis\":\"x\",\"yaxis\":\"y\",\"type\":\"histogram\"},{\"alignmentgroup\":\"True\",\"bingroup\":\"x\",\"hovertemplate\":\"brand=%{x}\\u003cbr\\u003ecount=%{y}\\u003cextra\\u003e\\u003c\\u002fextra\\u003e\",\"legendgroup\":\"Razer\",\"marker\":{\"color\":\"rgb(254, 136, 177)\",\"pattern\":{\"shape\":\"\"}},\"name\":\"Razer\",\"offsetgroup\":\"Razer\",\"orientation\":\"v\",\"showlegend\":true,\"x\":[\"Razer\"],\"xaxis\":\"x\",\"yaxis\":\"y\",\"type\":\"histogram\"},{\"alignmentgroup\":\"True\",\"bingroup\":\"x\",\"hovertemplate\":\"brand=%{x}\\u003cbr\\u003ecount=%{y}\\u003cextra\\u003e\\u003c\\u002fextra\\u003e\",\"legendgroup\":\"AXL\",\"marker\":{\"color\":\"rgb(201, 219, 116)\",\"pattern\":{\"shape\":\"\"}},\"name\":\"AXL\",\"offsetgroup\":\"AXL\",\"orientation\":\"v\",\"showlegend\":true,\"x\":[\"AXL\",\"AXL\"],\"xaxis\":\"x\",\"yaxis\":\"y\",\"type\":\"histogram\"}],                        {\"template\":{\"data\":{\"histogram2dcontour\":[{\"type\":\"histogram2dcontour\",\"colorbar\":{\"outlinewidth\":0,\"ticks\":\"\"},\"colorscale\":[[0.0,\"#0d0887\"],[0.1111111111111111,\"#46039f\"],[0.2222222222222222,\"#7201a8\"],[0.3333333333333333,\"#9c179e\"],[0.4444444444444444,\"#bd3786\"],[0.5555555555555556,\"#d8576b\"],[0.6666666666666666,\"#ed7953\"],[0.7777777777777778,\"#fb9f3a\"],[0.8888888888888888,\"#fdca26\"],[1.0,\"#f0f921\"]]}],\"choropleth\":[{\"type\":\"choropleth\",\"colorbar\":{\"outlinewidth\":0,\"ticks\":\"\"}}],\"histogram2d\":[{\"type\":\"histogram2d\",\"colorbar\":{\"outlinewidth\":0,\"ticks\":\"\"},\"colorscale\":[[0.0,\"#0d0887\"],[0.1111111111111111,\"#46039f\"],[0.2222222222222222,\"#7201a8\"],[0.3333333333333333,\"#9c179e\"],[0.4444444444444444,\"#bd3786\"],[0.5555555555555556,\"#d8576b\"],[0.6666666666666666,\"#ed7953\"],[0.7777777777777778,\"#fb9f3a\"],[0.8888888888888888,\"#fdca26\"],[1.0,\"#f0f921\"]]}],\"heatmap\":[{\"type\":\"heatmap\",\"colorbar\":{\"outlinewidth\":0,\"ticks\":\"\"},\"colorscale\":[[0.0,\"#0d0887\"],[0.1111111111111111,\"#46039f\"],[0.2222222222222222,\"#7201a8\"],[0.3333333333333333,\"#9c179e\"],[0.4444444444444444,\"#bd3786\"],[0.5555555555555556,\"#d8576b\"],[0.6666666666666666,\"#ed7953\"],[0.7777777777777778,\"#fb9f3a\"],[0.8888888888888888,\"#fdca26\"],[1.0,\"#f0f921\"]]}],\"heatmapgl\":[{\"type\":\"heatmapgl\",\"colorbar\":{\"outlinewidth\":0,\"ticks\":\"\"},\"colorscale\":[[0.0,\"#0d0887\"],[0.1111111111111111,\"#46039f\"],[0.2222222222222222,\"#7201a8\"],[0.3333333333333333,\"#9c179e\"],[0.4444444444444444,\"#bd3786\"],[0.5555555555555556,\"#d8576b\"],[0.6666666666666666,\"#ed7953\"],[0.7777777777777778,\"#fb9f3a\"],[0.8888888888888888,\"#fdca26\"],[1.0,\"#f0f921\"]]}],\"contourcarpet\":[{\"type\":\"contourcarpet\",\"colorbar\":{\"outlinewidth\":0,\"ticks\":\"\"}}],\"contour\":[{\"type\":\"contour\",\"colorbar\":{\"outlinewidth\":0,\"ticks\":\"\"},\"colorscale\":[[0.0,\"#0d0887\"],[0.1111111111111111,\"#46039f\"],[0.2222222222222222,\"#7201a8\"],[0.3333333333333333,\"#9c179e\"],[0.4444444444444444,\"#bd3786\"],[0.5555555555555556,\"#d8576b\"],[0.6666666666666666,\"#ed7953\"],[0.7777777777777778,\"#fb9f3a\"],[0.8888888888888888,\"#fdca26\"],[1.0,\"#f0f921\"]]}],\"surface\":[{\"type\":\"surface\",\"colorbar\":{\"outlinewidth\":0,\"ticks\":\"\"},\"colorscale\":[[0.0,\"#0d0887\"],[0.1111111111111111,\"#46039f\"],[0.2222222222222222,\"#7201a8\"],[0.3333333333333333,\"#9c179e\"],[0.4444444444444444,\"#bd3786\"],[0.5555555555555556,\"#d8576b\"],[0.6666666666666666,\"#ed7953\"],[0.7777777777777778,\"#fb9f3a\"],[0.8888888888888888,\"#fdca26\"],[1.0,\"#f0f921\"]]}],\"mesh3d\":[{\"type\":\"mesh3d\",\"colorbar\":{\"outlinewidth\":0,\"ticks\":\"\"}}],\"scatter\":[{\"fillpattern\":{\"fillmode\":\"overlay\",\"size\":10,\"solidity\":0.2},\"type\":\"scatter\"}],\"parcoords\":[{\"type\":\"parcoords\",\"line\":{\"colorbar\":{\"outlinewidth\":0,\"ticks\":\"\"}}}],\"scatterpolargl\":[{\"type\":\"scatterpolargl\",\"marker\":{\"colorbar\":{\"outlinewidth\":0,\"ticks\":\"\"}}}],\"bar\":[{\"error_x\":{\"color\":\"#2a3f5f\"},\"error_y\":{\"color\":\"#2a3f5f\"},\"marker\":{\"line\":{\"color\":\"#E5ECF6\",\"width\":0.5},\"pattern\":{\"fillmode\":\"overlay\",\"size\":10,\"solidity\":0.2}},\"type\":\"bar\"}],\"scattergeo\":[{\"type\":\"scattergeo\",\"marker\":{\"colorbar\":{\"outlinewidth\":0,\"ticks\":\"\"}}}],\"scatterpolar\":[{\"type\":\"scatterpolar\",\"marker\":{\"colorbar\":{\"outlinewidth\":0,\"ticks\":\"\"}}}],\"histogram\":[{\"marker\":{\"pattern\":{\"fillmode\":\"overlay\",\"size\":10,\"solidity\":0.2}},\"type\":\"histogram\"}],\"scattergl\":[{\"type\":\"scattergl\",\"marker\":{\"colorbar\":{\"outlinewidth\":0,\"ticks\":\"\"}}}],\"scatter3d\":[{\"type\":\"scatter3d\",\"line\":{\"colorbar\":{\"outlinewidth\":0,\"ticks\":\"\"}},\"marker\":{\"colorbar\":{\"outlinewidth\":0,\"ticks\":\"\"}}}],\"scattermapbox\":[{\"type\":\"scattermapbox\",\"marker\":{\"colorbar\":{\"outlinewidth\":0,\"ticks\":\"\"}}}],\"scatterternary\":[{\"type\":\"scatterternary\",\"marker\":{\"colorbar\":{\"outlinewidth\":0,\"ticks\":\"\"}}}],\"scattercarpet\":[{\"type\":\"scattercarpet\",\"marker\":{\"colorbar\":{\"outlinewidth\":0,\"ticks\":\"\"}}}],\"carpet\":[{\"aaxis\":{\"endlinecolor\":\"#2a3f5f\",\"gridcolor\":\"white\",\"linecolor\":\"white\",\"minorgridcolor\":\"white\",\"startlinecolor\":\"#2a3f5f\"},\"baxis\":{\"endlinecolor\":\"#2a3f5f\",\"gridcolor\":\"white\",\"linecolor\":\"white\",\"minorgridcolor\":\"white\",\"startlinecolor\":\"#2a3f5f\"},\"type\":\"carpet\"}],\"table\":[{\"cells\":{\"fill\":{\"color\":\"#EBF0F8\"},\"line\":{\"color\":\"white\"}},\"header\":{\"fill\":{\"color\":\"#C8D4E3\"},\"line\":{\"color\":\"white\"}},\"type\":\"table\"}],\"barpolar\":[{\"marker\":{\"line\":{\"color\":\"#E5ECF6\",\"width\":0.5},\"pattern\":{\"fillmode\":\"overlay\",\"size\":10,\"solidity\":0.2}},\"type\":\"barpolar\"}],\"pie\":[{\"automargin\":true,\"type\":\"pie\"}]},\"layout\":{\"autotypenumbers\":\"strict\",\"colorway\":[\"#636efa\",\"#EF553B\",\"#00cc96\",\"#ab63fa\",\"#FFA15A\",\"#19d3f3\",\"#FF6692\",\"#B6E880\",\"#FF97FF\",\"#FECB52\"],\"font\":{\"color\":\"#2a3f5f\"},\"hovermode\":\"closest\",\"hoverlabel\":{\"align\":\"left\"},\"paper_bgcolor\":\"white\",\"plot_bgcolor\":\"#E5ECF6\",\"polar\":{\"bgcolor\":\"#E5ECF6\",\"angularaxis\":{\"gridcolor\":\"white\",\"linecolor\":\"white\",\"ticks\":\"\"},\"radialaxis\":{\"gridcolor\":\"white\",\"linecolor\":\"white\",\"ticks\":\"\"}},\"ternary\":{\"bgcolor\":\"#E5ECF6\",\"aaxis\":{\"gridcolor\":\"white\",\"linecolor\":\"white\",\"ticks\":\"\"},\"baxis\":{\"gridcolor\":\"white\",\"linecolor\":\"white\",\"ticks\":\"\"},\"caxis\":{\"gridcolor\":\"white\",\"linecolor\":\"white\",\"ticks\":\"\"}},\"coloraxis\":{\"colorbar\":{\"outlinewidth\":0,\"ticks\":\"\"}},\"colorscale\":{\"sequential\":[[0.0,\"#0d0887\"],[0.1111111111111111,\"#46039f\"],[0.2222222222222222,\"#7201a8\"],[0.3333333333333333,\"#9c179e\"],[0.4444444444444444,\"#bd3786\"],[0.5555555555555556,\"#d8576b\"],[0.6666666666666666,\"#ed7953\"],[0.7777777777777778,\"#fb9f3a\"],[0.8888888888888888,\"#fdca26\"],[1.0,\"#f0f921\"]],\"sequentialminus\":[[0.0,\"#0d0887\"],[0.1111111111111111,\"#46039f\"],[0.2222222222222222,\"#7201a8\"],[0.3333333333333333,\"#9c179e\"],[0.4444444444444444,\"#bd3786\"],[0.5555555555555556,\"#d8576b\"],[0.6666666666666666,\"#ed7953\"],[0.7777777777777778,\"#fb9f3a\"],[0.8888888888888888,\"#fdca26\"],[1.0,\"#f0f921\"]],\"diverging\":[[0,\"#8e0152\"],[0.1,\"#c51b7d\"],[0.2,\"#de77ae\"],[0.3,\"#f1b6da\"],[0.4,\"#fde0ef\"],[0.5,\"#f7f7f7\"],[0.6,\"#e6f5d0\"],[0.7,\"#b8e186\"],[0.8,\"#7fbc41\"],[0.9,\"#4d9221\"],[1,\"#276419\"]]},\"xaxis\":{\"gridcolor\":\"white\",\"linecolor\":\"white\",\"ticks\":\"\",\"title\":{\"standoff\":15},\"zerolinecolor\":\"white\",\"automargin\":true,\"zerolinewidth\":2},\"yaxis\":{\"gridcolor\":\"white\",\"linecolor\":\"white\",\"ticks\":\"\",\"title\":{\"standoff\":15},\"zerolinecolor\":\"white\",\"automargin\":true,\"zerolinewidth\":2},\"scene\":{\"xaxis\":{\"backgroundcolor\":\"#E5ECF6\",\"gridcolor\":\"white\",\"linecolor\":\"white\",\"showbackground\":true,\"ticks\":\"\",\"zerolinecolor\":\"white\",\"gridwidth\":2},\"yaxis\":{\"backgroundcolor\":\"#E5ECF6\",\"gridcolor\":\"white\",\"linecolor\":\"white\",\"showbackground\":true,\"ticks\":\"\",\"zerolinecolor\":\"white\",\"gridwidth\":2},\"zaxis\":{\"backgroundcolor\":\"#E5ECF6\",\"gridcolor\":\"white\",\"linecolor\":\"white\",\"showbackground\":true,\"ticks\":\"\",\"zerolinecolor\":\"white\",\"gridwidth\":2}},\"shapedefaults\":{\"line\":{\"color\":\"#2a3f5f\"}},\"annotationdefaults\":{\"arrowcolor\":\"#2a3f5f\",\"arrowhead\":0,\"arrowwidth\":1},\"geo\":{\"bgcolor\":\"white\",\"landcolor\":\"#E5ECF6\",\"subunitcolor\":\"white\",\"showland\":true,\"showlakes\":true,\"lakecolor\":\"white\"},\"title\":{\"x\":0.05},\"mapbox\":{\"style\":\"light\"}}},\"xaxis\":{\"anchor\":\"y\",\"domain\":[0.0,1.0],\"title\":{\"text\":\"brand\"},\"categoryorder\":\"array\",\"categoryarray\":[\"HP\",\"Acer\",\"Lenovo\",\"Apple\",\"Dell\",\"Asus\",\"Samsung\",\"Ultimus\",\"Primebook\",\"MSI\",\"Infinix\",\"Wings\",\"Honor\",\"Zebronics\",\"Xiaomi\",\"iBall\",\"Chuwi\",\"Realme\",\"Avita\",\"Walker\",\"Huawei\",\"Tecno\",\"Gigabyte\",\"Vaio\",\"Microsoft\",\"Fujitsu\",\"LG\",\"Ninkear\",\"Razer\",\"AXL\"]},\"yaxis\":{\"anchor\":\"x\",\"domain\":[0.0,1.0],\"title\":{\"text\":\"count\"}},\"legend\":{\"title\":{\"text\":\"brand\"},\"tracegroupgap\":0},\"title\":{\"text\":\"Brand Distribution\"},\"barmode\":\"relative\"},                        {\"responsive\": true}                    ).then(function(){\n",
              "                            \n",
              "var gd = document.getElementById('697ee92f-ccc1-4aeb-8712-4550c847328d');\n",
              "var x = new MutationObserver(function (mutations, observer) {{\n",
              "        var display = window.getComputedStyle(gd).display;\n",
              "        if (!display || display === 'none') {{\n",
              "            console.log([gd, 'removed!']);\n",
              "            Plotly.purge(gd);\n",
              "            observer.disconnect();\n",
              "        }}\n",
              "}});\n",
              "\n",
              "// Listen for the removal of the full notebook cells\n",
              "var notebookContainer = gd.closest('#notebook-container');\n",
              "if (notebookContainer) {{\n",
              "    x.observe(notebookContainer, {childList: true});\n",
              "}}\n",
              "\n",
              "// Listen for the clearing of the current output cell\n",
              "var outputEl = gd.closest('.output');\n",
              "if (outputEl) {{\n",
              "    x.observe(outputEl, {childList: true});\n",
              "}}\n",
              "\n",
              "                        })                };                            </script>        </div>\n",
              "</body>\n",
              "</html>"
            ]
          },
          "metadata": {}
        }
      ],
      "source": [
        "# Visualising the brands in the dataset\n",
        "import plotly.express as px # Import the plotly.express module and assign it to the alias 'px'\n",
        "plt = px.histogram(df, x=\"brand\", title=\"Brand Distribution\",\n",
        "                   color=\"brand\", color_discrete_sequence=px.colors.qualitative.Pastel)\n",
        "plt.show()"
      ]
    },
    {
      "cell_type": "code",
      "execution_count": 99,
      "metadata": {
        "id": "bRPKBBkFBAMs",
        "colab": {
          "base_uri": "https://localhost:8080/",
          "height": 0
        },
        "outputId": "bf508664-abbe-41d7-a900-ea02b3087afe"
      },
      "outputs": [
        {
          "output_type": "display_data",
          "data": {
            "text/html": [
              "<html>\n",
              "<head><meta charset=\"utf-8\" /></head>\n",
              "<body>\n",
              "    <div>            <script src=\"https://cdnjs.cloudflare.com/ajax/libs/mathjax/2.7.5/MathJax.js?config=TeX-AMS-MML_SVG\"></script><script type=\"text/javascript\">if (window.MathJax && window.MathJax.Hub && window.MathJax.Hub.Config) {window.MathJax.Hub.Config({SVG: {font: \"STIX-Web\"}});}</script>                <script type=\"text/javascript\">window.PlotlyConfig = {MathJaxConfig: 'local'};</script>\n",
              "        <script charset=\"utf-8\" src=\"https://cdn.plot.ly/plotly-2.35.2.min.js\"></script>                <div id=\"8ce0bd68-5337-4478-b3bb-f6644a2485cc\" class=\"plotly-graph-div\" style=\"height:525px; width:100%;\"></div>            <script type=\"text/javascript\">                                    window.PLOTLYENV=window.PLOTLYENV || {};                                    if (document.getElementById(\"8ce0bd68-5337-4478-b3bb-f6644a2485cc\")) {                    Plotly.newPlot(                        \"8ce0bd68-5337-4478-b3bb-f6644a2485cc\",                        [{\"hovertemplate\":\"spec_rating=%{x}\\u003cbr\\u003eindex=%{y}\\u003cextra\\u003e\\u003c\\u002fextra\\u003e\",\"legendgroup\":\"\",\"marker\":{\"color\":\"rgb(102, 197, 204)\",\"symbol\":\"circle\"},\"mode\":\"markers\",\"name\":\"\",\"orientation\":\"h\",\"showlegend\":false,\"x\":[73.0,60.0,69.32352941176471,66.0,69.32352941176471,62.0,60.0,63.0,64.0,68.0,69.32352941176471,69.32352941176471,76.0,69.32352941176471,69.32352941176471,70.0,69.32352941176471,71.0,65.0,71.0,65.0,69.32352941176471,72.0,64.0,71.0,63.0,69.32352941176471,69.32352941176471,71.0,69.32352941176471,60.0,78.0,71.0,60.0,77.0,66.0,75.0,60.0,69.32352941176471,70.0,60.0,73.0,62.0,69.32352941176471,70.0,84.0,69.32352941176471,69.32352941176471,71.0,78.0,69.32352941176471,64.0,66.0,62.0,70.0,63.0,69.0,69.32352941176471,71.0,76.0,67.0,80.0,75.0,66.0,67.0,69.32352941176471,64.0,70.0,69.32352941176471,72.0,76.0,69.32352941176471,72.0,62.0,65.0,70.0,76.0,69.0,69.32352941176471,64.0,76.0,70.0,64.0,73.0,69.32352941176471,80.0,73.0,64.0,60.0,69.32352941176471,71.0,69.32352941176471,72.0,72.0,77.0,69.32352941176471,69.32352941176471,62.0,69.32352941176471,67.0,80.0,69.32352941176471,60.0,64.0,65.0,69.32352941176471,69.32352941176471,67.0,65.0,66.0,69.32352941176471,75.0,62.0,70.0,71.0,64.0,66.0,71.0,69.32352941176471,69.0,69.0,60.0,69.0,62.0,69.32352941176471,63.0,66.0,66.0,69.32352941176471,65.0,69.32352941176471,67.0,64.0,65.0,67.0,68.0,69.32352941176471,69.32352941176471,70.0,60.0,69.32352941176471,82.0,69.32352941176471,60.0,70.0,76.0,80.0,69.0,69.32352941176471,79.0,70.0,62.0,63.0,70.0,60.0,69.0,69.32352941176471,70.0,69.32352941176471,64.0,69.32352941176471,66.0,69.0,77.0,77.0,72.0,69.32352941176471,69.32352941176471,78.0,62.0,75.0,62.0,75.0,60.0,69.32352941176471,73.0,72.0,75.0,70.0,65.0,69.32352941176471,69.32352941176471,68.0,62.0,69.32352941176471,79.0,69.32352941176471,70.0,69.32352941176471,74.0,67.0,69.32352941176471,66.0,67.0,60.0,69.32352941176471,67.0,80.0,69.32352941176471,69.32352941176471,69.32352941176471,66.0,65.0,60.0,79.0,69.32352941176471,69.32352941176471,64.0,62.0,69.32352941176471,64.0,69.32352941176471,69.32352941176471,69.32352941176471,69.32352941176471,81.0,72.0,63.0,66.0,69.32352941176471,75.0,69.32352941176471,69.32352941176471,69.32352941176471,64.0,70.0,76.0,76.0,72.0,83.0,60.0,75.0,60.0,75.0,69.32352941176471,62.0,69.32352941176471,64.0,69.32352941176471,69.32352941176471,69.32352941176471,63.0,69.32352941176471,67.0,65.0,71.0,71.0,69.32352941176471,60.0,69.32352941176471,70.0,71.0,69.32352941176471,89.0,67.0,69.32352941176471,69.32352941176471,69.32352941176471,60.0,69.32352941176471,69.32352941176471,60.0,64.0,69.32352941176471,69.32352941176471,63.0,62.0,66.0,69.32352941176471,63.0,69.32352941176471,69.32352941176471,69.32352941176471,69.32352941176471,60.0,80.0,63.0,69.0,71.0,69.32352941176471,75.0,69.32352941176471,69.0,75.0,65.0,69.32352941176471,69.32352941176471,63.0,83.0,75.0,60.0,69.32352941176471,63.0,60.0,69.32352941176471,71.0,69.32352941176471,69.0,69.0,62.0,64.0,69.32352941176471,60.0,70.0,69.32352941176471,69.32352941176471,72.0,69.32352941176471,70.0,69.32352941176471,66.0,69.32352941176471,69.32352941176471,78.0,69.32352941176471,79.0,69.32352941176471,66.0,64.0,73.0,73.0,79.0,78.0,84.0,70.0,64.0,69.32352941176471,69.32352941176471,69.32352941176471,69.32352941176471,69.0,67.0,88.0,69.32352941176471,66.0,70.0,69.0,69.32352941176471,69.32352941176471,71.0,69.32352941176471,64.0,62.0,71.0,72.0,65.0,69.32352941176471,69.32352941176471,69.32352941176471,69.32352941176471,69.32352941176471,69.32352941176471,69.32352941176471,71.0,72.0,67.0,68.0,69.32352941176471,70.0,69.32352941176471,69.32352941176471,69.32352941176471,68.0,73.0,80.0,66.0,71.0,66.0,72.0,81.0,74.0,78.0,61.0,60.0,60.0,61.0,69.32352941176471,70.0,60.0,67.0,77.0,63.0,69.32352941176471,60.0,69.32352941176471,69.32352941176471,75.0,69.32352941176471,69.32352941176471,71.0,71.0,66.0,69.32352941176471,69.32352941176471,69.32352941176471,72.0,71.0,64.0,70.0,69.32352941176471,69.0,65.0,70.0,66.0,69.32352941176471,67.0,69.32352941176471,81.0,60.0,71.0,69.32352941176471,70.0,60.0,71.0,69.32352941176471,69.32352941176471,65.0,64.0,69.32352941176471,73.0,69.32352941176471,69.32352941176471,69.32352941176471,74.0,67.0,69.32352941176471,62.0,62.0,75.0,78.0,79.0,61.0,69.32352941176471,68.0,69.32352941176471,69.32352941176471,71.0,66.0,64.0,69.32352941176471,69.32352941176471,85.0,60.0,61.0,60.0,65.0,67.0,69.32352941176471,69.32352941176471,69.32352941176471,77.0,66.0,69.32352941176471,66.0,86.0,61.0,70.0,62.0,64.0,69.32352941176471,65.0,67.0,62.0,69.32352941176471,69.32352941176471,69.32352941176471,69.32352941176471,69.32352941176471,69.32352941176471,60.0,69.32352941176471,69.32352941176471,72.0,65.0,69.32352941176471,67.0,62.0,69.32352941176471,61.0,69.32352941176471,65.0,69.32352941176471,61.0,69.32352941176471,62.0,62.0,64.0,69.0,64.0,86.0,62.0,69.32352941176471,69.32352941176471,69.32352941176471,62.0,69.32352941176471,69.32352941176471,69.32352941176471,63.0,72.0,67.0,71.0,69.32352941176471,69.32352941176471,69.32352941176471,69.32352941176471,69.32352941176471,65.0,70.0,60.0,70.0,69.32352941176471,69.32352941176471,69.32352941176471,69.32352941176471,67.0,69.0,69.32352941176471,77.0,69.32352941176471,69.32352941176471,75.0,69.0,69.32352941176471,69.32352941176471,65.0,71.0,64.0,69.32352941176471,69.32352941176471,66.0,69.32352941176471,69.32352941176471,69.0,71.0,69.0,69.32352941176471,69.32352941176471,63.0,69.32352941176471,69.32352941176471,69.32352941176471,63.0,88.0,65.0,64.0,69.32352941176471,78.0,80.0,88.0,70.0,85.0,63.0,69.0,66.0,67.0,69.32352941176471,69.32352941176471,85.0,78.0,77.0,66.0,89.0,65.0,62.0,70.0,69.32352941176471,69.32352941176471,69.32352941176471,65.0,65.0,71.0,73.0,69.32352941176471,70.0,62.0,69.32352941176471,69.32352941176471,69.32352941176471,69.32352941176471,62.0,69.32352941176471,69.32352941176471,69.32352941176471,69.32352941176471,82.0,63.0,69.32352941176471,83.0,69.32352941176471,69.0,75.0,69.32352941176471,65.0,71.0,63.0,69.32352941176471,67.0,79.0,83.0,70.0,71.0,69.32352941176471,83.0,69.0,60.0,69.32352941176471,67.0,66.0,69.0,67.0,63.0,67.0,67.0,64.0,69.32352941176471,76.0,69.32352941176471,64.0,62.0,63.0,64.0,69.32352941176471,69.32352941176471,73.0,69.32352941176471,69.32352941176471,64.0,72.0,69.32352941176471,69.32352941176471,69.32352941176471,69.32352941176471,69.32352941176471,62.0,71.0,73.0,60.0,72.0,65.0,69.0,69.32352941176471,69.32352941176471,69.0,65.0,70.0,71.0,76.0,65.0,76.0,62.0,63.0,60.0,69.32352941176471,69.32352941176471,78.0,70.0,69.32352941176471,76.0,69.0,63.0,78.0,69.32352941176471,69.32352941176471,69.32352941176471,60.0,62.0,69.32352941176471,75.0,69.32352941176471,63.0,69.32352941176471,62.0,60.0,63.0,71.0,65.0,77.0,77.0,83.0,76.0,71.0,72.0,75.0,86.0,83.0,64.0,67.0,69.32352941176471,72.0,71.0,72.0,69.32352941176471,71.0,67.0,80.0,73.0,89.0,69.32352941176471,77.0,65.0,67.0,73.0,69.32352941176471,77.0,62.0,75.0,69.32352941176471,67.0,85.0,60.0,65.0,72.0,63.0,85.0,65.0,65.0,80.0,77.0,69.0,70.0,82.0,72.0,75.0,69.0,80.0,78.0,69.32352941176471,60.0,67.0,62.0,72.0,66.0,73.0,69.32352941176471,67.0,89.0,83.0,80.0,69.32352941176471,84.0,86.0,78.0,69.32352941176471,71.0,72.0,69.0,65.0,69.32352941176471,73.0,63.0,62.0,69.32352941176471,69.0,71.0,69.32352941176471,67.0,60.0,65.0,64.0,75.0,60.0,62.0,66.0,70.0,66.0,66.0,69.32352941176471,60.0,60.0,69.32352941176471,64.0,67.0,66.0,67.0,79.0,69.32352941176471,70.0,60.0,69.0,69.32352941176471,83.0,71.0,69.32352941176471,63.0,76.0,69.32352941176471,77.0,67.0,70.0,69.32352941176471,77.0,67.0,73.0,78.0,66.0,62.0,69.32352941176471,69.32352941176471,69.32352941176471,62.0,69.32352941176471,60.0,62.0,85.0,70.0,69.0,69.32352941176471,78.0,78.0,69.32352941176471,71.0,66.0,69.32352941176471,75.0,77.0,77.0,63.0,72.0,70.0,66.0,69.32352941176471,82.0,88.0,82.0,71.0,77.0,75.0,63.0,70.0,76.0,76.0,72.0,75.0,62.0,69.32352941176471,69.32352941176471,69.32352941176471,62.0,69.0,69.32352941176471,69.32352941176471,69.32352941176471,64.0,70.0,69.0,72.0,66.0,64.0,69.32352941176471,69.32352941176471,69.32352941176471,64.0,71.0,78.0,82.0,69.32352941176471,79.0,69.32352941176471,69.32352941176471,69.32352941176471,69.32352941176471,60.0,69.32352941176471,69.32352941176471,67.0,69.32352941176471,63.0,69.32352941176471,69.32352941176471,69.32352941176471,66.0,65.0,63.0,69.32352941176471,65.0,69.32352941176471,75.0,75.0,69.32352941176471,64.0,69.32352941176471,76.0,73.0,79.0,75.0,69.32352941176471,69.32352941176471,69.32352941176471,71.0,89.0,73.0,84.0],\"xaxis\":\"x\",\"y\":[0,1,2,3,4,5,6,7,8,9,10,11,12,13,14,15,16,17,18,19,20,21,22,23,24,25,26,27,28,29,30,31,32,33,34,35,36,37,38,39,40,41,42,43,44,45,46,47,48,49,50,51,52,53,54,55,56,57,58,59,60,61,62,63,64,65,66,67,68,69,70,71,72,73,74,75,76,77,78,79,80,81,82,83,84,85,86,87,88,89,90,91,92,93,94,95,96,97,98,99,100,101,102,103,104,105,106,107,108,109,110,111,112,113,114,115,116,117,118,119,120,121,122,123,124,125,126,127,128,129,130,131,132,133,134,135,136,137,138,139,140,141,142,143,144,145,146,147,148,149,150,151,152,153,154,155,156,157,158,159,160,161,162,163,164,165,166,167,168,169,170,171,172,173,174,175,176,177,178,179,180,181,182,183,184,185,186,187,188,189,190,191,192,193,194,195,196,197,198,199,200,201,202,203,204,205,206,207,208,209,210,211,212,213,214,215,216,217,218,219,220,221,222,223,224,225,226,227,228,229,230,231,232,233,234,235,236,237,238,239,240,241,242,243,244,245,246,247,248,249,250,251,252,253,254,255,256,257,258,259,260,261,262,263,264,265,266,267,268,269,270,271,272,273,274,275,276,277,278,279,280,281,282,283,284,285,286,287,288,289,290,291,292,293,294,295,296,297,298,299,300,301,302,303,304,305,306,307,308,309,310,311,312,313,314,315,316,317,318,319,320,321,322,323,324,325,326,327,328,329,330,331,332,333,334,335,336,337,338,339,340,341,342,343,344,345,346,347,348,349,350,351,352,353,354,355,356,357,358,359,360,361,362,363,364,365,366,367,368,369,370,371,372,373,374,375,376,377,378,379,380,381,382,383,384,385,386,387,388,389,390,391,392,393,394,395,396,397,398,399,400,401,402,403,404,405,406,407,408,409,410,411,412,413,414,415,416,417,418,419,420,421,422,423,424,425,426,427,428,429,430,431,432,433,434,435,436,437,438,439,440,441,442,443,444,445,446,447,448,449,450,451,452,453,454,455,456,457,458,459,460,461,462,463,464,465,466,467,468,469,470,471,472,473,474,475,476,477,478,479,480,481,482,483,484,485,486,487,488,489,490,491,492,493,494,495,496,497,498,499,500,501,502,503,504,505,506,507,508,509,510,511,512,513,514,515,516,517,518,519,520,521,522,523,524,525,526,527,528,529,530,531,532,533,534,535,536,537,538,539,540,541,542,543,544,545,546,547,548,549,550,551,552,553,554,555,556,557,558,559,560,561,562,563,564,565,566,567,568,569,570,571,572,573,574,575,576,577,578,579,580,581,582,583,584,585,586,587,588,589,590,591,592,593,594,595,596,597,598,599,600,601,602,603,604,605,606,607,608,609,610,611,612,613,614,615,616,617,618,619,620,621,622,623,624,625,626,627,628,629,630,631,632,633,634,635,636,637,638,639,640,641,642,643,644,645,646,647,648,649,650,651,652,653,654,655,656,657,658,659,660,661,662,663,664,665,666,667,668,669,670,671,672,673,674,675,676,677,678,679,680,681,682,683,684,685,686,687,688,689,690,691,692,693,694,695,696,697,698,699,700,701,702,703,704,705,706,707,708,709,710,711,712,713,714,715,716,717,718,719,720,721,722,723,724,725,726,727,728,729,730,731,732,733,734,735,736,737,738,739,740,741,742,743,744,745,746,747,748,749,750,751,752,753,754,755,756,757,758,759,760,761,762,763,764,765,766,767,768,769,770,771,772,773,774,775,776,777,778,779,780,781,782,783,784,785,786,787,788,789,790,791,792,793,794,795,796,797,798,799,800,801,802,803,804,805,806,807,808,809,810,811,812,813,814,815,816,817,818,819,820,821,822,823,824,825,826,827,828,829,830,831,832,833,834,835,836,837,838,839,840,841,842,843,844,845,846,847,848,849,850,851,852,853,854,855,856,857,858,859,860,861,862,863,864,865,866,867,868,869,870,871,872,873,874,875,876,877,878,879,880,881,882,883,884,885,886,887,888,889,890,891,892],\"yaxis\":\"y\",\"type\":\"scatter\"}],                        {\"template\":{\"data\":{\"histogram2dcontour\":[{\"type\":\"histogram2dcontour\",\"colorbar\":{\"outlinewidth\":0,\"ticks\":\"\"},\"colorscale\":[[0.0,\"#0d0887\"],[0.1111111111111111,\"#46039f\"],[0.2222222222222222,\"#7201a8\"],[0.3333333333333333,\"#9c179e\"],[0.4444444444444444,\"#bd3786\"],[0.5555555555555556,\"#d8576b\"],[0.6666666666666666,\"#ed7953\"],[0.7777777777777778,\"#fb9f3a\"],[0.8888888888888888,\"#fdca26\"],[1.0,\"#f0f921\"]]}],\"choropleth\":[{\"type\":\"choropleth\",\"colorbar\":{\"outlinewidth\":0,\"ticks\":\"\"}}],\"histogram2d\":[{\"type\":\"histogram2d\",\"colorbar\":{\"outlinewidth\":0,\"ticks\":\"\"},\"colorscale\":[[0.0,\"#0d0887\"],[0.1111111111111111,\"#46039f\"],[0.2222222222222222,\"#7201a8\"],[0.3333333333333333,\"#9c179e\"],[0.4444444444444444,\"#bd3786\"],[0.5555555555555556,\"#d8576b\"],[0.6666666666666666,\"#ed7953\"],[0.7777777777777778,\"#fb9f3a\"],[0.8888888888888888,\"#fdca26\"],[1.0,\"#f0f921\"]]}],\"heatmap\":[{\"type\":\"heatmap\",\"colorbar\":{\"outlinewidth\":0,\"ticks\":\"\"},\"colorscale\":[[0.0,\"#0d0887\"],[0.1111111111111111,\"#46039f\"],[0.2222222222222222,\"#7201a8\"],[0.3333333333333333,\"#9c179e\"],[0.4444444444444444,\"#bd3786\"],[0.5555555555555556,\"#d8576b\"],[0.6666666666666666,\"#ed7953\"],[0.7777777777777778,\"#fb9f3a\"],[0.8888888888888888,\"#fdca26\"],[1.0,\"#f0f921\"]]}],\"heatmapgl\":[{\"type\":\"heatmapgl\",\"colorbar\":{\"outlinewidth\":0,\"ticks\":\"\"},\"colorscale\":[[0.0,\"#0d0887\"],[0.1111111111111111,\"#46039f\"],[0.2222222222222222,\"#7201a8\"],[0.3333333333333333,\"#9c179e\"],[0.4444444444444444,\"#bd3786\"],[0.5555555555555556,\"#d8576b\"],[0.6666666666666666,\"#ed7953\"],[0.7777777777777778,\"#fb9f3a\"],[0.8888888888888888,\"#fdca26\"],[1.0,\"#f0f921\"]]}],\"contourcarpet\":[{\"type\":\"contourcarpet\",\"colorbar\":{\"outlinewidth\":0,\"ticks\":\"\"}}],\"contour\":[{\"type\":\"contour\",\"colorbar\":{\"outlinewidth\":0,\"ticks\":\"\"},\"colorscale\":[[0.0,\"#0d0887\"],[0.1111111111111111,\"#46039f\"],[0.2222222222222222,\"#7201a8\"],[0.3333333333333333,\"#9c179e\"],[0.4444444444444444,\"#bd3786\"],[0.5555555555555556,\"#d8576b\"],[0.6666666666666666,\"#ed7953\"],[0.7777777777777778,\"#fb9f3a\"],[0.8888888888888888,\"#fdca26\"],[1.0,\"#f0f921\"]]}],\"surface\":[{\"type\":\"surface\",\"colorbar\":{\"outlinewidth\":0,\"ticks\":\"\"},\"colorscale\":[[0.0,\"#0d0887\"],[0.1111111111111111,\"#46039f\"],[0.2222222222222222,\"#7201a8\"],[0.3333333333333333,\"#9c179e\"],[0.4444444444444444,\"#bd3786\"],[0.5555555555555556,\"#d8576b\"],[0.6666666666666666,\"#ed7953\"],[0.7777777777777778,\"#fb9f3a\"],[0.8888888888888888,\"#fdca26\"],[1.0,\"#f0f921\"]]}],\"mesh3d\":[{\"type\":\"mesh3d\",\"colorbar\":{\"outlinewidth\":0,\"ticks\":\"\"}}],\"scatter\":[{\"fillpattern\":{\"fillmode\":\"overlay\",\"size\":10,\"solidity\":0.2},\"type\":\"scatter\"}],\"parcoords\":[{\"type\":\"parcoords\",\"line\":{\"colorbar\":{\"outlinewidth\":0,\"ticks\":\"\"}}}],\"scatterpolargl\":[{\"type\":\"scatterpolargl\",\"marker\":{\"colorbar\":{\"outlinewidth\":0,\"ticks\":\"\"}}}],\"bar\":[{\"error_x\":{\"color\":\"#2a3f5f\"},\"error_y\":{\"color\":\"#2a3f5f\"},\"marker\":{\"line\":{\"color\":\"#E5ECF6\",\"width\":0.5},\"pattern\":{\"fillmode\":\"overlay\",\"size\":10,\"solidity\":0.2}},\"type\":\"bar\"}],\"scattergeo\":[{\"type\":\"scattergeo\",\"marker\":{\"colorbar\":{\"outlinewidth\":0,\"ticks\":\"\"}}}],\"scatterpolar\":[{\"type\":\"scatterpolar\",\"marker\":{\"colorbar\":{\"outlinewidth\":0,\"ticks\":\"\"}}}],\"histogram\":[{\"marker\":{\"pattern\":{\"fillmode\":\"overlay\",\"size\":10,\"solidity\":0.2}},\"type\":\"histogram\"}],\"scattergl\":[{\"type\":\"scattergl\",\"marker\":{\"colorbar\":{\"outlinewidth\":0,\"ticks\":\"\"}}}],\"scatter3d\":[{\"type\":\"scatter3d\",\"line\":{\"colorbar\":{\"outlinewidth\":0,\"ticks\":\"\"}},\"marker\":{\"colorbar\":{\"outlinewidth\":0,\"ticks\":\"\"}}}],\"scattermapbox\":[{\"type\":\"scattermapbox\",\"marker\":{\"colorbar\":{\"outlinewidth\":0,\"ticks\":\"\"}}}],\"scatterternary\":[{\"type\":\"scatterternary\",\"marker\":{\"colorbar\":{\"outlinewidth\":0,\"ticks\":\"\"}}}],\"scattercarpet\":[{\"type\":\"scattercarpet\",\"marker\":{\"colorbar\":{\"outlinewidth\":0,\"ticks\":\"\"}}}],\"carpet\":[{\"aaxis\":{\"endlinecolor\":\"#2a3f5f\",\"gridcolor\":\"white\",\"linecolor\":\"white\",\"minorgridcolor\":\"white\",\"startlinecolor\":\"#2a3f5f\"},\"baxis\":{\"endlinecolor\":\"#2a3f5f\",\"gridcolor\":\"white\",\"linecolor\":\"white\",\"minorgridcolor\":\"white\",\"startlinecolor\":\"#2a3f5f\"},\"type\":\"carpet\"}],\"table\":[{\"cells\":{\"fill\":{\"color\":\"#EBF0F8\"},\"line\":{\"color\":\"white\"}},\"header\":{\"fill\":{\"color\":\"#C8D4E3\"},\"line\":{\"color\":\"white\"}},\"type\":\"table\"}],\"barpolar\":[{\"marker\":{\"line\":{\"color\":\"#E5ECF6\",\"width\":0.5},\"pattern\":{\"fillmode\":\"overlay\",\"size\":10,\"solidity\":0.2}},\"type\":\"barpolar\"}],\"pie\":[{\"automargin\":true,\"type\":\"pie\"}]},\"layout\":{\"autotypenumbers\":\"strict\",\"colorway\":[\"#636efa\",\"#EF553B\",\"#00cc96\",\"#ab63fa\",\"#FFA15A\",\"#19d3f3\",\"#FF6692\",\"#B6E880\",\"#FF97FF\",\"#FECB52\"],\"font\":{\"color\":\"#2a3f5f\"},\"hovermode\":\"closest\",\"hoverlabel\":{\"align\":\"left\"},\"paper_bgcolor\":\"white\",\"plot_bgcolor\":\"#E5ECF6\",\"polar\":{\"bgcolor\":\"#E5ECF6\",\"angularaxis\":{\"gridcolor\":\"white\",\"linecolor\":\"white\",\"ticks\":\"\"},\"radialaxis\":{\"gridcolor\":\"white\",\"linecolor\":\"white\",\"ticks\":\"\"}},\"ternary\":{\"bgcolor\":\"#E5ECF6\",\"aaxis\":{\"gridcolor\":\"white\",\"linecolor\":\"white\",\"ticks\":\"\"},\"baxis\":{\"gridcolor\":\"white\",\"linecolor\":\"white\",\"ticks\":\"\"},\"caxis\":{\"gridcolor\":\"white\",\"linecolor\":\"white\",\"ticks\":\"\"}},\"coloraxis\":{\"colorbar\":{\"outlinewidth\":0,\"ticks\":\"\"}},\"colorscale\":{\"sequential\":[[0.0,\"#0d0887\"],[0.1111111111111111,\"#46039f\"],[0.2222222222222222,\"#7201a8\"],[0.3333333333333333,\"#9c179e\"],[0.4444444444444444,\"#bd3786\"],[0.5555555555555556,\"#d8576b\"],[0.6666666666666666,\"#ed7953\"],[0.7777777777777778,\"#fb9f3a\"],[0.8888888888888888,\"#fdca26\"],[1.0,\"#f0f921\"]],\"sequentialminus\":[[0.0,\"#0d0887\"],[0.1111111111111111,\"#46039f\"],[0.2222222222222222,\"#7201a8\"],[0.3333333333333333,\"#9c179e\"],[0.4444444444444444,\"#bd3786\"],[0.5555555555555556,\"#d8576b\"],[0.6666666666666666,\"#ed7953\"],[0.7777777777777778,\"#fb9f3a\"],[0.8888888888888888,\"#fdca26\"],[1.0,\"#f0f921\"]],\"diverging\":[[0,\"#8e0152\"],[0.1,\"#c51b7d\"],[0.2,\"#de77ae\"],[0.3,\"#f1b6da\"],[0.4,\"#fde0ef\"],[0.5,\"#f7f7f7\"],[0.6,\"#e6f5d0\"],[0.7,\"#b8e186\"],[0.8,\"#7fbc41\"],[0.9,\"#4d9221\"],[1,\"#276419\"]]},\"xaxis\":{\"gridcolor\":\"white\",\"linecolor\":\"white\",\"ticks\":\"\",\"title\":{\"standoff\":15},\"zerolinecolor\":\"white\",\"automargin\":true,\"zerolinewidth\":2},\"yaxis\":{\"gridcolor\":\"white\",\"linecolor\":\"white\",\"ticks\":\"\",\"title\":{\"standoff\":15},\"zerolinecolor\":\"white\",\"automargin\":true,\"zerolinewidth\":2},\"scene\":{\"xaxis\":{\"backgroundcolor\":\"#E5ECF6\",\"gridcolor\":\"white\",\"linecolor\":\"white\",\"showbackground\":true,\"ticks\":\"\",\"zerolinecolor\":\"white\",\"gridwidth\":2},\"yaxis\":{\"backgroundcolor\":\"#E5ECF6\",\"gridcolor\":\"white\",\"linecolor\":\"white\",\"showbackground\":true,\"ticks\":\"\",\"zerolinecolor\":\"white\",\"gridwidth\":2},\"zaxis\":{\"backgroundcolor\":\"#E5ECF6\",\"gridcolor\":\"white\",\"linecolor\":\"white\",\"showbackground\":true,\"ticks\":\"\",\"zerolinecolor\":\"white\",\"gridwidth\":2}},\"shapedefaults\":{\"line\":{\"color\":\"#2a3f5f\"}},\"annotationdefaults\":{\"arrowcolor\":\"#2a3f5f\",\"arrowhead\":0,\"arrowwidth\":1},\"geo\":{\"bgcolor\":\"white\",\"landcolor\":\"#E5ECF6\",\"subunitcolor\":\"white\",\"showland\":true,\"showlakes\":true,\"lakecolor\":\"white\"},\"title\":{\"x\":0.05},\"mapbox\":{\"style\":\"light\"}}},\"xaxis\":{\"anchor\":\"y\",\"domain\":[0.0,1.0],\"title\":{\"text\":\"spec_rating\"}},\"yaxis\":{\"anchor\":\"x\",\"domain\":[0.0,1.0],\"title\":{\"text\":\"index\"}},\"legend\":{\"tracegroupgap\":0},\"title\":{\"text\":\"Specs Rating Distribution\"},\"shapes\":[{\"line\":{\"color\":\"red\",\"dash\":\"dot\"},\"type\":\"line\",\"x0\":69.3790264145972,\"x1\":69.3790264145972,\"y0\":0,\"y1\":1000}]},                        {\"responsive\": true}                    ).then(function(){\n",
              "                            \n",
              "var gd = document.getElementById('8ce0bd68-5337-4478-b3bb-f6644a2485cc');\n",
              "var x = new MutationObserver(function (mutations, observer) {{\n",
              "        var display = window.getComputedStyle(gd).display;\n",
              "        if (!display || display === 'none') {{\n",
              "            console.log([gd, 'removed!']);\n",
              "            Plotly.purge(gd);\n",
              "            observer.disconnect();\n",
              "        }}\n",
              "}});\n",
              "\n",
              "// Listen for the removal of the full notebook cells\n",
              "var notebookContainer = gd.closest('#notebook-container');\n",
              "if (notebookContainer) {{\n",
              "    x.observe(notebookContainer, {childList: true});\n",
              "}}\n",
              "\n",
              "// Listen for the clearing of the current output cell\n",
              "var outputEl = gd.closest('.output');\n",
              "if (outputEl) {{\n",
              "    x.observe(outputEl, {childList: true});\n",
              "}}\n",
              "\n",
              "                        })                };                            </script>        </div>\n",
              "</body>\n",
              "</html>"
            ]
          },
          "metadata": {}
        }
      ],
      "source": [
        "# Visualising the distribution of specs rating in the dataset\n",
        "\n",
        "plt = px.scatter(df, x=\"spec_rating\", title=\"Specs Rating Distribution\",\n",
        "                 color_discrete_sequence=px.colors.qualitative.Pastel)\n",
        "# Drawing the mean line\n",
        "plt.add_shape(type='line', x0=df['spec_rating'].mean(), y0=0,\n",
        "              x1=df['spec_rating'].mean(), y1=1000, line=dict(color='red', dash='dot'))\n",
        "plt.show()\n"
      ]
    },
    {
      "cell_type": "code",
      "execution_count": 100,
      "metadata": {
        "id": "OHOeazXfBN_I",
        "colab": {
          "base_uri": "https://localhost:8080/",
          "height": 0
        },
        "outputId": "25c0dce2-d3c3-479a-a372-8bf4e7351d6a"
      },
      "outputs": [
        {
          "output_type": "display_data",
          "data": {
            "text/html": [
              "<html>\n",
              "<head><meta charset=\"utf-8\" /></head>\n",
              "<body>\n",
              "    <div>            <script src=\"https://cdnjs.cloudflare.com/ajax/libs/mathjax/2.7.5/MathJax.js?config=TeX-AMS-MML_SVG\"></script><script type=\"text/javascript\">if (window.MathJax && window.MathJax.Hub && window.MathJax.Hub.Config) {window.MathJax.Hub.Config({SVG: {font: \"STIX-Web\"}});}</script>                <script type=\"text/javascript\">window.PlotlyConfig = {MathJaxConfig: 'local'};</script>\n",
              "        <script charset=\"utf-8\" src=\"https://cdn.plot.ly/plotly-2.35.2.min.js\"></script>                <div id=\"5f39b713-4a1b-4a7f-a71c-6a3c51995a93\" class=\"plotly-graph-div\" style=\"height:525px; width:100%;\"></div>            <script type=\"text/javascript\">                                    window.PLOTLYENV=window.PLOTLYENV || {};                                    if (document.getElementById(\"5f39b713-4a1b-4a7f-a71c-6a3c51995a93\")) {                    Plotly.newPlot(                        \"5f39b713-4a1b-4a7f-a71c-6a3c51995a93\",                        [{\"hovertemplate\":\"spec_rating=%{x}\\u003cbr\\u003ebrand=%{y}\\u003cextra\\u003e\\u003c\\u002fextra\\u003e\",\"legendgroup\":\"\",\"marker\":{\"color\":\"rgb(102, 197, 204)\",\"symbol\":\"circle\"},\"mode\":\"markers\",\"name\":\"\",\"orientation\":\"h\",\"showlegend\":false,\"x\":[73.0,60.0,69.32352941176471,66.0,69.32352941176471,62.0,60.0,63.0,64.0,68.0,69.32352941176471,69.32352941176471,76.0,69.32352941176471,69.32352941176471,70.0,69.32352941176471,71.0,65.0,71.0,65.0,69.32352941176471,72.0,64.0,71.0,63.0,69.32352941176471,69.32352941176471,71.0,69.32352941176471,60.0,78.0,71.0,60.0,77.0,66.0,75.0,60.0,69.32352941176471,70.0,60.0,73.0,62.0,69.32352941176471,70.0,84.0,69.32352941176471,69.32352941176471,71.0,78.0,69.32352941176471,64.0,66.0,62.0,70.0,63.0,69.0,69.32352941176471,71.0,76.0,67.0,80.0,75.0,66.0,67.0,69.32352941176471,64.0,70.0,69.32352941176471,72.0,76.0,69.32352941176471,72.0,62.0,65.0,70.0,76.0,69.0,69.32352941176471,64.0,76.0,70.0,64.0,73.0,69.32352941176471,80.0,73.0,64.0,60.0,69.32352941176471,71.0,69.32352941176471,72.0,72.0,77.0,69.32352941176471,69.32352941176471,62.0,69.32352941176471,67.0,80.0,69.32352941176471,60.0,64.0,65.0,69.32352941176471,69.32352941176471,67.0,65.0,66.0,69.32352941176471,75.0,62.0,70.0,71.0,64.0,66.0,71.0,69.32352941176471,69.0,69.0,60.0,69.0,62.0,69.32352941176471,63.0,66.0,66.0,69.32352941176471,65.0,69.32352941176471,67.0,64.0,65.0,67.0,68.0,69.32352941176471,69.32352941176471,70.0,60.0,69.32352941176471,82.0,69.32352941176471,60.0,70.0,76.0,80.0,69.0,69.32352941176471,79.0,70.0,62.0,63.0,70.0,60.0,69.0,69.32352941176471,70.0,69.32352941176471,64.0,69.32352941176471,66.0,69.0,77.0,77.0,72.0,69.32352941176471,69.32352941176471,78.0,62.0,75.0,62.0,75.0,60.0,69.32352941176471,73.0,72.0,75.0,70.0,65.0,69.32352941176471,69.32352941176471,68.0,62.0,69.32352941176471,79.0,69.32352941176471,70.0,69.32352941176471,74.0,67.0,69.32352941176471,66.0,67.0,60.0,69.32352941176471,67.0,80.0,69.32352941176471,69.32352941176471,69.32352941176471,66.0,65.0,60.0,79.0,69.32352941176471,69.32352941176471,64.0,62.0,69.32352941176471,64.0,69.32352941176471,69.32352941176471,69.32352941176471,69.32352941176471,81.0,72.0,63.0,66.0,69.32352941176471,75.0,69.32352941176471,69.32352941176471,69.32352941176471,64.0,70.0,76.0,76.0,72.0,83.0,60.0,75.0,60.0,75.0,69.32352941176471,62.0,69.32352941176471,64.0,69.32352941176471,69.32352941176471,69.32352941176471,63.0,69.32352941176471,67.0,65.0,71.0,71.0,69.32352941176471,60.0,69.32352941176471,70.0,71.0,69.32352941176471,89.0,67.0,69.32352941176471,69.32352941176471,69.32352941176471,60.0,69.32352941176471,69.32352941176471,60.0,64.0,69.32352941176471,69.32352941176471,63.0,62.0,66.0,69.32352941176471,63.0,69.32352941176471,69.32352941176471,69.32352941176471,69.32352941176471,60.0,80.0,63.0,69.0,71.0,69.32352941176471,75.0,69.32352941176471,69.0,75.0,65.0,69.32352941176471,69.32352941176471,63.0,83.0,75.0,60.0,69.32352941176471,63.0,60.0,69.32352941176471,71.0,69.32352941176471,69.0,69.0,62.0,64.0,69.32352941176471,60.0,70.0,69.32352941176471,69.32352941176471,72.0,69.32352941176471,70.0,69.32352941176471,66.0,69.32352941176471,69.32352941176471,78.0,69.32352941176471,79.0,69.32352941176471,66.0,64.0,73.0,73.0,79.0,78.0,84.0,70.0,64.0,69.32352941176471,69.32352941176471,69.32352941176471,69.32352941176471,69.0,67.0,88.0,69.32352941176471,66.0,70.0,69.0,69.32352941176471,69.32352941176471,71.0,69.32352941176471,64.0,62.0,71.0,72.0,65.0,69.32352941176471,69.32352941176471,69.32352941176471,69.32352941176471,69.32352941176471,69.32352941176471,69.32352941176471,71.0,72.0,67.0,68.0,69.32352941176471,70.0,69.32352941176471,69.32352941176471,69.32352941176471,68.0,73.0,80.0,66.0,71.0,66.0,72.0,81.0,74.0,78.0,61.0,60.0,60.0,61.0,69.32352941176471,70.0,60.0,67.0,77.0,63.0,69.32352941176471,60.0,69.32352941176471,69.32352941176471,75.0,69.32352941176471,69.32352941176471,71.0,71.0,66.0,69.32352941176471,69.32352941176471,69.32352941176471,72.0,71.0,64.0,70.0,69.32352941176471,69.0,65.0,70.0,66.0,69.32352941176471,67.0,69.32352941176471,81.0,60.0,71.0,69.32352941176471,70.0,60.0,71.0,69.32352941176471,69.32352941176471,65.0,64.0,69.32352941176471,73.0,69.32352941176471,69.32352941176471,69.32352941176471,74.0,67.0,69.32352941176471,62.0,62.0,75.0,78.0,79.0,61.0,69.32352941176471,68.0,69.32352941176471,69.32352941176471,71.0,66.0,64.0,69.32352941176471,69.32352941176471,85.0,60.0,61.0,60.0,65.0,67.0,69.32352941176471,69.32352941176471,69.32352941176471,77.0,66.0,69.32352941176471,66.0,86.0,61.0,70.0,62.0,64.0,69.32352941176471,65.0,67.0,62.0,69.32352941176471,69.32352941176471,69.32352941176471,69.32352941176471,69.32352941176471,69.32352941176471,60.0,69.32352941176471,69.32352941176471,72.0,65.0,69.32352941176471,67.0,62.0,69.32352941176471,61.0,69.32352941176471,65.0,69.32352941176471,61.0,69.32352941176471,62.0,62.0,64.0,69.0,64.0,86.0,62.0,69.32352941176471,69.32352941176471,69.32352941176471,62.0,69.32352941176471,69.32352941176471,69.32352941176471,63.0,72.0,67.0,71.0,69.32352941176471,69.32352941176471,69.32352941176471,69.32352941176471,69.32352941176471,65.0,70.0,60.0,70.0,69.32352941176471,69.32352941176471,69.32352941176471,69.32352941176471,67.0,69.0,69.32352941176471,77.0,69.32352941176471,69.32352941176471,75.0,69.0,69.32352941176471,69.32352941176471,65.0,71.0,64.0,69.32352941176471,69.32352941176471,66.0,69.32352941176471,69.32352941176471,69.0,71.0,69.0,69.32352941176471,69.32352941176471,63.0,69.32352941176471,69.32352941176471,69.32352941176471,63.0,88.0,65.0,64.0,69.32352941176471,78.0,80.0,88.0,70.0,85.0,63.0,69.0,66.0,67.0,69.32352941176471,69.32352941176471,85.0,78.0,77.0,66.0,89.0,65.0,62.0,70.0,69.32352941176471,69.32352941176471,69.32352941176471,65.0,65.0,71.0,73.0,69.32352941176471,70.0,62.0,69.32352941176471,69.32352941176471,69.32352941176471,69.32352941176471,62.0,69.32352941176471,69.32352941176471,69.32352941176471,69.32352941176471,82.0,63.0,69.32352941176471,83.0,69.32352941176471,69.0,75.0,69.32352941176471,65.0,71.0,63.0,69.32352941176471,67.0,79.0,83.0,70.0,71.0,69.32352941176471,83.0,69.0,60.0,69.32352941176471,67.0,66.0,69.0,67.0,63.0,67.0,67.0,64.0,69.32352941176471,76.0,69.32352941176471,64.0,62.0,63.0,64.0,69.32352941176471,69.32352941176471,73.0,69.32352941176471,69.32352941176471,64.0,72.0,69.32352941176471,69.32352941176471,69.32352941176471,69.32352941176471,69.32352941176471,62.0,71.0,73.0,60.0,72.0,65.0,69.0,69.32352941176471,69.32352941176471,69.0,65.0,70.0,71.0,76.0,65.0,76.0,62.0,63.0,60.0,69.32352941176471,69.32352941176471,78.0,70.0,69.32352941176471,76.0,69.0,63.0,78.0,69.32352941176471,69.32352941176471,69.32352941176471,60.0,62.0,69.32352941176471,75.0,69.32352941176471,63.0,69.32352941176471,62.0,60.0,63.0,71.0,65.0,77.0,77.0,83.0,76.0,71.0,72.0,75.0,86.0,83.0,64.0,67.0,69.32352941176471,72.0,71.0,72.0,69.32352941176471,71.0,67.0,80.0,73.0,89.0,69.32352941176471,77.0,65.0,67.0,73.0,69.32352941176471,77.0,62.0,75.0,69.32352941176471,67.0,85.0,60.0,65.0,72.0,63.0,85.0,65.0,65.0,80.0,77.0,69.0,70.0,82.0,72.0,75.0,69.0,80.0,78.0,69.32352941176471,60.0,67.0,62.0,72.0,66.0,73.0,69.32352941176471,67.0,89.0,83.0,80.0,69.32352941176471,84.0,86.0,78.0,69.32352941176471,71.0,72.0,69.0,65.0,69.32352941176471,73.0,63.0,62.0,69.32352941176471,69.0,71.0,69.32352941176471,67.0,60.0,65.0,64.0,75.0,60.0,62.0,66.0,70.0,66.0,66.0,69.32352941176471,60.0,60.0,69.32352941176471,64.0,67.0,66.0,67.0,79.0,69.32352941176471,70.0,60.0,69.0,69.32352941176471,83.0,71.0,69.32352941176471,63.0,76.0,69.32352941176471,77.0,67.0,70.0,69.32352941176471,77.0,67.0,73.0,78.0,66.0,62.0,69.32352941176471,69.32352941176471,69.32352941176471,62.0,69.32352941176471,60.0,62.0,85.0,70.0,69.0,69.32352941176471,78.0,78.0,69.32352941176471,71.0,66.0,69.32352941176471,75.0,77.0,77.0,63.0,72.0,70.0,66.0,69.32352941176471,82.0,88.0,82.0,71.0,77.0,75.0,63.0,70.0,76.0,76.0,72.0,75.0,62.0,69.32352941176471,69.32352941176471,69.32352941176471,62.0,69.0,69.32352941176471,69.32352941176471,69.32352941176471,64.0,70.0,69.0,72.0,66.0,64.0,69.32352941176471,69.32352941176471,69.32352941176471,64.0,71.0,78.0,82.0,69.32352941176471,79.0,69.32352941176471,69.32352941176471,69.32352941176471,69.32352941176471,60.0,69.32352941176471,69.32352941176471,67.0,69.32352941176471,63.0,69.32352941176471,69.32352941176471,69.32352941176471,66.0,65.0,63.0,69.32352941176471,65.0,69.32352941176471,75.0,75.0,69.32352941176471,64.0,69.32352941176471,76.0,73.0,79.0,75.0,69.32352941176471,69.32352941176471,69.32352941176471,71.0,89.0,73.0,84.0],\"xaxis\":\"x\",\"y\":[\"HP\",\"HP\",\"Acer\",\"Lenovo\",\"Apple\",\"Acer\",\"Dell\",\"Acer\",\"Asus\",\"Samsung\",\"Lenovo\",\"Ultimus\",\"Asus\",\"Primebook\",\"Lenovo\",\"Asus\",\"MSI\",\"Infinix\",\"HP\",\"Lenovo\",\"Asus\",\"Apple\",\"Acer\",\"HP\",\"Asus\",\"HP\",\"HP\",\"Acer\",\"Acer\",\"Dell\",\"Lenovo\",\"Acer\",\"HP\",\"Acer\",\"Acer\",\"HP\",\"HP\",\"Lenovo\",\"Infinix\",\"Lenovo\",\"HP\",\"Dell\",\"Samsung\",\"Lenovo\",\"Asus\",\"Lenovo\",\"Wings\",\"Dell\",\"HP\",\"Asus\",\"Lenovo\",\"HP\",\"Honor\",\"Lenovo\",\"HP\",\"Zebronics\",\"Lenovo\",\"HP\",\"Asus\",\"Asus\",\"Lenovo\",\"Lenovo\",\"Asus\",\"Dell\",\"Asus\",\"Infinix\",\"Asus\",\"Acer\",\"Xiaomi\",\"Asus\",\"MSI\",\"Infinix\",\"Asus\",\"Dell\",\"Asus\",\"Dell\",\"HP\",\"Zebronics\",\"HP\",\"Acer\",\"HP\",\"HP\",\"Acer\",\"MSI\",\"Infinix\",\"HP\",\"MSI\",\"Lenovo\",\"Acer\",\"Asus\",\"Dell\",\"HP\",\"Asus\",\"HP\",\"HP\",\"Apple\",\"Samsung\",\"Dell\",\"Dell\",\"Lenovo\",\"HP\",\"Lenovo\",\"Asus\",\"HP\",\"Xiaomi\",\"iBall\",\"Asus\",\"Lenovo\",\"Zebronics\",\"Zebronics\",\"Asus\",\"MSI\",\"HP\",\"Lenovo\",\"Asus\",\"Lenovo\",\"HP\",\"HP\",\"Lenovo\",\"HP\",\"Lenovo\",\"MSI\",\"Lenovo\",\"MSI\",\"Chuwi\",\"HP\",\"HP\",\"Lenovo\",\"Infinix\",\"HP\",\"Acer\",\"Acer\",\"Asus\",\"Asus\",\"HP\",\"Dell\",\"HP\",\"Acer\",\"HP\",\"Samsung\",\"Infinix\",\"Samsung\",\"Lenovo\",\"Infinix\",\"Asus\",\"HP\",\"Lenovo\",\"Asus\",\"Dell\",\"Acer\",\"HP\",\"Acer\",\"Dell\",\"Lenovo\",\"Asus\",\"Acer\",\"Asus\",\"Dell\",\"Apple\",\"Asus\",\"Asus\",\"HP\",\"Dell\",\"Asus\",\"Asus\",\"Asus\",\"HP\",\"HP\",\"Acer\",\"HP\",\"Acer\",\"Realme\",\"Acer\",\"HP\",\"Asus\",\"Acer\",\"Acer\",\"MSI\",\"Asus\",\"Asus\",\"HP\",\"Asus\",\"Dell\",\"MSI\",\"MSI\",\"MSI\",\"Acer\",\"HP\",\"Samsung\",\"Samsung\",\"HP\",\"Samsung\",\"Asus\",\"Asus\",\"Dell\",\"Dell\",\"Lenovo\",\"HP\",\"Acer\",\"Acer\",\"HP\",\"Dell\",\"HP\",\"HP\",\"Asus\",\"Asus\",\"Apple\",\"Asus\",\"Asus\",\"Dell\",\"Xiaomi\",\"Dell\",\"Dell\",\"Apple\",\"Avita\",\"Apple\",\"HP\",\"Lenovo\",\"Lenovo\",\"Dell\",\"Lenovo\",\"Lenovo\",\"HP\",\"Infinix\",\"HP\",\"HP\",\"HP\",\"HP\",\"MSI\",\"Lenovo\",\"Lenovo\",\"Asus\",\"HP\",\"Lenovo\",\"Dell\",\"HP\",\"Lenovo\",\"Lenovo\",\"Lenovo\",\"Acer\",\"HP\",\"Lenovo\",\"Lenovo\",\"HP\",\"Acer\",\"Asus\",\"MSI\",\"Lenovo\",\"Lenovo\",\"Lenovo\",\"Asus\",\"Asus\",\"Chuwi\",\"Lenovo\",\"Lenovo\",\"Lenovo\",\"Acer\",\"Asus\",\"Asus\",\"HP\",\"HP\",\"Lenovo\",\"Asus\",\"HP\",\"HP\",\"Lenovo\",\"HP\",\"Asus\",\"HP\",\"Asus\",\"Wings\",\"Wings\",\"Infinix\",\"Dell\",\"Dell\",\"HP\",\"HP\",\"MSI\",\"HP\",\"Asus\",\"Asus\",\"Asus\",\"Lenovo\",\"Lenovo\",\"Acer\",\"Acer\",\"Asus\",\"MSI\",\"Dell\",\"Asus\",\"Acer\",\"Walker\",\"Acer\",\"Dell\",\"Lenovo\",\"HP\",\"Dell\",\"HP\",\"Lenovo\",\"MSI\",\"Lenovo\",\"Dell\",\"HP\",\"HP\",\"Acer\",\"Lenovo\",\"MSI\",\"Asus\",\"MSI\",\"Lenovo\",\"HP\",\"Lenovo\",\"Lenovo\",\"Dell\",\"Dell\",\"Lenovo\",\"Acer\",\"HP\",\"Asus\",\"Dell\",\"Asus\",\"Asus\",\"Asus\",\"Asus\",\"Asus\",\"Asus\",\"HP\",\"Asus\",\"HP\",\"HP\",\"HP\",\"HP\",\"Asus\",\"HP\",\"Acer\",\"Acer\",\"MSI\",\"Dell\",\"HP\",\"HP\",\"HP\",\"Asus\",\"Asus\",\"Asus\",\"MSI\",\"Huawei\",\"MSI\",\"Lenovo\",\"HP\",\"HP\",\"Lenovo\",\"HP\",\"Asus\",\"Acer\",\"Asus\",\"Acer\",\"Asus\",\"MSI\",\"Asus\",\"Asus\",\"Samsung\",\"Infinix\",\"Samsung\",\"Samsung\",\"Samsung\",\"Samsung\",\"Samsung\",\"Samsung\",\"Samsung\",\"Samsung\",\"Samsung\",\"Samsung\",\"Lenovo\",\"HP\",\"HP\",\"Apple\",\"Apple\",\"HP\",\"Dell\",\"Lenovo\",\"MSI\",\"Dell\",\"Dell\",\"Asus\",\"Asus\",\"HP\",\"Asus\",\"HP\",\"Samsung\",\"Asus\",\"Asus\",\"Lenovo\",\"Asus\",\"Asus\",\"Asus\",\"Asus\",\"Acer\",\"Asus\",\"Asus\",\"Asus\",\"HP\",\"Asus\",\"Lenovo\",\"Tecno\",\"Acer\",\"HP\",\"Lenovo\",\"Samsung\",\"Infinix\",\"HP\",\"Asus\",\"HP\",\"Dell\",\"HP\",\"Dell\",\"Asus\",\"Acer\",\"HP\",\"Acer\",\"Gigabyte\",\"Lenovo\",\"Dell\",\"Lenovo\",\"Lenovo\",\"Lenovo\",\"Honor\",\"Asus\",\"Asus\",\"Lenovo\",\"MSI\",\"MSI\",\"Lenovo\",\"Asus\",\"Xiaomi\",\"Acer\",\"Asus\",\"HP\",\"Lenovo\",\"Lenovo\",\"Asus\",\"HP\",\"Asus\",\"HP\",\"HP\",\"HP\",\"HP\",\"Dell\",\"HP\",\"HP\",\"HP\",\"Dell\",\"Acer\",\"Acer\",\"Dell\",\"Acer\",\"HP\",\"MSI\",\"Asus\",\"HP\",\"HP\",\"Samsung\",\"Lenovo\",\"HP\",\"HP\",\"Acer\",\"Acer\",\"HP\",\"Lenovo\",\"Apple\",\"Apple\",\"Dell\",\"Dell\",\"Asus\",\"Dell\",\"Realme\",\"Xiaomi\",\"Xiaomi\",\"Vaio\",\"HP\",\"Microsoft\",\"Huawei\",\"HP\",\"Acer\",\"Apple\",\"Dell\",\"Dell\",\"Acer\",\"Lenovo\",\"Lenovo\",\"Acer\",\"Asus\",\"Acer\",\"Dell\",\"Samsung\",\"Samsung\",\"Samsung\",\"HP\",\"Lenovo\",\"Realme\",\"Samsung\",\"Samsung\",\"Samsung\",\"Asus\",\"HP\",\"Apple\",\"Apple\",\"Asus\",\"Xiaomi\",\"Dell\",\"Lenovo\",\"Xiaomi\",\"Dell\",\"Microsoft\",\"Apple\",\"Apple\",\"Dell\",\"HP\",\"Asus\",\"Gigabyte\",\"HP\",\"Dell\",\"Dell\",\"Lenovo\",\"Asus\",\"Acer\",\"Asus\",\"MSI\",\"MSI\",\"Lenovo\",\"Lenovo\",\"Asus\",\"Lenovo\",\"Lenovo\",\"Asus\",\"Asus\",\"Lenovo\",\"Asus\",\"Asus\",\"Asus\",\"Acer\",\"Ultimus\",\"Dell\",\"Lenovo\",\"HP\",\"Acer\",\"Acer\",\"Acer\",\"HP\",\"HP\",\"HP\",\"HP\",\"HP\",\"Lenovo\",\"Lenovo\",\"Asus\",\"Acer\",\"Dell\",\"Lenovo\",\"Lenovo\",\"Lenovo\",\"Lenovo\",\"Lenovo\",\"MSI\",\"Lenovo\",\"Lenovo\",\"MSI\",\"Lenovo\",\"HP\",\"Acer\",\"Acer\",\"MSI\",\"Asus\",\"Asus\",\"Acer\",\"HP\",\"Asus\",\"Asus\",\"Lenovo\",\"Lenovo\",\"Lenovo\",\"Lenovo\",\"Dell\",\"Dell\",\"Dell\",\"Lenovo\",\"MSI\",\"Lenovo\",\"Dell\",\"MSI\",\"Lenovo\",\"Lenovo\",\"HP\",\"Dell\",\"Lenovo\",\"Lenovo\",\"Lenovo\",\"Ultimus\",\"HP\",\"Lenovo\",\"Lenovo\",\"HP\",\"HP\",\"HP\",\"Lenovo\",\"Lenovo\",\"Acer\",\"Asus\",\"HP\",\"Fujitsu\",\"Fujitsu\",\"Tecno\",\"Tecno\",\"Asus\",\"HP\",\"Lenovo\",\"Lenovo\",\"Lenovo\",\"HP\",\"Lenovo\",\"Lenovo\",\"Asus\",\"Asus\",\"HP\",\"Dell\",\"Asus\",\"Dell\",\"Dell\",\"Asus\",\"Asus\",\"HP\",\"Asus\",\"Asus\",\"Asus\",\"Asus\",\"HP\",\"Gigabyte\",\"Gigabyte\",\"Lenovo\",\"Asus\",\"Fujitsu\",\"Lenovo\",\"Lenovo\",\"Lenovo\",\"HP\",\"Asus\",\"Asus\",\"MSI\",\"MSI\",\"Lenovo\",\"Lenovo\",\"Asus\",\"Acer\",\"Acer\",\"Asus\",\"Lenovo\",\"HP\",\"Gigabyte\",\"Dell\",\"Fujitsu\",\"Asus\",\"HP\",\"Dell\",\"Asus\",\"Ultimus\",\"Acer\",\"Lenovo\",\"Lenovo\",\"Dell\",\"Lenovo\",\"Dell\",\"Dell\",\"Dell\",\"Dell\",\"Dell\",\"Dell\",\"HP\",\"MSI\",\"MSI\",\"MSI\",\"MSI\",\"MSI\",\"HP\",\"HP\",\"HP\",\"HP\",\"Gigabyte\",\"Lenovo\",\"HP\",\"Chuwi\",\"HP\",\"HP\",\"Asus\",\"Dell\",\"Lenovo\",\"HP\",\"Gigabyte\",\"Lenovo\",\"MSI\",\"MSI\",\"HP\",\"Acer\",\"Lenovo\",\"HP\",\"Asus\",\"HP\",\"Infinix\",\"Lenovo\",\"HP\",\"Lenovo\",\"Dell\",\"Dell\",\"Dell\",\"Acer\",\"MSI\",\"Dell\",\"Dell\",\"MSI\",\"Dell\",\"Gigabyte\",\"Lenovo\",\"Asus\",\"Asus\",\"Lenovo\",\"Asus\",\"Lenovo\",\"Acer\",\"Acer\",\"Acer\",\"Acer\",\"LG\",\"Dell\",\"Asus\",\"Fujitsu\",\"Fujitsu\",\"HP\",\"HP\",\"HP\",\"HP\",\"HP\",\"HP\",\"HP\",\"HP\",\"LG\",\"Lenovo\",\"Asus\",\"LG\",\"LG\",\"Asus\",\"HP\",\"HP\",\"Infinix\",\"Lenovo\",\"Lenovo\",\"Lenovo\",\"MSI\",\"Lenovo\",\"MSI\",\"Lenovo\",\"MSI\",\"Asus\",\"Asus\",\"Asus\",\"Lenovo\",\"HP\",\"HP\",\"HP\",\"HP\",\"Lenovo\",\"HP\",\"Dell\",\"HP\",\"Lenovo\",\"Lenovo\",\"Lenovo\",\"Lenovo\",\"MSI\",\"HP\",\"HP\",\"HP\",\"HP\",\"Acer\",\"Asus\",\"Asus\",\"Dell\",\"Dell\",\"Ninkear\",\"Lenovo\",\"HP\",\"Dell\",\"Lenovo\",\"HP\",\"Asus\",\"MSI\",\"MSI\",\"MSI\",\"HP\",\"Lenovo\",\"Lenovo\",\"Dell\",\"Dell\",\"Lenovo\",\"Acer\",\"Dell\",\"HP\",\"Razer\",\"MSI\",\"MSI\",\"Acer\",\"MSI\",\"MSI\",\"Acer\",\"MSI\",\"MSI\",\"Asus\",\"MSI\",\"MSI\",\"MSI\",\"HP\",\"Lenovo\",\"Dell\",\"MSI\",\"Dell\",\"Dell\",\"Dell\",\"Lenovo\",\"Lenovo\",\"Lenovo\",\"Lenovo\",\"Lenovo\",\"LG\",\"LG\",\"LG\",\"LG\",\"LG\",\"Lenovo\",\"Dell\",\"AXL\",\"AXL\",\"MSI\",\"Asus\",\"Lenovo\",\"Lenovo\",\"Lenovo\",\"Asus\",\"HP\",\"Acer\",\"Dell\",\"Asus\",\"Lenovo\",\"Lenovo\",\"Lenovo\",\"Lenovo\",\"Lenovo\",\"HP\",\"Dell\",\"Dell\",\"Dell\",\"HP\",\"HP\",\"Lenovo\",\"Dell\",\"Acer\",\"Infinix\",\"Dell\",\"Dell\",\"HP\",\"Asus\",\"HP\",\"Dell\",\"Dell\",\"MSI\",\"Dell\",\"HP\",\"Asus\",\"Lenovo\",\"Acer\",\"HP\",\"MSI\",\"MSI\",\"Acer\",\"HP\",\"Acer\",\"Dell\",\"Dell\",\"Dell\",\"Dell\",\"Acer\",\"Acer\",\"Asus\",\"Asus\",\"Asus\",\"Asus\",\"Asus\"],\"yaxis\":\"y\",\"type\":\"scatter\"}],                        {\"template\":{\"data\":{\"histogram2dcontour\":[{\"type\":\"histogram2dcontour\",\"colorbar\":{\"outlinewidth\":0,\"ticks\":\"\"},\"colorscale\":[[0.0,\"#0d0887\"],[0.1111111111111111,\"#46039f\"],[0.2222222222222222,\"#7201a8\"],[0.3333333333333333,\"#9c179e\"],[0.4444444444444444,\"#bd3786\"],[0.5555555555555556,\"#d8576b\"],[0.6666666666666666,\"#ed7953\"],[0.7777777777777778,\"#fb9f3a\"],[0.8888888888888888,\"#fdca26\"],[1.0,\"#f0f921\"]]}],\"choropleth\":[{\"type\":\"choropleth\",\"colorbar\":{\"outlinewidth\":0,\"ticks\":\"\"}}],\"histogram2d\":[{\"type\":\"histogram2d\",\"colorbar\":{\"outlinewidth\":0,\"ticks\":\"\"},\"colorscale\":[[0.0,\"#0d0887\"],[0.1111111111111111,\"#46039f\"],[0.2222222222222222,\"#7201a8\"],[0.3333333333333333,\"#9c179e\"],[0.4444444444444444,\"#bd3786\"],[0.5555555555555556,\"#d8576b\"],[0.6666666666666666,\"#ed7953\"],[0.7777777777777778,\"#fb9f3a\"],[0.8888888888888888,\"#fdca26\"],[1.0,\"#f0f921\"]]}],\"heatmap\":[{\"type\":\"heatmap\",\"colorbar\":{\"outlinewidth\":0,\"ticks\":\"\"},\"colorscale\":[[0.0,\"#0d0887\"],[0.1111111111111111,\"#46039f\"],[0.2222222222222222,\"#7201a8\"],[0.3333333333333333,\"#9c179e\"],[0.4444444444444444,\"#bd3786\"],[0.5555555555555556,\"#d8576b\"],[0.6666666666666666,\"#ed7953\"],[0.7777777777777778,\"#fb9f3a\"],[0.8888888888888888,\"#fdca26\"],[1.0,\"#f0f921\"]]}],\"heatmapgl\":[{\"type\":\"heatmapgl\",\"colorbar\":{\"outlinewidth\":0,\"ticks\":\"\"},\"colorscale\":[[0.0,\"#0d0887\"],[0.1111111111111111,\"#46039f\"],[0.2222222222222222,\"#7201a8\"],[0.3333333333333333,\"#9c179e\"],[0.4444444444444444,\"#bd3786\"],[0.5555555555555556,\"#d8576b\"],[0.6666666666666666,\"#ed7953\"],[0.7777777777777778,\"#fb9f3a\"],[0.8888888888888888,\"#fdca26\"],[1.0,\"#f0f921\"]]}],\"contourcarpet\":[{\"type\":\"contourcarpet\",\"colorbar\":{\"outlinewidth\":0,\"ticks\":\"\"}}],\"contour\":[{\"type\":\"contour\",\"colorbar\":{\"outlinewidth\":0,\"ticks\":\"\"},\"colorscale\":[[0.0,\"#0d0887\"],[0.1111111111111111,\"#46039f\"],[0.2222222222222222,\"#7201a8\"],[0.3333333333333333,\"#9c179e\"],[0.4444444444444444,\"#bd3786\"],[0.5555555555555556,\"#d8576b\"],[0.6666666666666666,\"#ed7953\"],[0.7777777777777778,\"#fb9f3a\"],[0.8888888888888888,\"#fdca26\"],[1.0,\"#f0f921\"]]}],\"surface\":[{\"type\":\"surface\",\"colorbar\":{\"outlinewidth\":0,\"ticks\":\"\"},\"colorscale\":[[0.0,\"#0d0887\"],[0.1111111111111111,\"#46039f\"],[0.2222222222222222,\"#7201a8\"],[0.3333333333333333,\"#9c179e\"],[0.4444444444444444,\"#bd3786\"],[0.5555555555555556,\"#d8576b\"],[0.6666666666666666,\"#ed7953\"],[0.7777777777777778,\"#fb9f3a\"],[0.8888888888888888,\"#fdca26\"],[1.0,\"#f0f921\"]]}],\"mesh3d\":[{\"type\":\"mesh3d\",\"colorbar\":{\"outlinewidth\":0,\"ticks\":\"\"}}],\"scatter\":[{\"fillpattern\":{\"fillmode\":\"overlay\",\"size\":10,\"solidity\":0.2},\"type\":\"scatter\"}],\"parcoords\":[{\"type\":\"parcoords\",\"line\":{\"colorbar\":{\"outlinewidth\":0,\"ticks\":\"\"}}}],\"scatterpolargl\":[{\"type\":\"scatterpolargl\",\"marker\":{\"colorbar\":{\"outlinewidth\":0,\"ticks\":\"\"}}}],\"bar\":[{\"error_x\":{\"color\":\"#2a3f5f\"},\"error_y\":{\"color\":\"#2a3f5f\"},\"marker\":{\"line\":{\"color\":\"#E5ECF6\",\"width\":0.5},\"pattern\":{\"fillmode\":\"overlay\",\"size\":10,\"solidity\":0.2}},\"type\":\"bar\"}],\"scattergeo\":[{\"type\":\"scattergeo\",\"marker\":{\"colorbar\":{\"outlinewidth\":0,\"ticks\":\"\"}}}],\"scatterpolar\":[{\"type\":\"scatterpolar\",\"marker\":{\"colorbar\":{\"outlinewidth\":0,\"ticks\":\"\"}}}],\"histogram\":[{\"marker\":{\"pattern\":{\"fillmode\":\"overlay\",\"size\":10,\"solidity\":0.2}},\"type\":\"histogram\"}],\"scattergl\":[{\"type\":\"scattergl\",\"marker\":{\"colorbar\":{\"outlinewidth\":0,\"ticks\":\"\"}}}],\"scatter3d\":[{\"type\":\"scatter3d\",\"line\":{\"colorbar\":{\"outlinewidth\":0,\"ticks\":\"\"}},\"marker\":{\"colorbar\":{\"outlinewidth\":0,\"ticks\":\"\"}}}],\"scattermapbox\":[{\"type\":\"scattermapbox\",\"marker\":{\"colorbar\":{\"outlinewidth\":0,\"ticks\":\"\"}}}],\"scatterternary\":[{\"type\":\"scatterternary\",\"marker\":{\"colorbar\":{\"outlinewidth\":0,\"ticks\":\"\"}}}],\"scattercarpet\":[{\"type\":\"scattercarpet\",\"marker\":{\"colorbar\":{\"outlinewidth\":0,\"ticks\":\"\"}}}],\"carpet\":[{\"aaxis\":{\"endlinecolor\":\"#2a3f5f\",\"gridcolor\":\"white\",\"linecolor\":\"white\",\"minorgridcolor\":\"white\",\"startlinecolor\":\"#2a3f5f\"},\"baxis\":{\"endlinecolor\":\"#2a3f5f\",\"gridcolor\":\"white\",\"linecolor\":\"white\",\"minorgridcolor\":\"white\",\"startlinecolor\":\"#2a3f5f\"},\"type\":\"carpet\"}],\"table\":[{\"cells\":{\"fill\":{\"color\":\"#EBF0F8\"},\"line\":{\"color\":\"white\"}},\"header\":{\"fill\":{\"color\":\"#C8D4E3\"},\"line\":{\"color\":\"white\"}},\"type\":\"table\"}],\"barpolar\":[{\"marker\":{\"line\":{\"color\":\"#E5ECF6\",\"width\":0.5},\"pattern\":{\"fillmode\":\"overlay\",\"size\":10,\"solidity\":0.2}},\"type\":\"barpolar\"}],\"pie\":[{\"automargin\":true,\"type\":\"pie\"}]},\"layout\":{\"autotypenumbers\":\"strict\",\"colorway\":[\"#636efa\",\"#EF553B\",\"#00cc96\",\"#ab63fa\",\"#FFA15A\",\"#19d3f3\",\"#FF6692\",\"#B6E880\",\"#FF97FF\",\"#FECB52\"],\"font\":{\"color\":\"#2a3f5f\"},\"hovermode\":\"closest\",\"hoverlabel\":{\"align\":\"left\"},\"paper_bgcolor\":\"white\",\"plot_bgcolor\":\"#E5ECF6\",\"polar\":{\"bgcolor\":\"#E5ECF6\",\"angularaxis\":{\"gridcolor\":\"white\",\"linecolor\":\"white\",\"ticks\":\"\"},\"radialaxis\":{\"gridcolor\":\"white\",\"linecolor\":\"white\",\"ticks\":\"\"}},\"ternary\":{\"bgcolor\":\"#E5ECF6\",\"aaxis\":{\"gridcolor\":\"white\",\"linecolor\":\"white\",\"ticks\":\"\"},\"baxis\":{\"gridcolor\":\"white\",\"linecolor\":\"white\",\"ticks\":\"\"},\"caxis\":{\"gridcolor\":\"white\",\"linecolor\":\"white\",\"ticks\":\"\"}},\"coloraxis\":{\"colorbar\":{\"outlinewidth\":0,\"ticks\":\"\"}},\"colorscale\":{\"sequential\":[[0.0,\"#0d0887\"],[0.1111111111111111,\"#46039f\"],[0.2222222222222222,\"#7201a8\"],[0.3333333333333333,\"#9c179e\"],[0.4444444444444444,\"#bd3786\"],[0.5555555555555556,\"#d8576b\"],[0.6666666666666666,\"#ed7953\"],[0.7777777777777778,\"#fb9f3a\"],[0.8888888888888888,\"#fdca26\"],[1.0,\"#f0f921\"]],\"sequentialminus\":[[0.0,\"#0d0887\"],[0.1111111111111111,\"#46039f\"],[0.2222222222222222,\"#7201a8\"],[0.3333333333333333,\"#9c179e\"],[0.4444444444444444,\"#bd3786\"],[0.5555555555555556,\"#d8576b\"],[0.6666666666666666,\"#ed7953\"],[0.7777777777777778,\"#fb9f3a\"],[0.8888888888888888,\"#fdca26\"],[1.0,\"#f0f921\"]],\"diverging\":[[0,\"#8e0152\"],[0.1,\"#c51b7d\"],[0.2,\"#de77ae\"],[0.3,\"#f1b6da\"],[0.4,\"#fde0ef\"],[0.5,\"#f7f7f7\"],[0.6,\"#e6f5d0\"],[0.7,\"#b8e186\"],[0.8,\"#7fbc41\"],[0.9,\"#4d9221\"],[1,\"#276419\"]]},\"xaxis\":{\"gridcolor\":\"white\",\"linecolor\":\"white\",\"ticks\":\"\",\"title\":{\"standoff\":15},\"zerolinecolor\":\"white\",\"automargin\":true,\"zerolinewidth\":2},\"yaxis\":{\"gridcolor\":\"white\",\"linecolor\":\"white\",\"ticks\":\"\",\"title\":{\"standoff\":15},\"zerolinecolor\":\"white\",\"automargin\":true,\"zerolinewidth\":2},\"scene\":{\"xaxis\":{\"backgroundcolor\":\"#E5ECF6\",\"gridcolor\":\"white\",\"linecolor\":\"white\",\"showbackground\":true,\"ticks\":\"\",\"zerolinecolor\":\"white\",\"gridwidth\":2},\"yaxis\":{\"backgroundcolor\":\"#E5ECF6\",\"gridcolor\":\"white\",\"linecolor\":\"white\",\"showbackground\":true,\"ticks\":\"\",\"zerolinecolor\":\"white\",\"gridwidth\":2},\"zaxis\":{\"backgroundcolor\":\"#E5ECF6\",\"gridcolor\":\"white\",\"linecolor\":\"white\",\"showbackground\":true,\"ticks\":\"\",\"zerolinecolor\":\"white\",\"gridwidth\":2}},\"shapedefaults\":{\"line\":{\"color\":\"#2a3f5f\"}},\"annotationdefaults\":{\"arrowcolor\":\"#2a3f5f\",\"arrowhead\":0,\"arrowwidth\":1},\"geo\":{\"bgcolor\":\"white\",\"landcolor\":\"#E5ECF6\",\"subunitcolor\":\"white\",\"showland\":true,\"showlakes\":true,\"lakecolor\":\"white\"},\"title\":{\"x\":0.05},\"mapbox\":{\"style\":\"light\"}}},\"xaxis\":{\"anchor\":\"y\",\"domain\":[0.0,1.0],\"title\":{\"text\":\"spec_rating\"}},\"yaxis\":{\"anchor\":\"x\",\"domain\":[0.0,1.0],\"title\":{\"text\":\"brand\"}},\"legend\":{\"tracegroupgap\":0},\"title\":{\"text\":\"Specs Rating Distribution\"}},                        {\"responsive\": true}                    ).then(function(){\n",
              "                            \n",
              "var gd = document.getElementById('5f39b713-4a1b-4a7f-a71c-6a3c51995a93');\n",
              "var x = new MutationObserver(function (mutations, observer) {{\n",
              "        var display = window.getComputedStyle(gd).display;\n",
              "        if (!display || display === 'none') {{\n",
              "            console.log([gd, 'removed!']);\n",
              "            Plotly.purge(gd);\n",
              "            observer.disconnect();\n",
              "        }}\n",
              "}});\n",
              "\n",
              "// Listen for the removal of the full notebook cells\n",
              "var notebookContainer = gd.closest('#notebook-container');\n",
              "if (notebookContainer) {{\n",
              "    x.observe(notebookContainer, {childList: true});\n",
              "}}\n",
              "\n",
              "// Listen for the clearing of the current output cell\n",
              "var outputEl = gd.closest('.output');\n",
              "if (outputEl) {{\n",
              "    x.observe(outputEl, {childList: true});\n",
              "}}\n",
              "\n",
              "                        })                };                            </script>        </div>\n",
              "</body>\n",
              "</html>"
            ]
          },
          "metadata": {}
        }
      ],
      "source": [
        "# Visualising the Specs Distribution with Brands to check which brands has more Specs Rating\n",
        "plt = px.scatter(df, x=\"spec_rating\", y=\"brand\", title=\"Specs Rating Distribution\",\n",
        "                 color_discrete_sequence=px.colors.qualitative.Pastel)\n",
        "plt.show()"
      ]
    },
    {
      "cell_type": "code",
      "execution_count": 101,
      "metadata": {
        "colab": {
          "base_uri": "https://localhost:8080/",
          "height": 0
        },
        "id": "R0maC8TvBg1z",
        "outputId": "8dfeac2b-4d2f-4f50-fe56-9335aa0b615b"
      },
      "outputs": [
        {
          "output_type": "display_data",
          "data": {
            "text/html": [
              "<html>\n",
              "<head><meta charset=\"utf-8\" /></head>\n",
              "<body>\n",
              "    <div>            <script src=\"https://cdnjs.cloudflare.com/ajax/libs/mathjax/2.7.5/MathJax.js?config=TeX-AMS-MML_SVG\"></script><script type=\"text/javascript\">if (window.MathJax && window.MathJax.Hub && window.MathJax.Hub.Config) {window.MathJax.Hub.Config({SVG: {font: \"STIX-Web\"}});}</script>                <script type=\"text/javascript\">window.PlotlyConfig = {MathJaxConfig: 'local'};</script>\n",
              "        <script charset=\"utf-8\" src=\"https://cdn.plot.ly/plotly-2.35.2.min.js\"></script>                <div id=\"50dde23f-4ce1-41a4-a7bf-242c63bcc84c\" class=\"plotly-graph-div\" style=\"height:525px; width:100%;\"></div>            <script type=\"text/javascript\">                                    window.PLOTLYENV=window.PLOTLYENV || {};                                    if (document.getElementById(\"50dde23f-4ce1-41a4-a7bf-242c63bcc84c\")) {                    Plotly.newPlot(                        \"50dde23f-4ce1-41a4-a7bf-242c63bcc84c\",                        [{\"alignmentgroup\":\"True\",\"bingroup\":\"x\",\"hovertemplate\":\"processor=%{x}\\u003cbr\\u003ecount=%{y}\\u003cextra\\u003e\\u003c\\u002fextra\\u003e\",\"legendgroup\":\"\",\"marker\":{\"color\":\"rgb(102, 197, 204)\",\"pattern\":{\"shape\":\"\"}},\"name\":\"\",\"offsetgroup\":\"\",\"orientation\":\"v\",\"showlegend\":false,\"x\":[\"5th Gen AMD Ryzen 5 5600H\",\"12th Gen Intel Core i3 1215U\",\"11th Gen Intel Core i3 1115G4\",\"12th Gen Intel Core i5 1240P\",\"Apple M1\",\"12th Gen Intel Core i5 1240P\",\"12th Gen Intel Core i3 1215U\",\"13th Gen Intel Core i5 13420H\",\"12th Gen Intel Core i5 12500H\",\"12th Gen Intel Core i5 1240P\",\"12th Gen Intel Core i7 1255U\",\"Intel Celeron  N4020\",\"12th Gen Intel Core i5 12500H\",\"MediaTek MTK8788\",\"7th Gen AMD Ryzen 3 7320U\",\"11th Gen Intel Core i5 11400H \",\"11th Gen Intel Core i3 1115G4\",\"13th Gen Intel Core i9 13900H\",\"12th Gen Intel Core i5 12450H\",\"11th Gen Intel Core i5 11300H\",\"5th Gen AMD Ryzen 5 5600H\",\"Apple M2\",\"12th Gen Intel Core i5 12450H\",\"11th Gen Intel Core i5 1135G7 \",\"5th Gen AMD Ryzen 7  5800H\",\"5th Gen AMD Ryzen 5 5500U\",\"3rd Gen AMD Athlon 3050U\",\"Intel Core i3 N305\",\"12th Gen Intel Core i5 1240P\",\"13th Gen Intel Core i7 1355U\",\"6th Gen AMD Ryzen 5 6600H\",\"13th Gen Intel Core i9 13900HX\",\"5th Gen AMD Ryzen 5 5600H\",\"5th Gen AMD Ryzen 5 5500U\",\"12th Gen Intel Core i7 12650H\",\"13th Gen Intel Core i5 1340P\",\"11th Gen Intel Core i5 11400H \",\"12th Gen Intel Core i5 12450H\",\"12th Gen Intel Core i3 1215U\",\"12th Gen Intel Core i5 12450H\",\"11th Gen Intel Core i3 1115G4\",\"12th Gen Intel Core i5 12500H\",\"12th Gen Intel Core i5 1235U \",\"12th Gen Intel Core i3 1215U\",\"13th Gen Intel Core i5 13450HX\",\"13th Gen Intel Core i9 13980HX\",\"11th Gen Intel Core i5 1135G7\",\"5th Gen AMD Ryzen 3 5300U\",\"12th Gen Intel Core i5 12450H\",\"12th Gen Intel Core i7 12700H\",\"Intel Celeron  N4020\",\"5th Gen AMD Ryzen 5 5625U\",\"12th Gen Intel Core i5 12450H\",\"5th Gen AMD Ryzen 3 5300U\",\"12th Gen Intel Core i5 12450H\",\"11th Gen Intel Core i5 1155G7\",\"7th Gen AMD Ryzen 7 7730U\",\"12th Gen Intel Core i5 1235U\",\"11th Gen Intel Core i7 11800H\",\"12th Gen Intel Core i7 12700H \",\"13th Gen Intel Core i7 13620H\",\"13th Gen Intel Core i9 13900H\",\"12th Gen Intel Core i5 12500H\",\"13th Gen Intel Core i7 1360P\",\"12th Gen Intel Core i7 12650H\",\"11th Gen Intel Core i5 1155G7\",\"11th Gen Intel Core i3 1115G4\",\"12th Gen Intel Core i5 12450H\",\"12th Gen Intel Core i5 12500H\",\"12th Gen Intel Core i5 12450H\",\"11th Gen Intel Core i7 11800H\",\"11th Gen Intel Celeron N5100\",\"11th Gen Intel Core i5 11400H \",\"5th Gen AMD Ryzen 3 5425U\",\"5th Gen AMD Ryzen 5 5600H\",\"10th Gen Intel Core i7 10750H\",\"7th Gen AMD Ryzen 7 7840HS\",\"12th Gen Intel Core i5 1235U\",\"12th Gen Intel Core i3 1215U\",\"13th Gen Intel Core i5 13500H\",\"7th Gen AMD Ryzen 7 7840HS\",\"7th Gen AMD Ryzen 5 7535HS\",\"11th Gen Intel Core i5 1135G7\",\"11th Gen Intel Core i5 11260H\",\"12th Gen Intel Core i5 1235U\",\"7th Gen AMD Ryzen 7 7840HS\",\"11th Gen Intel Core i5 11260H\",\"13th Gen Intel Core i5 13420H\",\"11th Gen Intel Core i5  1135G7\",\"11th Gen Intel Core i3 1115G4\",\"13th Gen Intel Core i5 13450HX\",\"12th Gen Intel Core i3 1215U\",\"11th Gen Intel Core i5 11400H \",\"12th Gen Intel Core i5 12450H\",\"6th Gen AMD Ryzen 7  6800H\",\"Apple M2\",\"12th Gen Intel Core i5 1235U\",\"12th Gen Intel Core i5 1240P\",\"12th Gen Intel Core i5 1235U\",\"11th Gen Intel Core i5 11300H\",\"6th Gen AMD Ryzen 7  6800H\",\"AMD Athlon Pro 3045B\",\"11th Gen Intel Core i5 1135G7\",\"5th Gen AMD Ryzen 5  5500U\",\"11th Gen Intel Core i5 11300H \",\"Intel Atom Quad Core Z3735F\",\"12th Gen Intel Core i3 1220P\",\"6th Gen AMD Ryzen 7 6800H\",\"12th Gen Intel Core i3 1215U\",\"12th Gen Intel Core i5 1235U\",\"Intel Celeron  N4020\",\"13th Gen Intel Core i5 13500H\",\"12th Gen Intel Core i5 1235U\",\"7th Gen AMD Ryzen 7 7730U\",\"13th Gen Intel Core i9 13900H\",\"12th Gen Intel Core i7 1255U\",\"12th Gen Intel Core i5 12450H\",\"7th Gen Amd Ryzen 5 7535HS\",\"12th Gen Intel Core i5 12450H\",\"7th Gen Amd Ryzen 5 7535HS\",\"12th Gen Intel Core i5 12450H\",\"12th Gen Intel Core i3 1215U\",\"5th Gen AMD Ryzen 5  5600H\",\"11th Gen Intel Core i5 1155G7\",\"10th Gen Intel Core i3 1005G1\",\"5th Gen AMD Ryzen 7   5700U\",\"13th Gen Intel Core i5 1340p\",\"11th Gen Intel Core i7 1165G7\",\"11th Gen Intel Core i3  1115G4\",\"12th Gen Intel Core i7 1255U\",\"13th Gen Intel Core i3 1315U\",\"13th Gen Intel Core i5 1335U\",\"12th Gen Intel Core i5 1235U\",\"13th Gen Intel Core i5 13500H\",\"5th Gen AMD Ryzen 5  5600H \",\"5th Gen AMD Ryzen 5 5625U\",\"Intel Celeron  N4500\",\"7th Gen AMD Ryzen 3 7320U\",\"13th Gen Intel Core i5 1335U\",\"13th Gen Intel Core i7 1355U\",\"10th Gen Intel Core i3 1005G1\",\"13th Gen Intel Core i9 13900H\",\"AMD Athlon 7120U\",\"11th Gen Intel Core i5 1155G7\",\"6th Gen AMD Ryzen 7 6800H\",\"7th Gen AMD Ryzen 7 7840HS\",\"7th Gen AMD Ryzen 7 7735U\",\"12th Gen Intel Core i5 12500H\",\"13th Gen Intel Core i3 1305U\",\"13th Gen Intel Core i9 13900HX\",\"5th Gen AMD Ryzen 5 5600H\",\"11th Gen Intel Core i5 1155G7\",\"13th Gen Intel Core i5 1335U\",\"11th Gen Intel Core i5 11320H\",\"5th Gen AMD Ryzen 5 5600HS\",\"12th Gen Intel Core i5 12450H\",\"11th Gen Intel Core i3 1115G4\",\"13th Gen Intel Core i5 1340P\",\"Apple M2\",\"12th Gen Intel Core i5 12500H \",\"5th Gen AMD Ryzen 7 5800H\",\"13th Gen Intel Core i5 1340p\",\"13th Gen Intel Core i5 13450HX\",\"7th Gen AMD Ryzen 7 7735HS\",\"13th Gen Intel Core i9 13980HX\",\"12th Gen Intel Core i5 12450H\",\"12th Gen Intel Core i3 1215U\",\"13th Gen Intel Core i5 1335U\",\"13th Gen Intel Core i7 13700HX\",\"5th Gen AMD Ryzen 5 5625U\",\"13th Gen Intel Core i7 13700HX\",\"11th Gen Intel Core i5 11320H\",\"13th Gen Intel Core i7 13700HX\",\"12th Gen Intel Core i3 1215U\",\"12th Gen Intel Core i3 1215U\",\"7th Gen AMD Ryzen 5 7535HS\",\"7th Gen AMD Ryzen 7 7735HS\",\"11th Gen Intel Core i7 11800H\",\"5th Gen AMD Ryzen 7 5800H\",\"13th Gen Intel Core i5 13500H\",\"7th Gen AMD Ryzen 3 7320U\",\"7th Gen AMD Ryzen 9  7945HX \",\"5th Gen AMD Ryzen 5 5625U\",\"7th Gen AMD Ryzen 5 7530U\",\"11th Gen Intel Core i5 1155G7\",\"12th Gen Intel Core i7 12650H\",\"Intel Core i3 N305\",\"13th Gen Intel Core i5 1335U\",\"13th Gen Intel Core i5 1335U\",\"13th Gen Intel Core i7 1360P\",\"5th Gen AMD Ryzen 5  5600H \",\"13th Gen Intel Core i5 1340P\",\"5th Gen AMD Ryzen 5 5600H\",\"5th Gen AMD Ryzen 5 5600H\",\"12th Gen Intel Core i5 1235U\",\"12th Gen Intel Core i5 1235U\",\"11th Gen Intel Core i5 11300H\",\"6th Gen AMD Ryzen 7  6800H\",\"3rd Gen AMD Ryzen 3  3250U\",\"12th Gen Intel Core i3 1215U\",\"12th Gen Intel Core i5 1235U\",\"5th Gen AMD Ryzen 5 5625U\",\"11th Gen Intel Core i3 1115G4\",\"5th Gen AMD Ryzen 5  5500U \",\"6th Gen AMD Ryzen 7 6800H \",\"11th Gen Intel Core i3 1115G4\",\"Apple M2 Apple M2 Chip\",\"12th Gen Intel Core i5 12500H\",\"12th Gen Intel Core i5 12500H\",\"11th Gen Intel Core i3 1115G4\",\"11th Gen Intel Core i5 11300H \",\"11th Gen Intel Core i5 1135G7 \",\"10th Gen Intel Core i5 10210U \",\"Apple M1 Apple M1 Chip\",\"3rd Gen AMD Ryzen 5  3500U\",\"9th Gen Intel Core i9\",\"12th Gen Intel Core i5 12450H\",\"12th Gen Intel Core i5 1235U\",\"7th Gen AMD Ryzen 5 7535HS\",\"12th Gen Intel Core i3 1215U\",\"7th Gen AMD Ryzen 7 7840HS\",\"AMD Athlon Silver 7120U\",\"12th Gen Intel Core i3 1215U\",\"10th Gen Intel Core i5 1035G1\",\"12th Gen Intel Core i5 12450H\",\"7th Gen AMD Ryzen 5 7535HS\",\"13th Gen Intel Core i7 13700H\",\"7th Gen AMD Ryzen 7 7840HS\",\"12th Gen Intel Core i7 12650H\",\"7th Gen AMD Ryzen 7 7840HS\",\"11th Gen Intel Core i3 1115G4\",\"7th Gen AMD Ryzen 9  7940HS\",\"12th Gen Intel Core i3 1215U\",\"13th Gen Intel Core i5 1340P\",\"13th Gen Intel Core i3 1315U\",\"12th Gen Intel Core i5 1235U\",\"13th Gen Intel Core i5 13500H\",\"13th Gen Intel Core i5 1335U\",\"5th Gen AMD Ryzen 5  5500U\",\"Intel Celeron N4500\",\"12th Gen Intel Core i3 1215U\",\"11th Gen Intel Core i5 1155G7\",\"13th Gen Intel Core i5 13420H\",\"12th Gen Intel Core i5 1235U\",\"11th Gen Intel Core i7 1165G7\",\"6th Gen AMD Ryzen 7  6800H\",\"12th Gen Intel Core i5 12450H\",\"12th Gen Intel Core i3 1215U\",\"6th Gen AMD Ryzen 5 6600H\",\"AMD Athlon 7120U\",\"13th Gen Intel Core i5 13450HX\",\"6th Gen AMD Ryzen 7 6800H\",\"12th Gen Intel Core i3 1215U\",\"13th Gen Intel Core i9 13900H\",\"11th Gen Intel Core i5 11320H\",\"11th Gen Intel Core i3 1115G4\",\"13th Gen Intel Core i3 1305U\",\"11th Gen Intel Core i3 1115G4\",\"12th Gen Intel Core i5 1235U\",\"13th Gen Intel Core i5 1335U\",\"Intel Celeron N4500\",\"11th Gen Intel Core i7 1165G7\",\"5th Gen AMD Ryzen 7 5800HS\",\"3rd Gen AMD Ryzen 3  3250U\",\"5th Gen AMD Ryzen 5  5500U\",\"12th Gen Intel Core i5 12450H\",\"5th Gen AMD Ryzen 5  5600H\",\"11th Gen Intel Core i5 11260H\",\"3rd Gen AMD Ryzen 3  3250U\",\"5th Gen AMD Ryzen 5  5600H\",\"11th Gen Intel Core i7 1165G7\",\"11th Gen Intel Core i3 1125G4\",\"12th Gen Intel Core i7 1255U\",\"13th Gen Intel Core i3 1305U\",\"13th Gen Intel Core i5 1335U\",\"7th Gen AMD Ryzen 7 7840HS\",\"13th Gen Intel Core i5 1335U\",\"11th Gen Intel Core i5 11260H\",\"13th Gen Intel Core i5 13500H\",\"12th Gen Intel Core i3 1215U\",\"12th Gen Intel Core i7 12700H\",\"11th Gen intel Core i3 1115G4\",\"12th Gen Intel Core i5 12450H\",\"7th Gen AMD Ryzen 7 7840HS\",\"12th Gen Intel Core i5 12450H\",\"5th Gen AMD Ryzen 5 5500U\",\"12th Gen Intel Core i3 1215U\",\"11th Gen Intel Core i5 1155G7\",\"13th Gen Intel Core i9 13980HX\",\"12th Gen Intel Core i7 12650H \",\"13th Gen Intel Core i5 1335U\",\"Intel Celeron  N4020\",\"12th Gen Intel Core i5 12500H\",\"13th Gen Intel Core i5 1335U\",\"7th Gen AMD Ryzen 3 7330U\",\"13th Gen Intel Core i7 13700H\",\"13th Gen Intel Core i3 1315U\",\"13th Gen Intel Core i5 1340P\",\"7th Gen AMD Ryzen 5 7535HS\",\"11th Gen Intel Core i5 1155G7\",\"12th Gen Intel Core i3 1215U\",\"7th Gen Amd Ryzen 5 7520U\",\"7th Gen AMD Ryzen 5 7520U\",\"13th Gen Intel Core i7 1355U\",\"7th Gen AMD Ryzen 3 7320U\",\"7th Gen AMD Ryzen 3 7320U\",\"11th Gen Intel Core i5 11260H\",\"12th Gen Intel Core i5 1235U\",\"11th Gen Intel Core i5 11260H\",\"12th Gen Intel Core i3 1215U\",\"7th Gen AMD Ryzen 7 7730U\",\"7th Gen AMD Ryzen 3 7320U\",\"12th Gen Intel Core i5 1235U\",\"13th Gen Intel Core i7 13650HX\",\"13th Gen Intel Core i7 1355U\",\"13th Gen Intel Core i7 13700H\",\"11th Gen Intel Core i3 1115G4\",\"5th Gen AMD Ryzen 5 5600H\",\"5th Gen AMD Ryzen 7 5800HS\",\"13th Gen Intel Core i7 13650HX\",\"13th Gen Intel Core i9 13900H\",\"13th Gen Intel Core i9 13980HX\",\"13th Gen Intel Core i7 13650HX\",\"13th Gen Intel Core i9 13900H\",\"13th Gen Intel Core i5 13500H\",\"11th Gen Intel Core i5 11400H\",\"12th Gen Intel Core i5 1235U\",\"11th Gen intel Core i3 1115G4\",\"12th Gen Intel Core i3 1215U\",\"7th Gen AMD Ryzen 5 7520U\",\"13th Gen Intel Core i7 1360P\",\"5th Gen AMD Ryzen 5  5600H \",\"13th Gen Intel Core i9 13900H\",\"13th Gen Intel Core i5 1335U\",\"13th Gen Intel Core i7 13700HX\",\"13th Gen Intel Core i5 13500HX\",\"12th Gen Intel Core i5 12450H\",\"5th Gen AMD Ryzen 5 5500U\",\"7th Gen AMD Ryzen 3 7320U\",\"13th Gen Intel Core i7 13700H\",\"11th Gen Intel Core i3 1115G4 \",\"13th Gen Intel Core i5 1335U\",\"13th Gen Intel Core i5 13500H\",\"13th Gen Intel Core i9 13900H\",\"5th Gen AMD Ryzen 7 5800H\",\"13th Gen Intel Core i5 1340P\",\"13th Gen Intel Core i9 13980HX\",\"3rd Gen AMD Athlon Silver 3050U\",\"7th Gen AMD Ryzen 5 7520U\",\"5th Gen AMD Ryzen 5 5500U\",\"12th Gen Intel Core i3 1215U\",\"Intel Celeron  N4500\",\"7th Gen AMD Ryzen 3 7320U\",\"7th Gen AMD Ryzen 5 7535HS\",\"5th Gen AMD Ryzen 7 5800H\",\"12th Gen Intel Core i5 1235U\",\"5th Gen AMD Ryzen 5  5600H\",\"13th Gen Intel Core i5 1335U\",\"7th Gen AMD Ryzen 7 7730U\",\"7th Gen AMD Ryzen 5 7520U\",\"13th Gen Intel Core i5 1335U\",\"10th Gen Intel Core i3 1005G1\",\"13th Gen Intel Core i7 1355U\",\"13th Gen Intel Core i7 1360P\",\"13th Gen Intel Core i7 1360P\",\"13th Gen Intel Core i7 1355U\",\"13th Gen Intel Core i7 1360P\",\"13th Gen Intel Core i5 1335U\",\"13th Gen Intel Core i7 1360P\",\"13th Gen Intel Core i7 1360P\",\"13th Gen Intel Core i5 1340P\",\"13th Gen Intel Core i9 13900H\",\"5th Gen AMD Ryzen 5 5500U\",\"11th Gen Intel Core i3 1115G4\",\"11th Gen Intel Core i3 1115G4\",\"Apple M2 Max M2 Max\",\"Apple M2 Pro M2 Pro\",\"12th Gen Intel Core i5 12500H\",\"5th Gen AMD Ryzen 3  5425U\",\"5th Gen AMD Ryzen 7  5800H\",\"12th Gen Intel Core i5 12450H\",\"11th Gen Intel Core i5 1135G7\",\"5th Gen AMD Ryzen 5 5500U\",\"7th Gen AMD Ryzen 5 7520U\",\"11th Gen Intel Core i3 1115G4\",\"7th Gen AMD Ryzen 3 7320U\",\"13th Gen Intel Core i5 1340P\",\"11th Gen Intel Core i3 1115G4 \",\"13th Gen Intel Core i5 1335U\",\"13th Gen Intel Core i5 1340P\",\"13th Gen Intel Core i9 13900H\",\"12th Gen Intel Core i3 1215U\",\"7th Gen AMD Ryzen 5 7520U\",\"7th Gen AMD Ryzen 5 7520U\",\"7th Gen AMD Ryzen 3 7320U\",\"5th Gen AMD Ryzen 7 5800H\",\"7th Gen AMD Ryzen 5 7535HS\",\"7th Gen AMD Ryzen 5 7530U\",\"7th Gen AMD Ryzen 7 7730U\",\"7th Gen AMD Ryzen 5 7520U\",\"7th Gen AMD Ryzen 7 7735U\",\"7th Gen AMD Ryzen 7 7730U\",\"5th Gen AMD Ryzen 5 5600H\",\"11th Gen Intel Core i5 1155G7\",\"7th Gen AMD Ryzen 5 7520U\",\"5th Gen AMD Ryzen 5 5600H\",\"AMD Ryzen 3 7320U\",\"13th Gen Intel Core i7 1360P\",\"12th Gen Intel Core i5 12500H\",\"11th Gen Intel Core i5 11400H \",\"11th Gen intel Core i3 1115G4\",\"12th Gen Intel Core i5 12500H\",\"12th Gen Intel Core i5 1235U\",\"12th Gen Intel Core i5 1230U\",\"12th Gen Intel Core i5 1235U\",\"12th Gen Intel Core i3 1220P\",\"12th Gen Intel Core i5 1235U\",\"12th Gen Intel Core i5 1235U\",\"12th Gen Intel Core i3 1215U\",\"12th Gen Intel Core i5 12500H\",\"12th Gen Intel Core i7 12700H\",\"11th Gen Intel Core i7 1185G7\",\"5th Gen AMD Ryzen 5 5500U\",\"5th Gen AMD Ryzen 7 5700U\",\"5th Gen AMD Ryzen 5  5600H\",\"5th Gen AMD Ryzen 5  5500U\",\"12th Gen Intel Core i3 1220P\",\"12th Gen Intel Core i5 1235U\",\"12th Gen Intel Core i7 12700H\",\"12th Gen Intel Core i7 12700H\",\"12th Gen Intel Core i7 12700H\",\"5th Gen AMD Ryzen 3 5300U\",\"5th Gen AMD Ryzen 5  5600H\",\"12th Gen Intel Core i5 12450H \",\"11th Gen Intel Core i3 1115G4\",\"11th Gen Intel Core i3 1115G4\",\"5th Gen AMD Ryzen 5  5600H \",\"12th Gen Intel Core i5 1235U\",\"5th Gen AMD Ryzen 5  5500U\",\"11th Gen intel Core i3 1115G4\",\"12th Gen Intel Core i5 1235U\",\"6th Gen AMD Ryzen 9  6900HX\",\"11th Gen Intel Core i3 1115G4\",\"12th Gen Intel Core i5 1235U\",\"11th Gen Intel Core i3 1115G4\",\"11th Gen Intel Core i3 1115G4\",\"5th Gen AMD Ryzen 5 5625U\",\"5th Gen AMD Ryzen 5  5500U \",\"3rd Gen AMD Athlon Silver 3050U\",\"11th Gen Intel Core i3 1115G4\",\"6th Gen AMD Ryzen 7  6800H\",\"12th Gen Intel Core i5 1240P\",\"12th Gen Intel Core i5 1235U\",\"5th Gen AMD Ryzen 7  5825U\",\"12th Gen Intel Core i7 12700H\",\"12th Gen Intel Core i5 1235U\",\"11th Gen Intel Core i5 11400H\",\"10th Gen Intel Core i5 10300H\",\"12th Gen Intel Core i7 1255U\",\"12th Gen Intel Core i5 1235U\",\"12th Gen Intel Core i7 1255U\",\"5th Gen AMD Ryzen 7  5800H\",\"12th Gen Intel Core i5 1240P\",\"5th Gen AMD Ryzen 5 5625U \",\"11th Gen Intel Core i3 1115G4\",\"11th Gen Intel Core i3 1115G4\",\"5th Gen AMD Ryzen 3  5300U\",\"5th Gen AMD Ryzen 5  5500U\",\"Apple M1 Pro M1 Pro\",\"Apple M1 Max M1 Max\",\"11th Gen Intel Core i5 1135G7\",\"11th Gen Intel Core i3 1115G4\",\"10th Gen Intel Core i7 10870H\",\"11th Gen Intel Core i5 1135G7\",\"11th Gen Intel Core i3 1115G4 \",\"5th Gen AMD Ryzen 5  5600H \",\"5th Gen AMD Ryzen 5  5500U \",\"11th Gen Intel Core i5 1135G7\",\"3rd Gen AMD Ryzen 3  3250U\",\"3rd Gen AMD Ryzen 5  3580U\",\"3rd Gen AMD Ryzen 5 3500U \",\"8th Gen Intel Core i5 8265U\",\"8th Gen Intel Core i5 8250U\",\"Intel\",\"11th Gen Intel Core i5 1135G7\",\"12th Gen Intel Core i7 1265U\",\"11th Gen Intel Core i5 1155G7\",\"12th Gen Intel Core i7 1260P\",\"13th Gen Intel Core i7 1355U\",\"12th Gen Intel Core i7 12700H\",\"10th Gen Intel Core i5 10300H\",\"12th Gen Intel Core i5 1240P\",\"11th Gen Intel Core i5 1135G7\",\"12th Gen Intel Core i5 1235U\",\"12th Gen Intel Core i5 1240P\",\"12th Gen Intel Core i5 1235U \",\"5th Gen AMD Ryzen 5  5625U\",\"Intel Celeron  N4020 \",\"11th Gen Intel Core i5 11320H\",\"12th Gen Intel Core i7 1260P \",\"12th Gen Intel Core i7 1260P \",\"12th Gen Intel Core i5 1240P\",\"Intel Pentium Silver  N6000\",\"5th Gen AMD Ryzen 3  5300U\",\"Apple M1 Pro M1 Pro\",\"Apple M1 Pro M1 Pro\",\"10th Gen Intel Core i3 10110U \",\"11th Gen Intel Core i5 11300H \",\"11th Gen Intel Core i5 11300H\",\"11th Gen Intel Core i5 1135G7\",\"5th Gen AMD Ryzen 7 5800H \",\"10th Gen Intel Core i5 10210U \",\"3rd Gen AMD Ryzen 5  3580U\",\"10th Gen Intel Core i3\",\"10th Gen Intel Core i7\",\"8th Gen Intel Core i7 8550U\",\"9th Gen intel Core i7 9750H\",\"8th Gen Intel Core i9 8950HK\",\"12th Gen Intel Core i5 12500H\",\"5th Gen AMD Ryzen 7  5700U\",\"13th Gen Intel Core i5 1335U\",\"13th Gen Intel Core i7 13650HX\",\"5th Gen AMD Ryzen 5  5500U\",\"7th Gen AMD Ryzen 5 7520U\",\"7th Gen AMD Ryzen 5 7520U\",\"7th Gen AMD Ryzen 5 7530U\",\"13th Gen Intel Core i7 13700H\",\"11th Gen Intel Core i7 1185G7\",\"11th Gen Intel Core i3 1115G4\",\"7th Gen AMD Ryzen 5 7520U \",\"7th Gen AMD Ryzen 7  7730U\",\"12th Gen Intel Core i3 1215U\",\"7th Gen AMD Ryzen 3 7320U\",\"13th Gen Intel Core i5 13500H\",\"12th Gen Intel Core i5 12450H \",\"11th Gen Intel Core i5 11320H\",\"7th Gen AMD Ryzen 5 7520U\",\"Intel   N4500\",\"5th Gen AMD Ryzen 7 5800HS\",\"Intel Celeron N4500\",\"Intel Celeron  N4020\",\"11th Gen Intel Core i3 1115G4\",\"5th Gen AMD Ryzen 5 5500H\",\"13th Gen Intel Core i9 13900HX\",\"13th Gen Intel Core i5 13420H\",\"13th Gen Intel Core i5 13420H\",\"Intel Celeron N4500\",\"13th Gen Intel Core i7 13700HX\",\"13th Gen Intel Core i7 13700HX\",\"13th Gen Intel Core i9 13900HX\",\"7th Gen Amd Ryzen 7 7840H\",\"13th Gen Intel Core i7 13700HX\",\"13th Gen Intel Core i7 13700H\",\"11th Gen Intel Core i5 11320H\",\"11th Gen Intel Core i5 11400H\",\"12th Gen Intel Core i5 1240P\",\"13th Gen Intel Core i5 1335U\",\"13th Gen Intel Core i5 13420H\",\"13th Gen Intel Core i9 13900HX\",\"13th Gen Intel Core i7 13620H\",\"5th Gen AMD Ryzen 7 5800H\",\"6th Gen AMD Ryzen 7 6800HS \",\"13th Gen Intel Core i9 13950HX\",\"13th Gen Intel Core i7 1355U\",\"12th Gen Intel Core i5 1235U\",\"7th Gen AMD Ryzen 7 7735HS\",\"12th Gen Intel Core i3 1215U\",\"Intel Celeron N4500\",\"Intel Celeron Dual Core N4500\",\"11th Gen Intel Core i7 1165G7\",\"7th Gen AMD Ryzen 5 7535HS\",\"6th Gen AMD Ryzen 7  6800H\",\"13th Gen Intel Core i9 13900H\",\"Intel Celeron Dual Core N4500\",\"11th Gen Intel Core i5 1135G7\",\"5th Gen AMD Ryzen 7 5800H\",\"5th Gen AMD Ryzen 5  5600H\",\"4th Gen AMD Ryzen 7 PRO 4750U\",\"12th Gen Intel Core i3 1215U\",\"7th Gen AMD Ryzen 5 7520U\",\"5th Gen AMD Ryzen 5  5500H\",\"11th Gen Intel Core i5 1135G7\",\"12th Gen Intel Core i5 1235U\",\"13th Gen Intel Core i5 1335U\",\"7th Gen AMD Ryzen 3 7320U\",\"13th Gen Intel Core i7 13700H\",\"12th Gen Intel Core i5 1235U\",\"5th Gen AMD Ryzen 5 5500U\",\"13th Gen Intel Core i7 13700H\",\"13th Gen Intel Core i3 1305U\",\"7th Gen AMD Ryzen 5 7530U\",\"12th Gen Intel Core i7 1255U\",\"13th Gen Intel Core i5 1335U\",\"11th Gen Intel Core i5 11320H\",\"7th Gen AMD Ryzen 7 7730U\",\"5th Gen AMD Ryzen 7 5700U\",\"10th Gen Intel Core i3 1005G1\",\"5th Gen AMD Ryzen 5  5600H \",\"7th Gen AMD Ryzen 7 7840HS\",\"7th Gen AMD Ryzen 7 7840HS\",\"13th Gen Intel Core i7 1355U \",\"13th Gen Intel Core i5 13500H\",\"7th Gen AMD Ryzen 3 7320U\",\"7th Gen AMD Ryzen 7 7840HS\",\"7th Gen AMD Ryzen 7 7730U\",\"7th Gen AMD Ryzen 5  7530U\",\"Intel Celeron N4020\",\"12th Gen Intel Core i7 1250U\",\"13th Gen Intel Core i5 1334U\",\"13th Gen Intel Core i7 1355U\",\"11th Gen Intel Core i7 1165G7\",\"11th Gen Intel Core i3 1115G4\",\"7th Gen AMD Ryzen 7  7730U\",\"7th Gen AMD Ryzen 5 7535HS\",\"11th Gen Intel Core i5 1135G7\",\"11th Gen Intel Core i3 1115G4\",\"13th Gen Intel Core i7 1360P\",\"12th Gen Intel Core i5 1235U\",\"12th Gen Intel Core i5 1235U\",\"7th Gen AMD Ryzen 5 7530U\",\"5th Gen AMD Ryzen 5 5600HS\",\"5th Gen AMD Ryzen 7 5800HS\",\"3rd Gen AMD Ryzen 3  3250U\",\"13th Gen Intel Core i5 1335U\",\"12th Gen Intel Core i7 12650H\",\"11th Gen Intel Core i3 1115G4\",\"13th Gen Intel Core i5 1335U\",\"12th Gen Intel Core i7 12700H \",\"12th Gen Intel Core i7 12650H\",\"12th Gen Intel Core i5 1235U\",\"Intel Celeron N4500\",\"Intel Celeron N4500\",\"Intel Celeron N4500\",\"Intel Celeron N4500\",\"12th Gen Intel Core i3 1215U\",\"13th Gen Intel Core i7 13620H\",\"12th Gen Intel Core i5 12500H\",\"5th Gen AMD Ryzen 7  5700U\",\"12th Gen Intel Core i7 12650H\",\"13th Gen Intel Core i5 1335U\",\"7th Gen AMD Ryzen 7 7730U\",\"7th Gen AMD Ryzen 5 7520U\",\"12th Gen Intel Core i5 1235U\",\"7th Gen Amd Ryzen 5 7535HS\",\"12th Gen Intel Core i5 12450H\",\"12th Gen Intel Core i5 12450H\",\"11th Gen Intel Core i5 11400H\",\"12th Gen Intel Core i7 12650H\",\"12th Gen Intel Core i3 1215U\",\"7th Gen AMD Ryzen 7 7735U\",\"5th Gen AMD Ryzen 5 5600H\",\"5th Gen AMD Ryzen 5 5500U\",\"5th Gen AMD Ryzen 5 5500U\",\"7th Gen AMD Ryzen 3 7320U\",\"11th Gen Intel Core i5 1135G7 \",\"7th Gen AMD Ryzen 9 7940HS\",\"13th Gen Intel Core i7 13700H\",\"13th Gen Intel Core i7 1355U\",\"13th Gen Intel Core i7 1360p\",\"11th Gen Intel Core i5 11260H\",\"7th Gen Amd Ryzen 5 7535HS\",\"12th Gen Intel Core i9 12900H\",\"7th Gen AMD Ryzen 3 7320U\",\"10th Gen Intel Core i5 1035G4\",\"Intel Core i3 N305\",\"11th Gen Intel Core i3 1115G4\",\"13th Gen Intel Core i7 13620H\",\"13th Gen Intel Core i3 1305U\",\"13th Gen Intel Core i7 1360P\",\"7th Gen Amd Ryzen 5 7520U\",\"13th Gen Intel Core i7 1360P\",\"13th Gen Intel Core i5 1335U\",\"13th Gen Intel Core i5 1340P\",\"13th Gen Intel Core i5 1335U\",\"13th Gen Intel Core i5 1335U\",\"5th Gen AMD Ryzen 5 5600H\",\"11th Gen Intel Core i5 11260H\",\"12th Gen Intel Core i7 12650H\",\"12th Gen Intel Core i7 12650H\",\"13th Gen Intel Core i9 13900H\",\"13th Gen Intel Core i7 13700H\",\"13th Gen Intel Core i5 13500H\",\"13th Gen Intel Core i7 13700H\",\"13th Gen Intel Core i5 13500HX\",\"13th Gen Intel Core i9 13900HX\",\"12th Gen Intel Core i5 12500H\",\"7th Gen AMD Ryzen 5 7530U\",\"12th Gen Intel Core i7 1250U\",\"10th Gen Intel Core i5 10210U\",\"13th Gen Intel Core i5 13420H\",\"13th Gen Intel Core i7 1365U\",\"12th Gen Intel Core i7 12650H\",\"11th Gen Intel Core i3 1115G4\",\"12th Gen Intel Core i5 12450H\",\"13th Gen Intel Core i5 1335U\",\"12th Gen Intel Core i5 12500H\",\"7th Gen AMD Ryzen 7 7840HS\",\"13th Gen Intel Core i9 13980HX\",\"13th Gen Intel Core i9 13980HX\",\"13th Gen Intel Core i7 13700HX\",\"11th Gen Intel Core i5 1135G7\",\"7th Gen AMD Ryzen 5 7530U\",\"7th Gen AMD Ryzen 7 7840HS\",\"intel Celeron  N4020\",\"13th Gen Intel Core i7 13700HX\",\"11th Gen Intel Core i7 1195G7\",\"11th Gen Intel Core i5 1155G7\",\"3rd Gen AMD Athlon  3050U\",\"7th Gen AMD Ryzen 5 7530U\",\"13th Gen Intel Core i7 13700H\",\"13th Gen Intel Core i5 1340P\",\"11th Gen Intel Core i5 11320H\",\"12th Gen Intel Core i7 12700H\",\"12th Gen Intel Core i5 1240P\",\"13th Gen Intel Core i9 13900HX\",\"5th Gen AMD Ryzen 7 5825U\",\"12th Gen Intel Core i5 1240P\",\"7th Gen Amd Ryzen 7 7745HX\",\"12th Gen Intel Core i7 12700H\",\"7th Gen AMD Ryzen 5 7530U\",\"5th Gen AMD Ryzen 5  5600H\",\"12th Gen Intel Core i7 12700H\",\"5th Gen AMD Ryzen 7 5700U\",\"12th Gen Intel Core i7 12650H\",\"7th Gen AMD Ryzen 5 7530U\",\"7th Gen AMD Ryzen 7 7840HS\",\"7th Gen AMD Ryzen 7 7840HS\",\"13th Gen Intel Core i7 1355U\",\"13th Gen Intel Core i5 1335U\",\"13th Gen Intel Core i5 1340P\",\"10th Gen Intel Core i5 10310U\",\"5th Gen AMD Ryzen 7 5800H\",\"13th Gen Intel Core i5 1335U\",\"13th Gen Intel Core i7 1360P\",\"Intel Pentium Silver   N6000 \",\"12th Gen Intel Core i5 1235U\",\"12th Gen Intel Core i9 12900H\",\"12th Gen Intel Core i7 12700H \",\"12th Gen Intel Core i7 12700H \",\"12th Gen Intel Core i9 12900H\",\"12th Gen Intel Core i7 12700H \",\"12th Gen Intel Core i7 12700H \",\"13th Gen Intel Core i7 1360P\",\"Intel Celeron  N4020 \",\"6th Gen AMD Ryzen 7  7735HS\",\"7th Gen AMD Ryzen 5 7530U\",\"13th Gen Intel Core i7 1360P\",\"13th Gen Intel Core i5 1335U\",\"3rd Gen AMD Ryzen 3  3250U\",\"13th Gen Intel Core i5 13420H\",\"13th Gen Intel Core i7 13700H\",\"12th Gen Intel Core i5 1235U\",\"4th Gen Intel Celeron N4020\",\"11th Gen Intel Core i7 1165G7 \",\"11th Gen Intel Core i7 11800H\",\"7th Gen AMD Ryzen 3 7330U\",\"11th Gen Intel Core i5 11260H\",\"7th Gen AMD Ryzen 3 7330U\",\"12th Gen Intel Core i5 12450H \",\"13th Gen Intel Core i5 1335U\",\"12th Gen Intel Core i5 12450H\",\"13th Gen ‎Intel Core i5 1335U\",\"7th Gen AMD Ryzen 5 7530U\",\"13th Gen Intel Core i5 1335U\",\"7th Gen AMD Ryzen 7 7730U\",\"7th Gen AMD Ryzen 5 7530U\",\"7th Gen AMD Ryzen 5 7530U\",\"13th Gen Intel Core i3 1305U\",\"7th Gen AMD Ryzen 5 7520U\",\"11th Gen Intel Core i3 1115G4\",\"7th Gen AMD Ryzen 3 7320U\",\"7th Gen AMD Ryzen 5 7530U\",\"12th Gen Intel Core i5 1235U\",\"12th Gen Intel Core i5 1235U\",\"5th Gen AMD Ryzen 5  5600H\",\"13th Gen Intel Core i7 13620H\",\"13th Gen Intel Core i3 1315U\",\"13th Gen Intel Core i7 1355U\",\"7th Gen AMD Ryzen 5 7520U\",\"13th Gen Intel Core i7 1355U\",\"3rd Gen AMD Ryzen 5 3500U\",\"7th Gen AMD Ryzen 9 7940HS\",\"11th Gen Intel Core i5 11400H \",\"13th Gen Intel Core i7 1355U\",\"5th Gen AMD Ryzen 5 5500U\",\"7th Gen AMD Ryzen 7 7735HS\",\"11th Gen Intel Core i3 1115G4\",\"6th Gen AMD Ryzen 7 6800H\",\"12th Gen Intel Core i7 1255U\",\"12th Gen Intel Core i5 12450H\",\"7th Gen AMD Ryzen 5 7520U\",\"12th Gen Intel Core i7 12650H\",\"10th Gen Intel Core i7 10750H \",\"12th Gen Intel Core i5 12450H\",\"12th Gen Intel Core i7 12650H\",\"12th Gen Intel Core i5 1235U\",\"12th Gen Intel Core i5 1235U\",\"12th Gen Intel Core i3 1215U\",\"12th Gen Intel Core i3 1215U\",\"5th Gen AMD Ryzen 5 5500U\",\"12th Gen Intel Core i3 1215U\",\"Intel Core i3 N305\",\"7th Gen Amd Ryzen 5 7530U\",\"11th Gen Intel Core i5 1155G7\",\"7th Gen Amd Ryzen 9 7940HS\",\"7th Gen AMD Ryzen 7 7735HS\",\"7th Gen AMD Ryzen 5 7535HS\",\"13th Gen Intel Core i5 1335U\",\"7th Gen AMD Ryzen 7 7735HS\",\"7th Gen AMD Ryzen 7  7735HS\",\"11th Gen Intel Core i5  1135G7\",\"11th Gen Intel Core i7 11800H\",\"11th Gen Intel Core i5 11260H\",\"12th Gen Intel Core i5 1235U\",\"7th Gen AMD Ryzen 5 7535HS\",\"7th Gen AMD Ryzen 7  7735HS\",\"7th Gen AMD Ryzen 7 7735HS\",\"12th Gen Intel Core i3 1215U\",\"12th Gen Intel Core i7 1260P\",\"12th Gen Intel Core i5 1240P\",\"12th Gen Intel Core i5 1240P\",\"13th Gen Intel Core i7 13700H\",\"13th Gen Intel Core i7 1360P\",\"13th Gen Intel Core i7 13700H\",\"13th Gen Intel Core i9 13900HX\",\"13th Gen Intel Core i5 13500H \",\"7th Gen AMD Ryzen 7 7745HX\",\"12th Gen Intel Core i7 1255U\",\"12th Gen Intel Core i5 1235U\",\"13th Gen Intel Core i5 1340P\",\"13th Gen Intel Core i7 1360P\",\"13th Gen Intel Core i7 1360P\",\"13th Gen Intel Core i5 1340P\",\"7th Gen AMD Ryzen 7 7730U\",\"12th Gen Intel Core i5 1235U\",\"5th Gen AMD Ryzen 5  5500u\",\"Intel Celeron  N4020\",\"Intel Celeron  N4020\",\"12th Gen Intel Core i3 1215U\",\"12th Gen Intel Core i5 12450H\",\"12th Gen Intel Core i5 1235U\",\"5th Gen AMD Ryzen 5 5500U\",\"5th Gen AMD Ryzen 5 5500U\",\"5th Gen AMD Ryzen 7 5800H\",\"11th Gen Intel Core i5 11400H \",\"12th Gen Intel Core i5 12450H\",\"13th Gen Intel Core i7 13620H\",\"13th Gen Intel Core i5 13500H\",\"11th Gen Intel Core i5 1135G7\",\"12th Gen Intel Core i5 1235U\",\"7th Gen AMD Ryzen 3 7320U\",\"11th Gen Intel Core i3 1115G4\",\"Intel Core i7\",\"11th Gen Intel Core i5 11400H \",\"13th Gen Intel Core i7 13650HX\",\"13th Gen Intel Core i7 13650HX\",\"13th Gen Intel Core i7 1355U\",\"13th Gen Intel 7 13700HX \",\"Intel Pentium Silver N6000\",\"11th Gen Intel Core i3 1115G4\",\"13th Gen Intel Core i3 1305U\",\"12th Gen Intel Core i3 1215U\",\"11th Gen Intel Core i7 1195G7\",\"13th Gen Intel Core i5 1335U\",\"13th Gen Intel Core i5 1335U\",\"5th Gen AMD Ryzen 7 5800H\",\"Intel Celeron N4020\",\"5th Gen AMD Ryzen 7 5800U\",\"13th Gen Intel Core i5 1335U\",\"13th Gen Intel Core i5 1335U\",\"13th Gen Intel Core i9 13900H\",\"13th Gen Intel Core i5 1335U\",\"5th Gen AMD Ryzen 5 5600H\",\"7th Gen AMD Ryzen 5 7530U\",\"12th Gen Intel Core i3 1215U\",\"12th Gen Intel Core i5 12450H\",\"Intel Celeron  N4500\",\"12th Gen Intel Core i7 12650H\",\"12th Gen Intel Core i5 12450H\",\"3rd Gen AMD Ryzen 5 3500U\",\"5th Gen AMD Ryzen 5 5600H\",\"7th Gen AMD Ryzen 7040 Series 040\",\"13th Gen Intel Core i7 13650HX\",\"13th Gen Intel Core i7 13650HX\",\"13th Gen Intel Core i9 13900HX \",\"13th Gen Intel Core i7 13650HX\",\"13th Gen Intel Core i3 1315U\",\"13th Gen Intel Core i5 1335U\",\"13th Gen ‎Intel Core i3 1315U\",\"6th Gen AMD Ryzen 7 6800H\",\"7th Gen AMD Ryzen 9 7940HS\",\"13th Gen Intel Core i7 13700H\",\"7th Gen AMD Ryzen 9 7940HS\"],\"xaxis\":\"x\",\"yaxis\":\"y\",\"type\":\"histogram\"}],                        {\"template\":{\"data\":{\"histogram2dcontour\":[{\"type\":\"histogram2dcontour\",\"colorbar\":{\"outlinewidth\":0,\"ticks\":\"\"},\"colorscale\":[[0.0,\"#0d0887\"],[0.1111111111111111,\"#46039f\"],[0.2222222222222222,\"#7201a8\"],[0.3333333333333333,\"#9c179e\"],[0.4444444444444444,\"#bd3786\"],[0.5555555555555556,\"#d8576b\"],[0.6666666666666666,\"#ed7953\"],[0.7777777777777778,\"#fb9f3a\"],[0.8888888888888888,\"#fdca26\"],[1.0,\"#f0f921\"]]}],\"choropleth\":[{\"type\":\"choropleth\",\"colorbar\":{\"outlinewidth\":0,\"ticks\":\"\"}}],\"histogram2d\":[{\"type\":\"histogram2d\",\"colorbar\":{\"outlinewidth\":0,\"ticks\":\"\"},\"colorscale\":[[0.0,\"#0d0887\"],[0.1111111111111111,\"#46039f\"],[0.2222222222222222,\"#7201a8\"],[0.3333333333333333,\"#9c179e\"],[0.4444444444444444,\"#bd3786\"],[0.5555555555555556,\"#d8576b\"],[0.6666666666666666,\"#ed7953\"],[0.7777777777777778,\"#fb9f3a\"],[0.8888888888888888,\"#fdca26\"],[1.0,\"#f0f921\"]]}],\"heatmap\":[{\"type\":\"heatmap\",\"colorbar\":{\"outlinewidth\":0,\"ticks\":\"\"},\"colorscale\":[[0.0,\"#0d0887\"],[0.1111111111111111,\"#46039f\"],[0.2222222222222222,\"#7201a8\"],[0.3333333333333333,\"#9c179e\"],[0.4444444444444444,\"#bd3786\"],[0.5555555555555556,\"#d8576b\"],[0.6666666666666666,\"#ed7953\"],[0.7777777777777778,\"#fb9f3a\"],[0.8888888888888888,\"#fdca26\"],[1.0,\"#f0f921\"]]}],\"heatmapgl\":[{\"type\":\"heatmapgl\",\"colorbar\":{\"outlinewidth\":0,\"ticks\":\"\"},\"colorscale\":[[0.0,\"#0d0887\"],[0.1111111111111111,\"#46039f\"],[0.2222222222222222,\"#7201a8\"],[0.3333333333333333,\"#9c179e\"],[0.4444444444444444,\"#bd3786\"],[0.5555555555555556,\"#d8576b\"],[0.6666666666666666,\"#ed7953\"],[0.7777777777777778,\"#fb9f3a\"],[0.8888888888888888,\"#fdca26\"],[1.0,\"#f0f921\"]]}],\"contourcarpet\":[{\"type\":\"contourcarpet\",\"colorbar\":{\"outlinewidth\":0,\"ticks\":\"\"}}],\"contour\":[{\"type\":\"contour\",\"colorbar\":{\"outlinewidth\":0,\"ticks\":\"\"},\"colorscale\":[[0.0,\"#0d0887\"],[0.1111111111111111,\"#46039f\"],[0.2222222222222222,\"#7201a8\"],[0.3333333333333333,\"#9c179e\"],[0.4444444444444444,\"#bd3786\"],[0.5555555555555556,\"#d8576b\"],[0.6666666666666666,\"#ed7953\"],[0.7777777777777778,\"#fb9f3a\"],[0.8888888888888888,\"#fdca26\"],[1.0,\"#f0f921\"]]}],\"surface\":[{\"type\":\"surface\",\"colorbar\":{\"outlinewidth\":0,\"ticks\":\"\"},\"colorscale\":[[0.0,\"#0d0887\"],[0.1111111111111111,\"#46039f\"],[0.2222222222222222,\"#7201a8\"],[0.3333333333333333,\"#9c179e\"],[0.4444444444444444,\"#bd3786\"],[0.5555555555555556,\"#d8576b\"],[0.6666666666666666,\"#ed7953\"],[0.7777777777777778,\"#fb9f3a\"],[0.8888888888888888,\"#fdca26\"],[1.0,\"#f0f921\"]]}],\"mesh3d\":[{\"type\":\"mesh3d\",\"colorbar\":{\"outlinewidth\":0,\"ticks\":\"\"}}],\"scatter\":[{\"fillpattern\":{\"fillmode\":\"overlay\",\"size\":10,\"solidity\":0.2},\"type\":\"scatter\"}],\"parcoords\":[{\"type\":\"parcoords\",\"line\":{\"colorbar\":{\"outlinewidth\":0,\"ticks\":\"\"}}}],\"scatterpolargl\":[{\"type\":\"scatterpolargl\",\"marker\":{\"colorbar\":{\"outlinewidth\":0,\"ticks\":\"\"}}}],\"bar\":[{\"error_x\":{\"color\":\"#2a3f5f\"},\"error_y\":{\"color\":\"#2a3f5f\"},\"marker\":{\"line\":{\"color\":\"#E5ECF6\",\"width\":0.5},\"pattern\":{\"fillmode\":\"overlay\",\"size\":10,\"solidity\":0.2}},\"type\":\"bar\"}],\"scattergeo\":[{\"type\":\"scattergeo\",\"marker\":{\"colorbar\":{\"outlinewidth\":0,\"ticks\":\"\"}}}],\"scatterpolar\":[{\"type\":\"scatterpolar\",\"marker\":{\"colorbar\":{\"outlinewidth\":0,\"ticks\":\"\"}}}],\"histogram\":[{\"marker\":{\"pattern\":{\"fillmode\":\"overlay\",\"size\":10,\"solidity\":0.2}},\"type\":\"histogram\"}],\"scattergl\":[{\"type\":\"scattergl\",\"marker\":{\"colorbar\":{\"outlinewidth\":0,\"ticks\":\"\"}}}],\"scatter3d\":[{\"type\":\"scatter3d\",\"line\":{\"colorbar\":{\"outlinewidth\":0,\"ticks\":\"\"}},\"marker\":{\"colorbar\":{\"outlinewidth\":0,\"ticks\":\"\"}}}],\"scattermapbox\":[{\"type\":\"scattermapbox\",\"marker\":{\"colorbar\":{\"outlinewidth\":0,\"ticks\":\"\"}}}],\"scatterternary\":[{\"type\":\"scatterternary\",\"marker\":{\"colorbar\":{\"outlinewidth\":0,\"ticks\":\"\"}}}],\"scattercarpet\":[{\"type\":\"scattercarpet\",\"marker\":{\"colorbar\":{\"outlinewidth\":0,\"ticks\":\"\"}}}],\"carpet\":[{\"aaxis\":{\"endlinecolor\":\"#2a3f5f\",\"gridcolor\":\"white\",\"linecolor\":\"white\",\"minorgridcolor\":\"white\",\"startlinecolor\":\"#2a3f5f\"},\"baxis\":{\"endlinecolor\":\"#2a3f5f\",\"gridcolor\":\"white\",\"linecolor\":\"white\",\"minorgridcolor\":\"white\",\"startlinecolor\":\"#2a3f5f\"},\"type\":\"carpet\"}],\"table\":[{\"cells\":{\"fill\":{\"color\":\"#EBF0F8\"},\"line\":{\"color\":\"white\"}},\"header\":{\"fill\":{\"color\":\"#C8D4E3\"},\"line\":{\"color\":\"white\"}},\"type\":\"table\"}],\"barpolar\":[{\"marker\":{\"line\":{\"color\":\"#E5ECF6\",\"width\":0.5},\"pattern\":{\"fillmode\":\"overlay\",\"size\":10,\"solidity\":0.2}},\"type\":\"barpolar\"}],\"pie\":[{\"automargin\":true,\"type\":\"pie\"}]},\"layout\":{\"autotypenumbers\":\"strict\",\"colorway\":[\"#636efa\",\"#EF553B\",\"#00cc96\",\"#ab63fa\",\"#FFA15A\",\"#19d3f3\",\"#FF6692\",\"#B6E880\",\"#FF97FF\",\"#FECB52\"],\"font\":{\"color\":\"#2a3f5f\"},\"hovermode\":\"closest\",\"hoverlabel\":{\"align\":\"left\"},\"paper_bgcolor\":\"white\",\"plot_bgcolor\":\"#E5ECF6\",\"polar\":{\"bgcolor\":\"#E5ECF6\",\"angularaxis\":{\"gridcolor\":\"white\",\"linecolor\":\"white\",\"ticks\":\"\"},\"radialaxis\":{\"gridcolor\":\"white\",\"linecolor\":\"white\",\"ticks\":\"\"}},\"ternary\":{\"bgcolor\":\"#E5ECF6\",\"aaxis\":{\"gridcolor\":\"white\",\"linecolor\":\"white\",\"ticks\":\"\"},\"baxis\":{\"gridcolor\":\"white\",\"linecolor\":\"white\",\"ticks\":\"\"},\"caxis\":{\"gridcolor\":\"white\",\"linecolor\":\"white\",\"ticks\":\"\"}},\"coloraxis\":{\"colorbar\":{\"outlinewidth\":0,\"ticks\":\"\"}},\"colorscale\":{\"sequential\":[[0.0,\"#0d0887\"],[0.1111111111111111,\"#46039f\"],[0.2222222222222222,\"#7201a8\"],[0.3333333333333333,\"#9c179e\"],[0.4444444444444444,\"#bd3786\"],[0.5555555555555556,\"#d8576b\"],[0.6666666666666666,\"#ed7953\"],[0.7777777777777778,\"#fb9f3a\"],[0.8888888888888888,\"#fdca26\"],[1.0,\"#f0f921\"]],\"sequentialminus\":[[0.0,\"#0d0887\"],[0.1111111111111111,\"#46039f\"],[0.2222222222222222,\"#7201a8\"],[0.3333333333333333,\"#9c179e\"],[0.4444444444444444,\"#bd3786\"],[0.5555555555555556,\"#d8576b\"],[0.6666666666666666,\"#ed7953\"],[0.7777777777777778,\"#fb9f3a\"],[0.8888888888888888,\"#fdca26\"],[1.0,\"#f0f921\"]],\"diverging\":[[0,\"#8e0152\"],[0.1,\"#c51b7d\"],[0.2,\"#de77ae\"],[0.3,\"#f1b6da\"],[0.4,\"#fde0ef\"],[0.5,\"#f7f7f7\"],[0.6,\"#e6f5d0\"],[0.7,\"#b8e186\"],[0.8,\"#7fbc41\"],[0.9,\"#4d9221\"],[1,\"#276419\"]]},\"xaxis\":{\"gridcolor\":\"white\",\"linecolor\":\"white\",\"ticks\":\"\",\"title\":{\"standoff\":15},\"zerolinecolor\":\"white\",\"automargin\":true,\"zerolinewidth\":2},\"yaxis\":{\"gridcolor\":\"white\",\"linecolor\":\"white\",\"ticks\":\"\",\"title\":{\"standoff\":15},\"zerolinecolor\":\"white\",\"automargin\":true,\"zerolinewidth\":2},\"scene\":{\"xaxis\":{\"backgroundcolor\":\"#E5ECF6\",\"gridcolor\":\"white\",\"linecolor\":\"white\",\"showbackground\":true,\"ticks\":\"\",\"zerolinecolor\":\"white\",\"gridwidth\":2},\"yaxis\":{\"backgroundcolor\":\"#E5ECF6\",\"gridcolor\":\"white\",\"linecolor\":\"white\",\"showbackground\":true,\"ticks\":\"\",\"zerolinecolor\":\"white\",\"gridwidth\":2},\"zaxis\":{\"backgroundcolor\":\"#E5ECF6\",\"gridcolor\":\"white\",\"linecolor\":\"white\",\"showbackground\":true,\"ticks\":\"\",\"zerolinecolor\":\"white\",\"gridwidth\":2}},\"shapedefaults\":{\"line\":{\"color\":\"#2a3f5f\"}},\"annotationdefaults\":{\"arrowcolor\":\"#2a3f5f\",\"arrowhead\":0,\"arrowwidth\":1},\"geo\":{\"bgcolor\":\"white\",\"landcolor\":\"#E5ECF6\",\"subunitcolor\":\"white\",\"showland\":true,\"showlakes\":true,\"lakecolor\":\"white\"},\"title\":{\"x\":0.05},\"mapbox\":{\"style\":\"light\"}}},\"xaxis\":{\"anchor\":\"y\",\"domain\":[0.0,1.0],\"title\":{\"text\":\"processor\"}},\"yaxis\":{\"anchor\":\"x\",\"domain\":[0.0,1.0],\"title\":{\"text\":\"count\"}},\"legend\":{\"tracegroupgap\":0},\"title\":{\"text\":\"Processor Distribution\"},\"barmode\":\"relative\"},                        {\"responsive\": true}                    ).then(function(){\n",
              "                            \n",
              "var gd = document.getElementById('50dde23f-4ce1-41a4-a7bf-242c63bcc84c');\n",
              "var x = new MutationObserver(function (mutations, observer) {{\n",
              "        var display = window.getComputedStyle(gd).display;\n",
              "        if (!display || display === 'none') {{\n",
              "            console.log([gd, 'removed!']);\n",
              "            Plotly.purge(gd);\n",
              "            observer.disconnect();\n",
              "        }}\n",
              "}});\n",
              "\n",
              "// Listen for the removal of the full notebook cells\n",
              "var notebookContainer = gd.closest('#notebook-container');\n",
              "if (notebookContainer) {{\n",
              "    x.observe(notebookContainer, {childList: true});\n",
              "}}\n",
              "\n",
              "// Listen for the clearing of the current output cell\n",
              "var outputEl = gd.closest('.output');\n",
              "if (outputEl) {{\n",
              "    x.observe(outputEl, {childList: true});\n",
              "}}\n",
              "\n",
              "                        })                };                            </script>        </div>\n",
              "</body>\n",
              "</html>"
            ]
          },
          "metadata": {}
        }
      ],
      "source": [
        "plt = px.histogram(df, x='processor', title=\"Processor Distribution\", color_discrete_sequence=px.colors.qualitative.Pastel)\n",
        "plt.show()"
      ]
    },
    {
      "cell_type": "code",
      "execution_count": 102,
      "metadata": {
        "colab": {
          "base_uri": "https://localhost:8080/",
          "height": 0
        },
        "id": "zP7WByCvCARo",
        "outputId": "4e58c708-47e7-4c06-ab06-17eeeb4b5526"
      },
      "outputs": [
        {
          "output_type": "display_data",
          "data": {
            "text/html": [
              "<html>\n",
              "<head><meta charset=\"utf-8\" /></head>\n",
              "<body>\n",
              "    <div>            <script src=\"https://cdnjs.cloudflare.com/ajax/libs/mathjax/2.7.5/MathJax.js?config=TeX-AMS-MML_SVG\"></script><script type=\"text/javascript\">if (window.MathJax && window.MathJax.Hub && window.MathJax.Hub.Config) {window.MathJax.Hub.Config({SVG: {font: \"STIX-Web\"}});}</script>                <script type=\"text/javascript\">window.PlotlyConfig = {MathJaxConfig: 'local'};</script>\n",
              "        <script charset=\"utf-8\" src=\"https://cdn.plot.ly/plotly-2.35.2.min.js\"></script>                <div id=\"70613e01-4eb8-4df0-a3dd-51b9c6b1d980\" class=\"plotly-graph-div\" style=\"height:525px; width:100%;\"></div>            <script type=\"text/javascript\">                                    window.PLOTLYENV=window.PLOTLYENV || {};                                    if (document.getElementById(\"70613e01-4eb8-4df0-a3dd-51b9c6b1d980\")) {                    Plotly.newPlot(                        \"70613e01-4eb8-4df0-a3dd-51b9c6b1d980\",                        [{\"alignmentgroup\":\"True\",\"bingroup\":\"x\",\"hovertemplate\":\"CPU=%{x}\\u003cbr\\u003ecount=%{y}\\u003cextra\\u003e\\u003c\\u002fextra\\u003e\",\"legendgroup\":\"\",\"marker\":{\"color\":\"rgb(102, 197, 204)\",\"pattern\":{\"shape\":\"\"}},\"name\":\"\",\"offsetgroup\":\"\",\"orientation\":\"v\",\"showlegend\":false,\"x\":[\"Hexa Core, 12 Threads\",\"Hexa Core (2P + 4E), 8 Threads\",\"Dual Core, 4 Threads\",\"12 Cores (4P + 8E), 16 Threads\",\"Octa Core (4P + 4E)\",\"12 Cores (4P + 8E), 16 Threads\",\"Hexa Core (2P + 4E), 8 Threads\",\"Octa Core (4P + 4E), 12 Threads\",\"12 Cores (4P + 8E), 16 Threads\",\"12 Cores (4P + 8E), 16 Threads\",\"10 Cores (2P + 8E), 12 Threads\",\"Dual Core, 2 Threads\",\"12 Cores (4P + 8E), 16 Threads\",\"Octa Core\",\"Quad Core, 8 Threads\",\"Hexa Core, 12 Threads\",\"Dual Core, 4 Threads\",\"14 Cores (6P + 8E), 20 Threads\",\"Octa Core (4P + 4E), 12 Threads\",\"Quad Core, 8 Threads\",\"Hexa Core, 12 Threads\",\"Octa Core (4P + 4E)\",\"Octa Core (4P + 4E), 12 Threads\",\"Quad Core, 8 Threads\",\"Octa Core, 16 Threads\",\"Hexa Core, 12 Threads\",\"Dual Core, 2 Threads\",\"Octa Core, 8 Threads\",\"12 Cores (4P + 8E), 16 Threads\",\"10 Cores (2P + 8E), 12 Threads\",\"Hexa Core, 12 Threads\",\"24 Cores (8P + 16E), 32 Threads\",\"Hexa Core, 12 Threads\",\"Hexa Core, 12 Threads\",\"10 Cores (6P + 4E), 16 Threads\",\"12 Cores (4P + 8E), 16 Threads\",\"Hexa Core, 12 Threads\",\"Octa Core (4P + 4E), 12 Threads\",\"Hexa Core (2P + 4E), 8 Threads\",\"Octa Core (4P + 4E), 12 Threads\",\"Dual Core, 4 Threads\",\"12 Cores (4P + 8E), 16 Threads\",\"10 Cores (2P + 8E), 12 Threads\",\"Hexa Core (2P + 4E), 8 Threads\",\"10 Cores (6P + 4E), 16 Threads\",\"24 Cores (8P + 16E), 32 Threads\",\"Quad Core, 8 Threads\",\"Quad Core, 8 Threads\",\"Octa Core (4P + 4E), 12 Threads\",\"14 Cores (6P + 8E), 20 Threads\",\"Dual Core, 2 Threads\",\"Hexa Core, 12 Threads\",\"Octa Core (4P + 4E), 12 Threads\",\"Quad Core, 8 Threads\",\"Octa Core (4P + 4E), 12 Threads\",\"Quad Core, 8 Threads\",\"Octa Core, 16 Threads\",\"10 Cores (2P + 8E), 12 Threads\",\"Octa Core, 16 Threads\",\"14 Cores, 20 Threads\",\"10 Cores (6P + 4E), 16 Threads\",\"14 Cores (6P + 8E), 20 Threads\",\"12 Cores (4P + 8E), 16 Threads\",\"12 Cores (4P + 8E), 16 Threads\",\"10 Cores (6P + 4E), 16 Threads\",\"Quad Core, 8 Threads\",\"Dual Core, 4 Threads\",\"Octa Core (4P + 4E), 12 Threads\",\"12 Cores (4P + 8E), 16 Threads\",\"Octa Core (4P + 4E), 12 Threads\",\"Octa Core, 16 Threads\",\"Quad Core, 4 Threads\",\"Hexa Core, 12 Threads\",\"Quad Core, 8 Threads\",\"Hexa Core, 12 Threads\",\"Hexa Core, 12 Threads\",\"Octa Core, 16 Threads\",\"10 Cores (2P + 8E), 12 Threads\",\"Hexa Core (2P + 4E), 8 Threads\",\"12 Cores (4P + 8E), 16 Threads\",\"Octa Core, 16 Threads\",\"Hexa Core, 12 Threads\",\"Quad Core, 8 Threads\",\"Hexa Core, 12 Threads\",\"10 Cores (2P + 8E), 12 Threads\",\"Octa Core, 16 Threads\",\"Hexa Core, 12 Threads\",\"Octa Core (4P + 4E), 12 Threads\",\"Quad Core, 8 Threads\",\"Dual Core, 4 Threads\",\"10 Cores (6P + 4E), 16 Threads\",\"Hexa Core (2P + 4E), 8 Threads\",\"Hexa Core, 12 Threads\",\"Octa Core (4P + 4E), 12 Threads\",\"Octa Core, 16 Threads\",\"Octa Core (4P + 4E)\",\"10 Cores (2P + 8E), 12 Threads\",\"12 Cores (4P + 8E), 16 Threads\",\"10 Cores (2P + 8E), 12 Threads\",\"Quad Core, 8 Threads\",\"Octa Core, 16 Threads\",\"Dual Core, 2 Threads\",\"Quad Core, 8 Threads\",\"Hexa Core, 12 Threads\",\"Quad Core, 8 Threads\",\"Quad Core\",\"10 Cores (2P + 8E), 12 Threads\",\"Octa Core, 16 Threads\",\"Hexa Core (2P + 4E), 8 Threads\",\"10 Cores (2P + 8E), 12 Threads\",\"Dual Core, 2 Threads\",\"12 Cores (4P + 8E), 16 Threads\",\"10 Cores (2P + 8E), 12 Threads\",\"Octa Core, 16 Threads\",\"14 Cores (6P + 8E), 20 Threads\",\"10 Cores (2P + 8E), 12 Threads\",\"Octa Core (4P + 4E), 12 Threads\",\"Hexa Core, 12 Threads\",\"Octa Core (4P + 4E), 12 Threads\",\"Hexa Core, 12 Threads\",\"Octa Core (4P + 4E), 12 Threads\",\"Hexa Core (2P + 4E), 8 Threads\",\"Hexa Core, 12 Threads\",\"Quad Core, 8 Threads\",\"Dual Core, 4 Threads\",\"Octa Core, 16 Threads\",\"12 Cores (4P + 8E), 16 Threads\",\"Quad Core, 8 Threads\",\"Dual Core, 4 Threads\",\"10 Cores (2P + 8E), 12 Threads\",\"Hexa Core (2P + 4E), 8 Threads\",\"10 Cores (2P + 8E), 12 Threads\",\"10 Cores (2P + 8E), 12 Threads\",\"12 Cores (4P + 8E), 16 Threads\",\"Hexa Core, 12 Threads\",\"Hexa Core, 12 Threads\",\"Dual Core, 2 Threads\",\"Quad Core, 8 Threads\",\"10 Cores (2P + 8E), 12 Threads\",\"10 Cores (2P + 8E), 12 Threads\",\"Dual Core, 4 Threads\",\"14 Cores (6P + 8E), 20 Threads\",\"Dual Core, 2 Threads\",\"Quad Core, 8 Threads\",\"Octa Core, 16 Threads\",\"Octa Core, 16 Threads\",\"Octa Core, 16 Threads\",\"12 Cores (4P + 8E), 16 Threads\",\"5 Cores (1P + 4E), 6 Threads\",\"24 Cores (8P + 16E), 32 Threads\",\"Hexa Core, 12 Threads\",\"Quad Core, 8 Threads\",\"10 Cores (2P + 8E), 12 Threads\",\"Quad Core, 8 Threads\",\"Hexa Core, 12 Threads\",\"Octa Core (4P + 4E), 12 Threads\",\"Dual Core, 4 Threads\",\"12 Cores (4P + 8E), 16 Threads\",\"Octa Core (4P + 4E)\",\"12 Cores (4P + 8E), 16 Threads\",\"Octa Core, 16 Threads\",\"12 Cores (4P + 8E), 16 Threads\",\"10 Cores (6P + 4E), 16 Threads\",\"Octa Core, 16 Threads\",\"24 Cores (8P + 16E), 32 Threads\",\"Octa Core (4P + 4E), 12 Threads\",\"Hexa Core (2P + 4E), 8 Threads\",\"10 Cores (2P + 8E), 12 Threads\",\"16 Cores (8P + 8E), 24 Threads\",\"Hexa Core, 12 Threads\",\"16 Cores (8P + 8E), 24 Threads\",\"Quad Core, 8 Threads\",\"16 Cores (8P + 8E), 24 Threads\",\"Hexa Core (2P + 4E), 8 Threads\",\"Hexa Core (2P + 4E), 8 Threads\",\"Hexa Core, 12 Threads\",\"Octa Core, 16 Threads\",\"Octa Core, 16 Threads\",\"Octa Core, 16 Threads\",\"12 Cores (4P + 8E), 16 Threads\",\"Quad Core, 8 Threads\",\"16 Cores, 32 Threads\",\"Hexa Core, 12 Threads\",\"Hexa Core, 12 Threads\",\"Quad Core, 8 Threads\",\"10 Cores (6P + 4E), 16 Threads\",\"Octa Core, 8 Threads\",\"10 Cores (2P + 8E), 12 Threads\",\"10 Cores (2P + 8E), 12 Threads\",\"12 Cores (4P + 8E), 16 Threads\",\"Hexa Core, 12 Threads\",\"12 Cores (4P + 8E), 16 Threads\",\"Hexa Core, 12 Threads\",\"Hexa Core, 12 Threads\",\"10 Cores (2P + 8E), 12 Threads\",\"10 Cores (2P + 8E), 12 Threads\",\"Quad Core, 8 Threads\",\"Octa Core, 16 Threads\",\"Dual Core, 4 Threads\",\"Hexa Core (2P + 4E), 8 Threads\",\"10 Cores (2P + 8E), 12 Threads\",\"Hexa Core, 12 Threads\",\"Dual Core, 4 Threads\",\"Hexa Core, 12 Threads\",\"Octa Core, 16 Threads\",\"Dual Core, 4 Threads\",\"Octa Core\",\"12 Cores (4P + 8E), 16 Threads\",\"12 Cores (4P + 8E), 16 Threads\",\"Dual Core, 4 Threads\",\"Quad Core, 8 Threads\",\"Quad Core, 8 Threads\",\"Quad Core, 8 Threads\",\"Octa Core (4P + 4E)\",\"Quad Core, 8 Threads\",\"Octa Core\",\"Octa Core (4P + 4E), 12 Threads\",\"10 Cores (2P + 8E), 12 Threads\",\"Hexa Core, 12 Threads\",\"Hexa Core (2P + 4E), 8 Threads\",\"Octa Core, 16 Threads\",\"Dual Core, 2 Threads\",\"Hexa Core (2P + 4E), 8 Threads\",\"Quad Core, 8 Threads\",\"Octa Core (4P + 4E), 12 Threads\",\"Hexa Core, 12 Threads\",\"14 Cores (6P + 8E), 20 Threads\",\"Octa Core, 16 Threads\",\"10 Cores (6P + 4E), 16 Threads\",\"Octa Core, 16 Threads\",\"Dual Core, 4 Threads\",\"Octa Core, 16 Threads\",\"Hexa Core (2P + 4E), 8 Threads\",\"12 Cores (4P + 8E), 16 Threads\",\"Hexa Core (2P + 4E), 8 Threads\",\"10 Cores (2P + 8E), 12 Threads\",\"12 Cores (4P + 8E), 16 Threads\",\"10 Cores (2P + 8E), 12 Threads\",\"Hexa Core, 12 Threads\",\"Dual Core, 2 Threads\",\"Hexa Core (2P + 4E), 8 Threads\",\"Quad Core, 8 Threads\",\"Octa Core (4P + 4E), 12 Threads\",\"10 Cores (2P + 8E), 12 Threads\",\"Quad Core, 8 Threads\",\"Octa Core, 16 Threads\",\"Octa Core (4P + 4E), 12 Threads\",\"Hexa Core (2P + 4E), 8 Threads\",\"Hexa Core, 12 Threads\",\"Dual Core, 2 Threads\",\"10 Cores (6P + 4E), 16 Threads\",\"Octa Core, 16 Threads\",\"Hexa Core (2P + 4E), 8 Threads\",\"14 Cores (6P + 8E), 20 Threads\",\"Quad Core, 8 Threads\",\"Dual Core, 4 Threads\",\"5 Cores (1P + 4E), 6 Threads\",\"Dual Core, 4 Threads\",\"10 Cores (2P + 8E), 12 Threads\",\"10 Cores (2P + 8E), 12 Threads\",\"Dual Core, 2 Threads\",\"Quad Core, 8 Threads\",\"Octa Core, 16 Threads\",\"Dual Core, 4 Threads\",\"Hexa Core, 12 Threads\",\"Octa Core (4P + 4E), 12 Threads\",\"Hexa Core, 12 Threads\",\"Hexa Core, 12 Threads\",\"Dual Core, 4 Threads\",\"Hexa Core, 12 Threads\",\"Quad Core, 8 Threads\",\"Quad Core, 8 Threads\",\"10 Cores (2P + 8E), 12 Threads\",\"5 Cores (1P + 4E), 6 Threads\",\"10 Cores (2P + 8E), 12 Threads\",\"Octa Core, 16 Threads\",\"10 Cores (2P + 8E), 12 Threads\",\"Hexa Core, 12 Threads\",\"12 Cores (4P + 8E), 16 Threads\",\"Hexa Core (2P + 4E), 8 Threads\",\"14 Cores (6P + 8E), 20 Threads\",\"Dual Core, 4 Threads\",\"Octa Core (4P + 4E), 12 Threads\",\"Octa Core, 16 Threads\",\"Octa Core (4P + 4E), 12 Threads\",\"Hexa Core, 12 Threads\",\"Hexa Core (2P + 4E), 8 Threads\",\"Quad Core, 8 Threads\",\"24 Cores (8P + 16E), 32 Threads\",\"10 Cores (6P + 4E), 16 Threads\",\"10 Cores (2P + 8E), 12 Threads\",\"Dual Core, 2 Threads\",\"12 Cores (4P + 8E), 16 Threads\",\"10 Cores (2P + 8E), 12 Threads\",\"Quad Core, 8 Threads\",\"14 Cores (6P + 8E), 20 Threads\",\"Hexa Core (2P + 4E), 8 Threads\",\"12 Cores (4P + 8E), 16 Threads\",\"Hexa Core, 12 Threads\",\"Quad Core, 8 Threads\",\"Hexa Core (2P + 4E), 8 Threads\",\"Quad Core, 8 Threads\",\"Quad Core, 8 Threads\",\"10 Cores (2P + 8E), 12 Threads\",\"Quad Core, 8 Threads\",\"Quad Core, 8 Threads\",\"Hexa Core, 12 Threads\",\"10 Cores (2P + 8E), 12 Threads\",\"Hexa Core, 12 Threads\",\"Hexa Core (2P + 4E), 8 Threads\",\"Octa Core, 16 Threads\",\"Quad Core, 8 Threads\",\"10 Cores (2P + 8E), 12 Threads\",\"14 Cores (6P + 8E)\",\"10 Cores (2P + 8E), 12 Threads\",\"14 Cores (6P + 8E), 20 Threads\",\"Dual Core, 4 Threads\",\"Hexa Core, 12 Threads\",\"Octa Core, 16 Threads\",\"14 Cores (6P + 8E)\",\"14 Cores (6P + 8E), 20 Threads\",\"24 Cores (8P + 16E), 32 Threads\",\"14 Cores (6P + 8E)\",\"14 Cores (6P + 8E), 20 Threads\",\"12 Cores (4P + 8E), 16 Threads\",\"Hexa Core, 12 Threads\",\"10 Cores (2P + 8E), 12 Threads\",\"Dual Core, 4 Threads\",\"Hexa Core (2P + 4E), 8 Threads\",\"Quad Core, 8 Threads\",\"12 Cores (4P + 8E), 16 Threads\",\"Hexa Core, 12 Threads\",\"14 Cores (6P + 8E), 20 Threads\",\"10 Cores (2P + 8E), 12 Threads\",\"16 Cores (8P + 8E), 24 Threads\",\"14 Cores (6P + 8E), 20 Threads\",\"Octa Core (4P + 4E), 12 Threads\",\"Hexa Core, 12 Threads\",\"Quad Core, 8 Threads\",\"14 Cores (6P + 8E), 20 Threads\",\"Dual Core, 4 Threads\",\"10 Cores (2P + 8E), 12 Threads\",\"12 Cores (4P + 8E), 16 Threads\",\"14 Cores (6P + 8E), 20 Threads\",\"Octa Core, 16 Threads\",\"12 Cores (4P + 8E), 16 Threads\",\"24 Cores (8P + 16E), 32 Threads\",\"Dual Core, 2 Threads\",\"Quad Core, 8 Threads\",\"Hexa Core, 12 Threads\",\"Hexa Core (2P + 4E), 8 Threads\",\"Dual Core, 2 Threads\",\"Quad Core, 8 Threads\",\"Hexa Core, 12 Threads\",\"Octa Core, 16 Threads\",\"10 Cores (2P + 8E), 12 Threads\",\"Hexa Core, 12 Threads\",\"10 Cores (2P + 8E), 12 Threads\",\"Octa Core, 16 Threads\",\"Quad Core, 8 Threads\",\"10 Cores (2P + 8E), 12 Threads\",\"Dual Core, 4 Threads\",\"10 Cores (2P + 8E), 12 Threads\",\"12 Cores (4P + 8E), 16 Threads\",\"12 Cores (4P + 8E), 16 Threads\",\"10 Cores (2P + 8E), 12 Threads\",\"12 Cores (4P + 8E), 16 Threads\",\"10 Cores (2P + 8E), 12 Threads\",\"12 Cores (4P + 8E), 16 Threads\",\"12 Cores (4P + 8E), 16 Threads\",\"12 Cores (4P + 8E), 16 Threads\",\"14 Cores (6P + 8E), 20 Threads\",\"Hexa Core, 12 Threads\",\"Dual Core, 4 Threads\",\"Dual Core, 4 Threads\",\"12 Cores\",\"12 Cores\",\"12 Cores (4P + 8E), 16 Threads\",\"Quad Core, 8 Threads\",\"Octa Core, 16 Threads\",\"Octa Core (4P + 4E), 12 Threads\",\"Quad Core, 8 Threads\",\"Hexa Core, 12 Threads\",\"Quad Core, 8 Threads\",\"Dual Core, 4 Threads\",\"Quad Core, 8 Threads\",\"12 Cores (4P + 8E), 16 Threads\",\"Dual Core, 4 Threads\",\"10 Cores (2P + 8E), 12 Threads\",\"12 Cores (4P + 8E), 16 Threads\",\"14 Cores (6P + 8E), 20 Threads\",\"Hexa Core (2P + 4E), 8 Threads\",\"Quad Core, 8 Threads\",\"Quad Core, 8 Threads\",\"Quad Core, 8 Threads\",\"Octa Core, 16 Threads\",\"Hexa Core, 12 Threads\",\"Hexa Core, 12 Threads\",\"Octa Core, 16 Threads\",\"Quad Core, 8 Threads\",\"Octa Core, 16 Threads\",\"Octa Core, 16 Threads\",\"Hexa Core, 12 Threads\",\"Quad Core, 8 Threads\",\"Quad Core, 8 Threads\",\"Hexa Core, 12 Threads\",\"Quad Core, 8 Threads\",\"12 Cores (4P + 8E), 16 Threads\",\"12 Cores (4P + 8E), 16 Threads\",\"Hexa Core, 12 Threads\",\"Dual Core, 4 Threads\",\"12 Cores (4P + 8E), 16 Threads\",\"10 Cores (2P + 8E), 12 Threads\",\"10 Cores, 12 Threads\",\"10 Cores (2P + 8E), 12 Threads\",\"10 Cores (2P + 8E), 12 Threads\",\"10 Cores (2P + 8E), 12 Threads\",\"10 Cores (2P + 8E), 12 Threads\",\"Hexa Core (2P + 4E), 8 Threads\",\"12 Cores (4P + 8E), 16 Threads\",\"14 Cores (6P + 8E), 20 Threads\",\"Quad Core, 8 Threads\",\"Hexa Core, 12 Threads\",\"Octa Core, 16 Threads\",\"Hexa Core, 12 Threads\",\"Hexa Core, 12 Threads\",\"10 Cores (2P + 8E), 12 Threads\",\"10 Cores (2P + 8E), 12 Threads\",\"14 Cores (6P + 8E), 20 Threads\",\"14 Cores (6P + 8E), 20 Threads\",\"14 Cores (6P + 8E), 20 Threads\",\"Quad Core, 8 Threads\",\"Hexa Core, 12 Threads\",\"Octa Core, 12 Threads\",\"Dual Core, 4 Threads\",\"Dual Core, 4 Threads\",\"Hexa Core, 12 Threads\",\"10 Cores (2P + 8E), 12 Threads\",\"Hexa Core, 12 Threads\",\"Dual Core, 4 Threads\",\"10 Cores (2P + 8E), 12 Threads\",\"Octa Core, 16 Threads\",\"Dual Core, 4 Threads\",\"10 Cores (2P + 8E), 12 Threads\",\"Dual Core, 4 Threads\",\"Dual Core, 4 Threads\",\"Hexa Core, 12 Threads\",\"Hexa Core, 12 Threads\",\"Dual Core, 2 Threads\",\"Dual Core, 4 Threads\",\"Octa Core, 16 Threads\",\"12 Cores (4P + 8E), 16 Threads\",\"10 Cores (2P + 8E), 12 Threads\",\"Octa Core, 16 Threads\",\"14 Cores (6P + 8E), 20 Threads\",\"10 Cores (2P + 8E), 12 Threads\",\"Hexa Core, 12 Threads\",\"Quad Core, 8 Threads\",\"10 Cores (2P + 8E), 12 Threads\",\"10 Cores (2P + 8E), 12 Threads\",\"10 Cores (2P + 8E), 12 Threads\",\"Octa Core, 16 Threads\",\"12 Cores (4P + 8E), 16 Threads\",\"Hexa Core, 12 Threads\",\"Dual Core, 4 Threads\",\"Dual Core, 4 Threads\",\"Quad Core, 8 Threads\",\"Hexa Core, 12 Threads\",\"10 Cores (8P + 2E)\",\"10 Cores\",\"Quad Core, 8 Threads\",\"Dual Core, 4 Threads\",\"Octa Core, 16 Threads\",\"Quad Core, 8 Threads\",\"Dual Core, 4 Threads\",\"Hexa Core, 12 Threads\",\"Hexa Core, 12 Threads\",\"Quad Core, 8 Threads\",\"Dual Core, 4 Threads\",\"Quad Core, 8 Threads\",\"Quad Core, 8 Threads\",\"Quad Core, 8 Threads\",\"Quad Core, 8 Threads\",\"Quad Core\",\"Quad Core, 8 Threads\",\"10 Cores (2P + 8E), 12 Threads\",\"Quad Core, 8 Threads\",\"12 Cores (4P + 8E), 16 Threads\",\"10 Cores (2P + 8E), 12 Threads\",\"14 Cores (6P + 8E), 20 Threads\",\"Quad Core, 8 Threads\",\"12 Cores (4P + 8E), 16 Threads\",\"Quad Core, 8 Threads\",\"10 Cores (2P + 8E), 12 Threads\",\"12 Cores (4P + 8E), 16 Threads\",\"10 Cores, 12 Threads\",\"Hexa Core, 12 Threads\",\"Dual Core, 2 Threads\",\"Quad Core, 8 Threads\",\"Octa Core, 16 Threads\",\"Octa Core, 16 Threads\",\"12 Cores (4P + 8E), 16 Threads\",\"Quad Core, 4 Threads\",\"Quad Core, 8 Threads\",\"10 Cores\",\"10 Cores (8P + 2E)\",\"Dual Core, 4 Threads\",\"Quad Core, 8 Threads\",\"Quad Core, 8 Threads\",\"Quad Core, 8 Threads\",\"Octa Core, 16 Threads\",\"Quad Core, 8 Threads\",\"Quad Core, 8 Threads\",\"Quad Core, 8 Threads\",\"Quad Core, 8 Threads\",\"Quad Core, 8 Threads\",\"Hexa Core, 12 Threads\",\"Hexa Core, 12 Threads\",\"12 Cores (4P + 8E), 16 Threads\",\"Octa Core, 16 Threads\",\"10 Cores (2P + 8E), 12 Threads\",\"14 Cores (6P + 8E)\",\"Hexa Core, 12 Threads\",\"Quad Core, 8 Threads\",\"Quad Core, 8 Threads\",\"Hexa Core, 12 Threads\",\"14 Cores (6P + 8E), 20 Threads\",\"Quad Core, 8 Threads\",\"Dual Core, 4 Threads\",\"Quad Core, 8 Threads\",\"Octa Core, 16 Threads\",\"Hexa Core (2P + 4E), 8 Threads\",\"Quad Core, 8 Threads\",\"12 Cores (4P + 8E), 16 Threads\",\"Octa Core (4P + 4E), 12 Threads\",\"Quad Core, 8 Threads\",\"Quad Core, 8 Threads\",\"Dual Core, 2 Threads\",\"Octa Core, 16 Threads\",\"Dual Core, 2 Threads\",\"Dual Core, 2 Threads\",\"Dual Core, 4 Threads\",\"Quad Core, 8 Threads\",\"24 Cores (8P + 16E), 32 Threads\",\"Octa Core (4P + 4E), 12 Threads\",\"Octa Core (4P + 4E), 12 Threads\",\"Dual Core, 2 Threads\",\"16 Cores (8P + 8E), 24 Threads\",\"16 Cores (8P + 8E), 24 Threads\",\"24 Cores (8P + 16E), 32 Threads\",\"Octa Core, 16 Threads\",\"16 Cores (8P + 8E), 24 Threads\",\"14 Cores (6P + 8E), 20 Threads\",\"Quad Core, 8 Threads\",\"Hexa Core, 12 Threads\",\"12 Cores (4P + 8E), 16 Threads\",\"10 Cores (2P + 8E), 12 Threads\",\"Octa Core (4P + 4E), 12 Threads\",\"24 Cores (8P + 16E), 32 Threads\",\"10 Cores (6P + 4E), 16 Threads\",\"Octa Core, 16 Threads\",\"Octa Core, 16 Threads\",\"24 Cores (8P + 16E)\",\"10 Cores (2P + 8E), 12 Threads\",\"10 Cores (2P + 8E), 12 Threads\",\"Octa Core, 16 Threads\",\"Hexa Core (2P + 4E), 8 Threads\",\"Dual Core, 2 Threads\",\"Dual Core, 2 Threads\",\"Quad Core, 8 Threads\",\"Hexa Core, 12 Threads\",\"Octa Core, 16 Threads\",\"14 Cores (6P + 8E), 20 Threads\",\"Dual Core, 2 Threads\",\"Quad Core, 8 Threads\",\"Octa Core, 16 Threads\",\"Hexa Core, 12 Threads\",\"Octa Core, 16 Threads\",\"Hexa Core (2P + 4E), 8 Threads\",\"Quad Core, 8 Threads\",\"Quad Core, 8 Threads\",\"Quad Core, 8 Threads\",\"10 Cores (2P + 8E), 12 Threads\",\"10 Cores (2P + 8E), 12 Threads\",\"Quad Core, 8 Threads\",\"14 Cores (6P + 8E), 20 Threads\",\"10 Cores (2P + 8E), 12 Threads\",\"Hexa Core, 12 Threads\",\"14 Cores (6P + 8E), 20 Threads\",\"5 Cores (1P + 4E), 6 Threads\",\"Hexa Core, 12 Threads\",\"10 Cores (2P + 8E), 12 Threads\",\"10 Cores (2P + 8E), 12 Threads\",\"Quad Core, 8 Threads\",\"Octa Core, 16 Threads\",\"Octa Core, 16 Threads\",\"Dual Core, 4 Threads\",\"Hexa Core, 12 Threads\",\"Octa Core, 16 Threads\",\"Octa Core, 16 Threads\",\"10 Cores (2P + 8E), 12 Threads\",\"12 Cores (4P + 8E), 16 Threads\",\"Quad Core, 8 Threads\",\"Octa Core, 16 Threads\",\"Octa Core, 16 Threads\",\"Hexa Core, 12 Threads\",\"Dual Core, 2 Threads\",\"10 Cores (2P + 8E), 12 Threads\",\"10 Cores (2P + 8E), 12 Threads\",\"10 Cores (2P + 8E), 12 Threads\",\"Quad Core, 8 Threads\",\"Dual Core, 4 Threads\",\"Octa Core, 16 Threads\",\"Hexa Core, 12 Threads\",\"Quad Core, 8 Threads\",\"Dual Core, 4 Threads\",\"12 Cores (4P + 8E), 16 Threads\",\"10 Cores (2P + 8E), 12 Threads\",\"10 Cores (2P + 8E), 12 Threads\",\"Hexa Core, 12 Threads\",\"Hexa Core, 12 Threads\",\"Octa Core, 16 Threads\",\"Dual Core, 4 Threads\",\"10 Cores (2P + 8E), 12 Threads\",\"10 Cores (6P + 4E), 16 Threads\",\"Dual Core, 4 Threads\",\"10 Cores (2P + 8E), 12 Threads\",\"20 Threads\",\"10 Cores (6P + 4E), 16 Threads\",\"10 Cores (2P + 8E), 12 Threads\",\"Dual Core, 2 Threads\",\"Dual Core, 2 Threads\",\"Dual Core, 2 Threads\",\"Dual Core, 2 Threads\",\"Hexa Core (2P + 4E), 8 Threads\",\"10 Cores (6P + 4E), 16 Threads\",\"12 Cores (4P + 8E), 16 Threads\",\"Octa Core, 16 Threads\",\"10 Cores (6P + 4E), 16 Threads\",\"10 Cores (2P + 8E), 12 Threads\",\"Octa Core, 16 Threads\",\"Quad Core, 8 Threads\",\"10 Cores (2P + 8E), 12 Threads\",\"Hexa Core, 12 Threads\",\"Octa Core (4P + 4E), 12 Threads\",\"Octa Core (4P + 4E), 12 Threads\",\"Hexa Core, 12 Threads\",\"10 Cores (6P + 4E), 16 Threads\",\"Hexa Core (2P + 4E), 8 Threads\",\"Octa Core, 16 Threads\",\"Hexa Core, 12 Threads\",\"Hexa Core, 12 Threads\",\"Hexa Core, 12 Threads\",\"Quad Core, 8 Threads\",\"Quad Core, 8 Threads\",\"Octa Core, 16 Threads\",\"14 Cores (6P + 8E), 20 Threads\",\"10 Cores (2P + 8E), 12 Threads\",\"12 Cores (4P + 8E), 16 Threads\",\"Hexa Core, 12 Threads\",\"Hexa Core, 12 Threads\",\"14 Cores (6P + 8E), 20 Threads\",\"Quad Core, 8 Threads\",\"Quad Core, 8 Threads\",\"Octa Core, 8 Threads\",\"Dual Core, 4 Threads\",\"10 Cores (6P + 4E), 16 Threads\",\"5 Cores (1P + 4E), 6 Threads\",\"12 Cores (4P + 8E), 16 Threads\",\"Quad Core, 8 Threads\",\"12 Cores (4P + 8E), 16 Threads\",\"10 Cores (2P + 8E), 12 Threads\",\"12 Cores (4P + 8E), 16 Threads\",\"10 Cores (2P + 8E), 12 Threads\",\"10 Cores (2P + 8E), 12 Threads\",\"Hexa Core, 12 Threads\",\"Hexa Core, 12 Threads\",\"10 Cores (6P + 4E), 16 Threads\",\"10 Cores (6P + 4E), 16 Threads\",\"14 Cores (6P + 8E), 20 Threads\",\"14 Cores (6P + 8E), 20 Threads\",\"12 Cores (4P + 8E), 16 Threads\",\"14 Cores (6P + 8E), 20 Threads\",\"14 Cores (6P + 8E), 20 Threads\",\"24 Cores (8P + 16E), 32 Threads\",\"12 Cores (4P + 8E), 16 Threads\",\"Hexa Core, 12 Threads\",\"10 Cores (2P + 8E), 12 Threads\",\"Quad Core, 8 Threads\",\"Octa Core (4P + 4E), 12 Threads\",\"10 Cores (2P + 8E), 12 Threads\",\"10 Cores (6P + 4E), 16 Threads\",\"Dual Core, 4 Threads\",\"Octa Core (4P + 4E), 12 Threads\",\"10 Cores (2P + 8E), 12 Threads\",\"12 Cores (4P + 8E), 16 Threads\",\"Octa Core, 16 Threads\",\"24 Cores (8P + 16E), 32 Threads\",\"24 Cores (8P + 16E), 32 Threads\",\"16 Cores (8P + 8E), 24 Threads\",\"Quad Core, 8 Threads\",\"Hexa Core, 12 Threads\",\"Octa Core, 16 Threads\",\"Dual Core, 2 Threads\",\"16 Cores (8P + 8E), 24 Threads\",\"Quad Core, 8 Threads\",\"Quad Core, 8 Threads\",\"Dual Core, 2 Threads\",\"Hexa Core, 12 Threads\",\"14 Cores (6P + 8E), 20 Threads\",\"12 Cores (4P + 8E), 16 Threads\",\"Quad Core, 8 Threads\",\"14 Cores (6P + 8E), 20 Threads\",\"12 Cores (4P + 8E), 16 Threads\",\"24 Cores (8P + 16E), 32 Threads\",\"Octa Core, 16 Threads\",\"12 Cores (4P + 8E), 16 Threads\",\"Octa Core, 16 Threads\",\"14 Cores (6P + 8E), 20 Threads\",\"Hexa Core, 12 Threads\",\"Hexa Core, 12 Threads\",\"14 Cores (6P + 8E), 20 Threads\",\"Octa Core, 16 Threads\",\"10 Cores (6P + 4E), 16 Threads\",\"Hexa Core, 12 Threads\",\"Octa Core, 16 Threads\",\"Octa Core, 16 Threads\",\"10 Cores (2P + 8E), 12 Threads\",\"10 Cores (2P + 8E), 12 Threads\",\"12 Cores (4P + 8E), 16 Threads\",\"Quad Core, 8 Threads\",\"Octa Core, 16 Threads\",\"10 Cores (2P + 8E), 12 Threads\",\"12 Cores (4P + 8E), 16 Threads\",\"Quad Core, 4 Threads\",\"10 Cores (2P + 8E), 12 Threads\",\"14 Cores (6P + 8E), 20 Threads\",\"14 Cores (6P + 8E), 20 Threads\",\"14 Cores (6P + 8E), 20 Threads\",\"14 Cores (6P + 8E), 20 Threads\",\"14 Cores (6P + 8E), 20 Threads\",\"14 Cores (6P + 8E), 20 Threads\",\"12 Cores (4P + 8E), 16 Threads\",\"Dual Core, 2 Threads\",\"Octa Core, 16 Threads\",\"Hexa Core, 12 Threads\",\"12 Cores (4P + 8E), 16 Threads\",\"10 Cores (2P + 8E), 12 Threads\",\"Dual Core, 4 Threads\",\"Octa Core (4P + 4E), 12 Threads\",\"14 Cores (6P + 8E), 20 Threads\",\"10 Cores (2P + 8E), 12 Threads\",\"Dual Core, 2 Threads\",\"Quad Core, 8 Threads\",\"Octa Core, 16 Threads\",\"Quad Core, 8 Threads\",\"Hexa Core, 12 Threads\",\"Quad Core, 8 Threads\",\"Octa Core (4P + 4E), 12 Threads\",\"10 Cores (2P + 8E), 12 Threads\",\"Octa Core (4P + 4E), 12 Threads\",\"10 Cores (2P + 8E), 12 Threads\",\"Hexa Core, 12 Threads\",\"10 Cores (2P + 8E), 12 Threads\",\"Octa Core, 16 Threads\",\"Hexa Core, 12 Threads\",\"Hexa Core, 12 Threads\",\"5 Cores (1P + 4E), 6 Threads\",\"Quad Core, 8 Threads\",\"Dual Core, 4 Threads\",\"Quad Core, 8 Threads\",\"Hexa Core, 12 Threads\",\"10 Cores (2P + 8E), 12 Threads\",\"10 Cores (2P + 8E), 12 Threads\",\"Hexa Core, 12 Threads\",\"10 Cores (6P + 4E), 16 Threads\",\"Hexa Core (2P + 4E), 8 Threads\",\"10 Cores (2P + 8E), 12 Threads\",\"Quad Core, 8 Threads\",\"10 Cores (2P + 8E), 12 Threads\",\"Quad Core, 8 Threads\",\"Octa Core, 16 Threads\",\"Hexa Core, 12 Threads\",\"10 Cores (2P + 8E), 12 Threads\",\"Hexa Core, 12 Threads\",\"Octa Core, 16 Threads\",\"Dual Core, 4 Threads\",\"Octa Core, 16 Threads\",\"10 Cores (2P + 8E), 12 Threads\",\"Octa Core (4P + 4E), 12 Threads\",\"Quad Core, 8 Threads\",\"10 Cores (6P + 4E), 16 Threads\",\"Hexa Core, 12 Threads\",\"Octa Core (4P + 4E), 12 Threads\",\"10 Cores (6P + 4E), 16 Threads\",\"10 Cores (2P + 8E), 12 Threads\",\"10 Cores (2P + 8E), 12 Threads\",\"Hexa Core (2P + 4E), 8 Threads\",\"Hexa Core (2P + 4E), 8 Threads\",\"Hexa Core, 12 Threads\",\"Hexa Core (2P + 4E), 8 Threads\",\"Octa Core, 8 Threads\",\"Hexa Core, 12 Threads\",\"Quad Core, 8 Threads\",\"Octa Core, 16 Threads\",\"Octa Core, 16 Threads\",\"Hexa Core, 12 Threads\",\"10 Cores (2P + 8E), 12 Threads\",\"Octa Core, 16 Threads\",\"Octa Core, 16 Threads\",\"Quad Core, 8 Threads\",\"Octa Core, 16 Threads\",\"Hexa Core, 12 Threads\",\"10 Cores (2P + 8E), 12 Threads\",\"Hexa Core, 12 Threads\",\"Octa Core, 16 Threads\",\"Octa Core, 16 Threads\",\"Hexa Core (2P + 4E), 8 Threads\",\"12 Cores (4P + 8E), 16 Threads\",\"12 Cores (4P + 8E), 16 Threads\",\"12 Cores (4P + 8E), 16 Threads\",\"14 Cores (6P + 8E), 20 Threads\",\"12 Cores (4P + 8E), 16 Threads\",\"14 Cores (6P + 8E), 20 Threads\",\"24 Cores (8P + 16E), 32 Threads\",\"12 Cores (4P + 8E), 16 Threads\",\"Octa Core, 16 Threads\",\"10 Cores (2P + 8E), 12 Threads\",\"10 Cores (2P + 8E), 12 Threads\",\"12 Cores (4P + 8E), 16 Threads\",\"12 Cores (4P + 8E), 16 Threads\",\"12 Cores (4P + 8E), 16 Threads\",\"12 Cores (4P + 8E), 16 Threads\",\"Octa Core, 16 Threads\",\"10 Cores (2P + 8E), 12 Threads\",\"Hexa Core, 12 Threads\",\"Dual Core, 2 Threads\",\"Dual Core, 2 Threads\",\"Hexa Core (2P + 4E), 8 Threads\",\"Octa Core (4P + 4E), 12 Threads\",\"10 Cores (2P + 8E), 12 Threads\",\"Hexa Core, 12 Threads\",\"Hexa Core, 12 Threads\",\"Octa Core, 16 Threads\",\"Hexa Core, 12 Threads\",\"Octa Core (4P + 4E), 12 Threads\",\"10 Cores (6P + 4E), 16 Threads\",\"12 Cores (4P + 8E), 16 Threads\",\"Quad Core, 8 Threads\",\"10 Cores (2P + 8E), 12 Threads\",\"Quad Core, 8 Threads\",\"Dual Core, 4 Threads\",\"Quad Core, 8 Threads\",\"Hexa Core, 12 Threads\",\"14 Cores (6P + 8E)\",\"14 Cores (6P + 8E)\",\"10 Cores (2P + 8E), 12 Threads\",\"16 Cores (8P + 8E), 24 Threads\",\"Quad Core, 4 Threads\",\"Dual Core, 4 Threads\",\"5 Cores (1P + 4E), 6 Threads\",\"Hexa Core (2P + 4E), 8 Threads\",\"Quad Core, 8 Threads\",\"10 Cores (2P + 8E), 12 Threads\",\"10 Cores (2P + 8E), 12 Threads\",\"Octa Core, 16 Threads\",\"Dual Core, 2 Threads\",\"Octa Core, 16 Threads\",\"10 Cores (2P + 8E), 12 Threads\",\"10 Cores (2P + 8E), 12 Threads\",\"14 Cores (6P + 8E), 20 Threads\",\"10 Cores (2P + 8E), 12 Threads\",\"Hexa Core, 12 Threads\",\"Hexa Core, 12 Threads\",\"Hexa Core (2P + 4E), 8 Threads\",\"Octa Core (4P + 4E), 12 Threads\",\"Dual Core, 2 Threads\",\"10 Cores (6P + 4E), 16 Threads\",\"Octa Core (4P + 4E), 12 Threads\",\"Quad Core, 8 Threads\",\"Hexa Core, 12 Threads\",\"Octa Core, 16 Threads\",\"14 Cores (6P + 8E)\",\"14 Cores (6P + 8E)\",\"24 Cores (8P + 16E), 32 Threads\",\"14 Cores (6P + 8E)\",\"Hexa Core (2P + 4E), 8 Threads\",\"10 Cores (2P + 8E), 12 Threads\",\"Hexa Core (2P + 4E), 8 Threads\",\"Octa Core, 16 Threads\",\"Octa Core, 16 Threads\",\"14 Cores (6P + 8E), 20 Threads\",\"Octa Core, 16 Threads\"],\"xaxis\":\"x\",\"yaxis\":\"y\",\"type\":\"histogram\"}],                        {\"template\":{\"data\":{\"histogram2dcontour\":[{\"type\":\"histogram2dcontour\",\"colorbar\":{\"outlinewidth\":0,\"ticks\":\"\"},\"colorscale\":[[0.0,\"#0d0887\"],[0.1111111111111111,\"#46039f\"],[0.2222222222222222,\"#7201a8\"],[0.3333333333333333,\"#9c179e\"],[0.4444444444444444,\"#bd3786\"],[0.5555555555555556,\"#d8576b\"],[0.6666666666666666,\"#ed7953\"],[0.7777777777777778,\"#fb9f3a\"],[0.8888888888888888,\"#fdca26\"],[1.0,\"#f0f921\"]]}],\"choropleth\":[{\"type\":\"choropleth\",\"colorbar\":{\"outlinewidth\":0,\"ticks\":\"\"}}],\"histogram2d\":[{\"type\":\"histogram2d\",\"colorbar\":{\"outlinewidth\":0,\"ticks\":\"\"},\"colorscale\":[[0.0,\"#0d0887\"],[0.1111111111111111,\"#46039f\"],[0.2222222222222222,\"#7201a8\"],[0.3333333333333333,\"#9c179e\"],[0.4444444444444444,\"#bd3786\"],[0.5555555555555556,\"#d8576b\"],[0.6666666666666666,\"#ed7953\"],[0.7777777777777778,\"#fb9f3a\"],[0.8888888888888888,\"#fdca26\"],[1.0,\"#f0f921\"]]}],\"heatmap\":[{\"type\":\"heatmap\",\"colorbar\":{\"outlinewidth\":0,\"ticks\":\"\"},\"colorscale\":[[0.0,\"#0d0887\"],[0.1111111111111111,\"#46039f\"],[0.2222222222222222,\"#7201a8\"],[0.3333333333333333,\"#9c179e\"],[0.4444444444444444,\"#bd3786\"],[0.5555555555555556,\"#d8576b\"],[0.6666666666666666,\"#ed7953\"],[0.7777777777777778,\"#fb9f3a\"],[0.8888888888888888,\"#fdca26\"],[1.0,\"#f0f921\"]]}],\"heatmapgl\":[{\"type\":\"heatmapgl\",\"colorbar\":{\"outlinewidth\":0,\"ticks\":\"\"},\"colorscale\":[[0.0,\"#0d0887\"],[0.1111111111111111,\"#46039f\"],[0.2222222222222222,\"#7201a8\"],[0.3333333333333333,\"#9c179e\"],[0.4444444444444444,\"#bd3786\"],[0.5555555555555556,\"#d8576b\"],[0.6666666666666666,\"#ed7953\"],[0.7777777777777778,\"#fb9f3a\"],[0.8888888888888888,\"#fdca26\"],[1.0,\"#f0f921\"]]}],\"contourcarpet\":[{\"type\":\"contourcarpet\",\"colorbar\":{\"outlinewidth\":0,\"ticks\":\"\"}}],\"contour\":[{\"type\":\"contour\",\"colorbar\":{\"outlinewidth\":0,\"ticks\":\"\"},\"colorscale\":[[0.0,\"#0d0887\"],[0.1111111111111111,\"#46039f\"],[0.2222222222222222,\"#7201a8\"],[0.3333333333333333,\"#9c179e\"],[0.4444444444444444,\"#bd3786\"],[0.5555555555555556,\"#d8576b\"],[0.6666666666666666,\"#ed7953\"],[0.7777777777777778,\"#fb9f3a\"],[0.8888888888888888,\"#fdca26\"],[1.0,\"#f0f921\"]]}],\"surface\":[{\"type\":\"surface\",\"colorbar\":{\"outlinewidth\":0,\"ticks\":\"\"},\"colorscale\":[[0.0,\"#0d0887\"],[0.1111111111111111,\"#46039f\"],[0.2222222222222222,\"#7201a8\"],[0.3333333333333333,\"#9c179e\"],[0.4444444444444444,\"#bd3786\"],[0.5555555555555556,\"#d8576b\"],[0.6666666666666666,\"#ed7953\"],[0.7777777777777778,\"#fb9f3a\"],[0.8888888888888888,\"#fdca26\"],[1.0,\"#f0f921\"]]}],\"mesh3d\":[{\"type\":\"mesh3d\",\"colorbar\":{\"outlinewidth\":0,\"ticks\":\"\"}}],\"scatter\":[{\"fillpattern\":{\"fillmode\":\"overlay\",\"size\":10,\"solidity\":0.2},\"type\":\"scatter\"}],\"parcoords\":[{\"type\":\"parcoords\",\"line\":{\"colorbar\":{\"outlinewidth\":0,\"ticks\":\"\"}}}],\"scatterpolargl\":[{\"type\":\"scatterpolargl\",\"marker\":{\"colorbar\":{\"outlinewidth\":0,\"ticks\":\"\"}}}],\"bar\":[{\"error_x\":{\"color\":\"#2a3f5f\"},\"error_y\":{\"color\":\"#2a3f5f\"},\"marker\":{\"line\":{\"color\":\"#E5ECF6\",\"width\":0.5},\"pattern\":{\"fillmode\":\"overlay\",\"size\":10,\"solidity\":0.2}},\"type\":\"bar\"}],\"scattergeo\":[{\"type\":\"scattergeo\",\"marker\":{\"colorbar\":{\"outlinewidth\":0,\"ticks\":\"\"}}}],\"scatterpolar\":[{\"type\":\"scatterpolar\",\"marker\":{\"colorbar\":{\"outlinewidth\":0,\"ticks\":\"\"}}}],\"histogram\":[{\"marker\":{\"pattern\":{\"fillmode\":\"overlay\",\"size\":10,\"solidity\":0.2}},\"type\":\"histogram\"}],\"scattergl\":[{\"type\":\"scattergl\",\"marker\":{\"colorbar\":{\"outlinewidth\":0,\"ticks\":\"\"}}}],\"scatter3d\":[{\"type\":\"scatter3d\",\"line\":{\"colorbar\":{\"outlinewidth\":0,\"ticks\":\"\"}},\"marker\":{\"colorbar\":{\"outlinewidth\":0,\"ticks\":\"\"}}}],\"scattermapbox\":[{\"type\":\"scattermapbox\",\"marker\":{\"colorbar\":{\"outlinewidth\":0,\"ticks\":\"\"}}}],\"scatterternary\":[{\"type\":\"scatterternary\",\"marker\":{\"colorbar\":{\"outlinewidth\":0,\"ticks\":\"\"}}}],\"scattercarpet\":[{\"type\":\"scattercarpet\",\"marker\":{\"colorbar\":{\"outlinewidth\":0,\"ticks\":\"\"}}}],\"carpet\":[{\"aaxis\":{\"endlinecolor\":\"#2a3f5f\",\"gridcolor\":\"white\",\"linecolor\":\"white\",\"minorgridcolor\":\"white\",\"startlinecolor\":\"#2a3f5f\"},\"baxis\":{\"endlinecolor\":\"#2a3f5f\",\"gridcolor\":\"white\",\"linecolor\":\"white\",\"minorgridcolor\":\"white\",\"startlinecolor\":\"#2a3f5f\"},\"type\":\"carpet\"}],\"table\":[{\"cells\":{\"fill\":{\"color\":\"#EBF0F8\"},\"line\":{\"color\":\"white\"}},\"header\":{\"fill\":{\"color\":\"#C8D4E3\"},\"line\":{\"color\":\"white\"}},\"type\":\"table\"}],\"barpolar\":[{\"marker\":{\"line\":{\"color\":\"#E5ECF6\",\"width\":0.5},\"pattern\":{\"fillmode\":\"overlay\",\"size\":10,\"solidity\":0.2}},\"type\":\"barpolar\"}],\"pie\":[{\"automargin\":true,\"type\":\"pie\"}]},\"layout\":{\"autotypenumbers\":\"strict\",\"colorway\":[\"#636efa\",\"#EF553B\",\"#00cc96\",\"#ab63fa\",\"#FFA15A\",\"#19d3f3\",\"#FF6692\",\"#B6E880\",\"#FF97FF\",\"#FECB52\"],\"font\":{\"color\":\"#2a3f5f\"},\"hovermode\":\"closest\",\"hoverlabel\":{\"align\":\"left\"},\"paper_bgcolor\":\"white\",\"plot_bgcolor\":\"#E5ECF6\",\"polar\":{\"bgcolor\":\"#E5ECF6\",\"angularaxis\":{\"gridcolor\":\"white\",\"linecolor\":\"white\",\"ticks\":\"\"},\"radialaxis\":{\"gridcolor\":\"white\",\"linecolor\":\"white\",\"ticks\":\"\"}},\"ternary\":{\"bgcolor\":\"#E5ECF6\",\"aaxis\":{\"gridcolor\":\"white\",\"linecolor\":\"white\",\"ticks\":\"\"},\"baxis\":{\"gridcolor\":\"white\",\"linecolor\":\"white\",\"ticks\":\"\"},\"caxis\":{\"gridcolor\":\"white\",\"linecolor\":\"white\",\"ticks\":\"\"}},\"coloraxis\":{\"colorbar\":{\"outlinewidth\":0,\"ticks\":\"\"}},\"colorscale\":{\"sequential\":[[0.0,\"#0d0887\"],[0.1111111111111111,\"#46039f\"],[0.2222222222222222,\"#7201a8\"],[0.3333333333333333,\"#9c179e\"],[0.4444444444444444,\"#bd3786\"],[0.5555555555555556,\"#d8576b\"],[0.6666666666666666,\"#ed7953\"],[0.7777777777777778,\"#fb9f3a\"],[0.8888888888888888,\"#fdca26\"],[1.0,\"#f0f921\"]],\"sequentialminus\":[[0.0,\"#0d0887\"],[0.1111111111111111,\"#46039f\"],[0.2222222222222222,\"#7201a8\"],[0.3333333333333333,\"#9c179e\"],[0.4444444444444444,\"#bd3786\"],[0.5555555555555556,\"#d8576b\"],[0.6666666666666666,\"#ed7953\"],[0.7777777777777778,\"#fb9f3a\"],[0.8888888888888888,\"#fdca26\"],[1.0,\"#f0f921\"]],\"diverging\":[[0,\"#8e0152\"],[0.1,\"#c51b7d\"],[0.2,\"#de77ae\"],[0.3,\"#f1b6da\"],[0.4,\"#fde0ef\"],[0.5,\"#f7f7f7\"],[0.6,\"#e6f5d0\"],[0.7,\"#b8e186\"],[0.8,\"#7fbc41\"],[0.9,\"#4d9221\"],[1,\"#276419\"]]},\"xaxis\":{\"gridcolor\":\"white\",\"linecolor\":\"white\",\"ticks\":\"\",\"title\":{\"standoff\":15},\"zerolinecolor\":\"white\",\"automargin\":true,\"zerolinewidth\":2},\"yaxis\":{\"gridcolor\":\"white\",\"linecolor\":\"white\",\"ticks\":\"\",\"title\":{\"standoff\":15},\"zerolinecolor\":\"white\",\"automargin\":true,\"zerolinewidth\":2},\"scene\":{\"xaxis\":{\"backgroundcolor\":\"#E5ECF6\",\"gridcolor\":\"white\",\"linecolor\":\"white\",\"showbackground\":true,\"ticks\":\"\",\"zerolinecolor\":\"white\",\"gridwidth\":2},\"yaxis\":{\"backgroundcolor\":\"#E5ECF6\",\"gridcolor\":\"white\",\"linecolor\":\"white\",\"showbackground\":true,\"ticks\":\"\",\"zerolinecolor\":\"white\",\"gridwidth\":2},\"zaxis\":{\"backgroundcolor\":\"#E5ECF6\",\"gridcolor\":\"white\",\"linecolor\":\"white\",\"showbackground\":true,\"ticks\":\"\",\"zerolinecolor\":\"white\",\"gridwidth\":2}},\"shapedefaults\":{\"line\":{\"color\":\"#2a3f5f\"}},\"annotationdefaults\":{\"arrowcolor\":\"#2a3f5f\",\"arrowhead\":0,\"arrowwidth\":1},\"geo\":{\"bgcolor\":\"white\",\"landcolor\":\"#E5ECF6\",\"subunitcolor\":\"white\",\"showland\":true,\"showlakes\":true,\"lakecolor\":\"white\"},\"title\":{\"x\":0.05},\"mapbox\":{\"style\":\"light\"}}},\"xaxis\":{\"anchor\":\"y\",\"domain\":[0.0,1.0],\"title\":{\"text\":\"CPU\"}},\"yaxis\":{\"anchor\":\"x\",\"domain\":[0.0,1.0],\"title\":{\"text\":\"count\"}},\"legend\":{\"tracegroupgap\":0},\"title\":{\"text\":\"CPU Distribution\"},\"barmode\":\"relative\"},                        {\"responsive\": true}                    ).then(function(){\n",
              "                            \n",
              "var gd = document.getElementById('70613e01-4eb8-4df0-a3dd-51b9c6b1d980');\n",
              "var x = new MutationObserver(function (mutations, observer) {{\n",
              "        var display = window.getComputedStyle(gd).display;\n",
              "        if (!display || display === 'none') {{\n",
              "            console.log([gd, 'removed!']);\n",
              "            Plotly.purge(gd);\n",
              "            observer.disconnect();\n",
              "        }}\n",
              "}});\n",
              "\n",
              "// Listen for the removal of the full notebook cells\n",
              "var notebookContainer = gd.closest('#notebook-container');\n",
              "if (notebookContainer) {{\n",
              "    x.observe(notebookContainer, {childList: true});\n",
              "}}\n",
              "\n",
              "// Listen for the clearing of the current output cell\n",
              "var outputEl = gd.closest('.output');\n",
              "if (outputEl) {{\n",
              "    x.observe(outputEl, {childList: true});\n",
              "}}\n",
              "\n",
              "                        })                };                            </script>        </div>\n",
              "</body>\n",
              "</html>"
            ]
          },
          "metadata": {}
        }
      ],
      "source": [
        "plt = px.histogram(df, x='CPU', title=\"CPU Distribution\", color_discrete_sequence=px.colors.qualitative.Pastel)\n",
        "plt.show()"
      ]
    },
    {
      "cell_type": "code",
      "execution_count": 103,
      "metadata": {
        "colab": {
          "base_uri": "https://localhost:8080/",
          "height": 0
        },
        "id": "914FYysMCDrh",
        "outputId": "a3c41596-d337-45a0-ce73-bf6d9f6e7c80"
      },
      "outputs": [
        {
          "output_type": "display_data",
          "data": {
            "text/html": [
              "<html>\n",
              "<head><meta charset=\"utf-8\" /></head>\n",
              "<body>\n",
              "    <div>            <script src=\"https://cdnjs.cloudflare.com/ajax/libs/mathjax/2.7.5/MathJax.js?config=TeX-AMS-MML_SVG\"></script><script type=\"text/javascript\">if (window.MathJax && window.MathJax.Hub && window.MathJax.Hub.Config) {window.MathJax.Hub.Config({SVG: {font: \"STIX-Web\"}});}</script>                <script type=\"text/javascript\">window.PlotlyConfig = {MathJaxConfig: 'local'};</script>\n",
              "        <script charset=\"utf-8\" src=\"https://cdn.plot.ly/plotly-2.35.2.min.js\"></script>                <div id=\"74009b81-7e4f-4096-bc69-5f6ea7ad9019\" class=\"plotly-graph-div\" style=\"height:525px; width:100%;\"></div>            <script type=\"text/javascript\">                                    window.PLOTLYENV=window.PLOTLYENV || {};                                    if (document.getElementById(\"74009b81-7e4f-4096-bc69-5f6ea7ad9019\")) {                    Plotly.newPlot(                        \"74009b81-7e4f-4096-bc69-5f6ea7ad9019\",                        [{\"alignmentgroup\":\"True\",\"bingroup\":\"x\",\"hovertemplate\":\"Ram=8GB\\u003cbr\\u003eRam_type=%{x}\\u003cbr\\u003ecount=%{y}\\u003cextra\\u003e\\u003c\\u002fextra\\u003e\",\"legendgroup\":\"8GB\",\"marker\":{\"color\":\"rgb(102, 197, 204)\",\"pattern\":{\"shape\":\"\"}},\"name\":\"8GB\",\"offsetgroup\":\"8GB\",\"orientation\":\"v\",\"showlegend\":true,\"x\":[\"DDR4\",\"DDR4\",\"DDR4\",\"DDR4\",\"DDR4\",\"DDR4\",\"DDR4\",\"LPDDR5\",\"DDR4\",\"DDR4\",\"DDR4\",\"DDR4\",\"DDR4\",\"LPDDR5\",\"DDR4\",\"LPDDR4X\",\"DDR4\",\"DDR4\",\"DDR4\",\"DDR4\",\"DDR4\",\"DDR4\",\"DDR4\",\"DDR4\",\"DDR4\",\"LPDDR4X\",\"DDR4\",\"DDR4\",\"DDR5\",\"DDR4\",\"DDR5\",\"DDR4\",\"DDR4\",\"DDR4\",\"LPDDR4\",\"DDR4\",\"DDR4\",\"DDR4\",\"DDR4\",\"DDR4\",\"DDR4\",\"DDR4\",\"DDR4\",\"DDR4\",\"DDR4\",\"DDR4\",\"DDR4\",\"DDR5\",\"DDR4\",\"LPDDR4X\",\"LPDDR5\",\"DDR4\",\"DDR4\",\"LPDDR5\",\"LPDDR4X\",\"LPDDR5\",\"DDR4\",\"DDR4\",\"DDR4\",\"DDR4\",\"DDR4\",\"DDR5\",\"DDR4\",\"DDR4\",\"LPDDR4X\",\"DDR4\",\"DDR4\",\"DDR4\",\"DDR4\",\"LPDDR5\",\"LPDDR4x\",\"DDR4\",\"LPDDR5\",\"DDR4\",\"DDR4\",\"DDR4\",\"DDR4\",\"DDR4\",\"DDR4\",\"DDR4\",\"DDR4\",\"DDR4\",\"Unified\",\"DDR4\",\"DDR4\",\"DDR4\",\"DDR4\",\"DDR4\",\"DDR4\",\"DDR4\",\"DDR5\",\"DDR4\",\"LPDDR5\",\"DDR4\",\"LPDDR4X\",\"DDR4\",\"DDR5\",\"DDR4\",\"DDR4\",\"LPDDR5\",\"DDR4\",\"DDR4\",\"DDR4\",\"DDR4\",\"DDR4\",\"DDR4\",\"DDR4\",\"LPDDR5\",\"DDR4\",\"DDR4\",\"DDR5\",\"DDR4\",\"DDR4\",\"DDR4\",\"DDR4\",\"DDR4\",\"DDR4\",\"DDR4\",\"LPDDR4\",\"DDR4\",\"DDR4\",\"DDR4\",\"DDR4\",\"DDR4\",\"DDR4\",\"DDR4\",\"LPDDR5\",\"LPDDR5\",\"DDR4\",\"LPDDR5\",\"LPDDR4\",\"LPDDR5\",\"DDR5\",\"LPDDR5\",\"DDR4\",\"DDR4\",\"DDR4\",\"LPDDR5\",\"DDR4\",\"DDR4\",\"DDR4\",\"DDR4\",\"DDR4\",\"DDR4\",\"DDR4\",\"DDR4\",\"LPDDR5\",\"DDR4\",\"DDR4\",\"LPDDR5\",\"DDR4\",\"DDR4\",\"LPDDR5\",\"DDR5\",\"DDR4\",\"LPDDR5\",\"LPDDR4X\",\"DDR4\",\"DDR4\",\"DDR4\",\"DDR4\",\"DDR4\",\"DDR4\",\"DDR4\",\"LPDDR5\",\"DDR4\",\"DDR4\",\"LPDDR5\",\"DDR5\",\"LPDDR5\",\"DDR4\",\"LPDDR5\",\"LPDDR5\",\"DDR4\",\"DDR4\",\"DDR4\",\"DDR4\",\"DDR4\",\"DDR4\",\"DDR4\",\"DDR4\",\"DDR4\",\"DDR4\",\"DDR4\",\"DDR4\",\"DDR4\",\"DDR4\",\"DDR4\",\"DDR4\",\"DDR4\",\"DDR4\",\"DDR4\",\"DDR4\",\"DDR4\",\"DDR4\",\"DDR4\",\"DDR4\",\"DDR4\",\"DDR4\",\"DDR4\",\"DDR4\",\"DDR4\",\"DDR4\",\"DDR4\",\"DDR4\",\"DDR4\",\"DDR4\",\"DDR4\",\"DDR4\",\"DDR4\",\"LPDDR4x\",\"DDR4\",\"DDR4\",\"DDR4\",\"DDR4\",\"DDR4\",\"DDR3\",\"DDR3\",\"DDR4\",\"DDR4\",\"LPDDR4X\",\"DDR4\",\"LPDDR4x\",\"LPDDR4\",\"DDR4\",\"DDR4\",\"DDR4\",\"DDR4\",\"LPDDR4X\",\"LPDDR4X\",\"DDR4\",\"DDR4\",\"LPDDR5\",\"LPDDR5\",\"DDR4\",\"DDR5\",\"DDR4\",\"LPDDR5\",\"DDR4\",\"DDR4\",\"LPDDR4X\",\"DDR4\",\"DDR4\",\"DDR4\",\"DDR4\",\"DDR4\",\"LPDDR5\",\"DDR4\",\"DDR4\",\"DDR4\",\"DDR5\",\"LPDDR4X\",\"DDR4\",\"LPDDR5\",\"DDR4\",\"DDR4\",\"DDR4\",\"LPDDR5\",\"DDR4\",\"DDR4\",\"LPDDR5\",\"DDR4\",\"DDR4\",\"DDR4\",\"LPDDR5\",\"DDR4\",\"LPDDR4\",\"DDR5\",\"DDR4\",\"DDR4\",\"DDR4\",\"DDR4\",\"DDR4\",\"DDR4\",\"DDR4\",\"DDR4\",\"DDR5\",\"LPDDR5\",\"DDR4\",\"DDR5\",\"DDR4\",\"DDR4\",\"LPDDR5\",\"DDR4\",\"DDR5\",\"LPDDR5\",\"DDR4\",\"DDR4\",\"DDR4\",\"DDR4\",\"LPDDR5\",\"LPDDR5\",\"DDR4\",\"DDR4\",\"DDR5\",\"DDR5\",\"DDR4\",\"DDR5\",\"DDR4\",\"LPDDR5\",\"DDR5\",\"LPDDR5\",\"DDR4\",\"DDR4\",\"DDR4\",\"DDR4\",\"DDR4\",\"DDR4\",\"DDR4\",\"DDR4\",\"DDR4\",\"LPDDR5\",\"DDR4\",\"LPDDR5\",\"DDR4\",\"DDR4\",\"DDR4\",\"DDR4\",\"DDR4\",\"DDR4\",\"DDR4\",\"DDR4\",\"LPDDR5\",\"DDR4\",\"DDR4\",\"DDR4\",\"DDR4\",\"DDR4\",\"DDR4\",\"DDR4\",\"LPDDR5\",\"DDR4\",\"LPDDR5\",\"DDR4\",\"DDR4\",\"DDR4\",\"DDR4\",\"LPDDR5\",\"DDR4\",\"LPDDR5\",\"LPDDR5\",\"DDR4\",\"DDR4\",\"DDR4\",\"DDR4\",\"DDR4\",\"DDR4\",\"DDR4\",\"DDR4\",\"DDR4\",\"DDR4\",\"DDR4\",\"DDR4\",\"DDR4\",\"LPDDR5\",\"DDR4\",\"DDR4\",\"LPDDR5\",\"DDR4\",\"LPDDR5\",\"DDR4\",\"DDR4\",\"DDR4\",\"DDR4\",\"DDR4\",\"DDR5\",\"DDR4\",\"DDR4\",\"DDR4\"],\"xaxis\":\"x\",\"yaxis\":\"y\",\"type\":\"histogram\"},{\"alignmentgroup\":\"True\",\"bingroup\":\"x\",\"hovertemplate\":\"Ram=16GB\\u003cbr\\u003eRam_type=%{x}\\u003cbr\\u003ecount=%{y}\\u003cextra\\u003e\\u003c\\u002fextra\\u003e\",\"legendgroup\":\"16GB\",\"marker\":{\"color\":\"rgb(246, 207, 113)\",\"pattern\":{\"shape\":\"\"}},\"name\":\"16GB\",\"offsetgroup\":\"16GB\",\"orientation\":\"v\",\"showlegend\":true,\"x\":[\"LPDDR5\",\"DDR5\",\"LPDDR5\",\"DDR4\",\"DDR4\",\"DDR4\",\"DDR4\",\"DDR4\",\"DDR4\",\"DDR4\",\"DDR4\",\"DDR4\",\"DDR5\",\"DDR4\",\"DDR4\",\"DDR4\",\"DDR4\",\"DDR4\",\"LPDDR5\",\"DDR5\",\"DDR5\",\"LPDDR4\",\"DDR5\",\"DDR4\",\"DDR4\",\"DDR4\",\"LPDDR4X\",\"DDR4\",\"DDR4\",\"DDR5\",\"DDR5\",\"DDR5\",\"LPDDR5\",\"DDR4\",\"LPDDR4X\",\"DDR4\",\"DDR4\",\"DDR5\",\"DDR4\",\"DDR4\",\"DDR4\",\"DDR4\",\"DDR4\",\"DDR5\",\"DDR4\",\"LPDDR5\",\"DDR5\",\"DDR4\",\"LPDDR4X\",\"DDR5\",\"DDR4\",\"DDR4\",\"DDR5\",\"DDR4\",\"DDR4\",\"DDR5\",\"DDR5\",\"DDR5\",\"DDR4\",\"DDR4\",\"DDR4\",\"DDR5\",\"LPDDR5\",\"DDR5\",\"DDR4\",\"DDR4\",\"DDR4\",\"DDR4\",\"DDR4\",\"DDR4\",\"DDR4\",\"DDR4\",\"LPDDR5\",\"DDR4\",\"DDR4\",\"LPDDR4x\",\"LPDDR4X\",\"LPDDR5\",\"DDR5\",\"DDR5\",\"LPDDR5\",\"DDR5\",\"DDR4\",\"LPDDR5\",\"DDR4\",\"DDR4\",\"LPDDR5\",\"DDR4\",\"DDR4\",\"DDR4\",\"DDR5\",\"DDR5\",\"DDR4\",\"DDR4\",\"DDR5\",\"DDR5\",\"DDR5\",\"DDR5\",\"DDR5\",\"DDR4\",\"DDR4\",\"LPDDR5\",\"DDR4\",\"DDR4\",\"DDR5\",\"DDR4\",\"LPDDR4x\",\"DDR4\",\"DDR4\",\"DDR5\",\"DDR4\",\"DDR5\",\"DDR4\",\"DDR4\",\"DDR4\",\"DDR5\",\"DDR4\",\"DDR5\",\"DDR5\",\"DDR5\",\"LPDDR5\",\"LPDDR5\",\"LPDDR5\",\"LPDDR4X\",\"LPDDR5\",\"DDR4\",\"DDR4\",\"DDR5\",\"DDR4\",\"DDR5\",\"DDR5\",\"DDR5\",\"DDR4\",\"DDR4-\",\"DDR4\",\"DDR4\",\"LPDDR5\",\"DDR4\",\"LPDDR4\",\"LPDDR4X\",\"LPDDR5\",\"DDR5\",\"DDR4\",\"DDR4\",\"LPDDR5\",\"DDR5\",\"DDR5\",\"DDR4\",\"DDR4\",\"LPDDR5\",\"DDR4\",\"DDR4\",\"DDR5\",\"DDR4\",\"LPDDR5\",\"LPDDR5\",\"DDR4\",\"DDR4\",\"DDR5\",\"LPDDR5\",\"DDR4\",\"LPDDR4X\",\"DDR5\",\"LPDDR5\",\"DDR5\",\"DDR5\",\"DDR5\",\"DDR4\",\"DDR4\",\"LPDDR5\",\"DDR4\",\"DDR5\",\"LPDDR5\",\"DDR5\",\"DDR5\",\"DDR4\",\"LPDDR5\",\"DDR4\",\"LPDDR5\",\"DDR4\",\"LPDDR4X\",\"DDR4\",\"DDR4\",\"LPDDR4X\",\"LPDDR4x\",\"LPDDR4x\",\"LPDDR5\",\"DDR5\",\"LPDDR4x\",\"LPDDR5\",\"LPDDR4x\",\"LPDDR5\",\"DDR5\",\"LPDDR5\",\"Unified\",\"DDR4\",\"DDR4\",\"DDR4\",\"LPDDR5\",\"LPDDR5\",\"LPDDR4x\",\"LPDDR5\",\"LPDDR5\",\"LPDDR5\",\"LPDDR5\",\"DDR4\",\"DDR4\",\"LPDDR4X\",\"LPDDR5\",\"DDR4\",\"LPDDR4\",\"DDR4\",\"DDR5\",\"LPDDR5\",\"DDR4\",\"DDR4\",\"LPDDR4X\",\"DDR4\",\"DDR4\",\"DDR4\",\"DDR4\",\"DDR4\",\"DDR4\",\"DDR4\",\"DDR4\",\"DDR4\",\"LPDDR5\",\"DDR4\",\"DDR4\",\"DDR4\",\"DDR5\",\"DDR4\",\"DDR4\",\"LPDDR4\",\"DDR4\",\"Unified\",\"DDR4\",\"DDR4\",\"DDR4\",\"DDR4\",\"DDR4\",\"LPDDR5\",\"LPDDR4X\",\"DDR4\",\"LPDDR4X\",\"LPDDR5\",\"LPDDR5\",\"LPDDR5\",\"Unified\",\"Unified\",\"LPDDR4x\",\"DDR4\",\"DDR4\",\"DDR4\",\"DDR4\",\"DDR4\",\"DDR4\",\"DDR5\",\"DDR4\",\"DDR4\",\"DDR5\",\"DDR4\",\"DDR4\",\"DDR4\",\"DDR4\",\"LPDDR5\",\"DDR4\",\"DDR4\",\"DDR5\",\"DDR5\",\"DDR5\",\"LPDDR5x\",\"DDR5\",\"LPDDR5\",\"DDR4\",\"LPDDR5\",\"DDR5\",\"DDR4\",\"LPDDR5\",\"LPDDR4X\",\"DDR5\",\"DDR4\",\"DDR5\",\"DDR4\",\"DDR4\",\"DDR4\",\"DDR4\",\"DDR4\",\"DDR4\",\"LPDDR4X\",\"DDR5\",\"DDR4\",\"LPDDR4X\",\"DDR4\",\"DDR5\",\"DDR5\",\"DDR4\",\"DDR4\",\"DDR5\",\"DDR4\",\"LPDDR4X\",\"LPDDR5\",\"DDR5\",\"DDR5\",\"LPDDR4\",\"DDR4\",\"DDR4\",\"LPDDR5\",\"DDR4\",\"DDR4\",\"DDR4\",\"DDR4\",\"DDR4\",\"DDR5\",\"DDR4\",\"DDR5\",\"DDR4\",\"DDR4\",\"LPDDR5\",\"DDR4\",\"DDR4\",\"DDR4\",\"DDR4\",\"DDR5\",\"DDR5\",\"DDR4\",\"DDR4\",\"LPDDR5\",\"LPDDR5\",\"LPDDR5\",\"DDR4\",\"LPDDR5\",\"LPDDR5\",\"LPDDR5\",\"LPDDR5\",\"LPDDR5\",\"DDR4\",\"DDR4\",\"DDR5\",\"DDR4\",\"DDR4\",\"DDR5\",\"DDR5\",\"DDR4\",\"LPDDR4X\",\"LPDDR4\",\"DDR5\",\"LPDDR5\",\"DDR4\",\"DDR5\",\"DDR4\",\"DDR5\",\"DDR5\",\"DDR4\",\"DDR5\",\"DDR5\",\"LPDDR4X\",\"DDR4\",\"LPDDR4X\",\"DDR5\",\"LPDDR5\",\"DDR4\",\"DDR4\",\"LPDDR5\",\"DDR4\",\"DDR5\",\"DDR5\",\"DDR4\",\"DDR4\",\"DDR4\",\"DDR4\",\"DDR4\",\"LPDDR4X\",\"DDR5\",\"LPDDR5\",\"LPDDR5\",\"DDR4\",\"LPDDR5\",\"LPDDR5\",\"DDR5\",\"DDR5\",\"DDR5\",\"DDR5\",\"DDR5\",\"LPDDR5\",\"DDR5\",\"DDR4\",\"LPDDR5\",\"DDR4\",\"DDR5\",\"DDR4\",\"DDR4\",\"DDR5\",\"DDR4\",\"DDR4\",\"DDR4\",\"LPDDR5\",\"LPDDR5\",\"LPDDR5\",\"LPDDR5\",\"LPDDR5\",\"DDR4\",\"DDR5\",\"LPDDR5\",\"LPDDR5\",\"LPDDR5\",\"DDR5\",\"LPDDR5\",\"DDR4\",\"DDR4\",\"DDR4\",\"DDR5\",\"DDR5\",\"DDR4\",\"DDR5\",\"DDR5\",\"DDR5\",\"DDR5\",\"DDR4\",\"DDR5\",\"DDR5\",\"DDR5\",\"DDR4\",\"DDR4\",\"DDR5\",\"DDR5\",\"DDR4\",\"LPDDR5\",\"LPDDR5\",\"DDR4\",\"DDR4\",\"DDR4\",\"DDR4\",\"DDR4\",\"DDR4\",\"LPDDR5\",\"LPDDR5\",\"DDR4\",\"DDR4\",\"DDR5\",\"LPDDR5\",\"DDR5\",\"LPDDR4X\",\"LPDDR5\",\"DDR4\",\"DDR5\",\"LPDDR5\",\"DDR5\",\"DDR5\",\"DDR5\",\"DDR5\",\"LPDDR4X\",\"LPDDR5\",\"DDR\",\"DDR4\",\"DDR4\"],\"xaxis\":\"x\",\"yaxis\":\"y\",\"type\":\"histogram\"},{\"alignmentgroup\":\"True\",\"bingroup\":\"x\",\"hovertemplate\":\"Ram=4GB\\u003cbr\\u003eRam_type=%{x}\\u003cbr\\u003ecount=%{y}\\u003cextra\\u003e\\u003c\\u002fextra\\u003e\",\"legendgroup\":\"4GB\",\"marker\":{\"color\":\"rgb(248, 156, 116)\",\"pattern\":{\"shape\":\"\"}},\"name\":\"4GB\",\"offsetgroup\":\"4GB\",\"orientation\":\"v\",\"showlegend\":true,\"x\":[\"DDR4\",\"LPDDR4\",\"DDR4\",\"LPDDR4\",\"LPDDR4x\",\"DDR4\",\"LPDDR4x\",\"DDR4\",\"DDR4\",\"LPDDR4X\",\"DDR4\",\"DDR4\",\"LPDDR4X\",\"LPDDR4X\",\"LPDDR4X\",\"LPDDR4X\",\"LPDDR4X\",\"DDR4\",\"DDR4\",\"DDR4\",\"DDR4\",\"DDR4\"],\"xaxis\":\"x\",\"yaxis\":\"y\",\"type\":\"histogram\"},{\"alignmentgroup\":\"True\",\"bingroup\":\"x\",\"hovertemplate\":\"Ram=32GB\\u003cbr\\u003eRam_type=%{x}\\u003cbr\\u003ecount=%{y}\\u003cextra\\u003e\\u003c\\u002fextra\\u003e\",\"legendgroup\":\"32GB\",\"marker\":{\"color\":\"rgb(220, 176, 242)\",\"pattern\":{\"shape\":\"\"}},\"name\":\"32GB\",\"offsetgroup\":\"32GB\",\"orientation\":\"v\",\"showlegend\":true,\"x\":[\"LPDDR5X\",\"DDR5\",\"DDR5\",\"DDR5\",\"LPDDR5\",\"DDR5\",\"DDR4\",\"DDR5\",\"LPDDR5\",\"Unified\",\"DDR5\",\"DDR5\",\"LPDDR5\",\"Unified\",\"LPDDR5\",\"LPDDR5\",\"DDR5\",\"DDR5\",\"DDR5\",\"DDR5\",\"DDR5\",\"DDR5\",\"LPDDR5\",\"DDR5\",\"DDR5\",\"DDR5\",\"DDR5\",\"DDR5\",\"DDR5\",\"LPDDR5X\",\"DDR5\",\"DDR5\",\"DDR5\",\"DDR5\",\"LPDDR5\",\"DDR5\",\"DDR5\",\"DDR5\",\"DDR5\",\"DDR5\"],\"xaxis\":\"x\",\"yaxis\":\"y\",\"type\":\"histogram\"},{\"alignmentgroup\":\"True\",\"bingroup\":\"x\",\"hovertemplate\":\"Ram=2GB\\u003cbr\\u003eRam_type=%{x}\\u003cbr\\u003ecount=%{y}\\u003cextra\\u003e\\u003c\\u002fextra\\u003e\",\"legendgroup\":\"2GB\",\"marker\":{\"color\":\"rgb(135, 197, 95)\",\"pattern\":{\"shape\":\"\"}},\"name\":\"2GB\",\"offsetgroup\":\"2GB\",\"orientation\":\"v\",\"showlegend\":true,\"x\":[\"DDR3\"],\"xaxis\":\"x\",\"yaxis\":\"y\",\"type\":\"histogram\"},{\"alignmentgroup\":\"True\",\"bingroup\":\"x\",\"hovertemplate\":\"Ram=12GB\\u003cbr\\u003eRam_type=%{x}\\u003cbr\\u003ecount=%{y}\\u003cextra\\u003e\\u003c\\u002fextra\\u003e\",\"legendgroup\":\"12GB\",\"marker\":{\"color\":\"rgb(158, 185, 243)\",\"pattern\":{\"shape\":\"\"}},\"name\":\"12GB\",\"offsetgroup\":\"12GB\",\"orientation\":\"v\",\"showlegend\":true,\"x\":[\"LPDDR4\",\"DDR4\"],\"xaxis\":\"x\",\"yaxis\":\"y\",\"type\":\"histogram\"},{\"alignmentgroup\":\"True\",\"bingroup\":\"x\",\"hovertemplate\":\"Ram=64GB\\u003cbr\\u003eRam_type=%{x}\\u003cbr\\u003ecount=%{y}\\u003cextra\\u003e\\u003c\\u002fextra\\u003e\",\"legendgroup\":\"64GB\",\"marker\":{\"color\":\"rgb(254, 136, 177)\",\"pattern\":{\"shape\":\"\"}},\"name\":\"64GB\",\"offsetgroup\":\"64GB\",\"orientation\":\"v\",\"showlegend\":true,\"x\":[\"LPDDR5\",\"DDR5\",\"DDR5\"],\"xaxis\":\"x\",\"yaxis\":\"y\",\"type\":\"histogram\"}],                        {\"template\":{\"data\":{\"histogram2dcontour\":[{\"type\":\"histogram2dcontour\",\"colorbar\":{\"outlinewidth\":0,\"ticks\":\"\"},\"colorscale\":[[0.0,\"#0d0887\"],[0.1111111111111111,\"#46039f\"],[0.2222222222222222,\"#7201a8\"],[0.3333333333333333,\"#9c179e\"],[0.4444444444444444,\"#bd3786\"],[0.5555555555555556,\"#d8576b\"],[0.6666666666666666,\"#ed7953\"],[0.7777777777777778,\"#fb9f3a\"],[0.8888888888888888,\"#fdca26\"],[1.0,\"#f0f921\"]]}],\"choropleth\":[{\"type\":\"choropleth\",\"colorbar\":{\"outlinewidth\":0,\"ticks\":\"\"}}],\"histogram2d\":[{\"type\":\"histogram2d\",\"colorbar\":{\"outlinewidth\":0,\"ticks\":\"\"},\"colorscale\":[[0.0,\"#0d0887\"],[0.1111111111111111,\"#46039f\"],[0.2222222222222222,\"#7201a8\"],[0.3333333333333333,\"#9c179e\"],[0.4444444444444444,\"#bd3786\"],[0.5555555555555556,\"#d8576b\"],[0.6666666666666666,\"#ed7953\"],[0.7777777777777778,\"#fb9f3a\"],[0.8888888888888888,\"#fdca26\"],[1.0,\"#f0f921\"]]}],\"heatmap\":[{\"type\":\"heatmap\",\"colorbar\":{\"outlinewidth\":0,\"ticks\":\"\"},\"colorscale\":[[0.0,\"#0d0887\"],[0.1111111111111111,\"#46039f\"],[0.2222222222222222,\"#7201a8\"],[0.3333333333333333,\"#9c179e\"],[0.4444444444444444,\"#bd3786\"],[0.5555555555555556,\"#d8576b\"],[0.6666666666666666,\"#ed7953\"],[0.7777777777777778,\"#fb9f3a\"],[0.8888888888888888,\"#fdca26\"],[1.0,\"#f0f921\"]]}],\"heatmapgl\":[{\"type\":\"heatmapgl\",\"colorbar\":{\"outlinewidth\":0,\"ticks\":\"\"},\"colorscale\":[[0.0,\"#0d0887\"],[0.1111111111111111,\"#46039f\"],[0.2222222222222222,\"#7201a8\"],[0.3333333333333333,\"#9c179e\"],[0.4444444444444444,\"#bd3786\"],[0.5555555555555556,\"#d8576b\"],[0.6666666666666666,\"#ed7953\"],[0.7777777777777778,\"#fb9f3a\"],[0.8888888888888888,\"#fdca26\"],[1.0,\"#f0f921\"]]}],\"contourcarpet\":[{\"type\":\"contourcarpet\",\"colorbar\":{\"outlinewidth\":0,\"ticks\":\"\"}}],\"contour\":[{\"type\":\"contour\",\"colorbar\":{\"outlinewidth\":0,\"ticks\":\"\"},\"colorscale\":[[0.0,\"#0d0887\"],[0.1111111111111111,\"#46039f\"],[0.2222222222222222,\"#7201a8\"],[0.3333333333333333,\"#9c179e\"],[0.4444444444444444,\"#bd3786\"],[0.5555555555555556,\"#d8576b\"],[0.6666666666666666,\"#ed7953\"],[0.7777777777777778,\"#fb9f3a\"],[0.8888888888888888,\"#fdca26\"],[1.0,\"#f0f921\"]]}],\"surface\":[{\"type\":\"surface\",\"colorbar\":{\"outlinewidth\":0,\"ticks\":\"\"},\"colorscale\":[[0.0,\"#0d0887\"],[0.1111111111111111,\"#46039f\"],[0.2222222222222222,\"#7201a8\"],[0.3333333333333333,\"#9c179e\"],[0.4444444444444444,\"#bd3786\"],[0.5555555555555556,\"#d8576b\"],[0.6666666666666666,\"#ed7953\"],[0.7777777777777778,\"#fb9f3a\"],[0.8888888888888888,\"#fdca26\"],[1.0,\"#f0f921\"]]}],\"mesh3d\":[{\"type\":\"mesh3d\",\"colorbar\":{\"outlinewidth\":0,\"ticks\":\"\"}}],\"scatter\":[{\"fillpattern\":{\"fillmode\":\"overlay\",\"size\":10,\"solidity\":0.2},\"type\":\"scatter\"}],\"parcoords\":[{\"type\":\"parcoords\",\"line\":{\"colorbar\":{\"outlinewidth\":0,\"ticks\":\"\"}}}],\"scatterpolargl\":[{\"type\":\"scatterpolargl\",\"marker\":{\"colorbar\":{\"outlinewidth\":0,\"ticks\":\"\"}}}],\"bar\":[{\"error_x\":{\"color\":\"#2a3f5f\"},\"error_y\":{\"color\":\"#2a3f5f\"},\"marker\":{\"line\":{\"color\":\"#E5ECF6\",\"width\":0.5},\"pattern\":{\"fillmode\":\"overlay\",\"size\":10,\"solidity\":0.2}},\"type\":\"bar\"}],\"scattergeo\":[{\"type\":\"scattergeo\",\"marker\":{\"colorbar\":{\"outlinewidth\":0,\"ticks\":\"\"}}}],\"scatterpolar\":[{\"type\":\"scatterpolar\",\"marker\":{\"colorbar\":{\"outlinewidth\":0,\"ticks\":\"\"}}}],\"histogram\":[{\"marker\":{\"pattern\":{\"fillmode\":\"overlay\",\"size\":10,\"solidity\":0.2}},\"type\":\"histogram\"}],\"scattergl\":[{\"type\":\"scattergl\",\"marker\":{\"colorbar\":{\"outlinewidth\":0,\"ticks\":\"\"}}}],\"scatter3d\":[{\"type\":\"scatter3d\",\"line\":{\"colorbar\":{\"outlinewidth\":0,\"ticks\":\"\"}},\"marker\":{\"colorbar\":{\"outlinewidth\":0,\"ticks\":\"\"}}}],\"scattermapbox\":[{\"type\":\"scattermapbox\",\"marker\":{\"colorbar\":{\"outlinewidth\":0,\"ticks\":\"\"}}}],\"scatterternary\":[{\"type\":\"scatterternary\",\"marker\":{\"colorbar\":{\"outlinewidth\":0,\"ticks\":\"\"}}}],\"scattercarpet\":[{\"type\":\"scattercarpet\",\"marker\":{\"colorbar\":{\"outlinewidth\":0,\"ticks\":\"\"}}}],\"carpet\":[{\"aaxis\":{\"endlinecolor\":\"#2a3f5f\",\"gridcolor\":\"white\",\"linecolor\":\"white\",\"minorgridcolor\":\"white\",\"startlinecolor\":\"#2a3f5f\"},\"baxis\":{\"endlinecolor\":\"#2a3f5f\",\"gridcolor\":\"white\",\"linecolor\":\"white\",\"minorgridcolor\":\"white\",\"startlinecolor\":\"#2a3f5f\"},\"type\":\"carpet\"}],\"table\":[{\"cells\":{\"fill\":{\"color\":\"#EBF0F8\"},\"line\":{\"color\":\"white\"}},\"header\":{\"fill\":{\"color\":\"#C8D4E3\"},\"line\":{\"color\":\"white\"}},\"type\":\"table\"}],\"barpolar\":[{\"marker\":{\"line\":{\"color\":\"#E5ECF6\",\"width\":0.5},\"pattern\":{\"fillmode\":\"overlay\",\"size\":10,\"solidity\":0.2}},\"type\":\"barpolar\"}],\"pie\":[{\"automargin\":true,\"type\":\"pie\"}]},\"layout\":{\"autotypenumbers\":\"strict\",\"colorway\":[\"#636efa\",\"#EF553B\",\"#00cc96\",\"#ab63fa\",\"#FFA15A\",\"#19d3f3\",\"#FF6692\",\"#B6E880\",\"#FF97FF\",\"#FECB52\"],\"font\":{\"color\":\"#2a3f5f\"},\"hovermode\":\"closest\",\"hoverlabel\":{\"align\":\"left\"},\"paper_bgcolor\":\"white\",\"plot_bgcolor\":\"#E5ECF6\",\"polar\":{\"bgcolor\":\"#E5ECF6\",\"angularaxis\":{\"gridcolor\":\"white\",\"linecolor\":\"white\",\"ticks\":\"\"},\"radialaxis\":{\"gridcolor\":\"white\",\"linecolor\":\"white\",\"ticks\":\"\"}},\"ternary\":{\"bgcolor\":\"#E5ECF6\",\"aaxis\":{\"gridcolor\":\"white\",\"linecolor\":\"white\",\"ticks\":\"\"},\"baxis\":{\"gridcolor\":\"white\",\"linecolor\":\"white\",\"ticks\":\"\"},\"caxis\":{\"gridcolor\":\"white\",\"linecolor\":\"white\",\"ticks\":\"\"}},\"coloraxis\":{\"colorbar\":{\"outlinewidth\":0,\"ticks\":\"\"}},\"colorscale\":{\"sequential\":[[0.0,\"#0d0887\"],[0.1111111111111111,\"#46039f\"],[0.2222222222222222,\"#7201a8\"],[0.3333333333333333,\"#9c179e\"],[0.4444444444444444,\"#bd3786\"],[0.5555555555555556,\"#d8576b\"],[0.6666666666666666,\"#ed7953\"],[0.7777777777777778,\"#fb9f3a\"],[0.8888888888888888,\"#fdca26\"],[1.0,\"#f0f921\"]],\"sequentialminus\":[[0.0,\"#0d0887\"],[0.1111111111111111,\"#46039f\"],[0.2222222222222222,\"#7201a8\"],[0.3333333333333333,\"#9c179e\"],[0.4444444444444444,\"#bd3786\"],[0.5555555555555556,\"#d8576b\"],[0.6666666666666666,\"#ed7953\"],[0.7777777777777778,\"#fb9f3a\"],[0.8888888888888888,\"#fdca26\"],[1.0,\"#f0f921\"]],\"diverging\":[[0,\"#8e0152\"],[0.1,\"#c51b7d\"],[0.2,\"#de77ae\"],[0.3,\"#f1b6da\"],[0.4,\"#fde0ef\"],[0.5,\"#f7f7f7\"],[0.6,\"#e6f5d0\"],[0.7,\"#b8e186\"],[0.8,\"#7fbc41\"],[0.9,\"#4d9221\"],[1,\"#276419\"]]},\"xaxis\":{\"gridcolor\":\"white\",\"linecolor\":\"white\",\"ticks\":\"\",\"title\":{\"standoff\":15},\"zerolinecolor\":\"white\",\"automargin\":true,\"zerolinewidth\":2},\"yaxis\":{\"gridcolor\":\"white\",\"linecolor\":\"white\",\"ticks\":\"\",\"title\":{\"standoff\":15},\"zerolinecolor\":\"white\",\"automargin\":true,\"zerolinewidth\":2},\"scene\":{\"xaxis\":{\"backgroundcolor\":\"#E5ECF6\",\"gridcolor\":\"white\",\"linecolor\":\"white\",\"showbackground\":true,\"ticks\":\"\",\"zerolinecolor\":\"white\",\"gridwidth\":2},\"yaxis\":{\"backgroundcolor\":\"#E5ECF6\",\"gridcolor\":\"white\",\"linecolor\":\"white\",\"showbackground\":true,\"ticks\":\"\",\"zerolinecolor\":\"white\",\"gridwidth\":2},\"zaxis\":{\"backgroundcolor\":\"#E5ECF6\",\"gridcolor\":\"white\",\"linecolor\":\"white\",\"showbackground\":true,\"ticks\":\"\",\"zerolinecolor\":\"white\",\"gridwidth\":2}},\"shapedefaults\":{\"line\":{\"color\":\"#2a3f5f\"}},\"annotationdefaults\":{\"arrowcolor\":\"#2a3f5f\",\"arrowhead\":0,\"arrowwidth\":1},\"geo\":{\"bgcolor\":\"white\",\"landcolor\":\"#E5ECF6\",\"subunitcolor\":\"white\",\"showland\":true,\"showlakes\":true,\"lakecolor\":\"white\"},\"title\":{\"x\":0.05},\"mapbox\":{\"style\":\"light\"}}},\"xaxis\":{\"anchor\":\"y\",\"domain\":[0.0,1.0],\"title\":{\"text\":\"Ram_type\"}},\"yaxis\":{\"anchor\":\"x\",\"domain\":[0.0,1.0],\"title\":{\"text\":\"count\"}},\"legend\":{\"title\":{\"text\":\"Ram\"},\"tracegroupgap\":0},\"title\":{\"text\":\"Ram Distribution\"},\"barmode\":\"relative\"},                        {\"responsive\": true}                    ).then(function(){\n",
              "                            \n",
              "var gd = document.getElementById('74009b81-7e4f-4096-bc69-5f6ea7ad9019');\n",
              "var x = new MutationObserver(function (mutations, observer) {{\n",
              "        var display = window.getComputedStyle(gd).display;\n",
              "        if (!display || display === 'none') {{\n",
              "            console.log([gd, 'removed!']);\n",
              "            Plotly.purge(gd);\n",
              "            observer.disconnect();\n",
              "        }}\n",
              "}});\n",
              "\n",
              "// Listen for the removal of the full notebook cells\n",
              "var notebookContainer = gd.closest('#notebook-container');\n",
              "if (notebookContainer) {{\n",
              "    x.observe(notebookContainer, {childList: true});\n",
              "}}\n",
              "\n",
              "// Listen for the clearing of the current output cell\n",
              "var outputEl = gd.closest('.output');\n",
              "if (outputEl) {{\n",
              "    x.observe(outputEl, {childList: true});\n",
              "}}\n",
              "\n",
              "                        })                };                            </script>        </div>\n",
              "</body>\n",
              "</html>"
            ]
          },
          "metadata": {}
        }
      ],
      "source": [
        "plt = px.histogram(df, x='Ram_type', color='Ram', title=\"Ram Distribution\", color_discrete_sequence=px.colors.qualitative.Pastel)\n",
        "plt.show()"
      ]
    },
    {
      "cell_type": "code",
      "execution_count": 104,
      "metadata": {
        "colab": {
          "base_uri": "https://localhost:8080/",
          "height": 0
        },
        "id": "CqsZOSLsCHAU",
        "outputId": "a71dd7e1-d8a4-422f-b3fd-021b958709c7"
      },
      "outputs": [
        {
          "output_type": "display_data",
          "data": {
            "text/html": [
              "<html>\n",
              "<head><meta charset=\"utf-8\" /></head>\n",
              "<body>\n",
              "    <div>            <script src=\"https://cdnjs.cloudflare.com/ajax/libs/mathjax/2.7.5/MathJax.js?config=TeX-AMS-MML_SVG\"></script><script type=\"text/javascript\">if (window.MathJax && window.MathJax.Hub && window.MathJax.Hub.Config) {window.MathJax.Hub.Config({SVG: {font: \"STIX-Web\"}});}</script>                <script type=\"text/javascript\">window.PlotlyConfig = {MathJaxConfig: 'local'};</script>\n",
              "        <script charset=\"utf-8\" src=\"https://cdn.plot.ly/plotly-2.35.2.min.js\"></script>                <div id=\"11e645c5-0820-4f1a-ac97-e3b7abd3bd35\" class=\"plotly-graph-div\" style=\"height:525px; width:100%;\"></div>            <script type=\"text/javascript\">                                    window.PLOTLYENV=window.PLOTLYENV || {};                                    if (document.getElementById(\"11e645c5-0820-4f1a-ac97-e3b7abd3bd35\")) {                    Plotly.newPlot(                        \"11e645c5-0820-4f1a-ac97-e3b7abd3bd35\",                        [{\"alignmentgroup\":\"True\",\"bingroup\":\"x\",\"hovertemplate\":\"ROM=512GB\\u003cbr\\u003eROM_type=%{x}\\u003cbr\\u003ecount=%{y}\\u003cextra\\u003e\\u003c\\u002fextra\\u003e\",\"legendgroup\":\"512GB\",\"marker\":{\"color\":\"rgb(102, 197, 204)\",\"pattern\":{\"shape\":\"\"}},\"name\":\"512GB\",\"offsetgroup\":\"512GB\",\"orientation\":\"v\",\"showlegend\":true,\"x\":[\"SSD\",\"SSD\",\"SSD\",\"SSD\",\"SSD\",\"SSD\",\"SSD\",\"SSD\",\"SSD\",\"SSD\",\"SSD\",\"SSD\",\"SSD\",\"SSD\",\"SSD\",\"SSD\",\"SSD\",\"SSD\",\"SSD\",\"SSD\",\"SSD\",\"SSD\",\"SSD\",\"SSD\",\"SSD\",\"SSD\",\"SSD\",\"SSD\",\"SSD\",\"SSD\",\"SSD\",\"SSD\",\"SSD\",\"SSD\",\"SSD\",\"SSD\",\"SSD\",\"SSD\",\"SSD\",\"SSD\",\"SSD\",\"SSD\",\"SSD\",\"SSD\",\"SSD\",\"SSD\",\"SSD\",\"SSD\",\"SSD\",\"SSD\",\"SSD\",\"SSD\",\"SSD\",\"SSD\",\"SSD\",\"SSD\",\"SSD\",\"SSD\",\"SSD\",\"SSD\",\"SSD\",\"SSD\",\"SSD\",\"SSD\",\"SSD\",\"SSD\",\"SSD\",\"SSD\",\"SSD\",\"SSD\",\"SSD\",\"SSD\",\"SSD\",\"SSD\",\"SSD\",\"SSD\",\"SSD\",\"SSD\",\"SSD\",\"SSD\",\"SSD\",\"SSD\",\"SSD\",\"SSD\",\"SSD\",\"SSD\",\"SSD\",\"SSD\",\"SSD\",\"SSD\",\"SSD\",\"SSD\",\"SSD\",\"SSD\",\"SSD\",\"SSD\",\"SSD\",\"SSD\",\"SSD\",\"SSD\",\"SSD\",\"SSD\",\"SSD\",\"SSD\",\"SSD\",\"SSD\",\"SSD\",\"SSD\",\"SSD\",\"SSD\",\"SSD\",\"SSD\",\"SSD\",\"SSD\",\"SSD\",\"SSD\",\"SSD\",\"SSD\",\"SSD\",\"SSD\",\"SSD\",\"SSD\",\"SSD\",\"SSD\",\"SSD\",\"SSD\",\"SSD\",\"SSD\",\"SSD\",\"SSD\",\"SSD\",\"SSD\",\"SSD\",\"SSD\",\"SSD\",\"SSD\",\"SSD\",\"SSD\",\"SSD\",\"SSD\",\"SSD\",\"SSD\",\"SSD\",\"SSD\",\"SSD\",\"SSD\",\"SSD\",\"SSD\",\"SSD\",\"SSD\",\"SSD\",\"SSD\",\"SSD\",\"SSD\",\"SSD\",\"SSD\",\"SSD\",\"SSD\",\"SSD\",\"SSD\",\"SSD\",\"SSD\",\"SSD\",\"SSD\",\"SSD\",\"SSD\",\"SSD\",\"SSD\",\"SSD\",\"SSD\",\"SSD\",\"SSD\",\"SSD\",\"SSD\",\"SSD\",\"SSD\",\"SSD\",\"SSD\",\"SSD\",\"SSD\",\"SSD\",\"SSD\",\"SSD\",\"SSD\",\"SSD\",\"SSD\",\"SSD\",\"SSD\",\"SSD\",\"SSD\",\"SSD\",\"SSD\",\"SSD\",\"SSD\",\"SSD\",\"SSD\",\"SSD\",\"SSD\",\"SSD\",\"SSD\",\"SSD\",\"SSD\",\"SSD\",\"SSD\",\"SSD\",\"SSD\",\"SSD\",\"SSD\",\"SSD\",\"SSD\",\"SSD\",\"SSD\",\"SSD\",\"SSD\",\"SSD\",\"SSD\",\"SSD\",\"SSD\",\"SSD\",\"SSD\",\"SSD\",\"SSD\",\"SSD\",\"SSD\",\"SSD\",\"SSD\",\"SSD\",\"SSD\",\"SSD\",\"SSD\",\"SSD\",\"SSD\",\"SSD\",\"SSD\",\"SSD\",\"SSD\",\"SSD\",\"SSD\",\"SSD\",\"SSD\",\"SSD\",\"SSD\",\"SSD\",\"SSD\",\"SSD\",\"SSD\",\"SSD\",\"SSD\",\"SSD\",\"SSD\",\"SSD\",\"SSD\",\"SSD\",\"SSD\",\"SSD\",\"SSD\",\"SSD\",\"SSD\",\"SSD\",\"SSD\",\"SSD\",\"SSD\",\"SSD\",\"SSD\",\"SSD\",\"SSD\",\"SSD\",\"SSD\",\"SSD\",\"SSD\",\"SSD\",\"SSD\",\"SSD\",\"SSD\",\"SSD\",\"SSD\",\"SSD\",\"SSD\",\"SSD\",\"SSD\",\"SSD\",\"SSD\",\"SSD\",\"SSD\",\"SSD\",\"SSD\",\"SSD\",\"SSD\",\"SSD\",\"SSD\",\"SSD\",\"SSD\",\"SSD\",\"SSD\",\"SSD\",\"SSD\",\"SSD\",\"SSD\",\"SSD\",\"SSD\",\"SSD\",\"SSD\",\"SSD\",\"SSD\",\"SSD\",\"SSD\",\"SSD\",\"SSD\",\"SSD\",\"SSD\",\"SSD\",\"SSD\",\"SSD\",\"SSD\",\"SSD\",\"SSD\",\"SSD\",\"SSD\",\"SSD\",\"SSD\",\"SSD\",\"SSD\",\"SSD\",\"SSD\",\"SSD\",\"SSD\",\"SSD\",\"SSD\",\"SSD\",\"SSD\",\"SSD\",\"SSD\",\"SSD\",\"SSD\",\"SSD\",\"SSD\",\"SSD\",\"SSD\",\"SSD\",\"SSD\",\"SSD\",\"SSD\",\"SSD\",\"SSD\",\"SSD\",\"SSD\",\"SSD\",\"SSD\",\"SSD\",\"SSD\",\"SSD\",\"SSD\",\"SSD\",\"SSD\",\"SSD\",\"SSD\",\"SSD\",\"SSD\",\"SSD\",\"SSD\",\"SSD\",\"SSD\",\"SSD\",\"SSD\",\"SSD\",\"SSD\",\"SSD\",\"SSD\",\"SSD\",\"SSD\",\"SSD\",\"SSD\",\"SSD\",\"SSD\",\"SSD\",\"SSD\",\"SSD\",\"SSD\",\"SSD\",\"SSD\",\"SSD\",\"SSD\",\"SSD\",\"SSD\",\"SSD\",\"SSD\",\"SSD\",\"SSD\",\"SSD\",\"SSD\",\"SSD\",\"SSD\",\"SSD\",\"SSD\",\"SSD\",\"SSD\",\"SSD\",\"SSD\",\"SSD\",\"SSD\",\"SSD\",\"SSD\",\"SSD\",\"SSD\",\"SSD\",\"SSD\",\"SSD\",\"SSD\",\"SSD\",\"SSD\",\"SSD\",\"SSD\",\"SSD\",\"SSD\",\"SSD\",\"SSD\",\"SSD\",\"SSD\",\"SSD\",\"SSD\",\"SSD\",\"SSD\",\"SSD\",\"SSD\",\"SSD\",\"SSD\",\"SSD\",\"SSD\",\"SSD\",\"SSD\",\"SSD\",\"SSD\",\"SSD\",\"SSD\",\"SSD\",\"SSD\",\"SSD\",\"SSD\",\"SSD\",\"SSD\",\"SSD\",\"SSD\",\"SSD\",\"SSD\",\"SSD\",\"SSD\",\"SSD\",\"SSD\",\"SSD\",\"SSD\",\"SSD\",\"SSD\",\"SSD\",\"SSD\",\"SSD\",\"SSD\",\"SSD\",\"SSD\",\"SSD\",\"SSD\",\"SSD\",\"SSD\",\"SSD\",\"SSD\",\"SSD\",\"SSD\",\"SSD\",\"SSD\",\"SSD\",\"SSD\",\"SSD\",\"SSD\",\"SSD\",\"SSD\",\"SSD\",\"SSD\",\"SSD\",\"SSD\",\"SSD\",\"SSD\",\"SSD\",\"SSD\",\"SSD\",\"SSD\",\"SSD\",\"SSD\",\"SSD\",\"SSD\",\"SSD\",\"SSD\",\"SSD\",\"SSD\",\"SSD\",\"SSD\",\"SSD\",\"SSD\",\"SSD\",\"SSD\",\"SSD\",\"SSD\",\"SSD\",\"SSD\",\"SSD\",\"SSD\",\"SSD\",\"SSD\",\"SSD\",\"SSD\",\"SSD\",\"SSD\",\"SSD\",\"SSD\",\"SSD\",\"SSD\",\"SSD\",\"SSD\",\"SSD\",\"SSD\",\"SSD\",\"SSD\",\"SSD\",\"SSD\",\"SSD\",\"SSD\",\"SSD\",\"SSD\",\"SSD\",\"SSD\",\"SSD\",\"SSD\",\"SSD\",\"SSD\",\"SSD\",\"SSD\",\"SSD\",\"SSD\",\"SSD\",\"SSD\",\"SSD\",\"SSD\",\"SSD\",\"SSD\",\"SSD\",\"SSD\",\"SSD\",\"SSD\",\"SSD\",\"SSD\",\"SSD\",\"SSD\",\"SSD\",\"SSD\",\"SSD\",\"SSD\",\"SSD\",\"SSD\",\"SSD\",\"SSD\",\"SSD\",\"SSD\",\"SSD\",\"SSD\",\"SSD\",\"SSD\",\"SSD\",\"SSD\",\"SSD\",\"SSD\",\"SSD\",\"SSD\",\"SSD\",\"SSD\",\"SSD\",\"SSD\",\"SSD\",\"SSD\",\"SSD\",\"SSD\",\"SSD\",\"SSD\",\"SSD\",\"SSD\",\"SSD\",\"SSD\",\"SSD\",\"SSD\",\"SSD\",\"SSD\",\"SSD\",\"SSD\",\"SSD\",\"SSD\",\"SSD\",\"SSD\",\"SSD\",\"SSD\",\"SSD\",\"SSD\",\"SSD\",\"SSD\",\"SSD\",\"SSD\",\"SSD\",\"SSD\",\"SSD\",\"SSD\",\"SSD\",\"SSD\",\"SSD\",\"SSD\",\"SSD\",\"SSD\",\"SSD\",\"SSD\",\"SSD\",\"SSD\",\"SSD\",\"SSD\",\"SSD\",\"SSD\",\"SSD\",\"SSD\",\"SSD\",\"SSD\",\"SSD\",\"SSD\",\"SSD\",\"SSD\",\"SSD\",\"SSD\",\"SSD\",\"SSD\",\"SSD\",\"SSD\"],\"xaxis\":\"x\",\"yaxis\":\"y\",\"type\":\"histogram\"},{\"alignmentgroup\":\"True\",\"bingroup\":\"x\",\"hovertemplate\":\"ROM=256GB\\u003cbr\\u003eROM_type=%{x}\\u003cbr\\u003ecount=%{y}\\u003cextra\\u003e\\u003c\\u002fextra\\u003e\",\"legendgroup\":\"256GB\",\"marker\":{\"color\":\"rgb(246, 207, 113)\",\"pattern\":{\"shape\":\"\"}},\"name\":\"256GB\",\"offsetgroup\":\"256GB\",\"orientation\":\"v\",\"showlegend\":true,\"x\":[\"SSD\",\"SSD\",\"SSD\",\"SSD\",\"SSD\",\"SSD\",\"SSD\",\"SSD\",\"SSD\",\"SSD\",\"SSD\",\"SSD\",\"SSD\",\"SSD\",\"SSD\",\"SSD\",\"SSD\",\"SSD\",\"SSD\",\"SSD\",\"SSD\",\"SSD\",\"SSD\",\"SSD\",\"SSD\",\"SSD\",\"SSD\",\"SSD\",\"SSD\",\"SSD\",\"SSD\",\"SSD\",\"SSD\",\"SSD\",\"SSD\",\"SSD\",\"SSD\",\"SSD\",\"SSD\",\"SSD\",\"SSD\",\"SSD\"],\"xaxis\":\"x\",\"yaxis\":\"y\",\"type\":\"histogram\"},{\"alignmentgroup\":\"True\",\"bingroup\":\"x\",\"hovertemplate\":\"ROM=128GB\\u003cbr\\u003eROM_type=%{x}\\u003cbr\\u003ecount=%{y}\\u003cextra\\u003e\\u003c\\u002fextra\\u003e\",\"legendgroup\":\"128GB\",\"marker\":{\"color\":\"rgb(248, 156, 116)\",\"pattern\":{\"shape\":\"\"}},\"name\":\"128GB\",\"offsetgroup\":\"128GB\",\"orientation\":\"v\",\"showlegend\":true,\"x\":[\"SSD\",\"Hard-Disk\",\"SSD\",\"SSD\",\"Hard-Disk\",\"SSD\",\"Hard-Disk\",\"SSD\",\"SSD\",\"SSD\",\"SSD\",\"SSD\"],\"xaxis\":\"x\",\"yaxis\":\"y\",\"type\":\"histogram\"},{\"alignmentgroup\":\"True\",\"bingroup\":\"x\",\"hovertemplate\":\"ROM=64GB\\u003cbr\\u003eROM_type=%{x}\\u003cbr\\u003ecount=%{y}\\u003cextra\\u003e\\u003c\\u002fextra\\u003e\",\"legendgroup\":\"64GB\",\"marker\":{\"color\":\"rgb(220, 176, 242)\",\"pattern\":{\"shape\":\"\"}},\"name\":\"64GB\",\"offsetgroup\":\"64GB\",\"orientation\":\"v\",\"showlegend\":true,\"x\":[\"Hard-Disk\",\"SSD\",\"Hard-Disk\",\"SSD\",\"SSD\"],\"xaxis\":\"x\",\"yaxis\":\"y\",\"type\":\"histogram\"},{\"alignmentgroup\":\"True\",\"bingroup\":\"x\",\"hovertemplate\":\"ROM=1TB\\u003cbr\\u003eROM_type=%{x}\\u003cbr\\u003ecount=%{y}\\u003cextra\\u003e\\u003c\\u002fextra\\u003e\",\"legendgroup\":\"1TB\",\"marker\":{\"color\":\"rgb(135, 197, 95)\",\"pattern\":{\"shape\":\"\"}},\"name\":\"1TB\",\"offsetgroup\":\"1TB\",\"orientation\":\"v\",\"showlegend\":true,\"x\":[\"SSD\",\"SSD\",\"SSD\",\"SSD\",\"SSD\",\"SSD\",\"SSD\",\"SSD\",\"SSD\",\"Hard-Disk\",\"SSD\",\"Hard-Disk\",\"SSD\",\"Hard-Disk\",\"SSD\",\"SSD\",\"SSD\",\"SSD\",\"SSD\",\"SSD\",\"SSD\",\"SSD\",\"SSD\",\"SSD\",\"SSD\",\"SSD\",\"SSD\",\"SSD\",\"SSD\",\"Hard-Disk\",\"Hard-Disk\",\"Hard-Disk\",\"SSD\",\"SSD\",\"SSD\",\"SSD\",\"SSD\",\"SSD\",\"SSD\",\"SSD\",\"SSD\",\"SSD\",\"SSD\",\"SSD\",\"SSD\",\"SSD\",\"SSD\",\"SSD\",\"SSD\",\"SSD\",\"SSD\",\"SSD\",\"SSD\",\"SSD\",\"SSD\",\"SSD\",\"SSD\",\"SSD\",\"SSD\",\"SSD\",\"SSD\",\"SSD\",\"SSD\",\"SSD\",\"SSD\",\"SSD\",\"SSD\",\"SSD\",\"SSD\",\"Hard-Disk\",\"SSD\",\"SSD\",\"SSD\",\"SSD\",\"SSD\",\"Hard-Disk\",\"Hard-Disk\",\"SSD\",\"SSD\",\"SSD\",\"Hard-Disk\",\"Hard-Disk\",\"Hard-Disk\",\"SSD\",\"SSD\",\"SSD\",\"SSD\",\"SSD\",\"Hard-Disk\",\"SSD\",\"SSD\",\"SSD\",\"SSD\",\"SSD\",\"SSD\",\"SSD\",\"SSD\",\"SSD\",\"SSD\",\"SSD\",\"SSD\",\"SSD\",\"SSD\",\"SSD\",\"SSD\",\"SSD\",\"SSD\",\"SSD\",\"SSD\",\"SSD\",\"SSD\",\"SSD\",\"SSD\",\"SSD\",\"SSD\",\"SSD\",\"SSD\",\"SSD\",\"SSD\",\"SSD\",\"SSD\",\"SSD\",\"SSD\",\"SSD\",\"SSD\",\"SSD\",\"SSD\",\"SSD\",\"SSD\",\"SSD\",\"SSD\",\"SSD\",\"SSD\",\"SSD\",\"SSD\",\"SSD\",\"SSD\",\"SSD\",\"SSD\",\"SSD\",\"SSD\",\"SSD\",\"SSD\",\"SSD\",\"SSD\",\"SSD\",\"SSD\",\"SSD\",\"SSD\",\"SSD\",\"SSD\",\"SSD\",\"SSD\",\"SSD\",\"SSD\",\"SSD\",\"Hard-Disk\",\"SSD\",\"SSD\",\"SSD\",\"SSD\",\"SSD\",\"SSD\",\"SSD\",\"SSD\",\"SSD\",\"SSD\",\"SSD\",\"SSD\",\"SSD\",\"SSD\",\"SSD\",\"SSD\",\"SSD\",\"SSD\",\"SSD\",\"SSD\",\"SSD\",\"SSD\",\"SSD\",\"SSD\",\"SSD\",\"SSD\",\"SSD\",\"SSD\",\"SSD\",\"SSD\",\"SSD\"],\"xaxis\":\"x\",\"yaxis\":\"y\",\"type\":\"histogram\"},{\"alignmentgroup\":\"True\",\"bingroup\":\"x\",\"hovertemplate\":\"ROM=32GB\\u003cbr\\u003eROM_type=%{x}\\u003cbr\\u003ecount=%{y}\\u003cextra\\u003e\\u003c\\u002fextra\\u003e\",\"legendgroup\":\"32GB\",\"marker\":{\"color\":\"rgb(158, 185, 243)\",\"pattern\":{\"shape\":\"\"}},\"name\":\"32GB\",\"offsetgroup\":\"32GB\",\"orientation\":\"v\",\"showlegend\":true,\"x\":[\"Hard-Disk\",\"Hard-Disk\"],\"xaxis\":\"x\",\"yaxis\":\"y\",\"type\":\"histogram\"},{\"alignmentgroup\":\"True\",\"bingroup\":\"x\",\"hovertemplate\":\"ROM=2TB\\u003cbr\\u003eROM_type=%{x}\\u003cbr\\u003ecount=%{y}\\u003cextra\\u003e\\u003c\\u002fextra\\u003e\",\"legendgroup\":\"2TB\",\"marker\":{\"color\":\"rgb(254, 136, 177)\",\"pattern\":{\"shape\":\"\"}},\"name\":\"2TB\",\"offsetgroup\":\"2TB\",\"orientation\":\"v\",\"showlegend\":true,\"x\":[\"SSD\",\"SSD\",\"SSD\",\"SSD\",\"SSD\",\"SSD\",\"SSD\",\"SSD\",\"SSD\",\"SSD\"],\"xaxis\":\"x\",\"yaxis\":\"y\",\"type\":\"histogram\"}],                        {\"template\":{\"data\":{\"histogram2dcontour\":[{\"type\":\"histogram2dcontour\",\"colorbar\":{\"outlinewidth\":0,\"ticks\":\"\"},\"colorscale\":[[0.0,\"#0d0887\"],[0.1111111111111111,\"#46039f\"],[0.2222222222222222,\"#7201a8\"],[0.3333333333333333,\"#9c179e\"],[0.4444444444444444,\"#bd3786\"],[0.5555555555555556,\"#d8576b\"],[0.6666666666666666,\"#ed7953\"],[0.7777777777777778,\"#fb9f3a\"],[0.8888888888888888,\"#fdca26\"],[1.0,\"#f0f921\"]]}],\"choropleth\":[{\"type\":\"choropleth\",\"colorbar\":{\"outlinewidth\":0,\"ticks\":\"\"}}],\"histogram2d\":[{\"type\":\"histogram2d\",\"colorbar\":{\"outlinewidth\":0,\"ticks\":\"\"},\"colorscale\":[[0.0,\"#0d0887\"],[0.1111111111111111,\"#46039f\"],[0.2222222222222222,\"#7201a8\"],[0.3333333333333333,\"#9c179e\"],[0.4444444444444444,\"#bd3786\"],[0.5555555555555556,\"#d8576b\"],[0.6666666666666666,\"#ed7953\"],[0.7777777777777778,\"#fb9f3a\"],[0.8888888888888888,\"#fdca26\"],[1.0,\"#f0f921\"]]}],\"heatmap\":[{\"type\":\"heatmap\",\"colorbar\":{\"outlinewidth\":0,\"ticks\":\"\"},\"colorscale\":[[0.0,\"#0d0887\"],[0.1111111111111111,\"#46039f\"],[0.2222222222222222,\"#7201a8\"],[0.3333333333333333,\"#9c179e\"],[0.4444444444444444,\"#bd3786\"],[0.5555555555555556,\"#d8576b\"],[0.6666666666666666,\"#ed7953\"],[0.7777777777777778,\"#fb9f3a\"],[0.8888888888888888,\"#fdca26\"],[1.0,\"#f0f921\"]]}],\"heatmapgl\":[{\"type\":\"heatmapgl\",\"colorbar\":{\"outlinewidth\":0,\"ticks\":\"\"},\"colorscale\":[[0.0,\"#0d0887\"],[0.1111111111111111,\"#46039f\"],[0.2222222222222222,\"#7201a8\"],[0.3333333333333333,\"#9c179e\"],[0.4444444444444444,\"#bd3786\"],[0.5555555555555556,\"#d8576b\"],[0.6666666666666666,\"#ed7953\"],[0.7777777777777778,\"#fb9f3a\"],[0.8888888888888888,\"#fdca26\"],[1.0,\"#f0f921\"]]}],\"contourcarpet\":[{\"type\":\"contourcarpet\",\"colorbar\":{\"outlinewidth\":0,\"ticks\":\"\"}}],\"contour\":[{\"type\":\"contour\",\"colorbar\":{\"outlinewidth\":0,\"ticks\":\"\"},\"colorscale\":[[0.0,\"#0d0887\"],[0.1111111111111111,\"#46039f\"],[0.2222222222222222,\"#7201a8\"],[0.3333333333333333,\"#9c179e\"],[0.4444444444444444,\"#bd3786\"],[0.5555555555555556,\"#d8576b\"],[0.6666666666666666,\"#ed7953\"],[0.7777777777777778,\"#fb9f3a\"],[0.8888888888888888,\"#fdca26\"],[1.0,\"#f0f921\"]]}],\"surface\":[{\"type\":\"surface\",\"colorbar\":{\"outlinewidth\":0,\"ticks\":\"\"},\"colorscale\":[[0.0,\"#0d0887\"],[0.1111111111111111,\"#46039f\"],[0.2222222222222222,\"#7201a8\"],[0.3333333333333333,\"#9c179e\"],[0.4444444444444444,\"#bd3786\"],[0.5555555555555556,\"#d8576b\"],[0.6666666666666666,\"#ed7953\"],[0.7777777777777778,\"#fb9f3a\"],[0.8888888888888888,\"#fdca26\"],[1.0,\"#f0f921\"]]}],\"mesh3d\":[{\"type\":\"mesh3d\",\"colorbar\":{\"outlinewidth\":0,\"ticks\":\"\"}}],\"scatter\":[{\"fillpattern\":{\"fillmode\":\"overlay\",\"size\":10,\"solidity\":0.2},\"type\":\"scatter\"}],\"parcoords\":[{\"type\":\"parcoords\",\"line\":{\"colorbar\":{\"outlinewidth\":0,\"ticks\":\"\"}}}],\"scatterpolargl\":[{\"type\":\"scatterpolargl\",\"marker\":{\"colorbar\":{\"outlinewidth\":0,\"ticks\":\"\"}}}],\"bar\":[{\"error_x\":{\"color\":\"#2a3f5f\"},\"error_y\":{\"color\":\"#2a3f5f\"},\"marker\":{\"line\":{\"color\":\"#E5ECF6\",\"width\":0.5},\"pattern\":{\"fillmode\":\"overlay\",\"size\":10,\"solidity\":0.2}},\"type\":\"bar\"}],\"scattergeo\":[{\"type\":\"scattergeo\",\"marker\":{\"colorbar\":{\"outlinewidth\":0,\"ticks\":\"\"}}}],\"scatterpolar\":[{\"type\":\"scatterpolar\",\"marker\":{\"colorbar\":{\"outlinewidth\":0,\"ticks\":\"\"}}}],\"histogram\":[{\"marker\":{\"pattern\":{\"fillmode\":\"overlay\",\"size\":10,\"solidity\":0.2}},\"type\":\"histogram\"}],\"scattergl\":[{\"type\":\"scattergl\",\"marker\":{\"colorbar\":{\"outlinewidth\":0,\"ticks\":\"\"}}}],\"scatter3d\":[{\"type\":\"scatter3d\",\"line\":{\"colorbar\":{\"outlinewidth\":0,\"ticks\":\"\"}},\"marker\":{\"colorbar\":{\"outlinewidth\":0,\"ticks\":\"\"}}}],\"scattermapbox\":[{\"type\":\"scattermapbox\",\"marker\":{\"colorbar\":{\"outlinewidth\":0,\"ticks\":\"\"}}}],\"scatterternary\":[{\"type\":\"scatterternary\",\"marker\":{\"colorbar\":{\"outlinewidth\":0,\"ticks\":\"\"}}}],\"scattercarpet\":[{\"type\":\"scattercarpet\",\"marker\":{\"colorbar\":{\"outlinewidth\":0,\"ticks\":\"\"}}}],\"carpet\":[{\"aaxis\":{\"endlinecolor\":\"#2a3f5f\",\"gridcolor\":\"white\",\"linecolor\":\"white\",\"minorgridcolor\":\"white\",\"startlinecolor\":\"#2a3f5f\"},\"baxis\":{\"endlinecolor\":\"#2a3f5f\",\"gridcolor\":\"white\",\"linecolor\":\"white\",\"minorgridcolor\":\"white\",\"startlinecolor\":\"#2a3f5f\"},\"type\":\"carpet\"}],\"table\":[{\"cells\":{\"fill\":{\"color\":\"#EBF0F8\"},\"line\":{\"color\":\"white\"}},\"header\":{\"fill\":{\"color\":\"#C8D4E3\"},\"line\":{\"color\":\"white\"}},\"type\":\"table\"}],\"barpolar\":[{\"marker\":{\"line\":{\"color\":\"#E5ECF6\",\"width\":0.5},\"pattern\":{\"fillmode\":\"overlay\",\"size\":10,\"solidity\":0.2}},\"type\":\"barpolar\"}],\"pie\":[{\"automargin\":true,\"type\":\"pie\"}]},\"layout\":{\"autotypenumbers\":\"strict\",\"colorway\":[\"#636efa\",\"#EF553B\",\"#00cc96\",\"#ab63fa\",\"#FFA15A\",\"#19d3f3\",\"#FF6692\",\"#B6E880\",\"#FF97FF\",\"#FECB52\"],\"font\":{\"color\":\"#2a3f5f\"},\"hovermode\":\"closest\",\"hoverlabel\":{\"align\":\"left\"},\"paper_bgcolor\":\"white\",\"plot_bgcolor\":\"#E5ECF6\",\"polar\":{\"bgcolor\":\"#E5ECF6\",\"angularaxis\":{\"gridcolor\":\"white\",\"linecolor\":\"white\",\"ticks\":\"\"},\"radialaxis\":{\"gridcolor\":\"white\",\"linecolor\":\"white\",\"ticks\":\"\"}},\"ternary\":{\"bgcolor\":\"#E5ECF6\",\"aaxis\":{\"gridcolor\":\"white\",\"linecolor\":\"white\",\"ticks\":\"\"},\"baxis\":{\"gridcolor\":\"white\",\"linecolor\":\"white\",\"ticks\":\"\"},\"caxis\":{\"gridcolor\":\"white\",\"linecolor\":\"white\",\"ticks\":\"\"}},\"coloraxis\":{\"colorbar\":{\"outlinewidth\":0,\"ticks\":\"\"}},\"colorscale\":{\"sequential\":[[0.0,\"#0d0887\"],[0.1111111111111111,\"#46039f\"],[0.2222222222222222,\"#7201a8\"],[0.3333333333333333,\"#9c179e\"],[0.4444444444444444,\"#bd3786\"],[0.5555555555555556,\"#d8576b\"],[0.6666666666666666,\"#ed7953\"],[0.7777777777777778,\"#fb9f3a\"],[0.8888888888888888,\"#fdca26\"],[1.0,\"#f0f921\"]],\"sequentialminus\":[[0.0,\"#0d0887\"],[0.1111111111111111,\"#46039f\"],[0.2222222222222222,\"#7201a8\"],[0.3333333333333333,\"#9c179e\"],[0.4444444444444444,\"#bd3786\"],[0.5555555555555556,\"#d8576b\"],[0.6666666666666666,\"#ed7953\"],[0.7777777777777778,\"#fb9f3a\"],[0.8888888888888888,\"#fdca26\"],[1.0,\"#f0f921\"]],\"diverging\":[[0,\"#8e0152\"],[0.1,\"#c51b7d\"],[0.2,\"#de77ae\"],[0.3,\"#f1b6da\"],[0.4,\"#fde0ef\"],[0.5,\"#f7f7f7\"],[0.6,\"#e6f5d0\"],[0.7,\"#b8e186\"],[0.8,\"#7fbc41\"],[0.9,\"#4d9221\"],[1,\"#276419\"]]},\"xaxis\":{\"gridcolor\":\"white\",\"linecolor\":\"white\",\"ticks\":\"\",\"title\":{\"standoff\":15},\"zerolinecolor\":\"white\",\"automargin\":true,\"zerolinewidth\":2},\"yaxis\":{\"gridcolor\":\"white\",\"linecolor\":\"white\",\"ticks\":\"\",\"title\":{\"standoff\":15},\"zerolinecolor\":\"white\",\"automargin\":true,\"zerolinewidth\":2},\"scene\":{\"xaxis\":{\"backgroundcolor\":\"#E5ECF6\",\"gridcolor\":\"white\",\"linecolor\":\"white\",\"showbackground\":true,\"ticks\":\"\",\"zerolinecolor\":\"white\",\"gridwidth\":2},\"yaxis\":{\"backgroundcolor\":\"#E5ECF6\",\"gridcolor\":\"white\",\"linecolor\":\"white\",\"showbackground\":true,\"ticks\":\"\",\"zerolinecolor\":\"white\",\"gridwidth\":2},\"zaxis\":{\"backgroundcolor\":\"#E5ECF6\",\"gridcolor\":\"white\",\"linecolor\":\"white\",\"showbackground\":true,\"ticks\":\"\",\"zerolinecolor\":\"white\",\"gridwidth\":2}},\"shapedefaults\":{\"line\":{\"color\":\"#2a3f5f\"}},\"annotationdefaults\":{\"arrowcolor\":\"#2a3f5f\",\"arrowhead\":0,\"arrowwidth\":1},\"geo\":{\"bgcolor\":\"white\",\"landcolor\":\"#E5ECF6\",\"subunitcolor\":\"white\",\"showland\":true,\"showlakes\":true,\"lakecolor\":\"white\"},\"title\":{\"x\":0.05},\"mapbox\":{\"style\":\"light\"}}},\"xaxis\":{\"anchor\":\"y\",\"domain\":[0.0,1.0],\"title\":{\"text\":\"ROM_type\"}},\"yaxis\":{\"anchor\":\"x\",\"domain\":[0.0,1.0],\"title\":{\"text\":\"count\"}},\"legend\":{\"title\":{\"text\":\"ROM\"},\"tracegroupgap\":0},\"title\":{\"text\":\"ROM Distribution\"},\"barmode\":\"relative\"},                        {\"responsive\": true}                    ).then(function(){\n",
              "                            \n",
              "var gd = document.getElementById('11e645c5-0820-4f1a-ac97-e3b7abd3bd35');\n",
              "var x = new MutationObserver(function (mutations, observer) {{\n",
              "        var display = window.getComputedStyle(gd).display;\n",
              "        if (!display || display === 'none') {{\n",
              "            console.log([gd, 'removed!']);\n",
              "            Plotly.purge(gd);\n",
              "            observer.disconnect();\n",
              "        }}\n",
              "}});\n",
              "\n",
              "// Listen for the removal of the full notebook cells\n",
              "var notebookContainer = gd.closest('#notebook-container');\n",
              "if (notebookContainer) {{\n",
              "    x.observe(notebookContainer, {childList: true});\n",
              "}}\n",
              "\n",
              "// Listen for the clearing of the current output cell\n",
              "var outputEl = gd.closest('.output');\n",
              "if (outputEl) {{\n",
              "    x.observe(outputEl, {childList: true});\n",
              "}}\n",
              "\n",
              "                        })                };                            </script>        </div>\n",
              "</body>\n",
              "</html>"
            ]
          },
          "metadata": {}
        }
      ],
      "source": [
        "plt = px.histogram(df, x='ROM_type', color='ROM', title=\"ROM Distribution\", color_discrete_sequence=px.colors.qualitative.Pastel )\n",
        "plt.show()"
      ]
    },
    {
      "cell_type": "code",
      "execution_count": 105,
      "metadata": {
        "colab": {
          "base_uri": "https://localhost:8080/",
          "height": 0
        },
        "id": "BXD18JzCCM73",
        "outputId": "d459db73-720c-4234-bcbc-72e4342c76e5"
      },
      "outputs": [
        {
          "output_type": "display_data",
          "data": {
            "text/html": [
              "<html>\n",
              "<head><meta charset=\"utf-8\" /></head>\n",
              "<body>\n",
              "    <div>            <script src=\"https://cdnjs.cloudflare.com/ajax/libs/mathjax/2.7.5/MathJax.js?config=TeX-AMS-MML_SVG\"></script><script type=\"text/javascript\">if (window.MathJax && window.MathJax.Hub && window.MathJax.Hub.Config) {window.MathJax.Hub.Config({SVG: {font: \"STIX-Web\"}});}</script>                <script type=\"text/javascript\">window.PlotlyConfig = {MathJaxConfig: 'local'};</script>\n",
              "        <script charset=\"utf-8\" src=\"https://cdn.plot.ly/plotly-2.35.2.min.js\"></script>                <div id=\"48bb6f12-ea6e-4e35-8854-f8ac7a388fca\" class=\"plotly-graph-div\" style=\"height:525px; width:100%;\"></div>            <script type=\"text/javascript\">                                    window.PLOTLYENV=window.PLOTLYENV || {};                                    if (document.getElementById(\"48bb6f12-ea6e-4e35-8854-f8ac7a388fca\")) {                    Plotly.newPlot(                        \"48bb6f12-ea6e-4e35-8854-f8ac7a388fca\",                        [{\"alignmentgroup\":\"True\",\"bingroup\":\"x\",\"hovertemplate\":\"GPU=%{x}\\u003cbr\\u003ecount=%{y}\\u003cextra\\u003e\\u003c\\u002fextra\\u003e\",\"legendgroup\":\"4GB AMD Radeon RX 6500M\",\"marker\":{\"color\":\"#636efa\",\"pattern\":{\"shape\":\"\"}},\"name\":\"4GB AMD Radeon RX 6500M\",\"offsetgroup\":\"4GB AMD Radeon RX 6500M\",\"orientation\":\"v\",\"showlegend\":true,\"x\":[\"4GB AMD Radeon RX 6500M\",\"4GB AMD Radeon RX 6500M\"],\"xaxis\":\"x\",\"yaxis\":\"y\",\"type\":\"histogram\"},{\"alignmentgroup\":\"True\",\"bingroup\":\"x\",\"hovertemplate\":\"GPU=%{x}\\u003cbr\\u003ecount=%{y}\\u003cextra\\u003e\\u003c\\u002fextra\\u003e\",\"legendgroup\":\"Intel UHD Graphics\",\"marker\":{\"color\":\"#EF553B\",\"pattern\":{\"shape\":\"\"}},\"name\":\"Intel UHD Graphics\",\"offsetgroup\":\"Intel UHD Graphics\",\"orientation\":\"v\",\"showlegend\":true,\"x\":[\"Intel UHD Graphics\",\"Intel UHD Graphics\",\"Intel UHD Graphics\",\"Intel UHD Graphics\",\"Intel UHD Graphics\",\"Intel UHD Graphics\",\"Intel UHD Graphics\",\"Intel UHD Graphics\",\"Intel UHD Graphics\",\"Intel UHD Graphics\",\"Intel UHD Graphics\",\"Intel UHD Graphics\",\"Intel UHD Graphics\",\"Intel UHD Graphics\",\"Intel UHD Graphics\",\"Intel UHD Graphics\",\"Intel UHD Graphics\",\"Intel UHD Graphics\",\"Intel UHD Graphics\",\"Intel UHD Graphics\",\"Intel UHD Graphics\",\"Intel UHD Graphics\",\"Intel UHD Graphics\",\"Intel UHD Graphics\",\"Intel UHD Graphics\",\"Intel UHD Graphics\",\"Intel UHD Graphics\",\"Intel UHD Graphics\",\"Intel UHD Graphics\",\"Intel UHD Graphics\",\"Intel UHD Graphics\",\"Intel UHD Graphics\",\"Intel UHD Graphics\",\"Intel UHD Graphics\",\"Intel UHD Graphics\",\"Intel UHD Graphics\",\"Intel UHD Graphics\",\"Intel UHD Graphics\",\"Intel UHD Graphics\",\"Intel UHD Graphics\",\"Intel UHD Graphics\",\"Intel UHD Graphics\",\"Intel UHD Graphics\",\"Intel UHD Graphics\",\"Intel UHD Graphics\",\"Intel UHD Graphics\",\"Intel UHD Graphics\",\"Intel UHD Graphics\",\"Intel UHD Graphics\",\"Intel UHD Graphics\",\"Intel UHD Graphics\",\"Intel UHD Graphics\",\"Intel UHD Graphics\",\"Intel UHD Graphics\",\"Intel UHD Graphics\",\"Intel UHD Graphics\",\"Intel UHD Graphics\",\"Intel UHD Graphics\",\"Intel UHD Graphics\",\"Intel UHD Graphics\",\"Intel UHD Graphics\",\"Intel UHD Graphics\",\"Intel UHD Graphics\"],\"xaxis\":\"x\",\"yaxis\":\"y\",\"type\":\"histogram\"},{\"alignmentgroup\":\"True\",\"bingroup\":\"x\",\"hovertemplate\":\"GPU=%{x}\\u003cbr\\u003ecount=%{y}\\u003cextra\\u003e\\u003c\\u002fextra\\u003e\",\"legendgroup\":\"Intel Iris Xe Graphics\",\"marker\":{\"color\":\"#00cc96\",\"pattern\":{\"shape\":\"\"}},\"name\":\"Intel Iris Xe Graphics\",\"offsetgroup\":\"Intel Iris Xe Graphics\",\"orientation\":\"v\",\"showlegend\":true,\"x\":[\"Intel Iris Xe Graphics\",\"Intel Iris Xe Graphics\",\"Intel Iris Xe Graphics\",\"Intel Iris Xe Graphics\",\"Intel Iris Xe Graphics\",\"Intel Iris Xe Graphics\",\"Intel Iris Xe Graphics\",\"Intel Iris Xe Graphics\",\"Intel Iris Xe Graphics\",\"Intel Iris Xe Graphics\",\"Intel Iris Xe Graphics\",\"Intel Iris Xe Graphics\",\"Intel Iris Xe Graphics\",\"Intel Iris Xe Graphics\",\"Intel Iris Xe Graphics\",\"Intel Iris Xe Graphics\",\"Intel Iris Xe Graphics\",\"Intel Iris Xe Graphics\",\"Intel Iris Xe Graphics\",\"Intel Iris Xe Graphics\",\"Intel Iris Xe Graphics\",\"Intel Iris Xe Graphics\",\"Intel Iris Xe Graphics\",\"Intel Iris Xe Graphics\",\"Intel Iris Xe Graphics\",\"Intel Iris Xe Graphics\",\"Intel Iris Xe Graphics\",\"Intel Iris Xe Graphics\",\"Intel Iris Xe Graphics\",\"Intel Iris Xe Graphics\",\"Intel Iris Xe Graphics\",\"Intel Iris Xe Graphics\",\"Intel Iris Xe Graphics\",\"Intel Iris Xe Graphics\",\"Intel Iris Xe Graphics\",\"Intel Iris Xe Graphics\",\"Intel Iris Xe Graphics\",\"Intel Iris Xe Graphics\",\"Intel Iris Xe Graphics\",\"Intel Iris Xe Graphics\",\"Intel Iris Xe Graphics\",\"Intel Iris Xe Graphics\",\"Intel Iris Xe Graphics\",\"Intel Iris Xe Graphics\",\"Intel Iris Xe Graphics\",\"Intel Iris Xe Graphics\",\"Intel Iris Xe Graphics\",\"Intel Iris Xe Graphics\",\"Intel Iris Xe Graphics\",\"Intel Iris Xe Graphics\",\"Intel Iris Xe Graphics\",\"Intel Iris Xe Graphics\",\"Intel Iris Xe Graphics\",\"Intel Iris Xe Graphics\",\"Intel Iris Xe Graphics\",\"Intel Iris Xe Graphics\",\"Intel Iris Xe Graphics\",\"Intel Iris Xe Graphics\",\"Intel Iris Xe Graphics\",\"Intel Iris Xe Graphics\",\"Intel Iris Xe Graphics\",\"Intel Iris Xe Graphics\",\"Intel Iris Xe Graphics\",\"Intel Iris Xe Graphics\",\"Intel Iris Xe Graphics\",\"Intel Iris Xe Graphics\",\"Intel Iris Xe Graphics\",\"Intel Iris Xe Graphics\",\"Intel Iris Xe Graphics\",\"Intel Iris Xe Graphics\",\"Intel Iris Xe Graphics\",\"Intel Iris Xe Graphics\",\"Intel Iris Xe Graphics\",\"Intel Iris Xe Graphics\",\"Intel Iris Xe Graphics\",\"Intel Iris Xe Graphics\",\"Intel Iris Xe Graphics\",\"Intel Iris Xe Graphics\",\"Intel Iris Xe Graphics\",\"Intel Iris Xe Graphics\",\"Intel Iris Xe Graphics\",\"Intel Iris Xe Graphics\",\"Intel Iris Xe Graphics\",\"Intel Iris Xe Graphics\",\"Intel Iris Xe Graphics\",\"Intel Iris Xe Graphics\",\"Intel Iris Xe Graphics\",\"Intel Iris Xe Graphics\",\"Intel Iris Xe Graphics\",\"Intel Iris Xe Graphics\",\"Intel Iris Xe Graphics\",\"Intel Iris Xe Graphics\",\"Intel Iris Xe Graphics\",\"Intel Iris Xe Graphics\",\"Intel Iris Xe Graphics\",\"Intel Iris Xe Graphics\",\"Intel Iris Xe Graphics\",\"Intel Iris Xe Graphics\",\"Intel Iris Xe Graphics\",\"Intel Iris Xe Graphics\",\"Intel Iris Xe Graphics\",\"Intel Iris Xe Graphics\",\"Intel Iris Xe Graphics\",\"Intel Iris Xe Graphics\",\"Intel Iris Xe Graphics\",\"Intel Iris Xe Graphics\",\"Intel Iris Xe Graphics\"],\"xaxis\":\"x\",\"yaxis\":\"y\",\"type\":\"histogram\"},{\"alignmentgroup\":\"True\",\"bingroup\":\"x\",\"hovertemplate\":\"GPU=%{x}\\u003cbr\\u003ecount=%{y}\\u003cextra\\u003e\\u003c\\u002fextra\\u003e\",\"legendgroup\":\"Intel Integrated Iris Xe\",\"marker\":{\"color\":\"#ab63fa\",\"pattern\":{\"shape\":\"\"}},\"name\":\"Intel Integrated Iris Xe\",\"offsetgroup\":\"Intel Integrated Iris Xe\",\"orientation\":\"v\",\"showlegend\":true,\"x\":[\"Intel Integrated Iris Xe\",\"Intel Integrated Iris Xe\",\"Intel Integrated Iris Xe\",\"Intel Integrated Iris Xe\",\"Intel Integrated Iris Xe\",\"Intel Integrated Iris Xe\",\"Intel Integrated Iris Xe\",\"Intel Integrated Iris Xe\",\"Intel Integrated Iris Xe\",\"Intel Integrated Iris Xe\",\"Intel Integrated Iris Xe\",\"Intel Integrated Iris Xe\",\"Intel Integrated Iris Xe\",\"Intel Integrated Iris Xe\",\"Intel Integrated Iris Xe\",\"Intel Integrated Iris Xe\",\"Intel Integrated Iris Xe\",\"Intel Integrated Iris Xe\",\"Intel Integrated Iris Xe\",\"Intel Integrated Iris Xe\",\"Intel Integrated Iris Xe\",\"Intel Integrated Iris Xe\",\"Intel Integrated Iris Xe\",\"Intel Integrated Iris Xe\",\"Intel Integrated Iris Xe\",\"Intel Integrated Iris Xe\",\"Intel Integrated Iris Xe\",\"Intel Integrated Iris Xe\",\"Intel Integrated Iris Xe\",\"Intel Integrated Iris Xe\",\"Intel Integrated Iris Xe\",\"Intel Integrated Iris Xe\",\"Intel Integrated Iris Xe\",\"Intel Integrated Iris Xe\",\"Intel Integrated Iris Xe\",\"Intel Integrated Iris Xe\",\"Intel Integrated Iris Xe\",\"Intel Integrated Iris Xe\",\"Intel Integrated Iris Xe\",\"Intel Integrated Iris Xe\",\"Intel Integrated Iris Xe\",\"Intel Integrated Iris Xe\",\"Intel Integrated Iris Xe\",\"Intel Integrated Iris Xe\",\"Intel Integrated Iris Xe\",\"Intel Integrated Iris Xe\",\"Intel Integrated Iris Xe\",\"Intel Integrated Iris Xe\",\"Intel Integrated Iris Xe\",\"Intel Integrated Iris Xe\",\"Intel Integrated Iris Xe\"],\"xaxis\":\"x\",\"yaxis\":\"y\",\"type\":\"histogram\"},{\"alignmentgroup\":\"True\",\"bingroup\":\"x\",\"hovertemplate\":\"GPU=%{x}\\u003cbr\\u003ecount=%{y}\\u003cextra\\u003e\\u003c\\u002fextra\\u003e\",\"legendgroup\":\"Apple M1 Integrated Graphics\",\"marker\":{\"color\":\"#FFA15A\",\"pattern\":{\"shape\":\"\"}},\"name\":\"Apple M1 Integrated Graphics\",\"offsetgroup\":\"Apple M1 Integrated Graphics\",\"orientation\":\"v\",\"showlegend\":true,\"x\":[\"Apple M1 Integrated Graphics\",\"Apple M1 Integrated Graphics\"],\"xaxis\":\"x\",\"yaxis\":\"y\",\"type\":\"histogram\"},{\"alignmentgroup\":\"True\",\"bingroup\":\"x\",\"hovertemplate\":\"GPU=%{x}\\u003cbr\\u003ecount=%{y}\\u003cextra\\u003e\\u003c\\u002fextra\\u003e\",\"legendgroup\":\"6GB NVIDIA GeForce RTX 4050\",\"marker\":{\"color\":\"#19d3f3\",\"pattern\":{\"shape\":\"\"}},\"name\":\"6GB NVIDIA GeForce RTX 4050\",\"offsetgroup\":\"6GB NVIDIA GeForce RTX 4050\",\"orientation\":\"v\",\"showlegend\":true,\"x\":[\"6GB NVIDIA GeForce RTX 4050\",\"6GB NVIDIA GeForce RTX 4050\",\"6GB NVIDIA GeForce RTX 4050\",\"6GB NVIDIA GeForce RTX 4050\",\"6GB NVIDIA GeForce RTX 4050\",\"6GB NVIDIA GeForce RTX 4050\",\"6GB NVIDIA GeForce RTX 4050\",\"6GB NVIDIA GeForce RTX 4050\",\"6GB NVIDIA GeForce RTX 4050\",\"6GB NVIDIA GeForce RTX 4050\",\"6GB NVIDIA GeForce RTX 4050\",\"6GB NVIDIA GeForce RTX 4050\",\"6GB NVIDIA GeForce RTX 4050\",\"6GB NVIDIA GeForce RTX 4050\",\"6GB NVIDIA GeForce RTX 4050\",\"6GB NVIDIA GeForce RTX 4050\",\"6GB NVIDIA GeForce RTX 4050\",\"6GB NVIDIA GeForce RTX 4050\",\"6GB NVIDIA GeForce RTX 4050\",\"6GB NVIDIA GeForce RTX 4050\",\"6GB NVIDIA GeForce RTX 4050\",\"6GB NVIDIA GeForce RTX 4050\",\"6GB NVIDIA GeForce RTX 4050\",\"6GB NVIDIA GeForce RTX 4050\",\"6GB NVIDIA GeForce RTX 4050\",\"6GB NVIDIA GeForce RTX 4050\",\"6GB NVIDIA GeForce RTX 4050\",\"6GB NVIDIA GeForce RTX 4050\",\"6GB NVIDIA GeForce RTX 4050\",\"6GB NVIDIA GeForce RTX 4050\",\"6GB NVIDIA GeForce RTX 4050\",\"6GB NVIDIA GeForce RTX 4050\",\"6GB NVIDIA GeForce RTX 4050\",\"6GB NVIDIA GeForce RTX 4050\",\"6GB NVIDIA GeForce RTX 4050\",\"6GB NVIDIA GeForce RTX 4050\"],\"xaxis\":\"x\",\"yaxis\":\"y\",\"type\":\"histogram\"},{\"alignmentgroup\":\"True\",\"bingroup\":\"x\",\"hovertemplate\":\"GPU=%{x}\\u003cbr\\u003ecount=%{y}\\u003cextra\\u003e\\u003c\\u002fextra\\u003e\",\"legendgroup\":\"Intel Iris Xe\",\"marker\":{\"color\":\"#FF6692\",\"pattern\":{\"shape\":\"\"}},\"name\":\"Intel Iris Xe\",\"offsetgroup\":\"Intel Iris Xe\",\"orientation\":\"v\",\"showlegend\":true,\"x\":[\"Intel Iris Xe\",\"Intel Iris Xe\",\"Intel Iris Xe\",\"Intel Iris Xe\",\"Intel Iris Xe\",\"Intel Iris Xe\",\"Intel Iris Xe\",\"Intel Iris Xe\",\"Intel Iris Xe\",\"Intel Iris Xe\",\"Intel Iris Xe\",\"Intel Iris Xe\"],\"xaxis\":\"x\",\"yaxis\":\"y\",\"type\":\"histogram\"},{\"alignmentgroup\":\"True\",\"bingroup\":\"x\",\"hovertemplate\":\"GPU=%{x}\\u003cbr\\u003ecount=%{y}\\u003cextra\\u003e\\u003c\\u002fextra\\u003e\",\"legendgroup\":\"Intel Integrated UHD\",\"marker\":{\"color\":\"#B6E880\",\"pattern\":{\"shape\":\"\"}},\"name\":\"Intel Integrated UHD\",\"offsetgroup\":\"Intel Integrated UHD\",\"orientation\":\"v\",\"showlegend\":true,\"x\":[\"Intel Integrated UHD\",\"Intel Integrated UHD\",\"Intel Integrated UHD\",\"Intel Integrated UHD\",\"Intel Integrated UHD\",\"Intel Integrated UHD\",\"Intel Integrated UHD\",\"Intel Integrated UHD\",\"Intel Integrated UHD\",\"Intel Integrated UHD\",\"Intel Integrated UHD\",\"Intel Integrated UHD\",\"Intel Integrated UHD\",\"Intel Integrated UHD\",\"Intel Integrated UHD\",\"Intel Integrated UHD\",\"Intel Integrated UHD\",\"Intel Integrated UHD\",\"Intel Integrated UHD\",\"Intel Integrated UHD\",\"Intel Integrated UHD\",\"Intel Integrated UHD\",\"Intel Integrated UHD\",\"Intel Integrated UHD\",\"Intel Integrated UHD\",\"Intel Integrated UHD\",\"Intel Integrated UHD\",\"Intel Integrated UHD\",\"Intel Integrated UHD\",\"Intel Integrated UHD\",\"Intel Integrated UHD\",\"Intel Integrated UHD\",\"Intel Integrated UHD\",\"Intel Integrated UHD\",\"Intel Integrated UHD\",\"Intel Integrated UHD\",\"Intel Integrated UHD\",\"Intel Integrated UHD\",\"Intel Integrated UHD\",\"Intel Integrated UHD\",\"Intel Integrated UHD\",\"Intel Integrated UHD\",\"Intel Integrated UHD\",\"Intel Integrated UHD\",\"Intel Integrated UHD\",\"Intel Integrated UHD\",\"Intel Integrated UHD\",\"Intel Integrated UHD\",\"Intel Integrated UHD\",\"Intel Integrated UHD\",\"Intel Integrated UHD\",\"Intel Integrated UHD\",\"Intel Integrated UHD\",\"Intel Integrated UHD\",\"Intel Integrated UHD\",\"Intel Integrated UHD\",\"Intel Integrated UHD\",\"Intel Integrated UHD\",\"Intel Integrated UHD\",\"Intel Integrated UHD\",\"Intel Integrated UHD\"],\"xaxis\":\"x\",\"yaxis\":\"y\",\"type\":\"histogram\"},{\"alignmentgroup\":\"True\",\"bingroup\":\"x\",\"hovertemplate\":\"GPU=%{x}\\u003cbr\\u003ecount=%{y}\\u003cextra\\u003e\\u003c\\u002fextra\\u003e\",\"legendgroup\":\"Intel Integrated UHD Graphics\",\"marker\":{\"color\":\"#FF97FF\",\"pattern\":{\"shape\":\"\"}},\"name\":\"Intel Integrated UHD Graphics\",\"offsetgroup\":\"Intel Integrated UHD Graphics\",\"orientation\":\"v\",\"showlegend\":true,\"x\":[\"Intel Integrated UHD Graphics\",\"Intel Integrated UHD Graphics\",\"Intel Integrated UHD Graphics\",\"Intel Integrated UHD Graphics\",\"Intel Integrated UHD Graphics\",\"Intel Integrated UHD Graphics\",\"Intel Integrated UHD Graphics\",\"Intel Integrated UHD Graphics\",\"Intel Integrated UHD Graphics\",\"Intel Integrated UHD Graphics\",\"Intel Integrated UHD Graphics\",\"Intel Integrated UHD Graphics\",\"Intel Integrated UHD Graphics\",\"Intel Integrated UHD Graphics\",\"Intel Integrated UHD Graphics\"],\"xaxis\":\"x\",\"yaxis\":\"y\",\"type\":\"histogram\"},{\"alignmentgroup\":\"True\",\"bingroup\":\"x\",\"hovertemplate\":\"GPU=%{x}\\u003cbr\\u003ecount=%{y}\\u003cextra\\u003e\\u003c\\u002fextra\\u003e\",\"legendgroup\":\"4GB NVIDIA GeForce RTX 3050\",\"marker\":{\"color\":\"#FECB52\",\"pattern\":{\"shape\":\"\"}},\"name\":\"4GB NVIDIA GeForce RTX 3050\",\"offsetgroup\":\"4GB NVIDIA GeForce RTX 3050\",\"orientation\":\"v\",\"showlegend\":true,\"x\":[\"4GB NVIDIA GeForce RTX 3050\",\"4GB NVIDIA GeForce RTX 3050\",\"4GB NVIDIA GeForce RTX 3050\",\"4GB NVIDIA GeForce RTX 3050\",\"4GB NVIDIA GeForce RTX 3050\",\"4GB NVIDIA GeForce RTX 3050\",\"4GB NVIDIA GeForce RTX 3050\",\"4GB NVIDIA GeForce RTX 3050\",\"4GB NVIDIA GeForce RTX 3050\",\"4GB NVIDIA GeForce RTX 3050\",\"4GB NVIDIA GeForce RTX 3050\",\"4GB NVIDIA GeForce RTX 3050\",\"4GB NVIDIA GeForce RTX 3050\",\"4GB NVIDIA GeForce RTX 3050\",\"4GB NVIDIA GeForce RTX 3050\",\"4GB NVIDIA GeForce RTX 3050\",\"4GB NVIDIA GeForce RTX 3050\",\"4GB NVIDIA GeForce RTX 3050\",\"4GB NVIDIA GeForce RTX 3050\",\"4GB NVIDIA GeForce RTX 3050\",\"4GB NVIDIA GeForce RTX 3050\",\"4GB NVIDIA GeForce RTX 3050\",\"4GB NVIDIA GeForce RTX 3050\",\"4GB NVIDIA GeForce RTX 3050\",\"4GB NVIDIA GeForce RTX 3050\",\"4GB NVIDIA GeForce RTX 3050\",\"4GB NVIDIA GeForce RTX 3050\",\"4GB NVIDIA GeForce RTX 3050\",\"4GB NVIDIA GeForce RTX 3050\",\"4GB NVIDIA GeForce RTX 3050\",\"4GB NVIDIA GeForce RTX 3050\",\"4GB NVIDIA GeForce RTX 3050\",\"4GB NVIDIA GeForce RTX 3050\",\"4GB NVIDIA GeForce RTX 3050\",\"4GB NVIDIA GeForce RTX 3050\",\"4GB NVIDIA GeForce RTX 3050\",\"4GB NVIDIA GeForce RTX 3050\",\"4GB NVIDIA GeForce RTX 3050\",\"4GB NVIDIA GeForce RTX 3050\",\"4GB NVIDIA GeForce RTX 3050\",\"4GB NVIDIA GeForce RTX 3050\",\"4GB NVIDIA GeForce RTX 3050\",\"4GB NVIDIA GeForce RTX 3050\",\"4GB NVIDIA GeForce RTX 3050\",\"4GB NVIDIA GeForce RTX 3050\",\"4GB NVIDIA GeForce RTX 3050\",\"4GB NVIDIA GeForce RTX 3050\",\"4GB NVIDIA GeForce RTX 3050\",\"4GB NVIDIA GeForce RTX 3050\",\"4GB NVIDIA GeForce RTX 3050\"],\"xaxis\":\"x\",\"yaxis\":\"y\",\"type\":\"histogram\"},{\"alignmentgroup\":\"True\",\"bingroup\":\"x\",\"hovertemplate\":\"GPU=%{x}\\u003cbr\\u003ecount=%{y}\\u003cextra\\u003e\\u003c\\u002fextra\\u003e\",\"legendgroup\":\"ARM Mali G72\",\"marker\":{\"color\":\"#636efa\",\"pattern\":{\"shape\":\"\"}},\"name\":\"ARM Mali G72\",\"offsetgroup\":\"ARM Mali G72\",\"orientation\":\"v\",\"showlegend\":true,\"x\":[\"ARM Mali G72\"],\"xaxis\":\"x\",\"yaxis\":\"y\",\"type\":\"histogram\"},{\"alignmentgroup\":\"True\",\"bingroup\":\"x\",\"hovertemplate\":\"GPU=%{x}\\u003cbr\\u003ecount=%{y}\\u003cextra\\u003e\\u003c\\u002fextra\\u003e\",\"legendgroup\":\"AMD Radeon Graphics\",\"marker\":{\"color\":\"#EF553B\",\"pattern\":{\"shape\":\"\"}},\"name\":\"AMD Radeon Graphics\",\"offsetgroup\":\"AMD Radeon Graphics\",\"orientation\":\"v\",\"showlegend\":true,\"x\":[\"AMD Radeon Graphics\",\"AMD Radeon Graphics\",\"AMD Radeon Graphics\",\"AMD Radeon Graphics\",\"AMD Radeon Graphics\",\"AMD Radeon Graphics\",\"AMD Radeon Graphics\",\"AMD Radeon Graphics\",\"AMD Radeon Graphics\",\"AMD Radeon Graphics\",\"AMD Radeon Graphics\",\"AMD Radeon Graphics\",\"AMD Radeon Graphics\",\"AMD Radeon Graphics\",\"AMD Radeon Graphics\",\"AMD Radeon Graphics\",\"AMD Radeon Graphics\",\"AMD Radeon Graphics\",\"AMD Radeon Graphics\",\"AMD Radeon Graphics\",\"AMD Radeon Graphics\",\"AMD Radeon Graphics\",\"AMD Radeon Graphics\",\"AMD Radeon Graphics\",\"AMD Radeon Graphics\",\"AMD Radeon Graphics\",\"AMD Radeon Graphics\",\"AMD Radeon Graphics\",\"AMD Radeon Graphics\",\"AMD Radeon Graphics\",\"AMD Radeon Graphics\",\"AMD Radeon Graphics\",\"AMD Radeon Graphics\",\"AMD Radeon Graphics\",\"AMD Radeon Graphics\",\"AMD Radeon Graphics\",\"AMD Radeon Graphics\",\"AMD Radeon Graphics\",\"AMD Radeon Graphics\",\"AMD Radeon Graphics\",\"AMD Radeon Graphics\",\"AMD Radeon Graphics\",\"AMD Radeon Graphics\",\"AMD Radeon Graphics\",\"AMD Radeon Graphics\",\"AMD Radeon Graphics\",\"AMD Radeon Graphics\",\"AMD Radeon Graphics\",\"AMD Radeon Graphics\",\"AMD Radeon Graphics\",\"AMD Radeon Graphics\",\"AMD Radeon Graphics\",\"AMD Radeon Graphics\",\"AMD Radeon Graphics\"],\"xaxis\":\"x\",\"yaxis\":\"y\",\"type\":\"histogram\"},{\"alignmentgroup\":\"True\",\"bingroup\":\"x\",\"hovertemplate\":\"GPU=%{x}\\u003cbr\\u003ecount=%{y}\\u003cextra\\u003e\\u003c\\u002fextra\\u003e\",\"legendgroup\":\"4GB NVIDIA GeForce RTX 2050\",\"marker\":{\"color\":\"#00cc96\",\"pattern\":{\"shape\":\"\"}},\"name\":\"4GB NVIDIA GeForce RTX 2050\",\"offsetgroup\":\"4GB NVIDIA GeForce RTX 2050\",\"orientation\":\"v\",\"showlegend\":true,\"x\":[\"4GB NVIDIA GeForce RTX 2050\",\"4GB NVIDIA GeForce RTX 2050\",\"4GB NVIDIA GeForce RTX 2050\",\"4GB NVIDIA GeForce RTX 2050\",\"4GB NVIDIA GeForce RTX 2050\",\"4GB NVIDIA GeForce RTX 2050\",\"4GB NVIDIA GeForce RTX 2050\",\"4GB NVIDIA GeForce RTX 2050\",\"4GB NVIDIA GeForce RTX 2050\",\"4GB NVIDIA GeForce RTX 2050\",\"4GB NVIDIA GeForce RTX 2050\",\"4GB NVIDIA GeForce RTX 2050\",\"4GB NVIDIA GeForce RTX 2050\",\"4GB NVIDIA GeForce RTX 2050\",\"4GB NVIDIA GeForce RTX 2050\",\"4GB NVIDIA GeForce RTX 2050\",\"4GB NVIDIA GeForce RTX 2050\",\"4GB NVIDIA GeForce RTX 2050\",\"4GB NVIDIA GeForce RTX 2050\",\"4GB NVIDIA GeForce RTX 2050\",\"4GB NVIDIA GeForce RTX 2050\",\"4GB NVIDIA GeForce RTX 2050\",\"4GB NVIDIA GeForce RTX 2050\",\"4GB NVIDIA GeForce RTX 2050\",\"4GB NVIDIA GeForce RTX 2050\",\"4GB NVIDIA GeForce RTX 2050\",\"4GB NVIDIA GeForce RTX 2050\",\"4GB NVIDIA GeForce RTX 2050\",\"4GB NVIDIA GeForce RTX 2050\",\"4GB NVIDIA GeForce RTX 2050\",\"4GB NVIDIA GeForce RTX 2050\",\"4GB NVIDIA GeForce RTX 2050\",\"4GB NVIDIA GeForce RTX 2050\",\"4GB NVIDIA GeForce RTX 2050\",\"4GB NVIDIA GeForce RTX 2050\",\"4GB NVIDIA GeForce RTX 2050\",\"4GB NVIDIA GeForce RTX 2050\",\"4GB NVIDIA GeForce RTX 2050\",\"4GB NVIDIA GeForce RTX 2050\"],\"xaxis\":\"x\",\"yaxis\":\"y\",\"type\":\"histogram\"},{\"alignmentgroup\":\"True\",\"bingroup\":\"x\",\"hovertemplate\":\"GPU=%{x}\\u003cbr\\u003ecount=%{y}\\u003cextra\\u003e\\u003c\\u002fextra\\u003e\",\"legendgroup\":\"4GB NVIDIA GeForce GTX 1650\",\"marker\":{\"color\":\"#ab63fa\",\"pattern\":{\"shape\":\"\"}},\"name\":\"4GB NVIDIA GeForce GTX 1650\",\"offsetgroup\":\"4GB NVIDIA GeForce GTX 1650\",\"orientation\":\"v\",\"showlegend\":true,\"x\":[\"4GB NVIDIA GeForce GTX 1650\",\"4GB NVIDIA GeForce GTX 1650\",\"4GB NVIDIA GeForce GTX 1650\",\"4GB NVIDIA GeForce GTX 1650\",\"4GB NVIDIA GeForce GTX 1650\",\"4GB NVIDIA GeForce GTX 1650\",\"4GB NVIDIA GeForce GTX 1650\",\"4GB NVIDIA GeForce GTX 1650\",\"4GB NVIDIA GeForce GTX 1650\",\"4GB NVIDIA GeForce GTX 1650\",\"4GB NVIDIA GeForce GTX 1650\",\"4GB NVIDIA GeForce GTX 1650\",\"4GB NVIDIA GeForce GTX 1650\",\"4GB NVIDIA GeForce GTX 1650\",\"4GB NVIDIA GeForce GTX 1650\",\"4GB NVIDIA GeForce GTX 1650\",\"4GB NVIDIA GeForce GTX 1650\",\"4GB NVIDIA GeForce GTX 1650\",\"4GB NVIDIA GeForce GTX 1650\",\"4GB NVIDIA GeForce GTX 1650\",\"4GB NVIDIA GeForce GTX 1650\"],\"xaxis\":\"x\",\"yaxis\":\"y\",\"type\":\"histogram\"},{\"alignmentgroup\":\"True\",\"bingroup\":\"x\",\"hovertemplate\":\"GPU=%{x}\\u003cbr\\u003ecount=%{y}\\u003cextra\\u003e\\u003c\\u002fextra\\u003e\",\"legendgroup\":\"AMD Radeon Vega 7\",\"marker\":{\"color\":\"#FFA15A\",\"pattern\":{\"shape\":\"\"}},\"name\":\"AMD Radeon Vega 7\",\"offsetgroup\":\"AMD Radeon Vega 7\",\"orientation\":\"v\",\"showlegend\":true,\"x\":[\"AMD Radeon Vega 7\",\"AMD Radeon Vega 7\",\"AMD Radeon Vega 7\"],\"xaxis\":\"x\",\"yaxis\":\"y\",\"type\":\"histogram\"},{\"alignmentgroup\":\"True\",\"bingroup\":\"x\",\"hovertemplate\":\"GPU=%{x}\\u003cbr\\u003ecount=%{y}\\u003cextra\\u003e\\u003c\\u002fextra\\u003e\",\"legendgroup\":\"8-Core GPU\",\"marker\":{\"color\":\"#19d3f3\",\"pattern\":{\"shape\":\"\"}},\"name\":\"8-Core GPU\",\"offsetgroup\":\"8-Core GPU\",\"orientation\":\"v\",\"showlegend\":true,\"x\":[\"8-Core GPU\"],\"xaxis\":\"x\",\"yaxis\":\"y\",\"type\":\"histogram\"},{\"alignmentgroup\":\"True\",\"bingroup\":\"x\",\"hovertemplate\":\"GPU=%{x}\\u003cbr\\u003ecount=%{y}\\u003cextra\\u003e\\u003c\\u002fextra\\u003e\",\"legendgroup\":\"AMD Radeon AMD\",\"marker\":{\"color\":\"#FF6692\",\"pattern\":{\"shape\":\"\"}},\"name\":\"AMD Radeon AMD\",\"offsetgroup\":\"AMD Radeon AMD\",\"orientation\":\"v\",\"showlegend\":true,\"x\":[\"AMD Radeon AMD\",\"AMD Radeon AMD\",\"AMD Radeon AMD\",\"AMD Radeon AMD\",\"AMD Radeon AMD\",\"AMD Radeon AMD\",\"AMD Radeon AMD\",\"AMD Radeon AMD\",\"AMD Radeon AMD\",\"AMD Radeon AMD\",\"AMD Radeon AMD\",\"AMD Radeon AMD\",\"AMD Radeon AMD\",\"AMD Radeon AMD\",\"AMD Radeon AMD\",\"AMD Radeon AMD\",\"AMD Radeon AMD\",\"AMD Radeon AMD\",\"AMD Radeon AMD\",\"AMD Radeon AMD\",\"AMD Radeon AMD\",\"AMD Radeon AMD\",\"AMD Radeon AMD\",\"AMD Radeon AMD\",\"AMD Radeon AMD\",\"AMD Radeon AMD\",\"AMD Radeon AMD\",\"AMD Radeon AMD\",\"AMD Radeon AMD\",\"AMD Radeon AMD\",\"AMD Radeon AMD\",\"AMD Radeon AMD\",\"AMD Radeon AMD\",\"AMD Radeon AMD\",\"AMD Radeon AMD\",\"AMD Radeon AMD\",\"AMD Radeon AMD\",\"AMD Radeon AMD\",\"AMD Radeon AMD\",\"AMD Radeon AMD\",\"AMD Radeon AMD\",\"AMD Radeon AMD\",\"AMD Radeon AMD\",\"AMD Radeon AMD\",\"AMD Radeon AMD\",\"AMD Radeon AMD\",\"AMD Radeon AMD\",\"AMD Radeon AMD\",\"AMD Radeon AMD\",\"AMD Radeon AMD\",\"AMD Radeon AMD\",\"AMD Radeon AMD\",\"AMD Radeon AMD\",\"AMD Radeon AMD\",\"AMD Radeon AMD\"],\"xaxis\":\"x\",\"yaxis\":\"y\",\"type\":\"histogram\"},{\"alignmentgroup\":\"True\",\"bingroup\":\"x\",\"hovertemplate\":\"GPU=%{x}\\u003cbr\\u003ecount=%{y}\\u003cextra\\u003e\\u003c\\u002fextra\\u003e\",\"legendgroup\":\"AMD Integrated\",\"marker\":{\"color\":\"#B6E880\",\"pattern\":{\"shape\":\"\"}},\"name\":\"AMD Integrated\",\"offsetgroup\":\"AMD Integrated\",\"orientation\":\"v\",\"showlegend\":true,\"x\":[\"AMD Integrated\",\"AMD Integrated\"],\"xaxis\":\"x\",\"yaxis\":\"y\",\"type\":\"histogram\"},{\"alignmentgroup\":\"True\",\"bingroup\":\"x\",\"hovertemplate\":\"GPU=%{x}\\u003cbr\\u003ecount=%{y}\\u003cextra\\u003e\\u003c\\u002fextra\\u003e\",\"legendgroup\":\"8GB NVIDIA GeForce RTX 4070\",\"marker\":{\"color\":\"#FF97FF\",\"pattern\":{\"shape\":\"\"}},\"name\":\"8GB NVIDIA GeForce RTX 4070\",\"offsetgroup\":\"8GB NVIDIA GeForce RTX 4070\",\"orientation\":\"v\",\"showlegend\":true,\"x\":[\"8GB NVIDIA GeForce RTX 4070\",\"8GB NVIDIA GeForce RTX 4070\",\"8GB NVIDIA GeForce RTX 4070\",\"8GB NVIDIA GeForce RTX 4070\",\"8GB NVIDIA GeForce RTX 4070\",\"8GB NVIDIA GeForce RTX 4070\",\"8GB NVIDIA GeForce RTX 4070\",\"8GB NVIDIA GeForce RTX 4070\",\"8GB NVIDIA GeForce RTX 4070\",\"8GB NVIDIA GeForce RTX 4070\"],\"xaxis\":\"x\",\"yaxis\":\"y\",\"type\":\"histogram\"},{\"alignmentgroup\":\"True\",\"bingroup\":\"x\",\"hovertemplate\":\"GPU=%{x}\\u003cbr\\u003ecount=%{y}\\u003cextra\\u003e\\u003c\\u002fextra\\u003e\",\"legendgroup\":\"4GB AMD Radeon RX 6500M Graphics\",\"marker\":{\"color\":\"#FECB52\",\"pattern\":{\"shape\":\"\"}},\"name\":\"4GB AMD Radeon RX 6500M Graphics\",\"offsetgroup\":\"4GB AMD Radeon RX 6500M Graphics\",\"orientation\":\"v\",\"showlegend\":true,\"x\":[\"4GB AMD Radeon RX 6500M Graphics\",\"4GB AMD Radeon RX 6500M Graphics\",\"4GB AMD Radeon RX 6500M Graphics\",\"4GB AMD Radeon RX 6500M Graphics\"],\"xaxis\":\"x\",\"yaxis\":\"y\",\"type\":\"histogram\"},{\"alignmentgroup\":\"True\",\"bingroup\":\"x\",\"hovertemplate\":\"GPU=%{x}\\u003cbr\\u003ecount=%{y}\\u003cextra\\u003e\\u003c\\u002fextra\\u003e\",\"legendgroup\":\"AMD Graphics\",\"marker\":{\"color\":\"#636efa\",\"pattern\":{\"shape\":\"\"}},\"name\":\"AMD Graphics\",\"offsetgroup\":\"AMD Graphics\",\"orientation\":\"v\",\"showlegend\":true,\"x\":[\"AMD Graphics\",\"AMD Graphics\"],\"xaxis\":\"x\",\"yaxis\":\"y\",\"type\":\"histogram\"},{\"alignmentgroup\":\"True\",\"bingroup\":\"x\",\"hovertemplate\":\"GPU=%{x}\\u003cbr\\u003ecount=%{y}\\u003cextra\\u003e\\u003c\\u002fextra\\u003e\",\"legendgroup\":\"8GB NVIDIA GeForce RTX 3070 Ti\",\"marker\":{\"color\":\"#EF553B\",\"pattern\":{\"shape\":\"\"}},\"name\":\"8GB NVIDIA GeForce RTX 3070 Ti\",\"offsetgroup\":\"8GB NVIDIA GeForce RTX 3070 Ti\",\"orientation\":\"v\",\"showlegend\":true,\"x\":[\"8GB NVIDIA GeForce RTX 3070 Ti\",\"8GB NVIDIA GeForce RTX 3070 Ti\",\"8GB NVIDIA GeForce RTX 3070 Ti\",\"8GB NVIDIA GeForce RTX 3070 Ti\"],\"xaxis\":\"x\",\"yaxis\":\"y\",\"type\":\"histogram\"},{\"alignmentgroup\":\"True\",\"bingroup\":\"x\",\"hovertemplate\":\"GPU=%{x}\\u003cbr\\u003ecount=%{y}\\u003cextra\\u003e\\u003c\\u002fextra\\u003e\",\"legendgroup\":\"Intel Integrated Integrated\",\"marker\":{\"color\":\"#00cc96\",\"pattern\":{\"shape\":\"\"}},\"name\":\"Intel Integrated Integrated\",\"offsetgroup\":\"Intel Integrated Integrated\",\"orientation\":\"v\",\"showlegend\":true,\"x\":[\"Intel Integrated Integrated\",\"Intel Integrated Integrated\",\"Intel Integrated Integrated\",\"Intel Integrated Integrated\",\"Intel Integrated Integrated\"],\"xaxis\":\"x\",\"yaxis\":\"y\",\"type\":\"histogram\"},{\"alignmentgroup\":\"True\",\"bingroup\":\"x\",\"hovertemplate\":\"GPU=%{x}\\u003cbr\\u003ecount=%{y}\\u003cextra\\u003e\\u003c\\u002fextra\\u003e\",\"legendgroup\":\"Intel Graphics\",\"marker\":{\"color\":\"#ab63fa\",\"pattern\":{\"shape\":\"\"}},\"name\":\"Intel Graphics\",\"offsetgroup\":\"Intel Graphics\",\"orientation\":\"v\",\"showlegend\":true,\"x\":[\"Intel Graphics\",\"Intel Graphics\",\"Intel Graphics\",\"Intel Graphics\",\"Intel Graphics\"],\"xaxis\":\"x\",\"yaxis\":\"y\",\"type\":\"histogram\"},{\"alignmentgroup\":\"True\",\"bingroup\":\"x\",\"hovertemplate\":\"GPU=%{x}\\u003cbr\\u003ecount=%{y}\\u003cextra\\u003e\\u003c\\u002fextra\\u003e\",\"legendgroup\":\"6GB NVIDIA GeForce RTX 3050\",\"marker\":{\"color\":\"#FFA15A\",\"pattern\":{\"shape\":\"\"}},\"name\":\"6GB NVIDIA GeForce RTX 3050\",\"offsetgroup\":\"6GB NVIDIA GeForce RTX 3050\",\"orientation\":\"v\",\"showlegend\":true,\"x\":[\"6GB NVIDIA GeForce RTX 3050\",\"6GB NVIDIA GeForce RTX 3050\",\"6GB NVIDIA GeForce RTX 3050\",\"6GB NVIDIA GeForce RTX 3050\",\"6GB NVIDIA GeForce RTX 3050\",\"6GB NVIDIA GeForce RTX 3050\",\"6GB NVIDIA GeForce RTX 3050\",\"6GB NVIDIA GeForce RTX 3050\",\"6GB NVIDIA GeForce RTX 3050\",\"6GB NVIDIA GeForce RTX 3050\",\"6GB NVIDIA GeForce RTX 3050\",\"6GB NVIDIA GeForce RTX 3050\",\"6GB NVIDIA GeForce RTX 3050\",\"6GB NVIDIA GeForce RTX 3050\",\"6GB NVIDIA GeForce RTX 3050\"],\"xaxis\":\"x\",\"yaxis\":\"y\",\"type\":\"histogram\"},{\"alignmentgroup\":\"True\",\"bingroup\":\"x\",\"hovertemplate\":\"GPU=%{x}\\u003cbr\\u003ecount=%{y}\\u003cextra\\u003e\\u003c\\u002fextra\\u003e\",\"legendgroup\":\"Intel UHD Graphics \",\"marker\":{\"color\":\"#19d3f3\",\"pattern\":{\"shape\":\"\"}},\"name\":\"Intel UHD Graphics \",\"offsetgroup\":\"Intel UHD Graphics \",\"orientation\":\"v\",\"showlegend\":true,\"x\":[\"Intel UHD Graphics \",\"Intel UHD Graphics \",\"Intel UHD Graphics \",\"Intel UHD Graphics \"],\"xaxis\":\"x\",\"yaxis\":\"y\",\"type\":\"histogram\"},{\"alignmentgroup\":\"True\",\"bingroup\":\"x\",\"hovertemplate\":\"GPU=%{x}\\u003cbr\\u003ecount=%{y}\\u003cextra\\u003e\\u003c\\u002fextra\\u003e\",\"legendgroup\":\"16GB NVIDIA GeForce RTX 4090\",\"marker\":{\"color\":\"#FF6692\",\"pattern\":{\"shape\":\"\"}},\"name\":\"16GB NVIDIA GeForce RTX 4090\",\"offsetgroup\":\"16GB NVIDIA GeForce RTX 4090\",\"orientation\":\"v\",\"showlegend\":true,\"x\":[\"16GB NVIDIA GeForce RTX 4090\",\"16GB NVIDIA GeForce RTX 4090\",\"16GB NVIDIA GeForce RTX 4090\",\"16GB NVIDIA GeForce RTX 4090\",\"16GB NVIDIA GeForce RTX 4090\"],\"xaxis\":\"x\",\"yaxis\":\"y\",\"type\":\"histogram\"},{\"alignmentgroup\":\"True\",\"bingroup\":\"x\",\"hovertemplate\":\"GPU=%{x}\\u003cbr\\u003ecount=%{y}\\u003cextra\\u003e\\u003c\\u002fextra\\u003e\",\"legendgroup\":\"AMD Radeon Radeon Graphics\",\"marker\":{\"color\":\"#B6E880\",\"pattern\":{\"shape\":\"\"}},\"name\":\"AMD Radeon Radeon Graphics\",\"offsetgroup\":\"AMD Radeon Radeon Graphics\",\"orientation\":\"v\",\"showlegend\":true,\"x\":[\"AMD Radeon Radeon Graphics\",\"AMD Radeon Radeon Graphics\",\"AMD Radeon Radeon Graphics\",\"AMD Radeon Radeon Graphics\",\"AMD Radeon Radeon Graphics\"],\"xaxis\":\"x\",\"yaxis\":\"y\",\"type\":\"histogram\"},{\"alignmentgroup\":\"True\",\"bingroup\":\"x\",\"hovertemplate\":\"GPU=%{x}\\u003cbr\\u003ecount=%{y}\\u003cextra\\u003e\\u003c\\u002fextra\\u003e\",\"legendgroup\":\"8GB NVIDIA GeForce RTX 4060\",\"marker\":{\"color\":\"#FF97FF\",\"pattern\":{\"shape\":\"\"}},\"name\":\"8GB NVIDIA GeForce RTX 4060\",\"offsetgroup\":\"8GB NVIDIA GeForce RTX 4060\",\"orientation\":\"v\",\"showlegend\":true,\"x\":[\"8GB NVIDIA GeForce RTX 4060\",\"8GB NVIDIA GeForce RTX 4060\",\"8GB NVIDIA GeForce RTX 4060\",\"8GB NVIDIA GeForce RTX 4060\",\"8GB NVIDIA GeForce RTX 4060\",\"8GB NVIDIA GeForce RTX 4060\",\"8GB NVIDIA GeForce RTX 4060\",\"8GB NVIDIA GeForce RTX 4060\",\"8GB NVIDIA GeForce RTX 4060\",\"8GB NVIDIA GeForce RTX 4060\",\"8GB NVIDIA GeForce RTX 4060\",\"8GB NVIDIA GeForce RTX 4060\",\"8GB NVIDIA GeForce RTX 4060\",\"8GB NVIDIA GeForce RTX 4060\",\"8GB NVIDIA GeForce RTX 4060\",\"8GB NVIDIA GeForce RTX 4060\",\"8GB NVIDIA GeForce RTX 4060\",\"8GB NVIDIA GeForce RTX 4060\",\"8GB NVIDIA GeForce RTX 4060\",\"8GB NVIDIA GeForce RTX 4060\",\"8GB NVIDIA GeForce RTX 4060\",\"8GB NVIDIA GeForce RTX 4060\",\"8GB NVIDIA GeForce RTX 4060\",\"8GB NVIDIA GeForce RTX 4060\",\"8GB NVIDIA GeForce RTX 4060\",\"8GB NVIDIA GeForce RTX 4060\",\"8GB NVIDIA GeForce RTX 4060\",\"8GB NVIDIA GeForce RTX 4060\",\"8GB NVIDIA GeForce RTX 4060\",\"8GB NVIDIA GeForce RTX 4060\",\"8GB NVIDIA GeForce RTX 4060\",\"8GB NVIDIA GeForce RTX 4060\",\"8GB NVIDIA GeForce RTX 4060\",\"8GB NVIDIA GeForce RTX 4060\",\"8GB NVIDIA GeForce RTX 4060\",\"8GB NVIDIA GeForce RTX 4060\",\"8GB NVIDIA GeForce RTX 4060\",\"8GB NVIDIA GeForce RTX 4060\",\"8GB NVIDIA GeForce RTX 4060\",\"8GB NVIDIA GeForce RTX 4060\",\"8GB NVIDIA GeForce RTX 4060\",\"8GB NVIDIA GeForce RTX 4060\"],\"xaxis\":\"x\",\"yaxis\":\"y\",\"type\":\"histogram\"},{\"alignmentgroup\":\"True\",\"bingroup\":\"x\",\"hovertemplate\":\"GPU=%{x}\\u003cbr\\u003ecount=%{y}\\u003cextra\\u003e\\u003c\\u002fextra\\u003e\",\"legendgroup\":\"Intel Integrated Intel UHD Graphics\",\"marker\":{\"color\":\"#FECB52\",\"pattern\":{\"shape\":\"\"}},\"name\":\"Intel Integrated Intel UHD Graphics\",\"offsetgroup\":\"Intel Integrated Intel UHD Graphics\",\"orientation\":\"v\",\"showlegend\":true,\"x\":[\"Intel Integrated Intel UHD Graphics\",\"Intel Integrated Intel UHD Graphics\"],\"xaxis\":\"x\",\"yaxis\":\"y\",\"type\":\"histogram\"},{\"alignmentgroup\":\"True\",\"bingroup\":\"x\",\"hovertemplate\":\"GPU=%{x}\\u003cbr\\u003ecount=%{y}\\u003cextra\\u003e\\u003c\\u002fextra\\u003e\",\"legendgroup\":\"4GB NVIDIA GeForce RTX 3050 Ti\",\"marker\":{\"color\":\"#636efa\",\"pattern\":{\"shape\":\"\"}},\"name\":\"4GB NVIDIA GeForce RTX 3050 Ti\",\"offsetgroup\":\"4GB NVIDIA GeForce RTX 3050 Ti\",\"orientation\":\"v\",\"showlegend\":true,\"x\":[\"4GB NVIDIA GeForce RTX 3050 Ti\",\"4GB NVIDIA GeForce RTX 3050 Ti\",\"4GB NVIDIA GeForce RTX 3050 Ti\"],\"xaxis\":\"x\",\"yaxis\":\"y\",\"type\":\"histogram\"},{\"alignmentgroup\":\"True\",\"bingroup\":\"x\",\"hovertemplate\":\"GPU=%{x}\\u003cbr\\u003ecount=%{y}\\u003cextra\\u003e\\u003c\\u002fextra\\u003e\",\"legendgroup\":\"Intel Integrated Intel UHD\",\"marker\":{\"color\":\"#EF553B\",\"pattern\":{\"shape\":\"\"}},\"name\":\"Intel Integrated Intel UHD\",\"offsetgroup\":\"Intel Integrated Intel UHD\",\"orientation\":\"v\",\"showlegend\":true,\"x\":[\"Intel Integrated Intel UHD\",\"Intel Integrated Intel UHD\",\"Intel Integrated Intel UHD\",\"Intel Integrated Intel UHD\",\"Intel Integrated Intel UHD\"],\"xaxis\":\"x\",\"yaxis\":\"y\",\"type\":\"histogram\"},{\"alignmentgroup\":\"True\",\"bingroup\":\"x\",\"hovertemplate\":\"GPU=%{x}\\u003cbr\\u003ecount=%{y}\\u003cextra\\u003e\\u003c\\u002fextra\\u003e\",\"legendgroup\":\"4GB NVIDIA GeForce GTX 3050\",\"marker\":{\"color\":\"#00cc96\",\"pattern\":{\"shape\":\"\"}},\"name\":\"4GB NVIDIA GeForce GTX 3050\",\"offsetgroup\":\"4GB NVIDIA GeForce GTX 3050\",\"orientation\":\"v\",\"showlegend\":true,\"x\":[\"4GB NVIDIA GeForce GTX 3050\"],\"xaxis\":\"x\",\"yaxis\":\"y\",\"type\":\"histogram\"},{\"alignmentgroup\":\"True\",\"bingroup\":\"x\",\"hovertemplate\":\"GPU=%{x}\\u003cbr\\u003ecount=%{y}\\u003cextra\\u003e\\u003c\\u002fextra\\u003e\",\"legendgroup\":\"AMD Radeon Vega 7 Graphics\",\"marker\":{\"color\":\"#ab63fa\",\"pattern\":{\"shape\":\"\"}},\"name\":\"AMD Radeon Vega 7 Graphics\",\"offsetgroup\":\"AMD Radeon Vega 7 Graphics\",\"orientation\":\"v\",\"showlegend\":true,\"x\":[\"AMD Radeon Vega 7 Graphics\"],\"xaxis\":\"x\",\"yaxis\":\"y\",\"type\":\"histogram\"},{\"alignmentgroup\":\"True\",\"bingroup\":\"x\",\"hovertemplate\":\"GPU=%{x}\\u003cbr\\u003ecount=%{y}\\u003cextra\\u003e\\u003c\\u002fextra\\u003e\",\"legendgroup\":\"4GB NVIDIA \",\"marker\":{\"color\":\"#FFA15A\",\"pattern\":{\"shape\":\"\"}},\"name\":\"4GB NVIDIA \",\"offsetgroup\":\"4GB NVIDIA \",\"orientation\":\"v\",\"showlegend\":true,\"x\":[\"4GB NVIDIA \"],\"xaxis\":\"x\",\"yaxis\":\"y\",\"type\":\"histogram\"},{\"alignmentgroup\":\"True\",\"bingroup\":\"x\",\"hovertemplate\":\"GPU=%{x}\\u003cbr\\u003ecount=%{y}\\u003cextra\\u003e\\u003c\\u002fextra\\u003e\",\"legendgroup\":\"Intel Integrated\",\"marker\":{\"color\":\"#19d3f3\",\"pattern\":{\"shape\":\"\"}},\"name\":\"Intel Integrated\",\"offsetgroup\":\"Intel Integrated\",\"orientation\":\"v\",\"showlegend\":true,\"x\":[\"Intel Integrated\",\"Intel Integrated\",\"Intel Integrated\",\"Intel Integrated\",\"Intel Integrated\",\"Intel Integrated\",\"Intel Integrated\",\"Intel Integrated\"],\"xaxis\":\"x\",\"yaxis\":\"y\",\"type\":\"histogram\"},{\"alignmentgroup\":\"True\",\"bingroup\":\"x\",\"hovertemplate\":\"GPU=%{x}\\u003cbr\\u003ecount=%{y}\\u003cextra\\u003e\\u003c\\u002fextra\\u003e\",\"legendgroup\":\"Intel Iris XE Graphics \",\"marker\":{\"color\":\"#FF6692\",\"pattern\":{\"shape\":\"\"}},\"name\":\"Intel Iris XE Graphics \",\"offsetgroup\":\"Intel Iris XE Graphics \",\"orientation\":\"v\",\"showlegend\":true,\"x\":[\"Intel Iris XE Graphics \"],\"xaxis\":\"x\",\"yaxis\":\"y\",\"type\":\"histogram\"},{\"alignmentgroup\":\"True\",\"bingroup\":\"x\",\"hovertemplate\":\"GPU=%{x}\\u003cbr\\u003ecount=%{y}\\u003cextra\\u003e\\u003c\\u002fextra\\u003e\",\"legendgroup\":\"GB NVIDIA GeForce RTX 2050\",\"marker\":{\"color\":\"#B6E880\",\"pattern\":{\"shape\":\"\"}},\"name\":\"GB NVIDIA GeForce RTX 2050\",\"offsetgroup\":\"GB NVIDIA GeForce RTX 2050\",\"orientation\":\"v\",\"showlegend\":true,\"x\":[\"GB NVIDIA GeForce RTX 2050\"],\"xaxis\":\"x\",\"yaxis\":\"y\",\"type\":\"histogram\"},{\"alignmentgroup\":\"True\",\"bingroup\":\"x\",\"hovertemplate\":\"GPU=%{x}\\u003cbr\\u003ecount=%{y}\\u003cextra\\u003e\\u003c\\u002fextra\\u003e\",\"legendgroup\":\"8GB NVIDIA GeForce RTX 3070 Ti \",\"marker\":{\"color\":\"#FF97FF\",\"pattern\":{\"shape\":\"\"}},\"name\":\"8GB NVIDIA GeForce RTX 3070 Ti \",\"offsetgroup\":\"8GB NVIDIA GeForce RTX 3070 Ti \",\"orientation\":\"v\",\"showlegend\":true,\"x\":[\"8GB NVIDIA GeForce RTX 3070 Ti \",\"8GB NVIDIA GeForce RTX 3070 Ti \",\"8GB NVIDIA GeForce RTX 3070 Ti \"],\"xaxis\":\"x\",\"yaxis\":\"y\",\"type\":\"histogram\"},{\"alignmentgroup\":\"True\",\"bingroup\":\"x\",\"hovertemplate\":\"GPU=%{x}\\u003cbr\\u003ecount=%{y}\\u003cextra\\u003e\\u003c\\u002fextra\\u003e\",\"legendgroup\":\"10-Core GPU\",\"marker\":{\"color\":\"#FECB52\",\"pattern\":{\"shape\":\"\"}},\"name\":\"10-Core GPU\",\"offsetgroup\":\"10-Core GPU\",\"orientation\":\"v\",\"showlegend\":true,\"x\":[\"10-Core GPU\",\"10-Core GPU\",\"10-Core GPU\"],\"xaxis\":\"x\",\"yaxis\":\"y\",\"type\":\"histogram\"},{\"alignmentgroup\":\"True\",\"bingroup\":\"x\",\"hovertemplate\":\"GPU=%{x}\\u003cbr\\u003ecount=%{y}\\u003cextra\\u003e\\u003c\\u002fextra\\u003e\",\"legendgroup\":\"4GB NVIDIA GeForce RTX 3050 Graphics\",\"marker\":{\"color\":\"#636efa\",\"pattern\":{\"shape\":\"\"}},\"name\":\"4GB NVIDIA GeForce RTX 3050 Graphics\",\"offsetgroup\":\"4GB NVIDIA GeForce RTX 3050 Graphics\",\"orientation\":\"v\",\"showlegend\":true,\"x\":[\"4GB NVIDIA GeForce RTX 3050 Graphics\",\"4GB NVIDIA GeForce RTX 3050 Graphics\"],\"xaxis\":\"x\",\"yaxis\":\"y\",\"type\":\"histogram\"},{\"alignmentgroup\":\"True\",\"bingroup\":\"x\",\"hovertemplate\":\"GPU=%{x}\\u003cbr\\u003ecount=%{y}\\u003cextra\\u003e\\u003c\\u002fextra\\u003e\",\"legendgroup\":\"8GB AMD Radeon RX 6650M\",\"marker\":{\"color\":\"#EF553B\",\"pattern\":{\"shape\":\"\"}},\"name\":\"8GB AMD Radeon RX 6650M\",\"offsetgroup\":\"8GB AMD Radeon RX 6650M\",\"orientation\":\"v\",\"showlegend\":true,\"x\":[\"8GB AMD Radeon RX 6650M\",\"8GB AMD Radeon RX 6650M\"],\"xaxis\":\"x\",\"yaxis\":\"y\",\"type\":\"histogram\"},{\"alignmentgroup\":\"True\",\"bingroup\":\"x\",\"hovertemplate\":\"GPU=%{x}\\u003cbr\\u003ecount=%{y}\\u003cextra\\u003e\\u003c\\u002fextra\\u003e\",\"legendgroup\":\"Intel HD Graphics\",\"marker\":{\"color\":\"#00cc96\",\"pattern\":{\"shape\":\"\"}},\"name\":\"Intel HD Graphics\",\"offsetgroup\":\"Intel HD Graphics\",\"orientation\":\"v\",\"showlegend\":true,\"x\":[\"Intel HD Graphics\"],\"xaxis\":\"x\",\"yaxis\":\"y\",\"type\":\"histogram\"},{\"alignmentgroup\":\"True\",\"bingroup\":\"x\",\"hovertemplate\":\"GPU=%{x}\\u003cbr\\u003ecount=%{y}\\u003cextra\\u003e\\u003c\\u002fextra\\u003e\",\"legendgroup\":\"Intel UHD Graphics 600\",\"marker\":{\"color\":\"#ab63fa\",\"pattern\":{\"shape\":\"\"}},\"name\":\"Intel UHD Graphics 600\",\"offsetgroup\":\"Intel UHD Graphics 600\",\"orientation\":\"v\",\"showlegend\":true,\"x\":[\"Intel UHD Graphics 600\",\"Intel UHD Graphics 600\"],\"xaxis\":\"x\",\"yaxis\":\"y\",\"type\":\"histogram\"},{\"alignmentgroup\":\"True\",\"bingroup\":\"x\",\"hovertemplate\":\"GPU=%{x}\\u003cbr\\u003ecount=%{y}\\u003cextra\\u003e\\u003c\\u002fextra\\u003e\",\"legendgroup\":\"Integrated Intel Iris Xe Graphics\",\"marker\":{\"color\":\"#FFA15A\",\"pattern\":{\"shape\":\"\"}},\"name\":\"Integrated Intel Iris Xe Graphics\",\"offsetgroup\":\"Integrated Intel Iris Xe Graphics\",\"orientation\":\"v\",\"showlegend\":true,\"x\":[\"Integrated Intel Iris Xe Graphics\",\"Integrated Intel Iris Xe Graphics\",\"Integrated Intel Iris Xe Graphics\",\"Integrated Intel Iris Xe Graphics\",\"Integrated Intel Iris Xe Graphics\",\"Integrated Intel Iris Xe Graphics\",\"Integrated Intel Iris Xe Graphics\",\"Integrated Intel Iris Xe Graphics\",\"Integrated Intel Iris Xe Graphics\",\"Integrated Intel Iris Xe Graphics\",\"Integrated Intel Iris Xe Graphics\",\"Integrated Intel Iris Xe Graphics\",\"Integrated Intel Iris Xe Graphics\"],\"xaxis\":\"x\",\"yaxis\":\"y\",\"type\":\"histogram\"},{\"alignmentgroup\":\"True\",\"bingroup\":\"x\",\"hovertemplate\":\"GPU=%{x}\\u003cbr\\u003ecount=%{y}\\u003cextra\\u003e\\u003c\\u002fextra\\u003e\",\"legendgroup\":\"AMD Radeon Radeon\",\"marker\":{\"color\":\"#19d3f3\",\"pattern\":{\"shape\":\"\"}},\"name\":\"AMD Radeon Radeon\",\"offsetgroup\":\"AMD Radeon Radeon\",\"orientation\":\"v\",\"showlegend\":true,\"x\":[\"AMD Radeon Radeon\",\"AMD Radeon Radeon\"],\"xaxis\":\"x\",\"yaxis\":\"y\",\"type\":\"histogram\"},{\"alignmentgroup\":\"True\",\"bingroup\":\"x\",\"hovertemplate\":\"GPU=%{x}\\u003cbr\\u003ecount=%{y}\\u003cextra\\u003e\\u003c\\u002fextra\\u003e\",\"legendgroup\":\"Intel Integrated Intel Iris Xe Graphics\",\"marker\":{\"color\":\"#FF6692\",\"pattern\":{\"shape\":\"\"}},\"name\":\"Intel Integrated Intel Iris Xe Graphics\",\"offsetgroup\":\"Intel Integrated Intel Iris Xe Graphics\",\"orientation\":\"v\",\"showlegend\":true,\"x\":[\"Intel Integrated Intel Iris Xe Graphics\",\"Intel Integrated Intel Iris Xe Graphics\",\"Intel Integrated Intel Iris Xe Graphics\",\"Intel Integrated Intel Iris Xe Graphics\",\"Intel Integrated Intel Iris Xe Graphics\"],\"xaxis\":\"x\",\"yaxis\":\"y\",\"type\":\"histogram\"},{\"alignmentgroup\":\"True\",\"bingroup\":\"x\",\"hovertemplate\":\"GPU=%{x}\\u003cbr\\u003ecount=%{y}\\u003cextra\\u003e\\u003c\\u002fextra\\u003e\",\"legendgroup\":\"AMD Radeon Graphiics\",\"marker\":{\"color\":\"#B6E880\",\"pattern\":{\"shape\":\"\"}},\"name\":\"AMD Radeon Graphiics\",\"offsetgroup\":\"AMD Radeon Graphiics\",\"orientation\":\"v\",\"showlegend\":true,\"x\":[\"AMD Radeon Graphiics\",\"AMD Radeon Graphiics\"],\"xaxis\":\"x\",\"yaxis\":\"y\",\"type\":\"histogram\"},{\"alignmentgroup\":\"True\",\"bingroup\":\"x\",\"hovertemplate\":\"GPU=%{x}\\u003cbr\\u003ecount=%{y}\\u003cextra\\u003e\\u003c\\u002fextra\\u003e\",\"legendgroup\":\"NVIDIA GeForce RTX 4070\",\"marker\":{\"color\":\"#FF97FF\",\"pattern\":{\"shape\":\"\"}},\"name\":\"NVIDIA GeForce RTX 4070\",\"offsetgroup\":\"NVIDIA GeForce RTX 4070\",\"orientation\":\"v\",\"showlegend\":true,\"x\":[\"NVIDIA GeForce RTX 4070\",\"NVIDIA GeForce RTX 4070\"],\"xaxis\":\"x\",\"yaxis\":\"y\",\"type\":\"histogram\"},{\"alignmentgroup\":\"True\",\"bingroup\":\"x\",\"hovertemplate\":\"GPU=%{x}\\u003cbr\\u003ecount=%{y}\\u003cextra\\u003e\\u003c\\u002fextra\\u003e\",\"legendgroup\":\"AMD Radeon 610M Graphics\",\"marker\":{\"color\":\"#FECB52\",\"pattern\":{\"shape\":\"\"}},\"name\":\"AMD Radeon 610M Graphics\",\"offsetgroup\":\"AMD Radeon 610M Graphics\",\"orientation\":\"v\",\"showlegend\":true,\"x\":[\"AMD Radeon 610M Graphics\",\"AMD Radeon 610M Graphics\",\"AMD Radeon 610M Graphics\",\"AMD Radeon 610M Graphics\"],\"xaxis\":\"x\",\"yaxis\":\"y\",\"type\":\"histogram\"},{\"alignmentgroup\":\"True\",\"bingroup\":\"x\",\"hovertemplate\":\"GPU=%{x}\\u003cbr\\u003ecount=%{y}\\u003cextra\\u003e\\u003c\\u002fextra\\u003e\",\"legendgroup\":\"4GB NVIDIA GTX 1650\",\"marker\":{\"color\":\"#636efa\",\"pattern\":{\"shape\":\"\"}},\"name\":\"4GB NVIDIA GTX 1650\",\"offsetgroup\":\"4GB NVIDIA GTX 1650\",\"orientation\":\"v\",\"showlegend\":true,\"x\":[\"4GB NVIDIA GTX 1650\"],\"xaxis\":\"x\",\"yaxis\":\"y\",\"type\":\"histogram\"},{\"alignmentgroup\":\"True\",\"bingroup\":\"x\",\"hovertemplate\":\"GPU=%{x}\\u003cbr\\u003ecount=%{y}\\u003cextra\\u003e\\u003c\\u002fextra\\u003e\",\"legendgroup\":\"AMD Radeon\",\"marker\":{\"color\":\"#EF553B\",\"pattern\":{\"shape\":\"\"}},\"name\":\"AMD Radeon\",\"offsetgroup\":\"AMD Radeon\",\"orientation\":\"v\",\"showlegend\":true,\"x\":[\"AMD Radeon\",\"AMD Radeon\",\"AMD Radeon\",\"AMD Radeon\",\"AMD Radeon\",\"AMD Radeon\",\"AMD Radeon\",\"AMD Radeon\",\"AMD Radeon\",\"AMD Radeon\",\"AMD Radeon\",\"AMD Radeon\",\"AMD Radeon\"],\"xaxis\":\"x\",\"yaxis\":\"y\",\"type\":\"histogram\"},{\"alignmentgroup\":\"True\",\"bingroup\":\"x\",\"hovertemplate\":\"GPU=%{x}\\u003cbr\\u003ecount=%{y}\\u003cextra\\u003e\\u003c\\u002fextra\\u003e\",\"legendgroup\":\"4GB NVIDIA Geforce RTX 3050\",\"marker\":{\"color\":\"#00cc96\",\"pattern\":{\"shape\":\"\"}},\"name\":\"4GB NVIDIA Geforce RTX 3050\",\"offsetgroup\":\"4GB NVIDIA Geforce RTX 3050\",\"orientation\":\"v\",\"showlegend\":true,\"x\":[\"4GB NVIDIA Geforce RTX 3050\",\"4GB NVIDIA Geforce RTX 3050\"],\"xaxis\":\"x\",\"yaxis\":\"y\",\"type\":\"histogram\"},{\"alignmentgroup\":\"True\",\"bingroup\":\"x\",\"hovertemplate\":\"GPU=%{x}\\u003cbr\\u003ecount=%{y}\\u003cextra\\u003e\\u003c\\u002fextra\\u003e\",\"legendgroup\":\"Intel Graphics \",\"marker\":{\"color\":\"#ab63fa\",\"pattern\":{\"shape\":\"\"}},\"name\":\"Intel Graphics \",\"offsetgroup\":\"Intel Graphics \",\"orientation\":\"v\",\"showlegend\":true,\"x\":[\"Intel Graphics \"],\"xaxis\":\"x\",\"yaxis\":\"y\",\"type\":\"histogram\"},{\"alignmentgroup\":\"True\",\"bingroup\":\"x\",\"hovertemplate\":\"GPU=%{x}\\u003cbr\\u003ecount=%{y}\\u003cextra\\u003e\\u003c\\u002fextra\\u003e\",\"legendgroup\":\"Intel Iris XE Graphics\",\"marker\":{\"color\":\"#FFA15A\",\"pattern\":{\"shape\":\"\"}},\"name\":\"Intel Iris XE Graphics\",\"offsetgroup\":\"Intel Iris XE Graphics\",\"orientation\":\"v\",\"showlegend\":true,\"x\":[\"Intel Iris XE Graphics\"],\"xaxis\":\"x\",\"yaxis\":\"y\",\"type\":\"histogram\"},{\"alignmentgroup\":\"True\",\"bingroup\":\"x\",\"hovertemplate\":\"GPU=%{x}\\u003cbr\\u003ecount=%{y}\\u003cextra\\u003e\\u003c\\u002fextra\\u003e\",\"legendgroup\":\"Intel HD\",\"marker\":{\"color\":\"#19d3f3\",\"pattern\":{\"shape\":\"\"}},\"name\":\"Intel HD\",\"offsetgroup\":\"Intel HD\",\"orientation\":\"v\",\"showlegend\":true,\"x\":[\"Intel HD\",\"Intel HD\"],\"xaxis\":\"x\",\"yaxis\":\"y\",\"type\":\"histogram\"},{\"alignmentgroup\":\"True\",\"bingroup\":\"x\",\"hovertemplate\":\"GPU=%{x}\\u003cbr\\u003ecount=%{y}\\u003cextra\\u003e\\u003c\\u002fextra\\u003e\",\"legendgroup\":\"AMD Radeon Vega 8\",\"marker\":{\"color\":\"#FF6692\",\"pattern\":{\"shape\":\"\"}},\"name\":\"AMD Radeon Vega 8\",\"offsetgroup\":\"AMD Radeon Vega 8\",\"orientation\":\"v\",\"showlegend\":true,\"x\":[\"AMD Radeon Vega 8\"],\"xaxis\":\"x\",\"yaxis\":\"y\",\"type\":\"histogram\"},{\"alignmentgroup\":\"True\",\"bingroup\":\"x\",\"hovertemplate\":\"GPU=%{x}\\u003cbr\\u003ecount=%{y}\\u003cextra\\u003e\\u003c\\u002fextra\\u003e\",\"legendgroup\":\"4GB Radeon Pro 5500M\",\"marker\":{\"color\":\"#B6E880\",\"pattern\":{\"shape\":\"\"}},\"name\":\"4GB Radeon Pro 5500M\",\"offsetgroup\":\"4GB Radeon Pro 5500M\",\"orientation\":\"v\",\"showlegend\":true,\"x\":[\"4GB Radeon Pro 5500M\"],\"xaxis\":\"x\",\"yaxis\":\"y\",\"type\":\"histogram\"},{\"alignmentgroup\":\"True\",\"bingroup\":\"x\",\"hovertemplate\":\"GPU=%{x}\\u003cbr\\u003ecount=%{y}\\u003cextra\\u003e\\u003c\\u002fextra\\u003e\",\"legendgroup\":\"AMD Radeon 610M\",\"marker\":{\"color\":\"#FF97FF\",\"pattern\":{\"shape\":\"\"}},\"name\":\"AMD Radeon 610M\",\"offsetgroup\":\"AMD Radeon 610M\",\"orientation\":\"v\",\"showlegend\":true,\"x\":[\"AMD Radeon 610M\",\"AMD Radeon 610M\",\"AMD Radeon 610M\"],\"xaxis\":\"x\",\"yaxis\":\"y\",\"type\":\"histogram\"},{\"alignmentgroup\":\"True\",\"bingroup\":\"x\",\"hovertemplate\":\"GPU=%{x}\\u003cbr\\u003ecount=%{y}\\u003cextra\\u003e\\u003c\\u002fextra\\u003e\",\"legendgroup\":\"4GB NVIDIA GeForce RTX RTX 3050\",\"marker\":{\"color\":\"#FECB52\",\"pattern\":{\"shape\":\"\"}},\"name\":\"4GB NVIDIA GeForce RTX RTX 3050\",\"offsetgroup\":\"4GB NVIDIA GeForce RTX RTX 3050\",\"orientation\":\"v\",\"showlegend\":true,\"x\":[\"4GB NVIDIA GeForce RTX RTX 3050\",\"4GB NVIDIA GeForce RTX RTX 3050\"],\"xaxis\":\"x\",\"yaxis\":\"y\",\"type\":\"histogram\"},{\"alignmentgroup\":\"True\",\"bingroup\":\"x\",\"hovertemplate\":\"GPU=%{x}\\u003cbr\\u003ecount=%{y}\\u003cextra\\u003e\\u003c\\u002fextra\\u003e\",\"legendgroup\":\"AMD Radeon \",\"marker\":{\"color\":\"#636efa\",\"pattern\":{\"shape\":\"\"}},\"name\":\"AMD Radeon \",\"offsetgroup\":\"AMD Radeon \",\"orientation\":\"v\",\"showlegend\":true,\"x\":[\"AMD Radeon \"],\"xaxis\":\"x\",\"yaxis\":\"y\",\"type\":\"histogram\"},{\"alignmentgroup\":\"True\",\"bingroup\":\"x\",\"hovertemplate\":\"GPU=%{x}\\u003cbr\\u003ecount=%{y}\\u003cextra\\u003e\\u003c\\u002fextra\\u003e\",\"legendgroup\":\"4GB AMD Radeon AMD Radeon RX 6500M\",\"marker\":{\"color\":\"#EF553B\",\"pattern\":{\"shape\":\"\"}},\"name\":\"4GB AMD Radeon AMD Radeon RX 6500M\",\"offsetgroup\":\"4GB AMD Radeon AMD Radeon RX 6500M\",\"orientation\":\"v\",\"showlegend\":true,\"x\":[\"4GB AMD Radeon AMD Radeon RX 6500M\"],\"xaxis\":\"x\",\"yaxis\":\"y\",\"type\":\"histogram\"},{\"alignmentgroup\":\"True\",\"bingroup\":\"x\",\"hovertemplate\":\"GPU=%{x}\\u003cbr\\u003ecount=%{y}\\u003cextra\\u003e\\u003c\\u002fextra\\u003e\",\"legendgroup\":\"4GB NVIDIA GeForce GTX 2050\",\"marker\":{\"color\":\"#00cc96\",\"pattern\":{\"shape\":\"\"}},\"name\":\"4GB NVIDIA GeForce GTX 2050\",\"offsetgroup\":\"4GB NVIDIA GeForce GTX 2050\",\"orientation\":\"v\",\"showlegend\":true,\"x\":[\"4GB NVIDIA GeForce GTX 2050\",\"4GB NVIDIA GeForce GTX 2050\"],\"xaxis\":\"x\",\"yaxis\":\"y\",\"type\":\"histogram\"},{\"alignmentgroup\":\"True\",\"bingroup\":\"x\",\"hovertemplate\":\"GPU=%{x}\\u003cbr\\u003ecount=%{y}\\u003cextra\\u003e\\u003c\\u002fextra\\u003e\",\"legendgroup\":\"Integrated Intel UHD Graphics\",\"marker\":{\"color\":\"#ab63fa\",\"pattern\":{\"shape\":\"\"}},\"name\":\"Integrated Intel UHD Graphics\",\"offsetgroup\":\"Integrated Intel UHD Graphics\",\"orientation\":\"v\",\"showlegend\":true,\"x\":[\"Integrated Intel UHD Graphics\",\"Integrated Intel UHD Graphics\",\"Integrated Intel UHD Graphics\",\"Integrated Intel UHD Graphics\",\"Integrated Intel UHD Graphics\",\"Integrated Intel UHD Graphics\",\"Integrated Intel UHD Graphics\"],\"xaxis\":\"x\",\"yaxis\":\"y\",\"type\":\"histogram\"},{\"alignmentgroup\":\"True\",\"bingroup\":\"x\",\"hovertemplate\":\"GPU=%{x}\\u003cbr\\u003ecount=%{y}\\u003cextra\\u003e\\u003c\\u002fextra\\u003e\",\"legendgroup\":\"4GB NVIDIA GeForce RTX2050\",\"marker\":{\"color\":\"#FFA15A\",\"pattern\":{\"shape\":\"\"}},\"name\":\"4GB NVIDIA GeForce RTX2050\",\"offsetgroup\":\"4GB NVIDIA GeForce RTX2050\",\"orientation\":\"v\",\"showlegend\":true,\"x\":[\"4GB NVIDIA GeForce RTX2050\",\"4GB NVIDIA GeForce RTX2050\",\"4GB NVIDIA GeForce RTX2050\"],\"xaxis\":\"x\",\"yaxis\":\"y\",\"type\":\"histogram\"},{\"alignmentgroup\":\"True\",\"bingroup\":\"x\",\"hovertemplate\":\"GPU=%{x}\\u003cbr\\u003ecount=%{y}\\u003cextra\\u003e\\u003c\\u002fextra\\u003e\",\"legendgroup\":\"Intel Iris X Graphics\",\"marker\":{\"color\":\"#19d3f3\",\"pattern\":{\"shape\":\"\"}},\"name\":\"Intel Iris X Graphics\",\"offsetgroup\":\"Intel Iris X Graphics\",\"orientation\":\"v\",\"showlegend\":true,\"x\":[\"Intel Iris X Graphics\",\"Intel Iris X Graphics\",\"Intel Iris X Graphics\"],\"xaxis\":\"x\",\"yaxis\":\"y\",\"type\":\"histogram\"},{\"alignmentgroup\":\"True\",\"bingroup\":\"x\",\"hovertemplate\":\"GPU=%{x}\\u003cbr\\u003ecount=%{y}\\u003cextra\\u003e\\u003c\\u002fextra\\u003e\",\"legendgroup\":\"4GB NVIDIA GeForce RTX 2050 \",\"marker\":{\"color\":\"#FF6692\",\"pattern\":{\"shape\":\"\"}},\"name\":\"4GB NVIDIA GeForce RTX 2050 \",\"offsetgroup\":\"4GB NVIDIA GeForce RTX 2050 \",\"orientation\":\"v\",\"showlegend\":true,\"x\":[\"4GB NVIDIA GeForce RTX 2050 \",\"4GB NVIDIA GeForce RTX 2050 \"],\"xaxis\":\"x\",\"yaxis\":\"y\",\"type\":\"histogram\"},{\"alignmentgroup\":\"True\",\"bingroup\":\"x\",\"hovertemplate\":\"GPU=%{x}\\u003cbr\\u003ecount=%{y}\\u003cextra\\u003e\\u003c\\u002fextra\\u003e\",\"legendgroup\":\"4GB NVIDIA GeForce RTX 3050 \",\"marker\":{\"color\":\"#B6E880\",\"pattern\":{\"shape\":\"\"}},\"name\":\"4GB NVIDIA GeForce RTX 3050 \",\"offsetgroup\":\"4GB NVIDIA GeForce RTX 3050 \",\"orientation\":\"v\",\"showlegend\":true,\"x\":[\"4GB NVIDIA GeForce RTX 3050 \"],\"xaxis\":\"x\",\"yaxis\":\"y\",\"type\":\"histogram\"},{\"alignmentgroup\":\"True\",\"bingroup\":\"x\",\"hovertemplate\":\"GPU=%{x}\\u003cbr\\u003ecount=%{y}\\u003cextra\\u003e\\u003c\\u002fextra\\u003e\",\"legendgroup\":\"AMD Radeon Vega 8 Graphics\",\"marker\":{\"color\":\"#FF97FF\",\"pattern\":{\"shape\":\"\"}},\"name\":\"AMD Radeon Vega 8 Graphics\",\"offsetgroup\":\"AMD Radeon Vega 8 Graphics\",\"orientation\":\"v\",\"showlegend\":true,\"x\":[\"AMD Radeon Vega 8 Graphics\"],\"xaxis\":\"x\",\"yaxis\":\"y\",\"type\":\"histogram\"},{\"alignmentgroup\":\"True\",\"bingroup\":\"x\",\"hovertemplate\":\"GPU=%{x}\\u003cbr\\u003ecount=%{y}\\u003cextra\\u003e\\u003c\\u002fextra\\u003e\",\"legendgroup\":\"4GB Nvidia GeForce RTX 2050\",\"marker\":{\"color\":\"#FECB52\",\"pattern\":{\"shape\":\"\"}},\"name\":\"4GB Nvidia GeForce RTX 2050\",\"offsetgroup\":\"4GB Nvidia GeForce RTX 2050\",\"orientation\":\"v\",\"showlegend\":true,\"x\":[\"4GB Nvidia GeForce RTX 2050\"],\"xaxis\":\"x\",\"yaxis\":\"y\",\"type\":\"histogram\"},{\"alignmentgroup\":\"True\",\"bingroup\":\"x\",\"hovertemplate\":\"GPU=%{x}\\u003cbr\\u003ecount=%{y}\\u003cextra\\u003e\\u003c\\u002fextra\\u003e\",\"legendgroup\":\"Integrated Intel iris Xe Graphics\",\"marker\":{\"color\":\"#636efa\",\"pattern\":{\"shape\":\"\"}},\"name\":\"Integrated Intel iris Xe Graphics\",\"offsetgroup\":\"Integrated Intel iris Xe Graphics\",\"orientation\":\"v\",\"showlegend\":true,\"x\":[\"Integrated Intel iris Xe Graphics\"],\"xaxis\":\"x\",\"yaxis\":\"y\",\"type\":\"histogram\"},{\"alignmentgroup\":\"True\",\"bingroup\":\"x\",\"hovertemplate\":\"GPU=%{x}\\u003cbr\\u003ecount=%{y}\\u003cextra\\u003e\\u003c\\u002fextra\\u003e\",\"legendgroup\":\"4GB AMD Radeon RX6500M\",\"marker\":{\"color\":\"#EF553B\",\"pattern\":{\"shape\":\"\"}},\"name\":\"4GB AMD Radeon RX6500M\",\"offsetgroup\":\"4GB AMD Radeon RX6500M\",\"orientation\":\"v\",\"showlegend\":true,\"x\":[\"4GB AMD Radeon RX6500M\"],\"xaxis\":\"x\",\"yaxis\":\"y\",\"type\":\"histogram\"},{\"alignmentgroup\":\"True\",\"bingroup\":\"x\",\"hovertemplate\":\"GPU=%{x}\\u003cbr\\u003ecount=%{y}\\u003cextra\\u003e\\u003c\\u002fextra\\u003e\",\"legendgroup\":\"12GB NVIDIA GeForce RTX 4080\",\"marker\":{\"color\":\"#00cc96\",\"pattern\":{\"shape\":\"\"}},\"name\":\"12GB NVIDIA GeForce RTX 4080\",\"offsetgroup\":\"12GB NVIDIA GeForce RTX 4080\",\"orientation\":\"v\",\"showlegend\":true,\"x\":[\"12GB NVIDIA GeForce RTX 4080\",\"12GB NVIDIA GeForce RTX 4080\",\"12GB NVIDIA GeForce RTX 4080\",\"12GB NVIDIA GeForce RTX 4080\"],\"xaxis\":\"x\",\"yaxis\":\"y\",\"type\":\"histogram\"},{\"alignmentgroup\":\"True\",\"bingroup\":\"x\",\"hovertemplate\":\"GPU=%{x}\\u003cbr\\u003ecount=%{y}\\u003cextra\\u003e\\u003c\\u002fextra\\u003e\",\"legendgroup\":\"Intel Iris Xe Graphic\",\"marker\":{\"color\":\"#ab63fa\",\"pattern\":{\"shape\":\"\"}},\"name\":\"Intel Iris Xe Graphic\",\"offsetgroup\":\"Intel Iris Xe Graphic\",\"orientation\":\"v\",\"showlegend\":true,\"x\":[\"Intel Iris Xe Graphic\",\"Intel Iris Xe Graphic\"],\"xaxis\":\"x\",\"yaxis\":\"y\",\"type\":\"histogram\"},{\"alignmentgroup\":\"True\",\"bingroup\":\"x\",\"hovertemplate\":\"GPU=%{x}\\u003cbr\\u003ecount=%{y}\\u003cextra\\u003e\\u003c\\u002fextra\\u003e\",\"legendgroup\":\"30-core GPU\",\"marker\":{\"color\":\"#FFA15A\",\"pattern\":{\"shape\":\"\"}},\"name\":\"30-core GPU\",\"offsetgroup\":\"30-core GPU\",\"orientation\":\"v\",\"showlegend\":true,\"x\":[\"30-core GPU\"],\"xaxis\":\"x\",\"yaxis\":\"y\",\"type\":\"histogram\"},{\"alignmentgroup\":\"True\",\"bingroup\":\"x\",\"hovertemplate\":\"GPU=%{x}\\u003cbr\\u003ecount=%{y}\\u003cextra\\u003e\\u003c\\u002fextra\\u003e\",\"legendgroup\":\"19-core GPU\",\"marker\":{\"color\":\"#19d3f3\",\"pattern\":{\"shape\":\"\"}},\"name\":\"19-core GPU\",\"offsetgroup\":\"19-core GPU\",\"orientation\":\"v\",\"showlegend\":true,\"x\":[\"19-core GPU\"],\"xaxis\":\"x\",\"yaxis\":\"y\",\"type\":\"histogram\"},{\"alignmentgroup\":\"True\",\"bingroup\":\"x\",\"hovertemplate\":\"GPU=%{x}\\u003cbr\\u003ecount=%{y}\\u003cextra\\u003e\\u003c\\u002fextra\\u003e\",\"legendgroup\":\" Intel Iris Xe Graphics\",\"marker\":{\"color\":\"#FF6692\",\"pattern\":{\"shape\":\"\"}},\"name\":\" Intel Iris Xe Graphics\",\"offsetgroup\":\" Intel Iris Xe Graphics\",\"orientation\":\"v\",\"showlegend\":true,\"x\":[\" Intel Iris Xe Graphics\"],\"xaxis\":\"x\",\"yaxis\":\"y\",\"type\":\"histogram\"},{\"alignmentgroup\":\"True\",\"bingroup\":\"x\",\"hovertemplate\":\"GPU=%{x}\\u003cbr\\u003ecount=%{y}\\u003cextra\\u003e\\u003c\\u002fextra\\u003e\",\"legendgroup\":\"6GB NVIDIA GeForce RTX 3060\",\"marker\":{\"color\":\"#B6E880\",\"pattern\":{\"shape\":\"\"}},\"name\":\"6GB NVIDIA GeForce RTX 3060\",\"offsetgroup\":\"6GB NVIDIA GeForce RTX 3060\",\"orientation\":\"v\",\"showlegend\":true,\"x\":[\"6GB NVIDIA GeForce RTX 3060\",\"6GB NVIDIA GeForce RTX 3060\",\"6GB NVIDIA GeForce RTX 3060\",\"6GB NVIDIA GeForce RTX 3060\",\"6GB NVIDIA GeForce RTX 3060\",\"6GB NVIDIA GeForce RTX 3060\",\"6GB NVIDIA GeForce RTX 3060\"],\"xaxis\":\"x\",\"yaxis\":\"y\",\"type\":\"histogram\"},{\"alignmentgroup\":\"True\",\"bingroup\":\"x\",\"hovertemplate\":\"GPU=%{x}\\u003cbr\\u003ecount=%{y}\\u003cextra\\u003e\\u003c\\u002fextra\\u003e\",\"legendgroup\":\"8GB NVIDIA GeForce RTX 3070Ti\",\"marker\":{\"color\":\"#FF97FF\",\"pattern\":{\"shape\":\"\"}},\"name\":\"8GB NVIDIA GeForce RTX 3070Ti\",\"offsetgroup\":\"8GB NVIDIA GeForce RTX 3070Ti\",\"orientation\":\"v\",\"showlegend\":true,\"x\":[\"8GB NVIDIA GeForce RTX 3070Ti\",\"8GB NVIDIA GeForce RTX 3070Ti\"],\"xaxis\":\"x\",\"yaxis\":\"y\",\"type\":\"histogram\"},{\"alignmentgroup\":\"True\",\"bingroup\":\"x\",\"hovertemplate\":\"GPU=%{x}\\u003cbr\\u003ecount=%{y}\\u003cextra\\u003e\\u003c\\u002fextra\\u003e\",\"legendgroup\":\"4GB NVIDIA GeForce RTX A1000\",\"marker\":{\"color\":\"#FECB52\",\"pattern\":{\"shape\":\"\"}},\"name\":\"4GB NVIDIA GeForce RTX A1000\",\"offsetgroup\":\"4GB NVIDIA GeForce RTX A1000\",\"orientation\":\"v\",\"showlegend\":true,\"x\":[\"4GB NVIDIA GeForce RTX A1000\"],\"xaxis\":\"x\",\"yaxis\":\"y\",\"type\":\"histogram\"},{\"alignmentgroup\":\"True\",\"bingroup\":\"x\",\"hovertemplate\":\"GPU=%{x}\\u003cbr\\u003ecount=%{y}\\u003cextra\\u003e\\u003c\\u002fextra\\u003e\",\"legendgroup\":\"16GB NVIDIA GeForce RTX 3080 Ti\",\"marker\":{\"color\":\"#636efa\",\"pattern\":{\"shape\":\"\"}},\"name\":\"16GB NVIDIA GeForce RTX 3080 Ti\",\"offsetgroup\":\"16GB NVIDIA GeForce RTX 3080 Ti\",\"orientation\":\"v\",\"showlegend\":true,\"x\":[\"16GB NVIDIA GeForce RTX 3080 Ti\"],\"xaxis\":\"x\",\"yaxis\":\"y\",\"type\":\"histogram\"},{\"alignmentgroup\":\"True\",\"bingroup\":\"x\",\"hovertemplate\":\"GPU=%{x}\\u003cbr\\u003ecount=%{y}\\u003cextra\\u003e\\u003c\\u002fextra\\u003e\",\"legendgroup\":\"Intel Iris Xe Graphics \",\"marker\":{\"color\":\"#EF553B\",\"pattern\":{\"shape\":\"\"}},\"name\":\"Intel Iris Xe Graphics \",\"offsetgroup\":\"Intel Iris Xe Graphics \",\"orientation\":\"v\",\"showlegend\":true,\"x\":[\"Intel Iris Xe Graphics \",\"Intel Iris Xe Graphics \",\"Intel Iris Xe Graphics \",\"Intel Iris Xe Graphics \"],\"xaxis\":\"x\",\"yaxis\":\"y\",\"type\":\"histogram\"},{\"alignmentgroup\":\"True\",\"bingroup\":\"x\",\"hovertemplate\":\"GPU=%{x}\\u003cbr\\u003ecount=%{y}\\u003cextra\\u003e\\u003c\\u002fextra\\u003e\",\"legendgroup\":\"4GB NVIDIA Geforce GTX1650 Max Q\",\"marker\":{\"color\":\"#00cc96\",\"pattern\":{\"shape\":\"\"}},\"name\":\"4GB NVIDIA Geforce GTX1650 Max Q\",\"offsetgroup\":\"4GB NVIDIA Geforce GTX1650 Max Q\",\"orientation\":\"v\",\"showlegend\":true,\"x\":[\"4GB NVIDIA Geforce GTX1650 Max Q\"],\"xaxis\":\"x\",\"yaxis\":\"y\",\"type\":\"histogram\"},{\"alignmentgroup\":\"True\",\"bingroup\":\"x\",\"hovertemplate\":\"GPU=%{x}\\u003cbr\\u003ecount=%{y}\\u003cextra\\u003e\\u003c\\u002fextra\\u003e\",\"legendgroup\":\"16-core GPU\",\"marker\":{\"color\":\"#ab63fa\",\"pattern\":{\"shape\":\"\"}},\"name\":\"16-core GPU\",\"offsetgroup\":\"16-core GPU\",\"orientation\":\"v\",\"showlegend\":true,\"x\":[\"16-core GPU\",\"16-core GPU\",\"16-core GPU\"],\"xaxis\":\"x\",\"yaxis\":\"y\",\"type\":\"histogram\"},{\"alignmentgroup\":\"True\",\"bingroup\":\"x\",\"hovertemplate\":\"GPU=%{x}\\u003cbr\\u003ecount=%{y}\\u003cextra\\u003e\\u003c\\u002fextra\\u003e\",\"legendgroup\":\"32-core GPU\",\"marker\":{\"color\":\"#FFA15A\",\"pattern\":{\"shape\":\"\"}},\"name\":\"32-core GPU\",\"offsetgroup\":\"32-core GPU\",\"orientation\":\"v\",\"showlegend\":true,\"x\":[\"32-core GPU\"],\"xaxis\":\"x\",\"yaxis\":\"y\",\"type\":\"histogram\"},{\"alignmentgroup\":\"True\",\"bingroup\":\"x\",\"hovertemplate\":\"GPU=%{x}\\u003cbr\\u003ecount=%{y}\\u003cextra\\u003e\\u003c\\u002fextra\\u003e\",\"legendgroup\":\"2GB NVIDIA GeForce MX350\",\"marker\":{\"color\":\"#19d3f3\",\"pattern\":{\"shape\":\"\"}},\"name\":\"2GB NVIDIA GeForce MX350\",\"offsetgroup\":\"2GB NVIDIA GeForce MX350\",\"orientation\":\"v\",\"showlegend\":true,\"x\":[\"2GB NVIDIA GeForce MX350\"],\"xaxis\":\"x\",\"yaxis\":\"y\",\"type\":\"histogram\"},{\"alignmentgroup\":\"True\",\"bingroup\":\"x\",\"hovertemplate\":\"GPU=%{x}\\u003cbr\\u003ecount=%{y}\\u003cextra\\u003e\\u003c\\u002fextra\\u003e\",\"legendgroup\":\"AMD Radeon Vega 6\",\"marker\":{\"color\":\"#FF6692\",\"pattern\":{\"shape\":\"\"}},\"name\":\"AMD Radeon Vega 6\",\"offsetgroup\":\"AMD Radeon Vega 6\",\"orientation\":\"v\",\"showlegend\":true,\"x\":[\"AMD Radeon Vega 6\"],\"xaxis\":\"x\",\"yaxis\":\"y\",\"type\":\"histogram\"},{\"alignmentgroup\":\"True\",\"bingroup\":\"x\",\"hovertemplate\":\"GPU=%{x}\\u003cbr\\u003ecount=%{y}\\u003cextra\\u003e\\u003c\\u002fextra\\u003e\",\"legendgroup\":\"AMD Radeon Vega 9\",\"marker\":{\"color\":\"#B6E880\",\"pattern\":{\"shape\":\"\"}},\"name\":\"AMD Radeon Vega 9\",\"offsetgroup\":\"AMD Radeon Vega 9\",\"orientation\":\"v\",\"showlegend\":true,\"x\":[\"AMD Radeon Vega 9\",\"AMD Radeon Vega 9\"],\"xaxis\":\"x\",\"yaxis\":\"y\",\"type\":\"histogram\"},{\"alignmentgroup\":\"True\",\"bingroup\":\"x\",\"hovertemplate\":\"GPU=%{x}\\u003cbr\\u003ecount=%{y}\\u003cextra\\u003e\\u003c\\u002fextra\\u003e\",\"legendgroup\":\"2GB NVIDIA GeForce MX250\",\"marker\":{\"color\":\"#FF97FF\",\"pattern\":{\"shape\":\"\"}},\"name\":\"2GB NVIDIA GeForce MX250\",\"offsetgroup\":\"2GB NVIDIA GeForce MX250\",\"orientation\":\"v\",\"showlegend\":true,\"x\":[\"2GB NVIDIA GeForce MX250\"],\"xaxis\":\"x\",\"yaxis\":\"y\",\"type\":\"histogram\"},{\"alignmentgroup\":\"True\",\"bingroup\":\"x\",\"hovertemplate\":\"GPU=%{x}\\u003cbr\\u003ecount=%{y}\\u003cextra\\u003e\\u003c\\u002fextra\\u003e\",\"legendgroup\":\"Integrated UHD Graphics 620\",\"marker\":{\"color\":\"#FECB52\",\"pattern\":{\"shape\":\"\"}},\"name\":\"Integrated UHD Graphics 620\",\"offsetgroup\":\"Integrated UHD Graphics 620\",\"orientation\":\"v\",\"showlegend\":true,\"x\":[\"Integrated UHD Graphics 620\"],\"xaxis\":\"x\",\"yaxis\":\"y\",\"type\":\"histogram\"},{\"alignmentgroup\":\"True\",\"bingroup\":\"x\",\"hovertemplate\":\"GPU=%{x}\\u003cbr\\u003ecount=%{y}\\u003cextra\\u003e\\u003c\\u002fextra\\u003e\",\"legendgroup\":\"Intel Integrated UHD 620\",\"marker\":{\"color\":\"#636efa\",\"pattern\":{\"shape\":\"\"}},\"name\":\"Intel Integrated UHD 620\",\"offsetgroup\":\"Intel Integrated UHD 620\",\"orientation\":\"v\",\"showlegend\":true,\"x\":[\"Intel Integrated UHD 620\"],\"xaxis\":\"x\",\"yaxis\":\"y\",\"type\":\"histogram\"},{\"alignmentgroup\":\"True\",\"bingroup\":\"x\",\"hovertemplate\":\"GPU=%{x}\\u003cbr\\u003ecount=%{y}\\u003cextra\\u003e\\u003c\\u002fextra\\u003e\",\"legendgroup\":\"Intel Iris Plus Graphics 655\",\"marker\":{\"color\":\"#EF553B\",\"pattern\":{\"shape\":\"\"}},\"name\":\"Intel Iris Plus Graphics 655\",\"offsetgroup\":\"Intel Iris Plus Graphics 655\",\"orientation\":\"v\",\"showlegend\":true,\"x\":[\"Intel Iris Plus Graphics 655\"],\"xaxis\":\"x\",\"yaxis\":\"y\",\"type\":\"histogram\"},{\"alignmentgroup\":\"True\",\"bingroup\":\"x\",\"hovertemplate\":\"GPU=%{x}\\u003cbr\\u003ecount=%{y}\\u003cextra\\u003e\\u003c\\u002fextra\\u003e\",\"legendgroup\":\"4GB Intel Arc A350M Graphics\",\"marker\":{\"color\":\"#00cc96\",\"pattern\":{\"shape\":\"\"}},\"name\":\"4GB Intel Arc A350M Graphics\",\"offsetgroup\":\"4GB Intel Arc A350M Graphics\",\"orientation\":\"v\",\"showlegend\":true,\"x\":[\"4GB Intel Arc A350M Graphics\"],\"xaxis\":\"x\",\"yaxis\":\"y\",\"type\":\"histogram\"},{\"alignmentgroup\":\"True\",\"bingroup\":\"x\",\"hovertemplate\":\"GPU=%{x}\\u003cbr\\u003ecount=%{y}\\u003cextra\\u003e\\u003c\\u002fextra\\u003e\",\"legendgroup\":\"Intel Iris Plus\",\"marker\":{\"color\":\"#ab63fa\",\"pattern\":{\"shape\":\"\"}},\"name\":\"Intel Iris Plus\",\"offsetgroup\":\"Intel Iris Plus\",\"orientation\":\"v\",\"showlegend\":true,\"x\":[\"Intel Iris Plus\",\"Intel Iris Plus\"],\"xaxis\":\"x\",\"yaxis\":\"y\",\"type\":\"histogram\"},{\"alignmentgroup\":\"True\",\"bingroup\":\"x\",\"hovertemplate\":\"GPU=%{x}\\u003cbr\\u003ecount=%{y}\\u003cextra\\u003e\\u003c\\u002fextra\\u003e\",\"legendgroup\":\"4GB Geforce MX130\",\"marker\":{\"color\":\"#FFA15A\",\"pattern\":{\"shape\":\"\"}},\"name\":\"4GB Geforce MX130\",\"offsetgroup\":\"4GB Geforce MX130\",\"orientation\":\"v\",\"showlegend\":true,\"x\":[\"4GB Geforce MX130\"],\"xaxis\":\"x\",\"yaxis\":\"y\",\"type\":\"histogram\"},{\"alignmentgroup\":\"True\",\"bingroup\":\"x\",\"hovertemplate\":\"GPU=%{x}\\u003cbr\\u003ecount=%{y}\\u003cextra\\u003e\\u003c\\u002fextra\\u003e\",\"legendgroup\":\"Intel UHD Graphics 630\",\"marker\":{\"color\":\"#19d3f3\",\"pattern\":{\"shape\":\"\"}},\"name\":\"Intel UHD Graphics 630\",\"offsetgroup\":\"Intel UHD Graphics 630\",\"orientation\":\"v\",\"showlegend\":true,\"x\":[\"Intel UHD Graphics 630\"],\"xaxis\":\"x\",\"yaxis\":\"y\",\"type\":\"histogram\"},{\"alignmentgroup\":\"True\",\"bingroup\":\"x\",\"hovertemplate\":\"GPU=%{x}\\u003cbr\\u003ecount=%{y}\\u003cextra\\u003e\\u003c\\u002fextra\\u003e\",\"legendgroup\":\"4GB NVIDIA Geforce GTX 1050Ti\",\"marker\":{\"color\":\"#FF6692\",\"pattern\":{\"shape\":\"\"}},\"name\":\"4GB NVIDIA Geforce GTX 1050Ti\",\"offsetgroup\":\"4GB NVIDIA Geforce GTX 1050Ti\",\"orientation\":\"v\",\"showlegend\":true,\"x\":[\"4GB NVIDIA Geforce GTX 1050Ti\"],\"xaxis\":\"x\",\"yaxis\":\"y\",\"type\":\"histogram\"},{\"alignmentgroup\":\"True\",\"bingroup\":\"x\",\"hovertemplate\":\"GPU=%{x}\\u003cbr\\u003ecount=%{y}\\u003cextra\\u003e\\u003c\\u002fextra\\u003e\",\"legendgroup\":\"Integrated AMD Radeon Graphics\",\"marker\":{\"color\":\"#B6E880\",\"pattern\":{\"shape\":\"\"}},\"name\":\"Integrated AMD Radeon Graphics\",\"offsetgroup\":\"Integrated AMD Radeon Graphics\",\"orientation\":\"v\",\"showlegend\":true,\"x\":[\"Integrated AMD Radeon Graphics\",\"Integrated AMD Radeon Graphics\"],\"xaxis\":\"x\",\"yaxis\":\"y\",\"type\":\"histogram\"},{\"alignmentgroup\":\"True\",\"bingroup\":\"x\",\"hovertemplate\":\"GPU=%{x}\\u003cbr\\u003ecount=%{y}\\u003cextra\\u003e\\u003c\\u002fextra\\u003e\",\"legendgroup\":\"6GB NVIDIA Geforce RTX 4050\",\"marker\":{\"color\":\"#FF97FF\",\"pattern\":{\"shape\":\"\"}},\"name\":\"6GB NVIDIA Geforce RTX 4050\",\"offsetgroup\":\"6GB NVIDIA Geforce RTX 4050\",\"orientation\":\"v\",\"showlegend\":true,\"x\":[\"6GB NVIDIA Geforce RTX 4050\",\"6GB NVIDIA Geforce RTX 4050\",\"6GB NVIDIA Geforce RTX 4050\",\"6GB NVIDIA Geforce RTX 4050\",\"6GB NVIDIA Geforce RTX 4050\",\"6GB NVIDIA Geforce RTX 4050\"],\"xaxis\":\"x\",\"yaxis\":\"y\",\"type\":\"histogram\"},{\"alignmentgroup\":\"True\",\"bingroup\":\"x\",\"hovertemplate\":\"GPU=%{x}\\u003cbr\\u003ecount=%{y}\\u003cextra\\u003e\\u003c\\u002fextra\\u003e\",\"legendgroup\":\"16GB NVIDIA GeForce RTX 4090 \",\"marker\":{\"color\":\"#FECB52\",\"pattern\":{\"shape\":\"\"}},\"name\":\"16GB NVIDIA GeForce RTX 4090 \",\"offsetgroup\":\"16GB NVIDIA GeForce RTX 4090 \",\"orientation\":\"v\",\"showlegend\":true,\"x\":[\"16GB NVIDIA GeForce RTX 4090 \"],\"xaxis\":\"x\",\"yaxis\":\"y\",\"type\":\"histogram\"},{\"alignmentgroup\":\"True\",\"bingroup\":\"x\",\"hovertemplate\":\"GPU=%{x}\\u003cbr\\u003ecount=%{y}\\u003cextra\\u003e\\u003c\\u002fextra\\u003e\",\"legendgroup\":\"AMD Radeon 780M Graphics\",\"marker\":{\"color\":\"#636efa\",\"pattern\":{\"shape\":\"\"}},\"name\":\"AMD Radeon 780M Graphics\",\"offsetgroup\":\"AMD Radeon 780M Graphics\",\"orientation\":\"v\",\"showlegend\":true,\"x\":[\"AMD Radeon 780M Graphics\"],\"xaxis\":\"x\",\"yaxis\":\"y\",\"type\":\"histogram\"},{\"alignmentgroup\":\"True\",\"bingroup\":\"x\",\"hovertemplate\":\"GPU=%{x}\\u003cbr\\u003ecount=%{y}\\u003cextra\\u003e\\u003c\\u002fextra\\u003e\",\"legendgroup\":\"12GB NVIDIA Geforce RTX 4080\",\"marker\":{\"color\":\"#EF553B\",\"pattern\":{\"shape\":\"\"}},\"name\":\"12GB NVIDIA Geforce RTX 4080\",\"offsetgroup\":\"12GB NVIDIA Geforce RTX 4080\",\"orientation\":\"v\",\"showlegend\":true,\"x\":[\"12GB NVIDIA Geforce RTX 4080\",\"12GB NVIDIA Geforce RTX 4080\"],\"xaxis\":\"x\",\"yaxis\":\"y\",\"type\":\"histogram\"},{\"alignmentgroup\":\"True\",\"bingroup\":\"x\",\"hovertemplate\":\"GPU=%{x}\\u003cbr\\u003ecount=%{y}\\u003cextra\\u003e\\u003c\\u002fextra\\u003e\",\"legendgroup\":\"8GB NVIDIA RTX 3000 Ada\",\"marker\":{\"color\":\"#00cc96\",\"pattern\":{\"shape\":\"\"}},\"name\":\"8GB NVIDIA RTX 3000 Ada\",\"offsetgroup\":\"8GB NVIDIA RTX 3000 Ada\",\"orientation\":\"v\",\"showlegend\":true,\"x\":[\"8GB NVIDIA RTX 3000 Ada\"],\"xaxis\":\"x\",\"yaxis\":\"y\",\"type\":\"histogram\"},{\"alignmentgroup\":\"True\",\"bingroup\":\"x\",\"hovertemplate\":\"GPU=%{x}\\u003cbr\\u003ecount=%{y}\\u003cextra\\u003e\\u003c\\u002fextra\\u003e\",\"legendgroup\":\"4GB AMD Radeon RX6550M\",\"marker\":{\"color\":\"#ab63fa\",\"pattern\":{\"shape\":\"\"}},\"name\":\"4GB AMD Radeon RX6550M\",\"offsetgroup\":\"4GB AMD Radeon RX6550M\",\"orientation\":\"v\",\"showlegend\":true,\"x\":[\"4GB AMD Radeon RX6550M\",\"4GB AMD Radeon RX6550M\"],\"xaxis\":\"x\",\"yaxis\":\"y\",\"type\":\"histogram\"},{\"alignmentgroup\":\"True\",\"bingroup\":\"x\",\"hovertemplate\":\"GPU=%{x}\\u003cbr\\u003ecount=%{y}\\u003cextra\\u003e\\u003c\\u002fextra\\u003e\",\"legendgroup\":\"4GB  NVIDIA GeForce RTX 2050\",\"marker\":{\"color\":\"#FFA15A\",\"pattern\":{\"shape\":\"\"}},\"name\":\"4GB  NVIDIA GeForce RTX 2050\",\"offsetgroup\":\"4GB  NVIDIA GeForce RTX 2050\",\"orientation\":\"v\",\"showlegend\":true,\"x\":[\"4GB  NVIDIA GeForce RTX 2050\"],\"xaxis\":\"x\",\"yaxis\":\"y\",\"type\":\"histogram\"},{\"alignmentgroup\":\"True\",\"bingroup\":\"x\",\"hovertemplate\":\"GPU=%{x}\\u003cbr\\u003ecount=%{y}\\u003cextra\\u003e\\u003c\\u002fextra\\u003e\",\"legendgroup\":\"Intel Integrated Graphics\",\"marker\":{\"color\":\"#19d3f3\",\"pattern\":{\"shape\":\"\"}},\"name\":\"Intel Integrated Graphics\",\"offsetgroup\":\"Intel Integrated Graphics\",\"orientation\":\"v\",\"showlegend\":true,\"x\":[\"Intel Integrated Graphics\"],\"xaxis\":\"x\",\"yaxis\":\"y\",\"type\":\"histogram\"},{\"alignmentgroup\":\"True\",\"bingroup\":\"x\",\"hovertemplate\":\"GPU=%{x}\\u003cbr\\u003ecount=%{y}\\u003cextra\\u003e\\u003c\\u002fextra\\u003e\",\"legendgroup\":\"Intel Integrated Graphics \",\"marker\":{\"color\":\"#FF6692\",\"pattern\":{\"shape\":\"\"}},\"name\":\"Intel Integrated Graphics \",\"offsetgroup\":\"Intel Integrated Graphics \",\"orientation\":\"v\",\"showlegend\":true,\"x\":[\"Intel Integrated Graphics \"],\"xaxis\":\"x\",\"yaxis\":\"y\",\"type\":\"histogram\"},{\"alignmentgroup\":\"True\",\"bingroup\":\"x\",\"hovertemplate\":\"GPU=%{x}\\u003cbr\\u003ecount=%{y}\\u003cextra\\u003e\\u003c\\u002fextra\\u003e\",\"legendgroup\":\"8GB NVIDIA GeForce RTX A2000 Ada\",\"marker\":{\"color\":\"#B6E880\",\"pattern\":{\"shape\":\"\"}},\"name\":\"8GB NVIDIA GeForce RTX A2000 Ada\",\"offsetgroup\":\"8GB NVIDIA GeForce RTX A2000 Ada\",\"orientation\":\"v\",\"showlegend\":true,\"x\":[\"8GB NVIDIA GeForce RTX A2000 Ada\"],\"xaxis\":\"x\",\"yaxis\":\"y\",\"type\":\"histogram\"},{\"alignmentgroup\":\"True\",\"bingroup\":\"x\",\"hovertemplate\":\"GPU=%{x}\\u003cbr\\u003ecount=%{y}\\u003cextra\\u003e\\u003c\\u002fextra\\u003e\",\"legendgroup\":\"Intel Integrated Iris\",\"marker\":{\"color\":\"#FF97FF\",\"pattern\":{\"shape\":\"\"}},\"name\":\"Intel Integrated Iris\",\"offsetgroup\":\"Intel Integrated Iris\",\"orientation\":\"v\",\"showlegend\":true,\"x\":[\"Intel Integrated Iris\",\"Intel Integrated Iris\"],\"xaxis\":\"x\",\"yaxis\":\"y\",\"type\":\"histogram\"},{\"alignmentgroup\":\"True\",\"bingroup\":\"x\",\"hovertemplate\":\"GPU=%{x}\\u003cbr\\u003ecount=%{y}\\u003cextra\\u003e\\u003c\\u002fextra\\u003e\",\"legendgroup\":\"Intel Integrated UHD 600\",\"marker\":{\"color\":\"#FECB52\",\"pattern\":{\"shape\":\"\"}},\"name\":\"Intel Integrated UHD 600\",\"offsetgroup\":\"Intel Integrated UHD 600\",\"orientation\":\"v\",\"showlegend\":true,\"x\":[\"Intel Integrated UHD 600\"],\"xaxis\":\"x\",\"yaxis\":\"y\",\"type\":\"histogram\"},{\"alignmentgroup\":\"True\",\"bingroup\":\"x\",\"hovertemplate\":\"GPU=%{x}\\u003cbr\\u003ecount=%{y}\\u003cextra\\u003e\\u003c\\u002fextra\\u003e\",\"legendgroup\":\"Intel Integrated Integrated Intel® UHD Graphics\",\"marker\":{\"color\":\"#636efa\",\"pattern\":{\"shape\":\"\"}},\"name\":\"Intel Integrated Integrated Intel® UHD Graphics\",\"offsetgroup\":\"Intel Integrated Integrated Intel® UHD Graphics\",\"orientation\":\"v\",\"showlegend\":true,\"x\":[\"Intel Integrated Integrated Intel® UHD Graphics\"],\"xaxis\":\"x\",\"yaxis\":\"y\",\"type\":\"histogram\"},{\"alignmentgroup\":\"True\",\"bingroup\":\"x\",\"hovertemplate\":\"GPU=%{x}\\u003cbr\\u003ecount=%{y}\\u003cextra\\u003e\\u003c\\u002fextra\\u003e\",\"legendgroup\":\"NVIDIA Geforce RTX\",\"marker\":{\"color\":\"#EF553B\",\"pattern\":{\"shape\":\"\"}},\"name\":\"NVIDIA Geforce RTX\",\"offsetgroup\":\"NVIDIA Geforce RTX\",\"orientation\":\"v\",\"showlegend\":true,\"x\":[\"NVIDIA Geforce RTX\"],\"xaxis\":\"x\",\"yaxis\":\"y\",\"type\":\"histogram\"},{\"alignmentgroup\":\"True\",\"bingroup\":\"x\",\"hovertemplate\":\"GPU=%{x}\\u003cbr\\u003ecount=%{y}\\u003cextra\\u003e\\u003c\\u002fextra\\u003e\",\"legendgroup\":\"AMD Integrated SoC\",\"marker\":{\"color\":\"#00cc96\",\"pattern\":{\"shape\":\"\"}},\"name\":\"AMD Integrated SoC\",\"offsetgroup\":\"AMD Integrated SoC\",\"orientation\":\"v\",\"showlegend\":true,\"x\":[\"AMD Integrated SoC\",\"AMD Integrated SoC\"],\"xaxis\":\"x\",\"yaxis\":\"y\",\"type\":\"histogram\"},{\"alignmentgroup\":\"True\",\"bingroup\":\"x\",\"hovertemplate\":\"GPU=%{x}\\u003cbr\\u003ecount=%{y}\\u003cextra\\u003e\\u003c\\u002fextra\\u003e\",\"legendgroup\":\"4GB NVIDIA GeForce RTX 3050 GPU\",\"marker\":{\"color\":\"#ab63fa\",\"pattern\":{\"shape\":\"\"}},\"name\":\"4GB NVIDIA GeForce RTX 3050 GPU\",\"offsetgroup\":\"4GB NVIDIA GeForce RTX 3050 GPU\",\"orientation\":\"v\",\"showlegend\":true,\"x\":[\"4GB NVIDIA GeForce RTX 3050 GPU\"],\"xaxis\":\"x\",\"yaxis\":\"y\",\"type\":\"histogram\"},{\"alignmentgroup\":\"True\",\"bingroup\":\"x\",\"hovertemplate\":\"GPU=%{x}\\u003cbr\\u003ecount=%{y}\\u003cextra\\u003e\\u003c\\u002fextra\\u003e\",\"legendgroup\":\"2GB NVIDIA GeForce MX450\",\"marker\":{\"color\":\"#FFA15A\",\"pattern\":{\"shape\":\"\"}},\"name\":\"2GB NVIDIA GeForce MX450\",\"offsetgroup\":\"2GB NVIDIA GeForce MX450\",\"orientation\":\"v\",\"showlegend\":true,\"x\":[\"2GB NVIDIA GeForce MX450\",\"2GB NVIDIA GeForce MX450\",\"2GB NVIDIA GeForce MX450\",\"2GB NVIDIA GeForce MX450\"],\"xaxis\":\"x\",\"yaxis\":\"y\",\"type\":\"histogram\"},{\"alignmentgroup\":\"True\",\"bingroup\":\"x\",\"hovertemplate\":\"GPU=%{x}\\u003cbr\\u003ecount=%{y}\\u003cextra\\u003e\\u003c\\u002fextra\\u003e\",\"legendgroup\":\"6GB NVIDIA RTX 4050\",\"marker\":{\"color\":\"#19d3f3\",\"pattern\":{\"shape\":\"\"}},\"name\":\"6GB NVIDIA RTX 4050\",\"offsetgroup\":\"6GB NVIDIA RTX 4050\",\"orientation\":\"v\",\"showlegend\":true,\"x\":[\"6GB NVIDIA RTX 4050\",\"6GB NVIDIA RTX 4050\"],\"xaxis\":\"x\",\"yaxis\":\"y\",\"type\":\"histogram\"},{\"alignmentgroup\":\"True\",\"bingroup\":\"x\",\"hovertemplate\":\"GPU=%{x}\\u003cbr\\u003ecount=%{y}\\u003cextra\\u003e\\u003c\\u002fextra\\u003e\",\"legendgroup\":\"8GB NVIDIA GEFORCE RTX 4060\",\"marker\":{\"color\":\"#FF6692\",\"pattern\":{\"shape\":\"\"}},\"name\":\"8GB NVIDIA GEFORCE RTX 4060\",\"offsetgroup\":\"8GB NVIDIA GEFORCE RTX 4060\",\"orientation\":\"v\",\"showlegend\":true,\"x\":[\"8GB NVIDIA GEFORCE RTX 4060\"],\"xaxis\":\"x\",\"yaxis\":\"y\",\"type\":\"histogram\"},{\"alignmentgroup\":\"True\",\"bingroup\":\"x\",\"hovertemplate\":\"GPU=%{x}\\u003cbr\\u003ecount=%{y}\\u003cextra\\u003e\\u003c\\u002fextra\\u003e\",\"legendgroup\":\"4GB NVIDIA RTX A500 \",\"marker\":{\"color\":\"#B6E880\",\"pattern\":{\"shape\":\"\"}},\"name\":\"4GB NVIDIA RTX A500 \",\"offsetgroup\":\"4GB NVIDIA RTX A500 \",\"orientation\":\"v\",\"showlegend\":true,\"x\":[\"4GB NVIDIA RTX A500 \"],\"xaxis\":\"x\",\"yaxis\":\"y\",\"type\":\"histogram\"},{\"alignmentgroup\":\"True\",\"bingroup\":\"x\",\"hovertemplate\":\"GPU=%{x}\\u003cbr\\u003ecount=%{y}\\u003cextra\\u003e\\u003c\\u002fextra\\u003e\",\"legendgroup\":\"12GB NVIDIA GeForce RTX 3080 Ti\",\"marker\":{\"color\":\"#FF97FF\",\"pattern\":{\"shape\":\"\"}},\"name\":\"12GB NVIDIA GeForce RTX 3080 Ti\",\"offsetgroup\":\"12GB NVIDIA GeForce RTX 3080 Ti\",\"orientation\":\"v\",\"showlegend\":true,\"x\":[\"12GB NVIDIA GeForce RTX 3080 Ti\"],\"xaxis\":\"x\",\"yaxis\":\"y\",\"type\":\"histogram\"},{\"alignmentgroup\":\"True\",\"bingroup\":\"x\",\"hovertemplate\":\"GPU=%{x}\\u003cbr\\u003ecount=%{y}\\u003cextra\\u003e\\u003c\\u002fextra\\u003e\",\"legendgroup\":\"6GB NVIDIA GeForce RTX 3050 \",\"marker\":{\"color\":\"#FECB52\",\"pattern\":{\"shape\":\"\"}},\"name\":\"6GB NVIDIA GeForce RTX 3050 \",\"offsetgroup\":\"6GB NVIDIA GeForce RTX 3050 \",\"orientation\":\"v\",\"showlegend\":true,\"x\":[\"6GB NVIDIA GeForce RTX 3050 \"],\"xaxis\":\"x\",\"yaxis\":\"y\",\"type\":\"histogram\"},{\"alignmentgroup\":\"True\",\"bingroup\":\"x\",\"hovertemplate\":\"GPU=%{x}\\u003cbr\\u003ecount=%{y}\\u003cextra\\u003e\\u003c\\u002fextra\\u003e\",\"legendgroup\":\"AMD Radeon 7 Graphics\",\"marker\":{\"color\":\"#636efa\",\"pattern\":{\"shape\":\"\"}},\"name\":\"AMD Radeon 7 Graphics\",\"offsetgroup\":\"AMD Radeon 7 Graphics\",\"orientation\":\"v\",\"showlegend\":true,\"x\":[\"AMD Radeon 7 Graphics\",\"AMD Radeon 7 Graphics\"],\"xaxis\":\"x\",\"yaxis\":\"y\",\"type\":\"histogram\"},{\"alignmentgroup\":\"True\",\"bingroup\":\"x\",\"hovertemplate\":\"GPU=%{x}\\u003cbr\\u003ecount=%{y}\\u003cextra\\u003e\\u003c\\u002fextra\\u003e\",\"legendgroup\":\"Iris Xe Graphics\",\"marker\":{\"color\":\"#EF553B\",\"pattern\":{\"shape\":\"\"}},\"name\":\"Iris Xe Graphics\",\"offsetgroup\":\"Iris Xe Graphics\",\"orientation\":\"v\",\"showlegend\":true,\"x\":[\"Iris Xe Graphics\"],\"xaxis\":\"x\",\"yaxis\":\"y\",\"type\":\"histogram\"},{\"alignmentgroup\":\"True\",\"bingroup\":\"x\",\"hovertemplate\":\"GPU=%{x}\\u003cbr\\u003ecount=%{y}\\u003cextra\\u003e\\u003c\\u002fextra\\u003e\",\"legendgroup\":\"AMD Radeon 680M\",\"marker\":{\"color\":\"#00cc96\",\"pattern\":{\"shape\":\"\"}},\"name\":\"AMD Radeon 680M\",\"offsetgroup\":\"AMD Radeon 680M\",\"orientation\":\"v\",\"showlegend\":true,\"x\":[\"AMD Radeon 680M\"],\"xaxis\":\"x\",\"yaxis\":\"y\",\"type\":\"histogram\"},{\"alignmentgroup\":\"True\",\"bingroup\":\"x\",\"hovertemplate\":\"GPU=%{x}\\u003cbr\\u003ecount=%{y}\\u003cextra\\u003e\\u003c\\u002fextra\\u003e\",\"legendgroup\":\"4GB NVIDIA Quadro T600\",\"marker\":{\"color\":\"#ab63fa\",\"pattern\":{\"shape\":\"\"}},\"name\":\"4GB NVIDIA Quadro T600\",\"offsetgroup\":\"4GB NVIDIA Quadro T600\",\"orientation\":\"v\",\"showlegend\":true,\"x\":[\"4GB NVIDIA Quadro T600\"],\"xaxis\":\"x\",\"yaxis\":\"y\",\"type\":\"histogram\"},{\"alignmentgroup\":\"True\",\"bingroup\":\"x\",\"hovertemplate\":\"GPU=%{x}\\u003cbr\\u003ecount=%{y}\\u003cextra\\u003e\\u003c\\u002fextra\\u003e\",\"legendgroup\":\"Intel UHD\",\"marker\":{\"color\":\"#FFA15A\",\"pattern\":{\"shape\":\"\"}},\"name\":\"Intel UHD\",\"offsetgroup\":\"Intel UHD\",\"orientation\":\"v\",\"showlegend\":true,\"x\":[\"Intel UHD\",\"Intel UHD\",\"Intel UHD\"],\"xaxis\":\"x\",\"yaxis\":\"y\",\"type\":\"histogram\"},{\"alignmentgroup\":\"True\",\"bingroup\":\"x\",\"hovertemplate\":\"GPU=%{x}\\u003cbr\\u003ecount=%{y}\\u003cextra\\u003e\\u003c\\u002fextra\\u003e\",\"legendgroup\":\"8GB Nvidia GeForce RTX 4060\",\"marker\":{\"color\":\"#19d3f3\",\"pattern\":{\"shape\":\"\"}},\"name\":\"8GB Nvidia GeForce RTX 4060\",\"offsetgroup\":\"8GB Nvidia GeForce RTX 4060\",\"orientation\":\"v\",\"showlegend\":true,\"x\":[\"8GB Nvidia GeForce RTX 4060\",\"8GB Nvidia GeForce RTX 4060\"],\"xaxis\":\"x\",\"yaxis\":\"y\",\"type\":\"histogram\"},{\"alignmentgroup\":\"True\",\"bingroup\":\"x\",\"hovertemplate\":\"GPU=%{x}\\u003cbr\\u003ecount=%{y}\\u003cextra\\u003e\\u003c\\u002fextra\\u003e\",\"legendgroup\":\"6GB Nvidia GeForce RTX 4050\",\"marker\":{\"color\":\"#FF6692\",\"pattern\":{\"shape\":\"\"}},\"name\":\"6GB Nvidia GeForce RTX 4050\",\"offsetgroup\":\"6GB Nvidia GeForce RTX 4050\",\"orientation\":\"v\",\"showlegend\":true,\"x\":[\"6GB Nvidia GeForce RTX 4050\",\"6GB Nvidia GeForce RTX 4050\",\"6GB Nvidia GeForce RTX 4050\"],\"xaxis\":\"x\",\"yaxis\":\"y\",\"type\":\"histogram\"},{\"alignmentgroup\":\"True\",\"bingroup\":\"x\",\"hovertemplate\":\"GPU=%{x}\\u003cbr\\u003ecount=%{y}\\u003cextra\\u003e\\u003c\\u002fextra\\u003e\",\"legendgroup\":\"2GB NVIDIA GeForce MX570\",\"marker\":{\"color\":\"#B6E880\",\"pattern\":{\"shape\":\"\"}},\"name\":\"2GB NVIDIA GeForce MX570\",\"offsetgroup\":\"2GB NVIDIA GeForce MX570\",\"orientation\":\"v\",\"showlegend\":true,\"x\":[\"2GB NVIDIA GeForce MX570\"],\"xaxis\":\"x\",\"yaxis\":\"y\",\"type\":\"histogram\"},{\"alignmentgroup\":\"True\",\"bingroup\":\"x\",\"hovertemplate\":\"GPU=%{x}\\u003cbr\\u003ecount=%{y}\\u003cextra\\u003e\\u003c\\u002fextra\\u003e\",\"legendgroup\":\"8GB NVIDIA Geforce RTX 4060\",\"marker\":{\"color\":\"#FF97FF\",\"pattern\":{\"shape\":\"\"}},\"name\":\"8GB NVIDIA Geforce RTX 4060\",\"offsetgroup\":\"8GB NVIDIA Geforce RTX 4060\",\"orientation\":\"v\",\"showlegend\":true,\"x\":[\"8GB NVIDIA Geforce RTX 4060\",\"8GB NVIDIA Geforce RTX 4060\"],\"xaxis\":\"x\",\"yaxis\":\"y\",\"type\":\"histogram\"},{\"alignmentgroup\":\"True\",\"bingroup\":\"x\",\"hovertemplate\":\"GPU=%{x}\\u003cbr\\u003ecount=%{y}\\u003cextra\\u003e\\u003c\\u002fextra\\u003e\",\"legendgroup\":\"4GB Nvidia RTX 3050\",\"marker\":{\"color\":\"#FECB52\",\"pattern\":{\"shape\":\"\"}},\"name\":\"4GB Nvidia RTX 3050\",\"offsetgroup\":\"4GB Nvidia RTX 3050\",\"orientation\":\"v\",\"showlegend\":true,\"x\":[\"4GB Nvidia RTX 3050\",\"4GB Nvidia RTX 3050\"],\"xaxis\":\"x\",\"yaxis\":\"y\",\"type\":\"histogram\"},{\"alignmentgroup\":\"True\",\"bingroup\":\"x\",\"hovertemplate\":\"GPU=%{x}\\u003cbr\\u003ecount=%{y}\\u003cextra\\u003e\\u003c\\u002fextra\\u003e\",\"legendgroup\":\"4GB NVIDIA GeForce GTX 1650 \",\"marker\":{\"color\":\"#636efa\",\"pattern\":{\"shape\":\"\"}},\"name\":\"4GB NVIDIA GeForce GTX 1650 \",\"offsetgroup\":\"4GB NVIDIA GeForce GTX 1650 \",\"orientation\":\"v\",\"showlegend\":true,\"x\":[\"4GB NVIDIA GeForce GTX 1650 \"],\"xaxis\":\"x\",\"yaxis\":\"y\",\"type\":\"histogram\"},{\"alignmentgroup\":\"True\",\"bingroup\":\"x\",\"hovertemplate\":\"GPU=%{x}\\u003cbr\\u003ecount=%{y}\\u003cextra\\u003e\\u003c\\u002fextra\\u003e\",\"legendgroup\":\"6GB NVIDIA GEFORCE RTX 4050\",\"marker\":{\"color\":\"#EF553B\",\"pattern\":{\"shape\":\"\"}},\"name\":\"6GB NVIDIA GEFORCE RTX 4050\",\"offsetgroup\":\"6GB NVIDIA GEFORCE RTX 4050\",\"orientation\":\"v\",\"showlegend\":true,\"x\":[\"6GB NVIDIA GEFORCE RTX 4050\"],\"xaxis\":\"x\",\"yaxis\":\"y\",\"type\":\"histogram\"},{\"alignmentgroup\":\"True\",\"bingroup\":\"x\",\"hovertemplate\":\"GPU=%{x}\\u003cbr\\u003ecount=%{y}\\u003cextra\\u003e\\u003c\\u002fextra\\u003e\",\"legendgroup\":\"Intel UHD Integrated\",\"marker\":{\"color\":\"#00cc96\",\"pattern\":{\"shape\":\"\"}},\"name\":\"Intel UHD Integrated\",\"offsetgroup\":\"Intel UHD Integrated\",\"orientation\":\"v\",\"showlegend\":true,\"x\":[\"Intel UHD Integrated\"],\"xaxis\":\"x\",\"yaxis\":\"y\",\"type\":\"histogram\"},{\"alignmentgroup\":\"True\",\"bingroup\":\"x\",\"hovertemplate\":\"GPU=%{x}\\u003cbr\\u003ecount=%{y}\\u003cextra\\u003e\\u003c\\u002fextra\\u003e\",\"legendgroup\":\"4GB AMD Radeon RX 5600M \",\"marker\":{\"color\":\"#ab63fa\",\"pattern\":{\"shape\":\"\"}},\"name\":\"4GB AMD Radeon RX 5600M \",\"offsetgroup\":\"4GB AMD Radeon RX 5600M \",\"orientation\":\"v\",\"showlegend\":true,\"x\":[\"4GB AMD Radeon RX 5600M \"],\"xaxis\":\"x\",\"yaxis\":\"y\",\"type\":\"histogram\"}],                        {\"template\":{\"data\":{\"histogram2dcontour\":[{\"type\":\"histogram2dcontour\",\"colorbar\":{\"outlinewidth\":0,\"ticks\":\"\"},\"colorscale\":[[0.0,\"#0d0887\"],[0.1111111111111111,\"#46039f\"],[0.2222222222222222,\"#7201a8\"],[0.3333333333333333,\"#9c179e\"],[0.4444444444444444,\"#bd3786\"],[0.5555555555555556,\"#d8576b\"],[0.6666666666666666,\"#ed7953\"],[0.7777777777777778,\"#fb9f3a\"],[0.8888888888888888,\"#fdca26\"],[1.0,\"#f0f921\"]]}],\"choropleth\":[{\"type\":\"choropleth\",\"colorbar\":{\"outlinewidth\":0,\"ticks\":\"\"}}],\"histogram2d\":[{\"type\":\"histogram2d\",\"colorbar\":{\"outlinewidth\":0,\"ticks\":\"\"},\"colorscale\":[[0.0,\"#0d0887\"],[0.1111111111111111,\"#46039f\"],[0.2222222222222222,\"#7201a8\"],[0.3333333333333333,\"#9c179e\"],[0.4444444444444444,\"#bd3786\"],[0.5555555555555556,\"#d8576b\"],[0.6666666666666666,\"#ed7953\"],[0.7777777777777778,\"#fb9f3a\"],[0.8888888888888888,\"#fdca26\"],[1.0,\"#f0f921\"]]}],\"heatmap\":[{\"type\":\"heatmap\",\"colorbar\":{\"outlinewidth\":0,\"ticks\":\"\"},\"colorscale\":[[0.0,\"#0d0887\"],[0.1111111111111111,\"#46039f\"],[0.2222222222222222,\"#7201a8\"],[0.3333333333333333,\"#9c179e\"],[0.4444444444444444,\"#bd3786\"],[0.5555555555555556,\"#d8576b\"],[0.6666666666666666,\"#ed7953\"],[0.7777777777777778,\"#fb9f3a\"],[0.8888888888888888,\"#fdca26\"],[1.0,\"#f0f921\"]]}],\"heatmapgl\":[{\"type\":\"heatmapgl\",\"colorbar\":{\"outlinewidth\":0,\"ticks\":\"\"},\"colorscale\":[[0.0,\"#0d0887\"],[0.1111111111111111,\"#46039f\"],[0.2222222222222222,\"#7201a8\"],[0.3333333333333333,\"#9c179e\"],[0.4444444444444444,\"#bd3786\"],[0.5555555555555556,\"#d8576b\"],[0.6666666666666666,\"#ed7953\"],[0.7777777777777778,\"#fb9f3a\"],[0.8888888888888888,\"#fdca26\"],[1.0,\"#f0f921\"]]}],\"contourcarpet\":[{\"type\":\"contourcarpet\",\"colorbar\":{\"outlinewidth\":0,\"ticks\":\"\"}}],\"contour\":[{\"type\":\"contour\",\"colorbar\":{\"outlinewidth\":0,\"ticks\":\"\"},\"colorscale\":[[0.0,\"#0d0887\"],[0.1111111111111111,\"#46039f\"],[0.2222222222222222,\"#7201a8\"],[0.3333333333333333,\"#9c179e\"],[0.4444444444444444,\"#bd3786\"],[0.5555555555555556,\"#d8576b\"],[0.6666666666666666,\"#ed7953\"],[0.7777777777777778,\"#fb9f3a\"],[0.8888888888888888,\"#fdca26\"],[1.0,\"#f0f921\"]]}],\"surface\":[{\"type\":\"surface\",\"colorbar\":{\"outlinewidth\":0,\"ticks\":\"\"},\"colorscale\":[[0.0,\"#0d0887\"],[0.1111111111111111,\"#46039f\"],[0.2222222222222222,\"#7201a8\"],[0.3333333333333333,\"#9c179e\"],[0.4444444444444444,\"#bd3786\"],[0.5555555555555556,\"#d8576b\"],[0.6666666666666666,\"#ed7953\"],[0.7777777777777778,\"#fb9f3a\"],[0.8888888888888888,\"#fdca26\"],[1.0,\"#f0f921\"]]}],\"mesh3d\":[{\"type\":\"mesh3d\",\"colorbar\":{\"outlinewidth\":0,\"ticks\":\"\"}}],\"scatter\":[{\"fillpattern\":{\"fillmode\":\"overlay\",\"size\":10,\"solidity\":0.2},\"type\":\"scatter\"}],\"parcoords\":[{\"type\":\"parcoords\",\"line\":{\"colorbar\":{\"outlinewidth\":0,\"ticks\":\"\"}}}],\"scatterpolargl\":[{\"type\":\"scatterpolargl\",\"marker\":{\"colorbar\":{\"outlinewidth\":0,\"ticks\":\"\"}}}],\"bar\":[{\"error_x\":{\"color\":\"#2a3f5f\"},\"error_y\":{\"color\":\"#2a3f5f\"},\"marker\":{\"line\":{\"color\":\"#E5ECF6\",\"width\":0.5},\"pattern\":{\"fillmode\":\"overlay\",\"size\":10,\"solidity\":0.2}},\"type\":\"bar\"}],\"scattergeo\":[{\"type\":\"scattergeo\",\"marker\":{\"colorbar\":{\"outlinewidth\":0,\"ticks\":\"\"}}}],\"scatterpolar\":[{\"type\":\"scatterpolar\",\"marker\":{\"colorbar\":{\"outlinewidth\":0,\"ticks\":\"\"}}}],\"histogram\":[{\"marker\":{\"pattern\":{\"fillmode\":\"overlay\",\"size\":10,\"solidity\":0.2}},\"type\":\"histogram\"}],\"scattergl\":[{\"type\":\"scattergl\",\"marker\":{\"colorbar\":{\"outlinewidth\":0,\"ticks\":\"\"}}}],\"scatter3d\":[{\"type\":\"scatter3d\",\"line\":{\"colorbar\":{\"outlinewidth\":0,\"ticks\":\"\"}},\"marker\":{\"colorbar\":{\"outlinewidth\":0,\"ticks\":\"\"}}}],\"scattermapbox\":[{\"type\":\"scattermapbox\",\"marker\":{\"colorbar\":{\"outlinewidth\":0,\"ticks\":\"\"}}}],\"scatterternary\":[{\"type\":\"scatterternary\",\"marker\":{\"colorbar\":{\"outlinewidth\":0,\"ticks\":\"\"}}}],\"scattercarpet\":[{\"type\":\"scattercarpet\",\"marker\":{\"colorbar\":{\"outlinewidth\":0,\"ticks\":\"\"}}}],\"carpet\":[{\"aaxis\":{\"endlinecolor\":\"#2a3f5f\",\"gridcolor\":\"white\",\"linecolor\":\"white\",\"minorgridcolor\":\"white\",\"startlinecolor\":\"#2a3f5f\"},\"baxis\":{\"endlinecolor\":\"#2a3f5f\",\"gridcolor\":\"white\",\"linecolor\":\"white\",\"minorgridcolor\":\"white\",\"startlinecolor\":\"#2a3f5f\"},\"type\":\"carpet\"}],\"table\":[{\"cells\":{\"fill\":{\"color\":\"#EBF0F8\"},\"line\":{\"color\":\"white\"}},\"header\":{\"fill\":{\"color\":\"#C8D4E3\"},\"line\":{\"color\":\"white\"}},\"type\":\"table\"}],\"barpolar\":[{\"marker\":{\"line\":{\"color\":\"#E5ECF6\",\"width\":0.5},\"pattern\":{\"fillmode\":\"overlay\",\"size\":10,\"solidity\":0.2}},\"type\":\"barpolar\"}],\"pie\":[{\"automargin\":true,\"type\":\"pie\"}]},\"layout\":{\"autotypenumbers\":\"strict\",\"colorway\":[\"#636efa\",\"#EF553B\",\"#00cc96\",\"#ab63fa\",\"#FFA15A\",\"#19d3f3\",\"#FF6692\",\"#B6E880\",\"#FF97FF\",\"#FECB52\"],\"font\":{\"color\":\"#2a3f5f\"},\"hovermode\":\"closest\",\"hoverlabel\":{\"align\":\"left\"},\"paper_bgcolor\":\"white\",\"plot_bgcolor\":\"#E5ECF6\",\"polar\":{\"bgcolor\":\"#E5ECF6\",\"angularaxis\":{\"gridcolor\":\"white\",\"linecolor\":\"white\",\"ticks\":\"\"},\"radialaxis\":{\"gridcolor\":\"white\",\"linecolor\":\"white\",\"ticks\":\"\"}},\"ternary\":{\"bgcolor\":\"#E5ECF6\",\"aaxis\":{\"gridcolor\":\"white\",\"linecolor\":\"white\",\"ticks\":\"\"},\"baxis\":{\"gridcolor\":\"white\",\"linecolor\":\"white\",\"ticks\":\"\"},\"caxis\":{\"gridcolor\":\"white\",\"linecolor\":\"white\",\"ticks\":\"\"}},\"coloraxis\":{\"colorbar\":{\"outlinewidth\":0,\"ticks\":\"\"}},\"colorscale\":{\"sequential\":[[0.0,\"#0d0887\"],[0.1111111111111111,\"#46039f\"],[0.2222222222222222,\"#7201a8\"],[0.3333333333333333,\"#9c179e\"],[0.4444444444444444,\"#bd3786\"],[0.5555555555555556,\"#d8576b\"],[0.6666666666666666,\"#ed7953\"],[0.7777777777777778,\"#fb9f3a\"],[0.8888888888888888,\"#fdca26\"],[1.0,\"#f0f921\"]],\"sequentialminus\":[[0.0,\"#0d0887\"],[0.1111111111111111,\"#46039f\"],[0.2222222222222222,\"#7201a8\"],[0.3333333333333333,\"#9c179e\"],[0.4444444444444444,\"#bd3786\"],[0.5555555555555556,\"#d8576b\"],[0.6666666666666666,\"#ed7953\"],[0.7777777777777778,\"#fb9f3a\"],[0.8888888888888888,\"#fdca26\"],[1.0,\"#f0f921\"]],\"diverging\":[[0,\"#8e0152\"],[0.1,\"#c51b7d\"],[0.2,\"#de77ae\"],[0.3,\"#f1b6da\"],[0.4,\"#fde0ef\"],[0.5,\"#f7f7f7\"],[0.6,\"#e6f5d0\"],[0.7,\"#b8e186\"],[0.8,\"#7fbc41\"],[0.9,\"#4d9221\"],[1,\"#276419\"]]},\"xaxis\":{\"gridcolor\":\"white\",\"linecolor\":\"white\",\"ticks\":\"\",\"title\":{\"standoff\":15},\"zerolinecolor\":\"white\",\"automargin\":true,\"zerolinewidth\":2},\"yaxis\":{\"gridcolor\":\"white\",\"linecolor\":\"white\",\"ticks\":\"\",\"title\":{\"standoff\":15},\"zerolinecolor\":\"white\",\"automargin\":true,\"zerolinewidth\":2},\"scene\":{\"xaxis\":{\"backgroundcolor\":\"#E5ECF6\",\"gridcolor\":\"white\",\"linecolor\":\"white\",\"showbackground\":true,\"ticks\":\"\",\"zerolinecolor\":\"white\",\"gridwidth\":2},\"yaxis\":{\"backgroundcolor\":\"#E5ECF6\",\"gridcolor\":\"white\",\"linecolor\":\"white\",\"showbackground\":true,\"ticks\":\"\",\"zerolinecolor\":\"white\",\"gridwidth\":2},\"zaxis\":{\"backgroundcolor\":\"#E5ECF6\",\"gridcolor\":\"white\",\"linecolor\":\"white\",\"showbackground\":true,\"ticks\":\"\",\"zerolinecolor\":\"white\",\"gridwidth\":2}},\"shapedefaults\":{\"line\":{\"color\":\"#2a3f5f\"}},\"annotationdefaults\":{\"arrowcolor\":\"#2a3f5f\",\"arrowhead\":0,\"arrowwidth\":1},\"geo\":{\"bgcolor\":\"white\",\"landcolor\":\"#E5ECF6\",\"subunitcolor\":\"white\",\"showland\":true,\"showlakes\":true,\"lakecolor\":\"white\"},\"title\":{\"x\":0.05},\"mapbox\":{\"style\":\"light\"}}},\"xaxis\":{\"anchor\":\"y\",\"domain\":[0.0,1.0],\"title\":{\"text\":\"GPU\"},\"categoryorder\":\"array\",\"categoryarray\":[\"4GB AMD Radeon RX 6500M\",\"Intel UHD Graphics\",\"Intel Iris Xe Graphics\",\"Intel Integrated Iris Xe\",\"Apple M1 Integrated Graphics\",\"6GB NVIDIA GeForce RTX 4050\",\"Intel Iris Xe\",\"Intel Integrated UHD\",\"Intel Integrated UHD Graphics\",\"4GB NVIDIA GeForce RTX 3050\",\"ARM Mali G72\",\"AMD Radeon Graphics\",\"4GB NVIDIA GeForce RTX 2050\",\"4GB NVIDIA GeForce GTX 1650\",\"AMD Radeon Vega 7\",\"8-Core GPU\",\"AMD Radeon AMD\",\"AMD Integrated\",\"8GB NVIDIA GeForce RTX 4070\",\"4GB AMD Radeon RX 6500M Graphics\",\"AMD Graphics\",\"8GB NVIDIA GeForce RTX 3070 Ti\",\"Intel Integrated Integrated\",\"Intel Graphics\",\"6GB NVIDIA GeForce RTX 3050\",\"Intel UHD Graphics \",\"16GB NVIDIA GeForce RTX 4090\",\"AMD Radeon Radeon Graphics\",\"8GB NVIDIA GeForce RTX 4060\",\"Intel Integrated Intel UHD Graphics\",\"4GB NVIDIA GeForce RTX 3050 Ti\",\"Intel Integrated Intel UHD\",\"4GB NVIDIA GeForce GTX 3050\",\"AMD Radeon Vega 7 Graphics\",\"4GB NVIDIA \",\"Intel Integrated\",\"Intel Iris XE Graphics \",\"GB NVIDIA GeForce RTX 2050\",\"8GB NVIDIA GeForce RTX 3070 Ti \",\"10-Core GPU\",\"4GB NVIDIA GeForce RTX 3050 Graphics\",\"8GB AMD Radeon RX 6650M\",\"Intel HD Graphics\",\"Intel UHD Graphics 600\",\"Integrated Intel Iris Xe Graphics\",\"AMD Radeon Radeon\",\"Intel Integrated Intel Iris Xe Graphics\",\"AMD Radeon Graphiics\",\"NVIDIA GeForce RTX 4070\",\"AMD Radeon 610M Graphics\",\"4GB NVIDIA GTX 1650\",\"AMD Radeon\",\"4GB NVIDIA Geforce RTX 3050\",\"Intel Graphics \",\"Intel Iris XE Graphics\",\"Intel HD\",\"AMD Radeon Vega 8\",\"4GB Radeon Pro 5500M\",\"AMD Radeon 610M\",\"4GB NVIDIA GeForce RTX RTX 3050\",\"AMD Radeon \",\"4GB AMD Radeon AMD Radeon RX 6500M\",\"4GB NVIDIA GeForce GTX 2050\",\"Integrated Intel UHD Graphics\",\"4GB NVIDIA GeForce RTX2050\",\"Intel Iris X Graphics\",\"4GB NVIDIA GeForce RTX 2050 \",\"4GB NVIDIA GeForce RTX 3050 \",\"AMD Radeon Vega 8 Graphics\",\"4GB Nvidia GeForce RTX 2050\",\"Integrated Intel iris Xe Graphics\",\"4GB AMD Radeon RX6500M\",\"12GB NVIDIA GeForce RTX 4080\",\"Intel Iris Xe Graphic\",\"30-core GPU\",\"19-core GPU\",\" Intel Iris Xe Graphics\",\"6GB NVIDIA GeForce RTX 3060\",\"8GB NVIDIA GeForce RTX 3070Ti\",\"4GB NVIDIA GeForce RTX A1000\",\"16GB NVIDIA GeForce RTX 3080 Ti\",\"Intel Iris Xe Graphics \",\"4GB NVIDIA Geforce GTX1650 Max Q\",\"16-core GPU\",\"32-core GPU\",\"2GB NVIDIA GeForce MX350\",\"AMD Radeon Vega 6\",\"AMD Radeon Vega 9\",\"2GB NVIDIA GeForce MX250\",\"Integrated UHD Graphics 620\",\"Intel Integrated UHD 620\",\"Intel Iris Plus Graphics 655\",\"4GB Intel Arc A350M Graphics\",\"Intel Iris Plus\",\"4GB Geforce MX130\",\"Intel UHD Graphics 630\",\"4GB NVIDIA Geforce GTX 1050Ti\",\"Integrated AMD Radeon Graphics\",\"6GB NVIDIA Geforce RTX 4050\",\"16GB NVIDIA GeForce RTX 4090 \",\"AMD Radeon 780M Graphics\",\"12GB NVIDIA Geforce RTX 4080\",\"8GB NVIDIA RTX 3000 Ada\",\"4GB AMD Radeon RX6550M\",\"4GB  NVIDIA GeForce RTX 2050\",\"Intel Integrated Graphics\",\"Intel Integrated Graphics \",\"8GB NVIDIA GeForce RTX A2000 Ada\",\"Intel Integrated Iris\",\"Intel Integrated UHD 600\",\"Intel Integrated Integrated Intel® UHD Graphics\",\"NVIDIA Geforce RTX\",\"AMD Integrated SoC\",\"4GB NVIDIA GeForce RTX 3050 GPU\",\"2GB NVIDIA GeForce MX450\",\"6GB NVIDIA RTX 4050\",\"8GB NVIDIA GEFORCE RTX 4060\",\"4GB NVIDIA RTX A500 \",\"12GB NVIDIA GeForce RTX 3080 Ti\",\"6GB NVIDIA GeForce RTX 3050 \",\"AMD Radeon 7 Graphics\",\"Iris Xe Graphics\",\"AMD Radeon 680M\",\"4GB NVIDIA Quadro T600\",\"Intel UHD\",\"8GB Nvidia GeForce RTX 4060\",\"6GB Nvidia GeForce RTX 4050\",\"2GB NVIDIA GeForce MX570\",\"8GB NVIDIA Geforce RTX 4060\",\"4GB Nvidia RTX 3050\",\"4GB NVIDIA GeForce GTX 1650 \",\"6GB NVIDIA GEFORCE RTX 4050\",\"Intel UHD Integrated\",\"4GB AMD Radeon RX 5600M \"]},\"yaxis\":{\"anchor\":\"x\",\"domain\":[0.0,1.0],\"title\":{\"text\":\"count\"}},\"legend\":{\"title\":{\"text\":\"GPU\"},\"tracegroupgap\":0},\"title\":{\"text\":\"GPU Distribution\"},\"barmode\":\"relative\"},                        {\"responsive\": true}                    ).then(function(){\n",
              "                            \n",
              "var gd = document.getElementById('48bb6f12-ea6e-4e35-8854-f8ac7a388fca');\n",
              "var x = new MutationObserver(function (mutations, observer) {{\n",
              "        var display = window.getComputedStyle(gd).display;\n",
              "        if (!display || display === 'none') {{\n",
              "            console.log([gd, 'removed!']);\n",
              "            Plotly.purge(gd);\n",
              "            observer.disconnect();\n",
              "        }}\n",
              "}});\n",
              "\n",
              "// Listen for the removal of the full notebook cells\n",
              "var notebookContainer = gd.closest('#notebook-container');\n",
              "if (notebookContainer) {{\n",
              "    x.observe(notebookContainer, {childList: true});\n",
              "}}\n",
              "\n",
              "// Listen for the clearing of the current output cell\n",
              "var outputEl = gd.closest('.output');\n",
              "if (outputEl) {{\n",
              "    x.observe(outputEl, {childList: true});\n",
              "}}\n",
              "\n",
              "                        })                };                            </script>        </div>\n",
              "</body>\n",
              "</html>"
            ]
          },
          "metadata": {}
        }
      ],
      "source": [
        "plt = px.histogram(df, x='GPU', color='GPU', title=\"GPU Distribution\")\n",
        "plt.show()"
      ]
    },
    {
      "cell_type": "code",
      "execution_count": 106,
      "metadata": {
        "colab": {
          "base_uri": "https://localhost:8080/",
          "height": 0
        },
        "id": "z68i-Jm4CUaF",
        "outputId": "40d87aae-c249-44e1-edc8-75e6e5c78b3a"
      },
      "outputs": [
        {
          "output_type": "display_data",
          "data": {
            "text/html": [
              "<html>\n",
              "<head><meta charset=\"utf-8\" /></head>\n",
              "<body>\n",
              "    <div>            <script src=\"https://cdnjs.cloudflare.com/ajax/libs/mathjax/2.7.5/MathJax.js?config=TeX-AMS-MML_SVG\"></script><script type=\"text/javascript\">if (window.MathJax && window.MathJax.Hub && window.MathJax.Hub.Config) {window.MathJax.Hub.Config({SVG: {font: \"STIX-Web\"}});}</script>                <script type=\"text/javascript\">window.PlotlyConfig = {MathJaxConfig: 'local'};</script>\n",
              "        <script charset=\"utf-8\" src=\"https://cdn.plot.ly/plotly-2.35.2.min.js\"></script>                <div id=\"e1da1f19-5ff3-40cd-92df-cc685376c447\" class=\"plotly-graph-div\" style=\"height:525px; width:100%;\"></div>            <script type=\"text/javascript\">                                    window.PLOTLYENV=window.PLOTLYENV || {};                                    if (document.getElementById(\"e1da1f19-5ff3-40cd-92df-cc685376c447\")) {                    Plotly.newPlot(                        \"e1da1f19-5ff3-40cd-92df-cc685376c447\",                        [{\"alignmentgroup\":\"True\",\"bingroup\":\"x\",\"hovertemplate\":\"display_size=%{x}\\u003cbr\\u003ecount=%{y}\\u003cextra\\u003e\\u003c\\u002fextra\\u003e\",\"legendgroup\":\"15.6\",\"marker\":{\"color\":\"rgb(102, 197, 204)\",\"pattern\":{\"shape\":\"\"}},\"name\":\"15.6\",\"offsetgroup\":\"15.6\",\"orientation\":\"v\",\"showlegend\":true,\"x\":[15.6,15.6,15.6,15.6,15.6,15.6,15.6,15.6,15.6,15.6,15.6,15.6,15.6,15.6,15.6,15.6,15.6,15.6,15.6,15.6,15.6,15.6,15.6,15.6,15.6,15.6,15.6,15.6,15.6,15.6,15.6,15.6,15.6,15.6,15.6,15.6,15.6,15.6,15.6,15.6,15.6,15.6,15.6,15.6,15.6,15.6,15.6,15.6,15.6,15.6,15.6,15.6,15.6,15.6,15.6,15.6,15.6,15.6,15.6,15.6,15.6,15.6,15.6,15.6,15.6,15.6,15.6,15.6,15.6,15.6,15.6,15.6,15.6,15.6,15.6,15.6,15.6,15.6,15.6,15.6,15.6,15.6,15.6,15.6,15.6,15.6,15.6,15.6,15.6,15.6,15.6,15.6,15.6,15.6,15.6,15.6,15.6,15.6,15.6,15.6,15.6,15.6,15.6,15.6,15.6,15.6,15.6,15.6,15.6,15.6,15.6,15.6,15.6,15.6,15.6,15.6,15.6,15.6,15.6,15.6,15.6,15.6,15.6,15.6,15.6,15.6,15.6,15.6,15.6,15.6,15.6,15.6,15.6,15.6,15.6,15.6,15.6,15.6,15.6,15.6,15.6,15.6,15.6,15.6,15.6,15.6,15.6,15.6,15.6,15.6,15.6,15.6,15.6,15.6,15.6,15.6,15.6,15.6,15.6,15.6,15.6,15.6,15.6,15.6,15.6,15.6,15.6,15.6,15.6,15.6,15.6,15.6,15.6,15.6,15.6,15.6,15.6,15.6,15.6,15.6,15.6,15.6,15.6,15.6,15.6,15.6,15.6,15.6,15.6,15.6,15.6,15.6,15.6,15.6,15.6,15.6,15.6,15.6,15.6,15.6,15.6,15.6,15.6,15.6,15.6,15.6,15.6,15.6,15.6,15.6,15.6,15.6,15.6,15.6,15.6,15.6,15.6,15.6,15.6,15.6,15.6,15.6,15.6,15.6,15.6,15.6,15.6,15.6,15.6,15.6,15.6,15.6,15.6,15.6,15.6,15.6,15.6,15.6,15.6,15.6,15.6,15.6,15.6,15.6,15.6,15.6,15.6,15.6,15.6,15.6,15.6,15.6,15.6,15.6,15.6,15.6,15.6,15.6,15.6,15.6,15.6,15.6,15.6,15.6,15.6,15.6,15.6,15.6,15.6,15.6,15.6,15.6,15.6,15.6,15.6,15.6,15.6,15.6,15.6,15.6,15.6,15.6,15.6,15.6,15.6,15.6,15.6,15.6,15.6,15.6,15.6,15.6,15.6,15.6,15.6,15.6,15.6,15.6,15.6,15.6,15.6,15.6,15.6,15.6,15.6,15.6,15.6,15.6,15.6,15.6,15.6,15.6,15.6,15.6,15.6,15.6,15.6,15.6,15.6,15.6,15.6,15.6,15.6,15.6,15.6,15.6,15.6,15.6,15.6,15.6,15.6,15.6,15.6,15.6,15.6,15.6,15.6,15.6,15.6,15.6,15.6,15.6,15.6,15.6,15.6,15.6,15.6,15.6,15.6,15.6,15.6,15.6,15.6,15.6,15.6,15.6,15.6,15.6,15.6,15.6,15.6,15.6,15.6,15.6,15.6,15.6,15.6,15.6,15.6,15.6,15.6,15.6,15.6,15.6,15.6,15.6,15.6,15.6,15.6,15.6,15.6,15.6,15.6,15.6,15.6,15.6,15.6,15.6,15.6,15.6,15.6,15.6,15.6,15.6,15.6,15.6,15.6,15.6,15.6,15.6,15.6,15.6,15.6,15.6,15.6,15.6,15.6,15.6,15.6,15.6,15.6,15.6,15.6,15.6,15.6,15.6,15.6,15.6,15.6,15.6,15.6,15.6,15.6,15.6,15.6,15.6,15.6,15.6,15.6,15.6,15.6,15.6,15.6,15.6,15.6,15.6,15.6,15.6,15.6,15.6,15.6,15.6,15.6,15.6,15.6,15.6,15.6,15.6,15.6,15.6,15.6,15.6,15.6,15.6,15.6,15.6,15.6,15.6,15.6,15.6,15.6,15.6,15.6,15.6],\"xaxis\":\"x\",\"yaxis\":\"y\",\"type\":\"histogram\"},{\"alignmentgroup\":\"True\",\"bingroup\":\"x\",\"hovertemplate\":\"display_size=%{x}\\u003cbr\\u003ecount=%{y}\\u003cextra\\u003e\\u003c\\u002fextra\\u003e\",\"legendgroup\":\"14.0\",\"marker\":{\"color\":\"rgb(246, 207, 113)\",\"pattern\":{\"shape\":\"\"}},\"name\":\"14.0\",\"offsetgroup\":\"14.0\",\"orientation\":\"v\",\"showlegend\":true,\"x\":[14.0,14.0,14.0,14.0,14.0,14.0,14.0,14.0,14.0,14.0,14.0,14.0,14.0,14.0,14.0,14.0,14.0,14.0,14.0,14.0,14.0,14.0,14.0,14.0,14.0,14.0,14.0,14.0,14.0,14.0,14.0,14.0,14.0,14.0,14.0,14.0,14.0,14.0,14.0,14.0,14.0,14.0,14.0,14.0,14.0,14.0,14.0,14.0,14.0,14.0,14.0,14.0,14.0,14.0,14.0,14.0,14.0,14.0,14.0,14.0,14.0,14.0,14.0,14.0,14.0,14.0,14.0,14.0,14.0,14.0,14.0,14.0,14.0,14.0,14.0,14.0,14.0,14.0,14.0,14.0,14.0,14.0,14.0,14.0,14.0,14.0,14.0,14.0,14.0,14.0,14.0,14.0,14.0,14.0,14.0,14.0,14.0,14.0,14.0,14.0,14.0,14.0,14.0,14.0,14.0,14.0,14.0,14.0,14.0,14.0,14.0,14.0,14.0,14.0,14.0,14.0,14.0,14.0,14.0,14.0,14.0,14.0,14.0,14.0,14.0,14.0,14.0,14.0,14.0,14.0,14.0,14.0,14.0,14.0,14.0,14.0,14.0,14.0,14.0,14.0,14.0,14.0,14.0,14.0,14.0,14.0,14.0,14.0,14.0,14.0,14.0,14.0,14.0,14.0,14.0,14.0,14.0,14.0,14.0,14.0,14.0,14.0,14.0,14.0,14.0,14.0,14.0,14.0,14.0,14.0,14.0,14.0,14.0,14.0,14.0,14.0,14.0,14.0,14.0,14.0,14.0,14.0,14.0,14.0,14.0,14.0,14.0,14.0,14.0,14.0,14.0,14.0,14.0,14.0,14.0,14.0,14.0,14.0,14.0,14.0,14.0,14.0,14.0,14.0,14.0,14.0,14.0,14.0,14.0,14.0,14.0,14.0,14.0,14.0],\"xaxis\":\"x\",\"yaxis\":\"y\",\"type\":\"histogram\"},{\"alignmentgroup\":\"True\",\"bingroup\":\"x\",\"hovertemplate\":\"display_size=%{x}\\u003cbr\\u003ecount=%{y}\\u003cextra\\u003e\\u003c\\u002fextra\\u003e\",\"legendgroup\":\"13.3\",\"marker\":{\"color\":\"rgb(248, 156, 116)\",\"pattern\":{\"shape\":\"\"}},\"name\":\"13.3\",\"offsetgroup\":\"13.3\",\"orientation\":\"v\",\"showlegend\":true,\"x\":[13.3,13.3,13.3,13.3,13.3,13.3,13.3,13.3,13.3,13.3,13.3,13.3,13.3,13.3,13.3,13.3,13.3,13.3,13.3,13.3,13.3,13.3,13.3,13.3,13.3,13.3,13.3,13.3],\"xaxis\":\"x\",\"yaxis\":\"y\",\"type\":\"histogram\"},{\"alignmentgroup\":\"True\",\"bingroup\":\"x\",\"hovertemplate\":\"display_size=%{x}\\u003cbr\\u003ecount=%{y}\\u003cextra\\u003e\\u003c\\u002fextra\\u003e\",\"legendgroup\":\"14.1\",\"marker\":{\"color\":\"rgb(220, 176, 242)\",\"pattern\":{\"shape\":\"\"}},\"name\":\"14.1\",\"offsetgroup\":\"14.1\",\"orientation\":\"v\",\"showlegend\":true,\"x\":[14.1,14.1,14.1,14.1,14.1,14.1,14.1],\"xaxis\":\"x\",\"yaxis\":\"y\",\"type\":\"histogram\"},{\"alignmentgroup\":\"True\",\"bingroup\":\"x\",\"hovertemplate\":\"display_size=%{x}\\u003cbr\\u003ecount=%{y}\\u003cextra\\u003e\\u003c\\u002fextra\\u003e\",\"legendgroup\":\"11.6\",\"marker\":{\"color\":\"rgb(135, 197, 95)\",\"pattern\":{\"shape\":\"\"}},\"name\":\"11.6\",\"offsetgroup\":\"11.6\",\"orientation\":\"v\",\"showlegend\":true,\"x\":[11.6,11.6,11.6,11.6,11.6,11.6,11.6],\"xaxis\":\"x\",\"yaxis\":\"y\",\"type\":\"histogram\"},{\"alignmentgroup\":\"True\",\"bingroup\":\"x\",\"hovertemplate\":\"display_size=%{x}\\u003cbr\\u003ecount=%{y}\\u003cextra\\u003e\\u003c\\u002fextra\\u003e\",\"legendgroup\":\"16.0\",\"marker\":{\"color\":\"rgb(158, 185, 243)\",\"pattern\":{\"shape\":\"\"}},\"name\":\"16.0\",\"offsetgroup\":\"16.0\",\"orientation\":\"v\",\"showlegend\":true,\"x\":[16.0,16.0,16.0,16.0,16.0,16.0,16.0,16.0,16.0,16.0,16.0,16.0,16.0,16.0,16.0,16.0,16.0,16.0,16.0,16.0,16.0,16.0,16.0,16.0,16.0,16.0,16.0,16.0,16.0,16.0,16.0,16.0,16.0,16.0,16.0,16.0,16.0,16.0,16.0,16.0,16.0,16.0,16.0,16.0,16.0,16.0,16.0,16.0,16.0,16.0,16.0,16.0,16.0,16.0,16.0,16.0,16.0,16.0,16.0,16.0,16.0,16.0,16.0,16.0,16.0,16.0,16.0,16.0,16.0,16.0,16.0,16.0,16.0,16.0,16.0,16.0,16.0,16.0,16.0,16.0,16.0,16.0,16.0,16.0,16.0,16.0,16.0,16.0,16.0,16.0,16.0,16.0,16.0,16.0,16.0,16.0,16.0,16.0,16.0,16.0,16.0,16.0,16.0,16.0,16.0,16.0,16.0,16.0,16.0,16.0,16.0,16.0],\"xaxis\":\"x\",\"yaxis\":\"y\",\"type\":\"histogram\"},{\"alignmentgroup\":\"True\",\"bingroup\":\"x\",\"hovertemplate\":\"display_size=%{x}\\u003cbr\\u003ecount=%{y}\\u003cextra\\u003e\\u003c\\u002fextra\\u003e\",\"legendgroup\":\"13.6\",\"marker\":{\"color\":\"rgb(254, 136, 177)\",\"pattern\":{\"shape\":\"\"}},\"name\":\"13.6\",\"offsetgroup\":\"13.6\",\"orientation\":\"v\",\"showlegend\":true,\"x\":[13.6,13.6],\"xaxis\":\"x\",\"yaxis\":\"y\",\"type\":\"histogram\"},{\"alignmentgroup\":\"True\",\"bingroup\":\"x\",\"hovertemplate\":\"display_size=%{x}\\u003cbr\\u003ecount=%{y}\\u003cextra\\u003e\\u003c\\u002fextra\\u003e\",\"legendgroup\":\"16.1\",\"marker\":{\"color\":\"rgb(201, 219, 116)\",\"pattern\":{\"shape\":\"\"}},\"name\":\"16.1\",\"offsetgroup\":\"16.1\",\"orientation\":\"v\",\"showlegend\":true,\"x\":[16.1,16.1,16.1,16.1,16.1,16.1,16.1,16.1,16.1,16.1,16.1,16.1,16.1,16.1,16.1,16.1,16.1,16.1,16.1,16.1,16.1],\"xaxis\":\"x\",\"yaxis\":\"y\",\"type\":\"histogram\"},{\"alignmentgroup\":\"True\",\"bingroup\":\"x\",\"hovertemplate\":\"display_size=%{x}\\u003cbr\\u003ecount=%{y}\\u003cextra\\u003e\\u003c\\u002fextra\\u003e\",\"legendgroup\":\"17.3\",\"marker\":{\"color\":\"rgb(139, 224, 164)\",\"pattern\":{\"shape\":\"\"}},\"name\":\"17.3\",\"offsetgroup\":\"17.3\",\"orientation\":\"v\",\"showlegend\":true,\"x\":[17.3,17.3,17.3,17.3,17.3,17.3,17.3,17.3,17.3,17.3,17.3,17.3,17.3,17.3],\"xaxis\":\"x\",\"yaxis\":\"y\",\"type\":\"histogram\"},{\"alignmentgroup\":\"True\",\"bingroup\":\"x\",\"hovertemplate\":\"display_size=%{x}\\u003cbr\\u003ecount=%{y}\\u003cextra\\u003e\\u003c\\u002fextra\\u003e\",\"legendgroup\":\"15.3\",\"marker\":{\"color\":\"rgb(180, 151, 231)\",\"pattern\":{\"shape\":\"\"}},\"name\":\"15.3\",\"offsetgroup\":\"15.3\",\"orientation\":\"v\",\"showlegend\":true,\"x\":[15.3,15.3],\"xaxis\":\"x\",\"yaxis\":\"y\",\"type\":\"histogram\"},{\"alignmentgroup\":\"True\",\"bingroup\":\"x\",\"hovertemplate\":\"display_size=%{x}\\u003cbr\\u003ecount=%{y}\\u003cextra\\u003e\\u003c\\u002fextra\\u003e\",\"legendgroup\":\"15.56\",\"marker\":{\"color\":\"rgb(179, 179, 179)\",\"pattern\":{\"shape\":\"\"}},\"name\":\"15.56\",\"offsetgroup\":\"15.56\",\"orientation\":\"v\",\"showlegend\":true,\"x\":[15.56],\"xaxis\":\"x\",\"yaxis\":\"y\",\"type\":\"histogram\"},{\"alignmentgroup\":\"True\",\"bingroup\":\"x\",\"hovertemplate\":\"display_size=%{x}\\u003cbr\\u003ecount=%{y}\\u003cextra\\u003e\\u003c\\u002fextra\\u003e\",\"legendgroup\":\"13.4\",\"marker\":{\"color\":\"rgb(102, 197, 204)\",\"pattern\":{\"shape\":\"\"}},\"name\":\"13.4\",\"offsetgroup\":\"13.4\",\"orientation\":\"v\",\"showlegend\":true,\"x\":[13.4,13.4,13.4,13.4],\"xaxis\":\"x\",\"yaxis\":\"y\",\"type\":\"histogram\"},{\"alignmentgroup\":\"True\",\"bingroup\":\"x\",\"hovertemplate\":\"display_size=%{x}\\u003cbr\\u003ecount=%{y}\\u003cextra\\u003e\\u003c\\u002fextra\\u003e\",\"legendgroup\":\"13.5\",\"marker\":{\"color\":\"rgb(246, 207, 113)\",\"pattern\":{\"shape\":\"\"}},\"name\":\"13.5\",\"offsetgroup\":\"13.5\",\"orientation\":\"v\",\"showlegend\":true,\"x\":[13.5,13.5],\"xaxis\":\"x\",\"yaxis\":\"y\",\"type\":\"histogram\"},{\"alignmentgroup\":\"True\",\"bingroup\":\"x\",\"hovertemplate\":\"display_size=%{x}\\u003cbr\\u003ecount=%{y}\\u003cextra\\u003e\\u003c\\u002fextra\\u003e\",\"legendgroup\":\"18.0\",\"marker\":{\"color\":\"rgb(248, 156, 116)\",\"pattern\":{\"shape\":\"\"}},\"name\":\"18.0\",\"offsetgroup\":\"18.0\",\"orientation\":\"v\",\"showlegend\":true,\"x\":[18.0],\"xaxis\":\"x\",\"yaxis\":\"y\",\"type\":\"histogram\"},{\"alignmentgroup\":\"True\",\"bingroup\":\"x\",\"hovertemplate\":\"display_size=%{x}\\u003cbr\\u003ecount=%{y}\\u003cextra\\u003e\\u003c\\u002fextra\\u003e\",\"legendgroup\":\"14.2\",\"marker\":{\"color\":\"rgb(220, 176, 242)\",\"pattern\":{\"shape\":\"\"}},\"name\":\"14.2\",\"offsetgroup\":\"14.2\",\"orientation\":\"v\",\"showlegend\":true,\"x\":[14.2,14.2,14.2,14.2],\"xaxis\":\"x\",\"yaxis\":\"y\",\"type\":\"histogram\"},{\"alignmentgroup\":\"True\",\"bingroup\":\"x\",\"hovertemplate\":\"display_size=%{x}\\u003cbr\\u003ecount=%{y}\\u003cextra\\u003e\\u003c\\u002fextra\\u003e\",\"legendgroup\":\"16.2\",\"marker\":{\"color\":\"rgb(135, 197, 95)\",\"pattern\":{\"shape\":\"\"}},\"name\":\"16.2\",\"offsetgroup\":\"16.2\",\"orientation\":\"v\",\"showlegend\":true,\"x\":[16.2,16.2],\"xaxis\":\"x\",\"yaxis\":\"y\",\"type\":\"histogram\"},{\"alignmentgroup\":\"True\",\"bingroup\":\"x\",\"hovertemplate\":\"display_size=%{x}\\u003cbr\\u003ecount=%{y}\\u003cextra\\u003e\\u003c\\u002fextra\\u003e\",\"legendgroup\":\"15.0\",\"marker\":{\"color\":\"rgb(158, 185, 243)\",\"pattern\":{\"shape\":\"\"}},\"name\":\"15.0\",\"offsetgroup\":\"15.0\",\"orientation\":\"v\",\"showlegend\":true,\"x\":[15.0,15.0,15.0],\"xaxis\":\"x\",\"yaxis\":\"y\",\"type\":\"histogram\"},{\"alignmentgroup\":\"True\",\"bingroup\":\"x\",\"hovertemplate\":\"display_size=%{x}\\u003cbr\\u003ecount=%{y}\\u003cextra\\u003e\\u003c\\u002fextra\\u003e\",\"legendgroup\":\"17.0\",\"marker\":{\"color\":\"rgb(254, 136, 177)\",\"pattern\":{\"shape\":\"\"}},\"name\":\"17.0\",\"offsetgroup\":\"17.0\",\"orientation\":\"v\",\"showlegend\":true,\"x\":[17.0,17.0,17.0,17.0,17.0],\"xaxis\":\"x\",\"yaxis\":\"y\",\"type\":\"histogram\"}],                        {\"template\":{\"data\":{\"histogram2dcontour\":[{\"type\":\"histogram2dcontour\",\"colorbar\":{\"outlinewidth\":0,\"ticks\":\"\"},\"colorscale\":[[0.0,\"#0d0887\"],[0.1111111111111111,\"#46039f\"],[0.2222222222222222,\"#7201a8\"],[0.3333333333333333,\"#9c179e\"],[0.4444444444444444,\"#bd3786\"],[0.5555555555555556,\"#d8576b\"],[0.6666666666666666,\"#ed7953\"],[0.7777777777777778,\"#fb9f3a\"],[0.8888888888888888,\"#fdca26\"],[1.0,\"#f0f921\"]]}],\"choropleth\":[{\"type\":\"choropleth\",\"colorbar\":{\"outlinewidth\":0,\"ticks\":\"\"}}],\"histogram2d\":[{\"type\":\"histogram2d\",\"colorbar\":{\"outlinewidth\":0,\"ticks\":\"\"},\"colorscale\":[[0.0,\"#0d0887\"],[0.1111111111111111,\"#46039f\"],[0.2222222222222222,\"#7201a8\"],[0.3333333333333333,\"#9c179e\"],[0.4444444444444444,\"#bd3786\"],[0.5555555555555556,\"#d8576b\"],[0.6666666666666666,\"#ed7953\"],[0.7777777777777778,\"#fb9f3a\"],[0.8888888888888888,\"#fdca26\"],[1.0,\"#f0f921\"]]}],\"heatmap\":[{\"type\":\"heatmap\",\"colorbar\":{\"outlinewidth\":0,\"ticks\":\"\"},\"colorscale\":[[0.0,\"#0d0887\"],[0.1111111111111111,\"#46039f\"],[0.2222222222222222,\"#7201a8\"],[0.3333333333333333,\"#9c179e\"],[0.4444444444444444,\"#bd3786\"],[0.5555555555555556,\"#d8576b\"],[0.6666666666666666,\"#ed7953\"],[0.7777777777777778,\"#fb9f3a\"],[0.8888888888888888,\"#fdca26\"],[1.0,\"#f0f921\"]]}],\"heatmapgl\":[{\"type\":\"heatmapgl\",\"colorbar\":{\"outlinewidth\":0,\"ticks\":\"\"},\"colorscale\":[[0.0,\"#0d0887\"],[0.1111111111111111,\"#46039f\"],[0.2222222222222222,\"#7201a8\"],[0.3333333333333333,\"#9c179e\"],[0.4444444444444444,\"#bd3786\"],[0.5555555555555556,\"#d8576b\"],[0.6666666666666666,\"#ed7953\"],[0.7777777777777778,\"#fb9f3a\"],[0.8888888888888888,\"#fdca26\"],[1.0,\"#f0f921\"]]}],\"contourcarpet\":[{\"type\":\"contourcarpet\",\"colorbar\":{\"outlinewidth\":0,\"ticks\":\"\"}}],\"contour\":[{\"type\":\"contour\",\"colorbar\":{\"outlinewidth\":0,\"ticks\":\"\"},\"colorscale\":[[0.0,\"#0d0887\"],[0.1111111111111111,\"#46039f\"],[0.2222222222222222,\"#7201a8\"],[0.3333333333333333,\"#9c179e\"],[0.4444444444444444,\"#bd3786\"],[0.5555555555555556,\"#d8576b\"],[0.6666666666666666,\"#ed7953\"],[0.7777777777777778,\"#fb9f3a\"],[0.8888888888888888,\"#fdca26\"],[1.0,\"#f0f921\"]]}],\"surface\":[{\"type\":\"surface\",\"colorbar\":{\"outlinewidth\":0,\"ticks\":\"\"},\"colorscale\":[[0.0,\"#0d0887\"],[0.1111111111111111,\"#46039f\"],[0.2222222222222222,\"#7201a8\"],[0.3333333333333333,\"#9c179e\"],[0.4444444444444444,\"#bd3786\"],[0.5555555555555556,\"#d8576b\"],[0.6666666666666666,\"#ed7953\"],[0.7777777777777778,\"#fb9f3a\"],[0.8888888888888888,\"#fdca26\"],[1.0,\"#f0f921\"]]}],\"mesh3d\":[{\"type\":\"mesh3d\",\"colorbar\":{\"outlinewidth\":0,\"ticks\":\"\"}}],\"scatter\":[{\"fillpattern\":{\"fillmode\":\"overlay\",\"size\":10,\"solidity\":0.2},\"type\":\"scatter\"}],\"parcoords\":[{\"type\":\"parcoords\",\"line\":{\"colorbar\":{\"outlinewidth\":0,\"ticks\":\"\"}}}],\"scatterpolargl\":[{\"type\":\"scatterpolargl\",\"marker\":{\"colorbar\":{\"outlinewidth\":0,\"ticks\":\"\"}}}],\"bar\":[{\"error_x\":{\"color\":\"#2a3f5f\"},\"error_y\":{\"color\":\"#2a3f5f\"},\"marker\":{\"line\":{\"color\":\"#E5ECF6\",\"width\":0.5},\"pattern\":{\"fillmode\":\"overlay\",\"size\":10,\"solidity\":0.2}},\"type\":\"bar\"}],\"scattergeo\":[{\"type\":\"scattergeo\",\"marker\":{\"colorbar\":{\"outlinewidth\":0,\"ticks\":\"\"}}}],\"scatterpolar\":[{\"type\":\"scatterpolar\",\"marker\":{\"colorbar\":{\"outlinewidth\":0,\"ticks\":\"\"}}}],\"histogram\":[{\"marker\":{\"pattern\":{\"fillmode\":\"overlay\",\"size\":10,\"solidity\":0.2}},\"type\":\"histogram\"}],\"scattergl\":[{\"type\":\"scattergl\",\"marker\":{\"colorbar\":{\"outlinewidth\":0,\"ticks\":\"\"}}}],\"scatter3d\":[{\"type\":\"scatter3d\",\"line\":{\"colorbar\":{\"outlinewidth\":0,\"ticks\":\"\"}},\"marker\":{\"colorbar\":{\"outlinewidth\":0,\"ticks\":\"\"}}}],\"scattermapbox\":[{\"type\":\"scattermapbox\",\"marker\":{\"colorbar\":{\"outlinewidth\":0,\"ticks\":\"\"}}}],\"scatterternary\":[{\"type\":\"scatterternary\",\"marker\":{\"colorbar\":{\"outlinewidth\":0,\"ticks\":\"\"}}}],\"scattercarpet\":[{\"type\":\"scattercarpet\",\"marker\":{\"colorbar\":{\"outlinewidth\":0,\"ticks\":\"\"}}}],\"carpet\":[{\"aaxis\":{\"endlinecolor\":\"#2a3f5f\",\"gridcolor\":\"white\",\"linecolor\":\"white\",\"minorgridcolor\":\"white\",\"startlinecolor\":\"#2a3f5f\"},\"baxis\":{\"endlinecolor\":\"#2a3f5f\",\"gridcolor\":\"white\",\"linecolor\":\"white\",\"minorgridcolor\":\"white\",\"startlinecolor\":\"#2a3f5f\"},\"type\":\"carpet\"}],\"table\":[{\"cells\":{\"fill\":{\"color\":\"#EBF0F8\"},\"line\":{\"color\":\"white\"}},\"header\":{\"fill\":{\"color\":\"#C8D4E3\"},\"line\":{\"color\":\"white\"}},\"type\":\"table\"}],\"barpolar\":[{\"marker\":{\"line\":{\"color\":\"#E5ECF6\",\"width\":0.5},\"pattern\":{\"fillmode\":\"overlay\",\"size\":10,\"solidity\":0.2}},\"type\":\"barpolar\"}],\"pie\":[{\"automargin\":true,\"type\":\"pie\"}]},\"layout\":{\"autotypenumbers\":\"strict\",\"colorway\":[\"#636efa\",\"#EF553B\",\"#00cc96\",\"#ab63fa\",\"#FFA15A\",\"#19d3f3\",\"#FF6692\",\"#B6E880\",\"#FF97FF\",\"#FECB52\"],\"font\":{\"color\":\"#2a3f5f\"},\"hovermode\":\"closest\",\"hoverlabel\":{\"align\":\"left\"},\"paper_bgcolor\":\"white\",\"plot_bgcolor\":\"#E5ECF6\",\"polar\":{\"bgcolor\":\"#E5ECF6\",\"angularaxis\":{\"gridcolor\":\"white\",\"linecolor\":\"white\",\"ticks\":\"\"},\"radialaxis\":{\"gridcolor\":\"white\",\"linecolor\":\"white\",\"ticks\":\"\"}},\"ternary\":{\"bgcolor\":\"#E5ECF6\",\"aaxis\":{\"gridcolor\":\"white\",\"linecolor\":\"white\",\"ticks\":\"\"},\"baxis\":{\"gridcolor\":\"white\",\"linecolor\":\"white\",\"ticks\":\"\"},\"caxis\":{\"gridcolor\":\"white\",\"linecolor\":\"white\",\"ticks\":\"\"}},\"coloraxis\":{\"colorbar\":{\"outlinewidth\":0,\"ticks\":\"\"}},\"colorscale\":{\"sequential\":[[0.0,\"#0d0887\"],[0.1111111111111111,\"#46039f\"],[0.2222222222222222,\"#7201a8\"],[0.3333333333333333,\"#9c179e\"],[0.4444444444444444,\"#bd3786\"],[0.5555555555555556,\"#d8576b\"],[0.6666666666666666,\"#ed7953\"],[0.7777777777777778,\"#fb9f3a\"],[0.8888888888888888,\"#fdca26\"],[1.0,\"#f0f921\"]],\"sequentialminus\":[[0.0,\"#0d0887\"],[0.1111111111111111,\"#46039f\"],[0.2222222222222222,\"#7201a8\"],[0.3333333333333333,\"#9c179e\"],[0.4444444444444444,\"#bd3786\"],[0.5555555555555556,\"#d8576b\"],[0.6666666666666666,\"#ed7953\"],[0.7777777777777778,\"#fb9f3a\"],[0.8888888888888888,\"#fdca26\"],[1.0,\"#f0f921\"]],\"diverging\":[[0,\"#8e0152\"],[0.1,\"#c51b7d\"],[0.2,\"#de77ae\"],[0.3,\"#f1b6da\"],[0.4,\"#fde0ef\"],[0.5,\"#f7f7f7\"],[0.6,\"#e6f5d0\"],[0.7,\"#b8e186\"],[0.8,\"#7fbc41\"],[0.9,\"#4d9221\"],[1,\"#276419\"]]},\"xaxis\":{\"gridcolor\":\"white\",\"linecolor\":\"white\",\"ticks\":\"\",\"title\":{\"standoff\":15},\"zerolinecolor\":\"white\",\"automargin\":true,\"zerolinewidth\":2},\"yaxis\":{\"gridcolor\":\"white\",\"linecolor\":\"white\",\"ticks\":\"\",\"title\":{\"standoff\":15},\"zerolinecolor\":\"white\",\"automargin\":true,\"zerolinewidth\":2},\"scene\":{\"xaxis\":{\"backgroundcolor\":\"#E5ECF6\",\"gridcolor\":\"white\",\"linecolor\":\"white\",\"showbackground\":true,\"ticks\":\"\",\"zerolinecolor\":\"white\",\"gridwidth\":2},\"yaxis\":{\"backgroundcolor\":\"#E5ECF6\",\"gridcolor\":\"white\",\"linecolor\":\"white\",\"showbackground\":true,\"ticks\":\"\",\"zerolinecolor\":\"white\",\"gridwidth\":2},\"zaxis\":{\"backgroundcolor\":\"#E5ECF6\",\"gridcolor\":\"white\",\"linecolor\":\"white\",\"showbackground\":true,\"ticks\":\"\",\"zerolinecolor\":\"white\",\"gridwidth\":2}},\"shapedefaults\":{\"line\":{\"color\":\"#2a3f5f\"}},\"annotationdefaults\":{\"arrowcolor\":\"#2a3f5f\",\"arrowhead\":0,\"arrowwidth\":1},\"geo\":{\"bgcolor\":\"white\",\"landcolor\":\"#E5ECF6\",\"subunitcolor\":\"white\",\"showland\":true,\"showlakes\":true,\"lakecolor\":\"white\"},\"title\":{\"x\":0.05},\"mapbox\":{\"style\":\"light\"}}},\"xaxis\":{\"anchor\":\"y\",\"domain\":[0.0,1.0],\"title\":{\"text\":\"display_size\"},\"categoryorder\":\"array\",\"categoryarray\":[15.6,14.0,13.3,14.1,11.6,16.0,13.6,16.1,17.3,15.3,15.56,13.4,13.5,18.0,14.2,16.2,15.0,17.0]},\"yaxis\":{\"anchor\":\"x\",\"domain\":[0.0,1.0],\"title\":{\"text\":\"count\"}},\"legend\":{\"title\":{\"text\":\"display_size\"},\"tracegroupgap\":0},\"title\":{\"text\":\"Display Size Distribution\"},\"barmode\":\"relative\"},                        {\"responsive\": true}                    ).then(function(){\n",
              "                            \n",
              "var gd = document.getElementById('e1da1f19-5ff3-40cd-92df-cc685376c447');\n",
              "var x = new MutationObserver(function (mutations, observer) {{\n",
              "        var display = window.getComputedStyle(gd).display;\n",
              "        if (!display || display === 'none') {{\n",
              "            console.log([gd, 'removed!']);\n",
              "            Plotly.purge(gd);\n",
              "            observer.disconnect();\n",
              "        }}\n",
              "}});\n",
              "\n",
              "// Listen for the removal of the full notebook cells\n",
              "var notebookContainer = gd.closest('#notebook-container');\n",
              "if (notebookContainer) {{\n",
              "    x.observe(notebookContainer, {childList: true});\n",
              "}}\n",
              "\n",
              "// Listen for the clearing of the current output cell\n",
              "var outputEl = gd.closest('.output');\n",
              "if (outputEl) {{\n",
              "    x.observe(outputEl, {childList: true});\n",
              "}}\n",
              "\n",
              "                        })                };                            </script>        </div>\n",
              "</body>\n",
              "</html>"
            ]
          },
          "metadata": {}
        }
      ],
      "source": [
        "plt = px.histogram(df, x='display_size', color='display_size', title=\"Display Size Distribution\", color_discrete_sequence=px.colors.qualitative.Pastel)\n",
        "plt.show()"
      ]
    },
    {
      "cell_type": "code",
      "execution_count": 107,
      "metadata": {
        "colab": {
          "base_uri": "https://localhost:8080/",
          "height": 0
        },
        "id": "-7Lh8kNKCboZ",
        "outputId": "41abbc09-4980-4ac9-8337-ca33a9326f36"
      },
      "outputs": [
        {
          "output_type": "display_data",
          "data": {
            "text/html": [
              "<html>\n",
              "<head><meta charset=\"utf-8\" /></head>\n",
              "<body>\n",
              "    <div>            <script src=\"https://cdnjs.cloudflare.com/ajax/libs/mathjax/2.7.5/MathJax.js?config=TeX-AMS-MML_SVG\"></script><script type=\"text/javascript\">if (window.MathJax && window.MathJax.Hub && window.MathJax.Hub.Config) {window.MathJax.Hub.Config({SVG: {font: \"STIX-Web\"}});}</script>                <script type=\"text/javascript\">window.PlotlyConfig = {MathJaxConfig: 'local'};</script>\n",
              "        <script charset=\"utf-8\" src=\"https://cdn.plot.ly/plotly-2.35.2.min.js\"></script>                <div id=\"faa3e944-ebb1-4f94-87f4-cb77091d07f3\" class=\"plotly-graph-div\" style=\"height:525px; width:100%;\"></div>            <script type=\"text/javascript\">                                    window.PLOTLYENV=window.PLOTLYENV || {};                                    if (document.getElementById(\"faa3e944-ebb1-4f94-87f4-cb77091d07f3\")) {                    Plotly.newPlot(                        \"faa3e944-ebb1-4f94-87f4-cb77091d07f3\",                        [{\"alignmentgroup\":\"True\",\"bingroup\":\"x\",\"hovertemplate\":\"OS=%{x}\\u003cbr\\u003ecount=%{y}\\u003cextra\\u003e\\u003c\\u002fextra\\u003e\",\"legendgroup\":\"Windows 11 OS\",\"marker\":{\"color\":\"rgb(102, 197, 204)\",\"pattern\":{\"shape\":\"\"}},\"name\":\"Windows 11 OS\",\"offsetgroup\":\"Windows 11 OS\",\"orientation\":\"v\",\"showlegend\":true,\"x\":[\"Windows 11 OS\",\"Windows 11 OS\",\"Windows 11 OS\",\"Windows 11 OS\",\"Windows 11 OS\",\"Windows 11 OS\",\"Windows 11 OS\",\"Windows 11 OS\",\"Windows 11 OS\",\"Windows 11 OS\",\"Windows 11 OS\",\"Windows 11 OS\",\"Windows 11 OS\",\"Windows 11 OS\",\"Windows 11 OS\",\"Windows 11 OS\",\"Windows 11 OS\",\"Windows 11 OS\",\"Windows 11 OS\",\"Windows 11 OS\",\"Windows 11 OS\",\"Windows 11 OS\",\"Windows 11 OS\",\"Windows 11 OS\",\"Windows 11 OS\",\"Windows 11 OS\",\"Windows 11 OS\",\"Windows 11 OS\",\"Windows 11 OS\",\"Windows 11 OS\",\"Windows 11 OS\",\"Windows 11 OS\",\"Windows 11 OS\",\"Windows 11 OS\",\"Windows 11 OS\",\"Windows 11 OS\",\"Windows 11 OS\",\"Windows 11 OS\",\"Windows 11 OS\",\"Windows 11 OS\",\"Windows 11 OS\",\"Windows 11 OS\",\"Windows 11 OS\",\"Windows 11 OS\",\"Windows 11 OS\",\"Windows 11 OS\",\"Windows 11 OS\",\"Windows 11 OS\",\"Windows 11 OS\",\"Windows 11 OS\",\"Windows 11 OS\",\"Windows 11 OS\",\"Windows 11 OS\",\"Windows 11 OS\",\"Windows 11 OS\",\"Windows 11 OS\",\"Windows 11 OS\",\"Windows 11 OS\",\"Windows 11 OS\",\"Windows 11 OS\",\"Windows 11 OS\",\"Windows 11 OS\",\"Windows 11 OS\",\"Windows 11 OS\",\"Windows 11 OS\",\"Windows 11 OS\",\"Windows 11 OS\",\"Windows 11 OS\",\"Windows 11 OS\",\"Windows 11 OS\",\"Windows 11 OS\",\"Windows 11 OS\",\"Windows 11 OS\",\"Windows 11 OS\",\"Windows 11 OS\",\"Windows 11 OS\",\"Windows 11 OS\",\"Windows 11 OS\",\"Windows 11 OS\",\"Windows 11 OS\",\"Windows 11 OS\",\"Windows 11 OS\",\"Windows 11 OS\",\"Windows 11 OS\",\"Windows 11 OS\",\"Windows 11 OS\",\"Windows 11 OS\",\"Windows 11 OS\",\"Windows 11 OS\",\"Windows 11 OS\",\"Windows 11 OS\",\"Windows 11 OS\",\"Windows 11 OS\",\"Windows 11 OS\",\"Windows 11 OS\",\"Windows 11 OS\",\"Windows 11 OS\",\"Windows 11 OS\",\"Windows 11 OS\",\"Windows 11 OS\",\"Windows 11 OS\",\"Windows 11 OS\",\"Windows 11 OS\",\"Windows 11 OS\",\"Windows 11 OS\",\"Windows 11 OS\",\"Windows 11 OS\",\"Windows 11 OS\",\"Windows 11 OS\",\"Windows 11 OS\",\"Windows 11 OS\",\"Windows 11 OS\",\"Windows 11 OS\",\"Windows 11 OS\",\"Windows 11 OS\",\"Windows 11 OS\",\"Windows 11 OS\",\"Windows 11 OS\",\"Windows 11 OS\",\"Windows 11 OS\",\"Windows 11 OS\",\"Windows 11 OS\",\"Windows 11 OS\",\"Windows 11 OS\",\"Windows 11 OS\",\"Windows 11 OS\",\"Windows 11 OS\",\"Windows 11 OS\",\"Windows 11 OS\",\"Windows 11 OS\",\"Windows 11 OS\",\"Windows 11 OS\",\"Windows 11 OS\",\"Windows 11 OS\",\"Windows 11 OS\",\"Windows 11 OS\",\"Windows 11 OS\",\"Windows 11 OS\",\"Windows 11 OS\",\"Windows 11 OS\",\"Windows 11 OS\",\"Windows 11 OS\",\"Windows 11 OS\",\"Windows 11 OS\",\"Windows 11 OS\",\"Windows 11 OS\",\"Windows 11 OS\",\"Windows 11 OS\",\"Windows 11 OS\",\"Windows 11 OS\",\"Windows 11 OS\",\"Windows 11 OS\",\"Windows 11 OS\",\"Windows 11 OS\",\"Windows 11 OS\",\"Windows 11 OS\",\"Windows 11 OS\",\"Windows 11 OS\",\"Windows 11 OS\",\"Windows 11 OS\",\"Windows 11 OS\",\"Windows 11 OS\",\"Windows 11 OS\",\"Windows 11 OS\",\"Windows 11 OS\",\"Windows 11 OS\",\"Windows 11 OS\",\"Windows 11 OS\",\"Windows 11 OS\",\"Windows 11 OS\",\"Windows 11 OS\",\"Windows 11 OS\",\"Windows 11 OS\",\"Windows 11 OS\",\"Windows 11 OS\",\"Windows 11 OS\",\"Windows 11 OS\",\"Windows 11 OS\",\"Windows 11 OS\",\"Windows 11 OS\",\"Windows 11 OS\",\"Windows 11 OS\",\"Windows 11 OS\",\"Windows 11 OS\",\"Windows 11 OS\",\"Windows 11 OS\",\"Windows 11 OS\",\"Windows 11 OS\",\"Windows 11 OS\",\"Windows 11 OS\",\"Windows 11 OS\",\"Windows 11 OS\",\"Windows 11 OS\",\"Windows 11 OS\",\"Windows 11 OS\",\"Windows 11 OS\",\"Windows 11 OS\",\"Windows 11 OS\",\"Windows 11 OS\",\"Windows 11 OS\",\"Windows 11 OS\",\"Windows 11 OS\",\"Windows 11 OS\",\"Windows 11 OS\",\"Windows 11 OS\",\"Windows 11 OS\",\"Windows 11 OS\",\"Windows 11 OS\",\"Windows 11 OS\",\"Windows 11 OS\",\"Windows 11 OS\",\"Windows 11 OS\",\"Windows 11 OS\",\"Windows 11 OS\",\"Windows 11 OS\",\"Windows 11 OS\",\"Windows 11 OS\",\"Windows 11 OS\",\"Windows 11 OS\",\"Windows 11 OS\",\"Windows 11 OS\",\"Windows 11 OS\",\"Windows 11 OS\",\"Windows 11 OS\",\"Windows 11 OS\",\"Windows 11 OS\",\"Windows 11 OS\",\"Windows 11 OS\",\"Windows 11 OS\",\"Windows 11 OS\",\"Windows 11 OS\",\"Windows 11 OS\",\"Windows 11 OS\",\"Windows 11 OS\",\"Windows 11 OS\",\"Windows 11 OS\",\"Windows 11 OS\",\"Windows 11 OS\",\"Windows 11 OS\",\"Windows 11 OS\",\"Windows 11 OS\",\"Windows 11 OS\",\"Windows 11 OS\",\"Windows 11 OS\",\"Windows 11 OS\",\"Windows 11 OS\",\"Windows 11 OS\",\"Windows 11 OS\",\"Windows 11 OS\",\"Windows 11 OS\",\"Windows 11 OS\",\"Windows 11 OS\",\"Windows 11 OS\",\"Windows 11 OS\",\"Windows 11 OS\",\"Windows 11 OS\",\"Windows 11 OS\",\"Windows 11 OS\",\"Windows 11 OS\",\"Windows 11 OS\",\"Windows 11 OS\",\"Windows 11 OS\",\"Windows 11 OS\",\"Windows 11 OS\",\"Windows 11 OS\",\"Windows 11 OS\",\"Windows 11 OS\",\"Windows 11 OS\",\"Windows 11 OS\",\"Windows 11 OS\",\"Windows 11 OS\",\"Windows 11 OS\",\"Windows 11 OS\",\"Windows 11 OS\",\"Windows 11 OS\",\"Windows 11 OS\",\"Windows 11 OS\",\"Windows 11 OS\",\"Windows 11 OS\",\"Windows 11 OS\",\"Windows 11 OS\",\"Windows 11 OS\",\"Windows 11 OS\",\"Windows 11 OS\",\"Windows 11 OS\",\"Windows 11 OS\",\"Windows 11 OS\",\"Windows 11 OS\",\"Windows 11 OS\",\"Windows 11 OS\",\"Windows 11 OS\",\"Windows 11 OS\",\"Windows 11 OS\",\"Windows 11 OS\",\"Windows 11 OS\",\"Windows 11 OS\",\"Windows 11 OS\",\"Windows 11 OS\",\"Windows 11 OS\",\"Windows 11 OS\",\"Windows 11 OS\",\"Windows 11 OS\",\"Windows 11 OS\",\"Windows 11 OS\",\"Windows 11 OS\",\"Windows 11 OS\",\"Windows 11 OS\",\"Windows 11 OS\",\"Windows 11 OS\",\"Windows 11 OS\",\"Windows 11 OS\",\"Windows 11 OS\",\"Windows 11 OS\",\"Windows 11 OS\",\"Windows 11 OS\",\"Windows 11 OS\",\"Windows 11 OS\",\"Windows 11 OS\",\"Windows 11 OS\",\"Windows 11 OS\",\"Windows 11 OS\",\"Windows 11 OS\",\"Windows 11 OS\",\"Windows 11 OS\",\"Windows 11 OS\",\"Windows 11 OS\",\"Windows 11 OS\",\"Windows 11 OS\",\"Windows 11 OS\",\"Windows 11 OS\",\"Windows 11 OS\",\"Windows 11 OS\",\"Windows 11 OS\",\"Windows 11 OS\",\"Windows 11 OS\",\"Windows 11 OS\",\"Windows 11 OS\",\"Windows 11 OS\",\"Windows 11 OS\",\"Windows 11 OS\",\"Windows 11 OS\",\"Windows 11 OS\",\"Windows 11 OS\",\"Windows 11 OS\",\"Windows 11 OS\",\"Windows 11 OS\",\"Windows 11 OS\",\"Windows 11 OS\",\"Windows 11 OS\",\"Windows 11 OS\",\"Windows 11 OS\",\"Windows 11 OS\",\"Windows 11 OS\",\"Windows 11 OS\",\"Windows 11 OS\",\"Windows 11 OS\",\"Windows 11 OS\",\"Windows 11 OS\",\"Windows 11 OS\",\"Windows 11 OS\",\"Windows 11 OS\",\"Windows 11 OS\",\"Windows 11 OS\",\"Windows 11 OS\",\"Windows 11 OS\",\"Windows 11 OS\",\"Windows 11 OS\",\"Windows 11 OS\",\"Windows 11 OS\",\"Windows 11 OS\",\"Windows 11 OS\",\"Windows 11 OS\",\"Windows 11 OS\",\"Windows 11 OS\",\"Windows 11 OS\",\"Windows 11 OS\",\"Windows 11 OS\",\"Windows 11 OS\",\"Windows 11 OS\",\"Windows 11 OS\",\"Windows 11 OS\",\"Windows 11 OS\",\"Windows 11 OS\",\"Windows 11 OS\",\"Windows 11 OS\",\"Windows 11 OS\",\"Windows 11 OS\",\"Windows 11 OS\",\"Windows 11 OS\",\"Windows 11 OS\",\"Windows 11 OS\",\"Windows 11 OS\",\"Windows 11 OS\",\"Windows 11 OS\",\"Windows 11 OS\",\"Windows 11 OS\",\"Windows 11 OS\",\"Windows 11 OS\",\"Windows 11 OS\",\"Windows 11 OS\",\"Windows 11 OS\",\"Windows 11 OS\",\"Windows 11 OS\",\"Windows 11 OS\",\"Windows 11 OS\",\"Windows 11 OS\",\"Windows 11 OS\",\"Windows 11 OS\",\"Windows 11 OS\",\"Windows 11 OS\",\"Windows 11 OS\",\"Windows 11 OS\",\"Windows 11 OS\",\"Windows 11 OS\",\"Windows 11 OS\",\"Windows 11 OS\",\"Windows 11 OS\",\"Windows 11 OS\",\"Windows 11 OS\",\"Windows 11 OS\",\"Windows 11 OS\",\"Windows 11 OS\",\"Windows 11 OS\",\"Windows 11 OS\",\"Windows 11 OS\",\"Windows 11 OS\",\"Windows 11 OS\",\"Windows 11 OS\",\"Windows 11 OS\",\"Windows 11 OS\",\"Windows 11 OS\",\"Windows 11 OS\",\"Windows 11 OS\",\"Windows 11 OS\",\"Windows 11 OS\",\"Windows 11 OS\",\"Windows 11 OS\",\"Windows 11 OS\",\"Windows 11 OS\",\"Windows 11 OS\",\"Windows 11 OS\",\"Windows 11 OS\",\"Windows 11 OS\",\"Windows 11 OS\",\"Windows 11 OS\",\"Windows 11 OS\",\"Windows 11 OS\",\"Windows 11 OS\",\"Windows 11 OS\",\"Windows 11 OS\",\"Windows 11 OS\",\"Windows 11 OS\",\"Windows 11 OS\",\"Windows 11 OS\",\"Windows 11 OS\",\"Windows 11 OS\",\"Windows 11 OS\",\"Windows 11 OS\",\"Windows 11 OS\",\"Windows 11 OS\",\"Windows 11 OS\",\"Windows 11 OS\",\"Windows 11 OS\",\"Windows 11 OS\",\"Windows 11 OS\",\"Windows 11 OS\",\"Windows 11 OS\",\"Windows 11 OS\",\"Windows 11 OS\",\"Windows 11 OS\",\"Windows 11 OS\",\"Windows 11 OS\",\"Windows 11 OS\",\"Windows 11 OS\",\"Windows 11 OS\",\"Windows 11 OS\",\"Windows 11 OS\",\"Windows 11 OS\",\"Windows 11 OS\",\"Windows 11 OS\",\"Windows 11 OS\",\"Windows 11 OS\",\"Windows 11 OS\",\"Windows 11 OS\",\"Windows 11 OS\",\"Windows 11 OS\",\"Windows 11 OS\",\"Windows 11 OS\",\"Windows 11 OS\",\"Windows 11 OS\",\"Windows 11 OS\",\"Windows 11 OS\",\"Windows 11 OS\",\"Windows 11 OS\",\"Windows 11 OS\",\"Windows 11 OS\",\"Windows 11 OS\",\"Windows 11 OS\",\"Windows 11 OS\",\"Windows 11 OS\",\"Windows 11 OS\",\"Windows 11 OS\",\"Windows 11 OS\",\"Windows 11 OS\",\"Windows 11 OS\",\"Windows 11 OS\",\"Windows 11 OS\",\"Windows 11 OS\",\"Windows 11 OS\",\"Windows 11 OS\",\"Windows 11 OS\",\"Windows 11 OS\",\"Windows 11 OS\",\"Windows 11 OS\",\"Windows 11 OS\",\"Windows 11 OS\",\"Windows 11 OS\",\"Windows 11 OS\",\"Windows 11 OS\",\"Windows 11 OS\",\"Windows 11 OS\",\"Windows 11 OS\",\"Windows 11 OS\",\"Windows 11 OS\",\"Windows 11 OS\",\"Windows 11 OS\",\"Windows 11 OS\",\"Windows 11 OS\",\"Windows 11 OS\",\"Windows 11 OS\",\"Windows 11 OS\",\"Windows 11 OS\",\"Windows 11 OS\",\"Windows 11 OS\",\"Windows 11 OS\",\"Windows 11 OS\",\"Windows 11 OS\",\"Windows 11 OS\",\"Windows 11 OS\",\"Windows 11 OS\",\"Windows 11 OS\",\"Windows 11 OS\",\"Windows 11 OS\",\"Windows 11 OS\",\"Windows 11 OS\",\"Windows 11 OS\",\"Windows 11 OS\",\"Windows 11 OS\",\"Windows 11 OS\",\"Windows 11 OS\",\"Windows 11 OS\",\"Windows 11 OS\",\"Windows 11 OS\",\"Windows 11 OS\",\"Windows 11 OS\",\"Windows 11 OS\",\"Windows 11 OS\",\"Windows 11 OS\",\"Windows 11 OS\",\"Windows 11 OS\",\"Windows 11 OS\",\"Windows 11 OS\",\"Windows 11 OS\",\"Windows 11 OS\",\"Windows 11 OS\",\"Windows 11 OS\",\"Windows 11 OS\",\"Windows 11 OS\",\"Windows 11 OS\",\"Windows 11 OS\",\"Windows 11 OS\",\"Windows 11 OS\",\"Windows 11 OS\",\"Windows 11 OS\",\"Windows 11 OS\",\"Windows 11 OS\",\"Windows 11 OS\",\"Windows 11 OS\",\"Windows 11 OS\",\"Windows 11 OS\",\"Windows 11 OS\",\"Windows 11 OS\",\"Windows 11 OS\",\"Windows 11 OS\",\"Windows 11 OS\",\"Windows 11 OS\",\"Windows 11 OS\",\"Windows 11 OS\",\"Windows 11 OS\",\"Windows 11 OS\",\"Windows 11 OS\",\"Windows 11 OS\",\"Windows 11 OS\",\"Windows 11 OS\",\"Windows 11 OS\",\"Windows 11 OS\",\"Windows 11 OS\",\"Windows 11 OS\",\"Windows 11 OS\",\"Windows 11 OS\",\"Windows 11 OS\",\"Windows 11 OS\",\"Windows 11 OS\",\"Windows 11 OS\",\"Windows 11 OS\",\"Windows 11 OS\",\"Windows 11 OS\",\"Windows 11 OS\",\"Windows 11 OS\",\"Windows 11 OS\",\"Windows 11 OS\",\"Windows 11 OS\",\"Windows 11 OS\",\"Windows 11 OS\",\"Windows 11 OS\",\"Windows 11 OS\",\"Windows 11 OS\",\"Windows 11 OS\",\"Windows 11 OS\",\"Windows 11 OS\",\"Windows 11 OS\",\"Windows 11 OS\",\"Windows 11 OS\",\"Windows 11 OS\",\"Windows 11 OS\",\"Windows 11 OS\",\"Windows 11 OS\",\"Windows 11 OS\",\"Windows 11 OS\",\"Windows 11 OS\",\"Windows 11 OS\",\"Windows 11 OS\",\"Windows 11 OS\",\"Windows 11 OS\",\"Windows 11 OS\",\"Windows 11 OS\",\"Windows 11 OS\",\"Windows 11 OS\",\"Windows 11 OS\",\"Windows 11 OS\",\"Windows 11 OS\",\"Windows 11 OS\",\"Windows 11 OS\",\"Windows 11 OS\",\"Windows 11 OS\",\"Windows 11 OS\",\"Windows 11 OS\",\"Windows 11 OS\",\"Windows 11 OS\",\"Windows 11 OS\",\"Windows 11 OS\",\"Windows 11 OS\",\"Windows 11 OS\",\"Windows 11 OS\",\"Windows 11 OS\",\"Windows 11 OS\",\"Windows 11 OS\",\"Windows 11 OS\",\"Windows 11 OS\",\"Windows 11 OS\",\"Windows 11 OS\",\"Windows 11 OS\",\"Windows 11 OS\",\"Windows 11 OS\",\"Windows 11 OS\",\"Windows 11 OS\",\"Windows 11 OS\",\"Windows 11 OS\",\"Windows 11 OS\",\"Windows 11 OS\",\"Windows 11 OS\",\"Windows 11 OS\",\"Windows 11 OS\",\"Windows 11 OS\",\"Windows 11 OS\",\"Windows 11 OS\",\"Windows 11 OS\",\"Windows 11 OS\",\"Windows 11 OS\",\"Windows 11 OS\",\"Windows 11 OS\",\"Windows 11 OS\",\"Windows 11 OS\",\"Windows 11 OS\",\"Windows 11 OS\",\"Windows 11 OS\",\"Windows 11 OS\",\"Windows 11 OS\",\"Windows 11 OS\",\"Windows 11 OS\",\"Windows 11 OS\",\"Windows 11 OS\",\"Windows 11 OS\",\"Windows 11 OS\",\"Windows 11 OS\",\"Windows 11 OS\",\"Windows 11 OS\",\"Windows 11 OS\",\"Windows 11 OS\",\"Windows 11 OS\",\"Windows 11 OS\",\"Windows 11 OS\",\"Windows 11 OS\",\"Windows 11 OS\",\"Windows 11 OS\",\"Windows 11 OS\",\"Windows 11 OS\",\"Windows 11 OS\",\"Windows 11 OS\",\"Windows 11 OS\",\"Windows 11 OS\",\"Windows 11 OS\",\"Windows 11 OS\",\"Windows 11 OS\",\"Windows 11 OS\",\"Windows 11 OS\",\"Windows 11 OS\",\"Windows 11 OS\",\"Windows 11 OS\",\"Windows 11 OS\",\"Windows 11 OS\",\"Windows 11 OS\",\"Windows 11 OS\",\"Windows 11 OS\",\"Windows 11 OS\",\"Windows 11 OS\",\"Windows 11 OS\",\"Windows 11 OS\",\"Windows 11 OS\",\"Windows 11 OS\",\"Windows 11 OS\",\"Windows 11 OS\",\"Windows 11 OS\",\"Windows 11 OS\",\"Windows 11 OS\",\"Windows 11 OS\",\"Windows 11 OS\",\"Windows 11 OS\",\"Windows 11 OS\",\"Windows 11 OS\",\"Windows 11 OS\",\"Windows 11 OS\",\"Windows 11 OS\",\"Windows 11 OS\",\"Windows 11 OS\",\"Windows 11 OS\",\"Windows 11 OS\",\"Windows 11 OS\",\"Windows 11 OS\",\"Windows 11 OS\",\"Windows 11 OS\",\"Windows 11 OS\",\"Windows 11 OS\",\"Windows 11 OS\",\"Windows 11 OS\",\"Windows 11 OS\",\"Windows 11 OS\",\"Windows 11 OS\",\"Windows 11 OS\",\"Windows 11 OS\",\"Windows 11 OS\",\"Windows 11 OS\",\"Windows 11 OS\",\"Windows 11 OS\",\"Windows 11 OS\",\"Windows 11 OS\",\"Windows 11 OS\",\"Windows 11 OS\",\"Windows 11 OS\",\"Windows 11 OS\",\"Windows 11 OS\",\"Windows 11 OS\",\"Windows 11 OS\",\"Windows 11 OS\",\"Windows 11 OS\",\"Windows 11 OS\",\"Windows 11 OS\",\"Windows 11 OS\",\"Windows 11 OS\",\"Windows 11 OS\",\"Windows 11 OS\",\"Windows 11 OS\"],\"xaxis\":\"x\",\"yaxis\":\"y\",\"type\":\"histogram\"},{\"alignmentgroup\":\"True\",\"bingroup\":\"x\",\"hovertemplate\":\"OS=%{x}\\u003cbr\\u003ecount=%{y}\\u003cextra\\u003e\\u003c\\u002fextra\\u003e\",\"legendgroup\":\"Mac OS\",\"marker\":{\"color\":\"rgb(246, 207, 113)\",\"pattern\":{\"shape\":\"\"}},\"name\":\"Mac OS\",\"offsetgroup\":\"Mac OS\",\"orientation\":\"v\",\"showlegend\":true,\"x\":[\"Mac OS\",\"Mac OS\",\"Mac OS\",\"Mac OS\",\"Mac OS\",\"Mac OS\",\"Mac OS\",\"Mac OS\",\"Mac OS\",\"Mac OS\",\"Mac OS\",\"Mac OS\"],\"xaxis\":\"x\",\"yaxis\":\"y\",\"type\":\"histogram\"},{\"alignmentgroup\":\"True\",\"bingroup\":\"x\",\"hovertemplate\":\"OS=%{x}\\u003cbr\\u003ecount=%{y}\\u003cextra\\u003e\\u003c\\u002fextra\\u003e\",\"legendgroup\":\"Android 11 OS\",\"marker\":{\"color\":\"rgb(248, 156, 116)\",\"pattern\":{\"shape\":\"\"}},\"name\":\"Android 11 OS\",\"offsetgroup\":\"Android 11 OS\",\"orientation\":\"v\",\"showlegend\":true,\"x\":[\"Android 11 OS\"],\"xaxis\":\"x\",\"yaxis\":\"y\",\"type\":\"histogram\"},{\"alignmentgroup\":\"True\",\"bingroup\":\"x\",\"hovertemplate\":\"OS=%{x}\\u003cbr\\u003ecount=%{y}\\u003cextra\\u003e\\u003c\\u002fextra\\u003e\",\"legendgroup\":\"DOS OS\",\"marker\":{\"color\":\"rgb(220, 176, 242)\",\"pattern\":{\"shape\":\"\"}},\"name\":\"DOS OS\",\"offsetgroup\":\"DOS OS\",\"orientation\":\"v\",\"showlegend\":true,\"x\":[\"DOS OS\",\"DOS OS\",\"DOS OS\",\"DOS OS\",\"DOS OS\",\"DOS OS\",\"DOS OS\",\"DOS OS\",\"DOS OS\",\"DOS OS\",\"DOS OS\",\"DOS OS\",\"DOS OS\",\"DOS OS\",\"DOS OS\",\"DOS OS\",\"DOS OS\",\"DOS OS\"],\"xaxis\":\"x\",\"yaxis\":\"y\",\"type\":\"histogram\"},{\"alignmentgroup\":\"True\",\"bingroup\":\"x\",\"hovertemplate\":\"OS=%{x}\\u003cbr\\u003ecount=%{y}\\u003cextra\\u003e\\u003c\\u002fextra\\u003e\",\"legendgroup\":\"Windows 10 OS\",\"marker\":{\"color\":\"rgb(135, 197, 95)\",\"pattern\":{\"shape\":\"\"}},\"name\":\"Windows 10 OS\",\"offsetgroup\":\"Windows 10 OS\",\"orientation\":\"v\",\"showlegend\":true,\"x\":[\"Windows 10 OS\",\"Windows 10 OS\",\"Windows 10 OS\",\"Windows 10 OS\",\"Windows 10 OS\",\"Windows 10 OS\",\"Windows 10 OS\",\"Windows 10 OS\",\"Windows 10 OS\",\"Windows 10 OS\",\"Windows 10 OS\",\"Windows 10 OS\",\"Windows 10 OS\",\"Windows 10 OS\",\"Windows 10 OS\",\"Windows 10 OS\",\"Windows 10 OS\",\"Windows 10 OS\",\"Windows 10 OS\",\"Windows 10 OS\",\"Windows 10 OS\",\"Windows 10 OS\",\"Windows 10 OS\",\"Windows 10 OS\",\"Windows 10 OS\",\"Windows 10 OS\",\"Windows 10 OS\",\"Windows 10 OS\"],\"xaxis\":\"x\",\"yaxis\":\"y\",\"type\":\"histogram\"},{\"alignmentgroup\":\"True\",\"bingroup\":\"x\",\"hovertemplate\":\"OS=%{x}\\u003cbr\\u003ecount=%{y}\\u003cextra\\u003e\\u003c\\u002fextra\\u003e\",\"legendgroup\":\"Windows 10  OS\",\"marker\":{\"color\":\"rgb(158, 185, 243)\",\"pattern\":{\"shape\":\"\"}},\"name\":\"Windows 10  OS\",\"offsetgroup\":\"Windows 10  OS\",\"orientation\":\"v\",\"showlegend\":true,\"x\":[\"Windows 10  OS\",\"Windows 10  OS\",\"Windows 10  OS\",\"Windows 10  OS\",\"Windows 10  OS\",\"Windows 10  OS\",\"Windows 10  OS\",\"Windows 10  OS\",\"Windows 10  OS\",\"Windows 10  OS\"],\"xaxis\":\"x\",\"yaxis\":\"y\",\"type\":\"histogram\"},{\"alignmentgroup\":\"True\",\"bingroup\":\"x\",\"hovertemplate\":\"OS=%{x}\\u003cbr\\u003ecount=%{y}\\u003cextra\\u003e\\u003c\\u002fextra\\u003e\",\"legendgroup\":\"Chrome OS\",\"marker\":{\"color\":\"rgb(254, 136, 177)\",\"pattern\":{\"shape\":\"\"}},\"name\":\"Chrome OS\",\"offsetgroup\":\"Chrome OS\",\"orientation\":\"v\",\"showlegend\":true,\"x\":[\"Chrome OS\",\"Chrome OS\",\"Chrome OS\",\"Chrome OS\",\"Chrome OS\",\"Chrome OS\",\"Chrome OS\",\"Chrome OS\",\"Chrome OS\",\"Chrome OS\"],\"xaxis\":\"x\",\"yaxis\":\"y\",\"type\":\"histogram\"},{\"alignmentgroup\":\"True\",\"bingroup\":\"x\",\"hovertemplate\":\"OS=%{x}\\u003cbr\\u003ecount=%{y}\\u003cextra\\u003e\\u003c\\u002fextra\\u003e\",\"legendgroup\":\"Windows OS\",\"marker\":{\"color\":\"rgb(201, 219, 116)\",\"pattern\":{\"shape\":\"\"}},\"name\":\"Windows OS\",\"offsetgroup\":\"Windows OS\",\"orientation\":\"v\",\"showlegend\":true,\"x\":[\"Windows OS\",\"Windows OS\",\"Windows OS\",\"Windows OS\",\"Windows OS\",\"Windows OS\",\"Windows OS\",\"Windows OS\",\"Windows OS\"],\"xaxis\":\"x\",\"yaxis\":\"y\",\"type\":\"histogram\"},{\"alignmentgroup\":\"True\",\"bingroup\":\"x\",\"hovertemplate\":\"OS=%{x}\\u003cbr\\u003ecount=%{y}\\u003cextra\\u003e\\u003c\\u002fextra\\u003e\",\"legendgroup\":\"Ubuntu OS\",\"marker\":{\"color\":\"rgb(139, 224, 164)\",\"pattern\":{\"shape\":\"\"}},\"name\":\"Ubuntu OS\",\"offsetgroup\":\"Ubuntu OS\",\"orientation\":\"v\",\"showlegend\":true,\"x\":[\"Ubuntu OS\",\"Ubuntu OS\"],\"xaxis\":\"x\",\"yaxis\":\"y\",\"type\":\"histogram\"},{\"alignmentgroup\":\"True\",\"bingroup\":\"x\",\"hovertemplate\":\"OS=%{x}\\u003cbr\\u003ecount=%{y}\\u003cextra\\u003e\\u003c\\u002fextra\\u003e\",\"legendgroup\":\"Mac Catalina OS\",\"marker\":{\"color\":\"rgb(180, 151, 231)\",\"pattern\":{\"shape\":\"\"}},\"name\":\"Mac Catalina OS\",\"offsetgroup\":\"Mac Catalina OS\",\"orientation\":\"v\",\"showlegend\":true,\"x\":[\"Mac Catalina OS\"],\"xaxis\":\"x\",\"yaxis\":\"y\",\"type\":\"histogram\"},{\"alignmentgroup\":\"True\",\"bingroup\":\"x\",\"hovertemplate\":\"OS=%{x}\\u003cbr\\u003ecount=%{y}\\u003cextra\\u003e\\u003c\\u002fextra\\u003e\",\"legendgroup\":\"DOS 3.0 OS\",\"marker\":{\"color\":\"rgb(179, 179, 179)\",\"pattern\":{\"shape\":\"\"}},\"name\":\"DOS 3.0 OS\",\"offsetgroup\":\"DOS 3.0 OS\",\"orientation\":\"v\",\"showlegend\":true,\"x\":[\"DOS 3.0 OS\",\"DOS 3.0 OS\"],\"xaxis\":\"x\",\"yaxis\":\"y\",\"type\":\"histogram\"},{\"alignmentgroup\":\"True\",\"bingroup\":\"x\",\"hovertemplate\":\"OS=%{x}\\u003cbr\\u003ecount=%{y}\\u003cextra\\u003e\\u003c\\u002fextra\\u003e\",\"legendgroup\":\"Windows 11  OS\",\"marker\":{\"color\":\"rgb(102, 197, 204)\",\"pattern\":{\"shape\":\"\"}},\"name\":\"Windows 11  OS\",\"offsetgroup\":\"Windows 11  OS\",\"orientation\":\"v\",\"showlegend\":true,\"x\":[\"Windows 11  OS\",\"Windows 11  OS\",\"Windows 11  OS\",\"Windows 11  OS\",\"Windows 11  OS\",\"Windows 11  OS\",\"Windows 11  OS\",\"Windows 11  OS\",\"Windows 11  OS\",\"Windows 11  OS\",\"Windows 11  OS\",\"Windows 11  OS\",\"Windows 11  OS\",\"Windows 11  OS\",\"Windows 11  OS\"],\"xaxis\":\"x\",\"yaxis\":\"y\",\"type\":\"histogram\"},{\"alignmentgroup\":\"True\",\"bingroup\":\"x\",\"hovertemplate\":\"OS=%{x}\\u003cbr\\u003ecount=%{y}\\u003cextra\\u003e\\u003c\\u002fextra\\u003e\",\"legendgroup\":\"Mac High Sierra OS\",\"marker\":{\"color\":\"rgb(246, 207, 113)\",\"pattern\":{\"shape\":\"\"}},\"name\":\"Mac High Sierra OS\",\"offsetgroup\":\"Mac High Sierra OS\",\"orientation\":\"v\",\"showlegend\":true,\"x\":[\"Mac High Sierra OS\"],\"xaxis\":\"x\",\"yaxis\":\"y\",\"type\":\"histogram\"},{\"alignmentgroup\":\"True\",\"bingroup\":\"x\",\"hovertemplate\":\"OS=%{x}\\u003cbr\\u003ecount=%{y}\\u003cextra\\u003e\\u003c\\u002fextra\\u003e\",\"legendgroup\":\"Mac 10.15.3\\t OS\",\"marker\":{\"color\":\"rgb(248, 156, 116)\",\"pattern\":{\"shape\":\"\"}},\"name\":\"Mac 10.15.3\\t OS\",\"offsetgroup\":\"Mac 10.15.3\\t OS\",\"orientation\":\"v\",\"showlegend\":true,\"x\":[\"Mac 10.15.3\\t OS\",\"Mac 10.15.3\\t OS\"],\"xaxis\":\"x\",\"yaxis\":\"y\",\"type\":\"histogram\"}],                        {\"template\":{\"data\":{\"histogram2dcontour\":[{\"type\":\"histogram2dcontour\",\"colorbar\":{\"outlinewidth\":0,\"ticks\":\"\"},\"colorscale\":[[0.0,\"#0d0887\"],[0.1111111111111111,\"#46039f\"],[0.2222222222222222,\"#7201a8\"],[0.3333333333333333,\"#9c179e\"],[0.4444444444444444,\"#bd3786\"],[0.5555555555555556,\"#d8576b\"],[0.6666666666666666,\"#ed7953\"],[0.7777777777777778,\"#fb9f3a\"],[0.8888888888888888,\"#fdca26\"],[1.0,\"#f0f921\"]]}],\"choropleth\":[{\"type\":\"choropleth\",\"colorbar\":{\"outlinewidth\":0,\"ticks\":\"\"}}],\"histogram2d\":[{\"type\":\"histogram2d\",\"colorbar\":{\"outlinewidth\":0,\"ticks\":\"\"},\"colorscale\":[[0.0,\"#0d0887\"],[0.1111111111111111,\"#46039f\"],[0.2222222222222222,\"#7201a8\"],[0.3333333333333333,\"#9c179e\"],[0.4444444444444444,\"#bd3786\"],[0.5555555555555556,\"#d8576b\"],[0.6666666666666666,\"#ed7953\"],[0.7777777777777778,\"#fb9f3a\"],[0.8888888888888888,\"#fdca26\"],[1.0,\"#f0f921\"]]}],\"heatmap\":[{\"type\":\"heatmap\",\"colorbar\":{\"outlinewidth\":0,\"ticks\":\"\"},\"colorscale\":[[0.0,\"#0d0887\"],[0.1111111111111111,\"#46039f\"],[0.2222222222222222,\"#7201a8\"],[0.3333333333333333,\"#9c179e\"],[0.4444444444444444,\"#bd3786\"],[0.5555555555555556,\"#d8576b\"],[0.6666666666666666,\"#ed7953\"],[0.7777777777777778,\"#fb9f3a\"],[0.8888888888888888,\"#fdca26\"],[1.0,\"#f0f921\"]]}],\"heatmapgl\":[{\"type\":\"heatmapgl\",\"colorbar\":{\"outlinewidth\":0,\"ticks\":\"\"},\"colorscale\":[[0.0,\"#0d0887\"],[0.1111111111111111,\"#46039f\"],[0.2222222222222222,\"#7201a8\"],[0.3333333333333333,\"#9c179e\"],[0.4444444444444444,\"#bd3786\"],[0.5555555555555556,\"#d8576b\"],[0.6666666666666666,\"#ed7953\"],[0.7777777777777778,\"#fb9f3a\"],[0.8888888888888888,\"#fdca26\"],[1.0,\"#f0f921\"]]}],\"contourcarpet\":[{\"type\":\"contourcarpet\",\"colorbar\":{\"outlinewidth\":0,\"ticks\":\"\"}}],\"contour\":[{\"type\":\"contour\",\"colorbar\":{\"outlinewidth\":0,\"ticks\":\"\"},\"colorscale\":[[0.0,\"#0d0887\"],[0.1111111111111111,\"#46039f\"],[0.2222222222222222,\"#7201a8\"],[0.3333333333333333,\"#9c179e\"],[0.4444444444444444,\"#bd3786\"],[0.5555555555555556,\"#d8576b\"],[0.6666666666666666,\"#ed7953\"],[0.7777777777777778,\"#fb9f3a\"],[0.8888888888888888,\"#fdca26\"],[1.0,\"#f0f921\"]]}],\"surface\":[{\"type\":\"surface\",\"colorbar\":{\"outlinewidth\":0,\"ticks\":\"\"},\"colorscale\":[[0.0,\"#0d0887\"],[0.1111111111111111,\"#46039f\"],[0.2222222222222222,\"#7201a8\"],[0.3333333333333333,\"#9c179e\"],[0.4444444444444444,\"#bd3786\"],[0.5555555555555556,\"#d8576b\"],[0.6666666666666666,\"#ed7953\"],[0.7777777777777778,\"#fb9f3a\"],[0.8888888888888888,\"#fdca26\"],[1.0,\"#f0f921\"]]}],\"mesh3d\":[{\"type\":\"mesh3d\",\"colorbar\":{\"outlinewidth\":0,\"ticks\":\"\"}}],\"scatter\":[{\"fillpattern\":{\"fillmode\":\"overlay\",\"size\":10,\"solidity\":0.2},\"type\":\"scatter\"}],\"parcoords\":[{\"type\":\"parcoords\",\"line\":{\"colorbar\":{\"outlinewidth\":0,\"ticks\":\"\"}}}],\"scatterpolargl\":[{\"type\":\"scatterpolargl\",\"marker\":{\"colorbar\":{\"outlinewidth\":0,\"ticks\":\"\"}}}],\"bar\":[{\"error_x\":{\"color\":\"#2a3f5f\"},\"error_y\":{\"color\":\"#2a3f5f\"},\"marker\":{\"line\":{\"color\":\"#E5ECF6\",\"width\":0.5},\"pattern\":{\"fillmode\":\"overlay\",\"size\":10,\"solidity\":0.2}},\"type\":\"bar\"}],\"scattergeo\":[{\"type\":\"scattergeo\",\"marker\":{\"colorbar\":{\"outlinewidth\":0,\"ticks\":\"\"}}}],\"scatterpolar\":[{\"type\":\"scatterpolar\",\"marker\":{\"colorbar\":{\"outlinewidth\":0,\"ticks\":\"\"}}}],\"histogram\":[{\"marker\":{\"pattern\":{\"fillmode\":\"overlay\",\"size\":10,\"solidity\":0.2}},\"type\":\"histogram\"}],\"scattergl\":[{\"type\":\"scattergl\",\"marker\":{\"colorbar\":{\"outlinewidth\":0,\"ticks\":\"\"}}}],\"scatter3d\":[{\"type\":\"scatter3d\",\"line\":{\"colorbar\":{\"outlinewidth\":0,\"ticks\":\"\"}},\"marker\":{\"colorbar\":{\"outlinewidth\":0,\"ticks\":\"\"}}}],\"scattermapbox\":[{\"type\":\"scattermapbox\",\"marker\":{\"colorbar\":{\"outlinewidth\":0,\"ticks\":\"\"}}}],\"scatterternary\":[{\"type\":\"scatterternary\",\"marker\":{\"colorbar\":{\"outlinewidth\":0,\"ticks\":\"\"}}}],\"scattercarpet\":[{\"type\":\"scattercarpet\",\"marker\":{\"colorbar\":{\"outlinewidth\":0,\"ticks\":\"\"}}}],\"carpet\":[{\"aaxis\":{\"endlinecolor\":\"#2a3f5f\",\"gridcolor\":\"white\",\"linecolor\":\"white\",\"minorgridcolor\":\"white\",\"startlinecolor\":\"#2a3f5f\"},\"baxis\":{\"endlinecolor\":\"#2a3f5f\",\"gridcolor\":\"white\",\"linecolor\":\"white\",\"minorgridcolor\":\"white\",\"startlinecolor\":\"#2a3f5f\"},\"type\":\"carpet\"}],\"table\":[{\"cells\":{\"fill\":{\"color\":\"#EBF0F8\"},\"line\":{\"color\":\"white\"}},\"header\":{\"fill\":{\"color\":\"#C8D4E3\"},\"line\":{\"color\":\"white\"}},\"type\":\"table\"}],\"barpolar\":[{\"marker\":{\"line\":{\"color\":\"#E5ECF6\",\"width\":0.5},\"pattern\":{\"fillmode\":\"overlay\",\"size\":10,\"solidity\":0.2}},\"type\":\"barpolar\"}],\"pie\":[{\"automargin\":true,\"type\":\"pie\"}]},\"layout\":{\"autotypenumbers\":\"strict\",\"colorway\":[\"#636efa\",\"#EF553B\",\"#00cc96\",\"#ab63fa\",\"#FFA15A\",\"#19d3f3\",\"#FF6692\",\"#B6E880\",\"#FF97FF\",\"#FECB52\"],\"font\":{\"color\":\"#2a3f5f\"},\"hovermode\":\"closest\",\"hoverlabel\":{\"align\":\"left\"},\"paper_bgcolor\":\"white\",\"plot_bgcolor\":\"#E5ECF6\",\"polar\":{\"bgcolor\":\"#E5ECF6\",\"angularaxis\":{\"gridcolor\":\"white\",\"linecolor\":\"white\",\"ticks\":\"\"},\"radialaxis\":{\"gridcolor\":\"white\",\"linecolor\":\"white\",\"ticks\":\"\"}},\"ternary\":{\"bgcolor\":\"#E5ECF6\",\"aaxis\":{\"gridcolor\":\"white\",\"linecolor\":\"white\",\"ticks\":\"\"},\"baxis\":{\"gridcolor\":\"white\",\"linecolor\":\"white\",\"ticks\":\"\"},\"caxis\":{\"gridcolor\":\"white\",\"linecolor\":\"white\",\"ticks\":\"\"}},\"coloraxis\":{\"colorbar\":{\"outlinewidth\":0,\"ticks\":\"\"}},\"colorscale\":{\"sequential\":[[0.0,\"#0d0887\"],[0.1111111111111111,\"#46039f\"],[0.2222222222222222,\"#7201a8\"],[0.3333333333333333,\"#9c179e\"],[0.4444444444444444,\"#bd3786\"],[0.5555555555555556,\"#d8576b\"],[0.6666666666666666,\"#ed7953\"],[0.7777777777777778,\"#fb9f3a\"],[0.8888888888888888,\"#fdca26\"],[1.0,\"#f0f921\"]],\"sequentialminus\":[[0.0,\"#0d0887\"],[0.1111111111111111,\"#46039f\"],[0.2222222222222222,\"#7201a8\"],[0.3333333333333333,\"#9c179e\"],[0.4444444444444444,\"#bd3786\"],[0.5555555555555556,\"#d8576b\"],[0.6666666666666666,\"#ed7953\"],[0.7777777777777778,\"#fb9f3a\"],[0.8888888888888888,\"#fdca26\"],[1.0,\"#f0f921\"]],\"diverging\":[[0,\"#8e0152\"],[0.1,\"#c51b7d\"],[0.2,\"#de77ae\"],[0.3,\"#f1b6da\"],[0.4,\"#fde0ef\"],[0.5,\"#f7f7f7\"],[0.6,\"#e6f5d0\"],[0.7,\"#b8e186\"],[0.8,\"#7fbc41\"],[0.9,\"#4d9221\"],[1,\"#276419\"]]},\"xaxis\":{\"gridcolor\":\"white\",\"linecolor\":\"white\",\"ticks\":\"\",\"title\":{\"standoff\":15},\"zerolinecolor\":\"white\",\"automargin\":true,\"zerolinewidth\":2},\"yaxis\":{\"gridcolor\":\"white\",\"linecolor\":\"white\",\"ticks\":\"\",\"title\":{\"standoff\":15},\"zerolinecolor\":\"white\",\"automargin\":true,\"zerolinewidth\":2},\"scene\":{\"xaxis\":{\"backgroundcolor\":\"#E5ECF6\",\"gridcolor\":\"white\",\"linecolor\":\"white\",\"showbackground\":true,\"ticks\":\"\",\"zerolinecolor\":\"white\",\"gridwidth\":2},\"yaxis\":{\"backgroundcolor\":\"#E5ECF6\",\"gridcolor\":\"white\",\"linecolor\":\"white\",\"showbackground\":true,\"ticks\":\"\",\"zerolinecolor\":\"white\",\"gridwidth\":2},\"zaxis\":{\"backgroundcolor\":\"#E5ECF6\",\"gridcolor\":\"white\",\"linecolor\":\"white\",\"showbackground\":true,\"ticks\":\"\",\"zerolinecolor\":\"white\",\"gridwidth\":2}},\"shapedefaults\":{\"line\":{\"color\":\"#2a3f5f\"}},\"annotationdefaults\":{\"arrowcolor\":\"#2a3f5f\",\"arrowhead\":0,\"arrowwidth\":1},\"geo\":{\"bgcolor\":\"white\",\"landcolor\":\"#E5ECF6\",\"subunitcolor\":\"white\",\"showland\":true,\"showlakes\":true,\"lakecolor\":\"white\"},\"title\":{\"x\":0.05},\"mapbox\":{\"style\":\"light\"}}},\"xaxis\":{\"anchor\":\"y\",\"domain\":[0.0,1.0],\"title\":{\"text\":\"OS\"},\"categoryorder\":\"array\",\"categoryarray\":[\"Windows 11 OS\",\"Mac OS\",\"Android 11 OS\",\"DOS OS\",\"Windows 10 OS\",\"Windows 10  OS\",\"Chrome OS\",\"Windows OS\",\"Ubuntu OS\",\"Mac Catalina OS\",\"DOS 3.0 OS\",\"Windows 11  OS\",\"Mac High Sierra OS\",\"Mac 10.15.3\\t OS\"]},\"yaxis\":{\"anchor\":\"x\",\"domain\":[0.0,1.0],\"title\":{\"text\":\"count\"}},\"legend\":{\"title\":{\"text\":\"OS\"},\"tracegroupgap\":0},\"title\":{\"text\":\"OS Distribution\"},\"barmode\":\"relative\"},                        {\"responsive\": true}                    ).then(function(){\n",
              "                            \n",
              "var gd = document.getElementById('faa3e944-ebb1-4f94-87f4-cb77091d07f3');\n",
              "var x = new MutationObserver(function (mutations, observer) {{\n",
              "        var display = window.getComputedStyle(gd).display;\n",
              "        if (!display || display === 'none') {{\n",
              "            console.log([gd, 'removed!']);\n",
              "            Plotly.purge(gd);\n",
              "            observer.disconnect();\n",
              "        }}\n",
              "}});\n",
              "\n",
              "// Listen for the removal of the full notebook cells\n",
              "var notebookContainer = gd.closest('#notebook-container');\n",
              "if (notebookContainer) {{\n",
              "    x.observe(notebookContainer, {childList: true});\n",
              "}}\n",
              "\n",
              "// Listen for the clearing of the current output cell\n",
              "var outputEl = gd.closest('.output');\n",
              "if (outputEl) {{\n",
              "    x.observe(outputEl, {childList: true});\n",
              "}}\n",
              "\n",
              "                        })                };                            </script>        </div>\n",
              "</body>\n",
              "</html>"
            ]
          },
          "metadata": {}
        }
      ],
      "source": [
        "plt = px.histogram(df, x='OS', color='OS', title=\"OS Distribution\", color_discrete_sequence=px.colors.qualitative.Pastel)\n",
        "plt.show()"
      ]
    },
    {
      "cell_type": "markdown",
      "metadata": {
        "id": "OokcTM12yjvn"
      },
      "source": [
        "# Data Preparation"
      ]
    },
    {
      "cell_type": "code",
      "execution_count": 108,
      "metadata": {
        "id": "3HzbRoIOH-sk"
      },
      "outputs": [],
      "source": [
        "label_encoder = LabelEncoder()\n",
        "categorical_cols = ['brand', 'name', 'processor', 'CPU', 'Ram', 'Ram_type', 'ROM', 'ROM_type', 'GPU', 'OS']\n",
        "for col in categorical_cols:\n",
        "    df[col] = label_encoder.fit_transform(df[col])"
      ]
    },
    {
      "cell_type": "code",
      "execution_count": 109,
      "metadata": {
        "id": "j8T_mdfKHlP5"
      },
      "outputs": [],
      "source": [
        "numerical_cols = ['price', 'spec_rating', 'display_size', 'resolution_width', 'resolution_height', 'warranty']\n",
        "scaler = StandardScaler()\n",
        "df[numerical_cols] = scaler.fit_transform(df[numerical_cols])"
      ]
    },
    {
      "cell_type": "code",
      "execution_count": 110,
      "metadata": {
        "id": "w1Qc_sFlHcNi"
      },
      "outputs": [],
      "source": [
        "X = df.drop('price', axis=1)\n",
        "y = df['price']"
      ]
    },
    {
      "cell_type": "code",
      "execution_count": 111,
      "metadata": {
        "id": "-7UJNGqkHzGL"
      },
      "outputs": [],
      "source": [
        "X_train, X_test, y_train, y_test = train_test_split(X, y, test_size=0.4, random_state=50)"
      ]
    },
    {
      "cell_type": "code",
      "execution_count": 112,
      "metadata": {
        "id": "EOPHdce2JuC5"
      },
      "outputs": [],
      "source": [
        "scaler = StandardScaler()\n",
        "X_train = scaler.fit_transform(X_train)\n",
        "X_test = scaler.transform(X_test)"
      ]
    },
    {
      "cell_type": "markdown",
      "metadata": {
        "id": "ajmui4uZyuzz"
      },
      "source": [
        "# Modeling"
      ]
    },
    {
      "cell_type": "code",
      "source": [
        "import matplotlib.pyplot as plt\n",
        "from sklearn.ensemble import RandomForestRegressor\n",
        "from sklearn.metrics import mean_squared_error, r2_score\n",
        "\n",
        "rf_model = RandomForestRegressor(n_estimators=100, random_state=42)\n",
        "rf_model.fit(X_train, y_train)\n",
        "\n",
        "y_pred = rf_model.predict(X_test)"
      ],
      "metadata": {
        "id": "Sf8F8ZsD_oNw"
      },
      "execution_count": 124,
      "outputs": []
    },
    {
      "cell_type": "markdown",
      "metadata": {
        "id": "vIqINaKJzJWT"
      },
      "source": [
        "# Evaluation"
      ]
    },
    {
      "cell_type": "code",
      "source": [
        "mse = mean_squared_error(y_test, y_pred)\n",
        "r2 = r2_score(y_test, y_pred)\n",
        "\n",
        "print(f\"Mean Squared Error: {mse}\")\n",
        "print(f\"R-squared: {r2}\")"
      ],
      "metadata": {
        "colab": {
          "base_uri": "https://localhost:8080/"
        },
        "id": "WS1ZrixYD4XV",
        "outputId": "8f5b2bc8-e861-4e34-d7a2-b9516695e869"
      },
      "execution_count": 125,
      "outputs": [
        {
          "output_type": "stream",
          "name": "stdout",
          "text": [
            "Mean Squared Error: 548929720.7566094\n",
            "R-squared: 0.8398054695243926\n"
          ]
        }
      ]
    },
    {
      "cell_type": "markdown",
      "metadata": {
        "id": "8U1f602X7izs"
      },
      "source": [
        "# Deployment"
      ]
    },
    {
      "cell_type": "markdown",
      "metadata": {
        "id": "UrWcEQGFzSsh"
      },
      "source": [
        "## Model Simulation"
      ]
    },
    {
      "cell_type": "code",
      "source": [
        "import pandas as pd\n",
        "import numpy as np\n",
        "from sklearn.model_selection import train_test_split\n",
        "from sklearn.ensemble import RandomForestRegressor\n",
        "from sklearn.preprocessing import LabelEncoder\n",
        "\n",
        "df = pd.read_csv('laptop-price-prediction-dataset/data.csv')\n",
        "\n",
        "df = df.dropna()\n",
        "\n",
        "df = df.rename(columns={'Ram': 'Ram'})\n",
        "label_encoders = {}\n",
        "for col in df.select_dtypes(include='object').columns:\n",
        "    le = LabelEncoder()\n",
        "    df[col] = le.fit_transform(df[col])\n",
        "    label_encoders[col] = le\n",
        "\n",
        "X = df.drop('price', axis=1)\n",
        "y = df['price']\n",
        "\n",
        "X_train, X_test, y_train, y_test = train_test_split(X, y, test_size=0.2, random_state=42)\n",
        "\n",
        "model = RandomForestRegressor(n_estimators=100, random_state=42)\n",
        "model.fit(X_train, y_train)\n",
        "\n",
        "example_input = {\n",
        "    col: (label_encoders[col].transform([label_encoders[col].classes_[0]])[0] if col in label_encoders else X_train[col].median())\n",
        "    for col in X_train.columns\n",
        "}\n",
        "\n",
        "example_input['Ram'] = label_encoders['Ram'].transform([label_encoders['Ram'].classes_[0]])[0]\n",
        "\n",
        "input_df = pd.DataFrame([example_input])\n",
        "\n",
        "predicted_price = model.predict(input_df)[0]\n",
        "print(f\"Predicted Laptop Price for input {example_input}: ${predicted_price:,.2f}\")"
      ],
      "metadata": {
        "colab": {
          "base_uri": "https://localhost:8080/"
        },
        "id": "dLJGhXFH8f9w",
        "outputId": "83ad7cc0-368e-401e-b554-08d06e610bb2"
      },
      "execution_count": 115,
      "outputs": [
        {
          "output_type": "stream",
          "name": "stdout",
          "text": [
            "Predicted Laptop Price for input {'Unnamed: 0.1': 474.5, 'Unnamed: 0': 538.5, 'brand': np.int64(0), 'name': np.int64(0), 'spec_rating': 69.32352941176471, 'processor': np.int64(0), 'CPU': np.int64(0), 'Ram': np.int64(0), 'Ram_type': np.int64(0), 'ROM': np.int64(0), 'ROM_type': np.int64(0), 'GPU': np.int64(0), 'display_size': 15.6, 'resolution_width': 1920.0, 'resolution_height': 1080.0, 'OS': np.int64(0), 'warranty': 1.0}: $113,317.48\n"
          ]
        }
      ]
    },
    {
      "cell_type": "code",
      "source": [
        "import pandas as pd\n",
        "import matplotlib.pyplot as plt\n",
        "import seaborn as sns\n",
        "\n",
        "X_test_df = pd.DataFrame(X_test)\n",
        "\n",
        "simulated_data = X_test_df.sample(n=len(X_test_df), random_state=42)\n",
        "\n",
        "simulated_salary = model.predict(simulated_data)\n",
        "\n",
        "simulation_results = pd.DataFrame(simulated_data)\n",
        "simulation_results['Predicted_Salary'] = simulated_salary\n",
        "\n",
        "print(simulation_results.head())"
      ],
      "metadata": {
        "colab": {
          "base_uri": "https://localhost:8080/"
        },
        "id": "7VOhvYrM10ro",
        "outputId": "23a94a24-938c-4d37-e981-8b7a2344cdbf"
      },
      "execution_count": 116,
      "outputs": [
        {
          "output_type": "stream",
          "name": "stdout",
          "text": [
            "     Unnamed: 0.1  Unnamed: 0  brand  name  spec_rating  processor  CPU  Ram  \\\n",
            "357           376         417     15   400    69.323529         58    1    6   \n",
            "572           597         677      3   705    73.000000         75    8    1   \n",
            "773           811         896     14   577    66.000000         37    1    6   \n",
            "477           499         565     24   514    69.323529         23   28    6   \n",
            "768           806         891      9     2    60.000000        129   28    1   \n",
            "\n",
            "     Ram_type  ROM  ROM_type  GPU  display_size  resolution_width  \\\n",
            "357         2    5         1  111          15.6            1920.0   \n",
            "572         2    1         1   94          16.0            1920.0   \n",
            "773         2    5         1  131          15.6            1920.0   \n",
            "477         2    5         1  123          14.0            1920.0   \n",
            "768         8    5         1   79          14.0            1920.0   \n",
            "\n",
            "     resolution_height  OS  warranty  Predicted_Salary  \n",
            "357             1080.0  12         1          67844.88  \n",
            "572             1200.0  12         1         105622.57  \n",
            "773             1080.0  12         1          60818.53  \n",
            "477             1080.0  10         2          43912.95  \n",
            "768             1080.0  12         1          62226.34  \n"
          ]
        }
      ]
    },
    {
      "cell_type": "markdown",
      "metadata": {
        "id": "szIAh3fgzaJ1"
      },
      "source": [
        "## Save Model"
      ]
    },
    {
      "cell_type": "code",
      "source": [
        "from google.colab import files\n",
        "import joblib\n",
        "\n",
        "filename = 'laptop_price_prediction_model.sav'\n",
        "joblib.dump(model, filename)\n",
        "\n",
        "files.download(filename)\n"
      ],
      "metadata": {
        "colab": {
          "base_uri": "https://localhost:8080/",
          "height": 17
        },
        "id": "BmyXfk2S_pkD",
        "outputId": "26bd76c2-69bb-40c0-e476-9f31e0015d75"
      },
      "execution_count": 117,
      "outputs": [
        {
          "output_type": "display_data",
          "data": {
            "text/plain": [
              "<IPython.core.display.Javascript object>"
            ],
            "application/javascript": [
              "\n",
              "    async function download(id, filename, size) {\n",
              "      if (!google.colab.kernel.accessAllowed) {\n",
              "        return;\n",
              "      }\n",
              "      const div = document.createElement('div');\n",
              "      const label = document.createElement('label');\n",
              "      label.textContent = `Downloading \"${filename}\": `;\n",
              "      div.appendChild(label);\n",
              "      const progress = document.createElement('progress');\n",
              "      progress.max = size;\n",
              "      div.appendChild(progress);\n",
              "      document.body.appendChild(div);\n",
              "\n",
              "      const buffers = [];\n",
              "      let downloaded = 0;\n",
              "\n",
              "      const channel = await google.colab.kernel.comms.open(id);\n",
              "      // Send a message to notify the kernel that we're ready.\n",
              "      channel.send({})\n",
              "\n",
              "      for await (const message of channel.messages) {\n",
              "        // Send a message to notify the kernel that we're ready.\n",
              "        channel.send({})\n",
              "        if (message.buffers) {\n",
              "          for (const buffer of message.buffers) {\n",
              "            buffers.push(buffer);\n",
              "            downloaded += buffer.byteLength;\n",
              "            progress.value = downloaded;\n",
              "          }\n",
              "        }\n",
              "      }\n",
              "      const blob = new Blob(buffers, {type: 'application/binary'});\n",
              "      const a = document.createElement('a');\n",
              "      a.href = window.URL.createObjectURL(blob);\n",
              "      a.download = filename;\n",
              "      div.appendChild(a);\n",
              "      a.click();\n",
              "      div.remove();\n",
              "    }\n",
              "  "
            ]
          },
          "metadata": {}
        },
        {
          "output_type": "display_data",
          "data": {
            "text/plain": [
              "<IPython.core.display.Javascript object>"
            ],
            "application/javascript": [
              "download(\"download_86d2167e-44f9-4bda-8d1e-9f21ea79069a\", \"laptop_price_prediction_model.sav\", 6226801)"
            ]
          },
          "metadata": {}
        }
      ]
    },
    {
      "cell_type": "code",
      "source": [
        "import joblib\n",
        "joblib.dump(label_encoder, 'label_encoder.pkl')\n",
        "joblib.dump(scaler, 'scaler.pkl')"
      ],
      "metadata": {
        "colab": {
          "base_uri": "https://localhost:8080/"
        },
        "id": "NOrP7XjNRpzQ",
        "outputId": "61483476-591e-442d-d9d0-a07466602582"
      },
      "execution_count": 118,
      "outputs": [
        {
          "output_type": "execute_result",
          "data": {
            "text/plain": [
              "['scaler.pkl']"
            ]
          },
          "metadata": {},
          "execution_count": 118
        }
      ]
    },
    {
      "cell_type": "code",
      "source": [
        "from google.colab import files\n",
        "import joblib\n",
        "\n",
        "filename = 'laptop_price_prediction_model.sav'\n",
        "joblib.dump(model, filename)\n",
        "files.download(filename)\n",
        "\n",
        "joblib.dump(label_encoders, 'label_encoder.pkl')\n",
        "files.download('label_encoder.pkl')\n",
        "\n",
        "joblib.dump(scaler, 'scaler.pkl')\n",
        "files.download('scaler.pkl')\n"
      ],
      "metadata": {
        "colab": {
          "base_uri": "https://localhost:8080/",
          "height": 17
        },
        "id": "eYYGbFqlAwzE",
        "outputId": "db18ba40-532d-4847-c20d-55768061894b"
      },
      "execution_count": 119,
      "outputs": [
        {
          "output_type": "display_data",
          "data": {
            "text/plain": [
              "<IPython.core.display.Javascript object>"
            ],
            "application/javascript": [
              "\n",
              "    async function download(id, filename, size) {\n",
              "      if (!google.colab.kernel.accessAllowed) {\n",
              "        return;\n",
              "      }\n",
              "      const div = document.createElement('div');\n",
              "      const label = document.createElement('label');\n",
              "      label.textContent = `Downloading \"${filename}\": `;\n",
              "      div.appendChild(label);\n",
              "      const progress = document.createElement('progress');\n",
              "      progress.max = size;\n",
              "      div.appendChild(progress);\n",
              "      document.body.appendChild(div);\n",
              "\n",
              "      const buffers = [];\n",
              "      let downloaded = 0;\n",
              "\n",
              "      const channel = await google.colab.kernel.comms.open(id);\n",
              "      // Send a message to notify the kernel that we're ready.\n",
              "      channel.send({})\n",
              "\n",
              "      for await (const message of channel.messages) {\n",
              "        // Send a message to notify the kernel that we're ready.\n",
              "        channel.send({})\n",
              "        if (message.buffers) {\n",
              "          for (const buffer of message.buffers) {\n",
              "            buffers.push(buffer);\n",
              "            downloaded += buffer.byteLength;\n",
              "            progress.value = downloaded;\n",
              "          }\n",
              "        }\n",
              "      }\n",
              "      const blob = new Blob(buffers, {type: 'application/binary'});\n",
              "      const a = document.createElement('a');\n",
              "      a.href = window.URL.createObjectURL(blob);\n",
              "      a.download = filename;\n",
              "      div.appendChild(a);\n",
              "      a.click();\n",
              "      div.remove();\n",
              "    }\n",
              "  "
            ]
          },
          "metadata": {}
        },
        {
          "output_type": "display_data",
          "data": {
            "text/plain": [
              "<IPython.core.display.Javascript object>"
            ],
            "application/javascript": [
              "download(\"download_9cf0d610-dc4d-46c1-9b2c-967b381c9d27\", \"laptop_price_prediction_model.sav\", 6226801)"
            ]
          },
          "metadata": {}
        },
        {
          "output_type": "display_data",
          "data": {
            "text/plain": [
              "<IPython.core.display.Javascript object>"
            ],
            "application/javascript": [
              "\n",
              "    async function download(id, filename, size) {\n",
              "      if (!google.colab.kernel.accessAllowed) {\n",
              "        return;\n",
              "      }\n",
              "      const div = document.createElement('div');\n",
              "      const label = document.createElement('label');\n",
              "      label.textContent = `Downloading \"${filename}\": `;\n",
              "      div.appendChild(label);\n",
              "      const progress = document.createElement('progress');\n",
              "      progress.max = size;\n",
              "      div.appendChild(progress);\n",
              "      document.body.appendChild(div);\n",
              "\n",
              "      const buffers = [];\n",
              "      let downloaded = 0;\n",
              "\n",
              "      const channel = await google.colab.kernel.comms.open(id);\n",
              "      // Send a message to notify the kernel that we're ready.\n",
              "      channel.send({})\n",
              "\n",
              "      for await (const message of channel.messages) {\n",
              "        // Send a message to notify the kernel that we're ready.\n",
              "        channel.send({})\n",
              "        if (message.buffers) {\n",
              "          for (const buffer of message.buffers) {\n",
              "            buffers.push(buffer);\n",
              "            downloaded += buffer.byteLength;\n",
              "            progress.value = downloaded;\n",
              "          }\n",
              "        }\n",
              "      }\n",
              "      const blob = new Blob(buffers, {type: 'application/binary'});\n",
              "      const a = document.createElement('a');\n",
              "      a.href = window.URL.createObjectURL(blob);\n",
              "      a.download = filename;\n",
              "      div.appendChild(a);\n",
              "      a.click();\n",
              "      div.remove();\n",
              "    }\n",
              "  "
            ]
          },
          "metadata": {}
        },
        {
          "output_type": "display_data",
          "data": {
            "text/plain": [
              "<IPython.core.display.Javascript object>"
            ],
            "application/javascript": [
              "download(\"download_9fe181cc-d2e3-450d-90ea-8d64d2ba1b7d\", \"label_encoder.pkl\", 48300)"
            ]
          },
          "metadata": {}
        },
        {
          "output_type": "display_data",
          "data": {
            "text/plain": [
              "<IPython.core.display.Javascript object>"
            ],
            "application/javascript": [
              "\n",
              "    async function download(id, filename, size) {\n",
              "      if (!google.colab.kernel.accessAllowed) {\n",
              "        return;\n",
              "      }\n",
              "      const div = document.createElement('div');\n",
              "      const label = document.createElement('label');\n",
              "      label.textContent = `Downloading \"${filename}\": `;\n",
              "      div.appendChild(label);\n",
              "      const progress = document.createElement('progress');\n",
              "      progress.max = size;\n",
              "      div.appendChild(progress);\n",
              "      document.body.appendChild(div);\n",
              "\n",
              "      const buffers = [];\n",
              "      let downloaded = 0;\n",
              "\n",
              "      const channel = await google.colab.kernel.comms.open(id);\n",
              "      // Send a message to notify the kernel that we're ready.\n",
              "      channel.send({})\n",
              "\n",
              "      for await (const message of channel.messages) {\n",
              "        // Send a message to notify the kernel that we're ready.\n",
              "        channel.send({})\n",
              "        if (message.buffers) {\n",
              "          for (const buffer of message.buffers) {\n",
              "            buffers.push(buffer);\n",
              "            downloaded += buffer.byteLength;\n",
              "            progress.value = downloaded;\n",
              "          }\n",
              "        }\n",
              "      }\n",
              "      const blob = new Blob(buffers, {type: 'application/binary'});\n",
              "      const a = document.createElement('a');\n",
              "      a.href = window.URL.createObjectURL(blob);\n",
              "      a.download = filename;\n",
              "      div.appendChild(a);\n",
              "      a.click();\n",
              "      div.remove();\n",
              "    }\n",
              "  "
            ]
          },
          "metadata": {}
        },
        {
          "output_type": "display_data",
          "data": {
            "text/plain": [
              "<IPython.core.display.Javascript object>"
            ],
            "application/javascript": [
              "download(\"download_9332085d-9195-4d89-86bc-ae0c25f3c6e4\", \"scaler.pkl\", 1471)"
            ]
          },
          "metadata": {}
        }
      ]
    },
    {
      "cell_type": "code",
      "source": [
        "df_original = pd.read_csv('laptop-price-prediction-dataset/data.csv')\n",
        "\n",
        "df_original = df_original.loc[:, ~df_original.columns.str.contains('^Unnamed', case=False)]\n"
      ],
      "metadata": {
        "id": "AxbgZvWoJkSL"
      },
      "execution_count": 120,
      "outputs": []
    },
    {
      "cell_type": "code",
      "source": [
        "model_features = list(model.feature_names_in_) if hasattr(model, 'feature_names_in_') else [c for c in df_original.columns if c != 'price']\n",
        "\n",
        "input_df = input_df[[col for col in input_df.columns if col in model_features]]\n",
        "\n",
        "for col in model_features:\n",
        "    if col not in input_df.columns:\n",
        "        input_df[col] = 0\n",
        "\n",
        "input_df = input_df[model_features]\n"
      ],
      "metadata": {
        "id": "GzEZwxmxHtOo"
      },
      "execution_count": 121,
      "outputs": []
    },
    {
      "cell_type": "code",
      "source": [
        "print(\"Input DataFrame columns:\", input_df.columns)\n"
      ],
      "metadata": {
        "colab": {
          "base_uri": "https://localhost:8080/"
        },
        "id": "FgeiVC0BH6x6",
        "outputId": "89aea44a-137f-4644-e8b6-463478cbfbc3"
      },
      "execution_count": 122,
      "outputs": [
        {
          "output_type": "stream",
          "name": "stdout",
          "text": [
            "Input DataFrame columns: Index(['Unnamed: 0.1', 'Unnamed: 0', 'brand', 'name', 'spec_rating',\n",
            "       'processor', 'CPU', 'Ram', 'Ram_type', 'ROM', 'ROM_type', 'GPU',\n",
            "       'display_size', 'resolution_width', 'resolution_height', 'OS',\n",
            "       'warranty'],\n",
            "      dtype='object')\n"
          ]
        }
      ]
    }
  ],
  "metadata": {
    "accelerator": "GPU",
    "colab": {
      "gpuType": "T4",
      "provenance": [],
      "collapsed_sections": [
        "AqenZzuayR6d",
        "NQv8DYCGy73Y"
      ]
    },
    "kernelspec": {
      "display_name": "Python 3",
      "name": "python3"
    },
    "language_info": {
      "name": "python"
    }
  },
  "nbformat": 4,
  "nbformat_minor": 0
}